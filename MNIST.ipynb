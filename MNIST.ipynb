{
  "cells": [
    {
      "cell_type": "markdown",
      "source": [
        "1- YOU MUST START WITH SIMPLE ANN MODEL AND SVM AND APPLY THEM TO THE DATA\n",
        "independently"
      ],
      "metadata": {
        "id": "MlFxYxMqko_V"
      }
    },
    {
      "cell_type": "code",
      "execution_count": null,
      "metadata": {
        "colab": {
          "base_uri": "https://localhost:8080/"
        },
        "id": "aSJ51Mf2_O6z",
        "outputId": "1b4b148f-1f76-46bc-dc78-c1ef137c1786",
        "collapsed": true
      },
      "outputs": [
        {
          "output_type": "stream",
          "name": "stderr",
          "text": [
            "/usr/local/lib/python3.11/dist-packages/keras/src/layers/reshaping/flatten.py:37: UserWarning: Do not pass an `input_shape`/`input_dim` argument to a layer. When using Sequential models, prefer using an `Input(shape)` object as the first layer in the model instead.\n",
            "  super().__init__(**kwargs)\n"
          ]
        },
        {
          "output_type": "stream",
          "name": "stdout",
          "text": [
            "Epoch 1/10\n",
            "938/938 - 6s - 6ms/step - accuracy: 0.9209 - loss: 0.2774 - val_accuracy: 0.9584 - val_loss: 0.1401\n",
            "Epoch 2/10\n",
            "938/938 - 5s - 6ms/step - accuracy: 0.9665 - loss: 0.1122 - val_accuracy: 0.9696 - val_loss: 0.1011\n",
            "Epoch 3/10\n",
            "938/938 - 5s - 5ms/step - accuracy: 0.9771 - loss: 0.0762 - val_accuracy: 0.9747 - val_loss: 0.0844\n",
            "Epoch 4/10\n",
            "938/938 - 6s - 6ms/step - accuracy: 0.9812 - loss: 0.0595 - val_accuracy: 0.9746 - val_loss: 0.0817\n",
            "Epoch 5/10\n",
            "938/938 - 9s - 10ms/step - accuracy: 0.9857 - loss: 0.0457 - val_accuracy: 0.9773 - val_loss: 0.0726\n",
            "Epoch 6/10\n",
            "938/938 - 6s - 6ms/step - accuracy: 0.9880 - loss: 0.0379 - val_accuracy: 0.9780 - val_loss: 0.0741\n",
            "Epoch 7/10\n",
            "938/938 - 4s - 5ms/step - accuracy: 0.9890 - loss: 0.0325 - val_accuracy: 0.9757 - val_loss: 0.0789\n",
            "Epoch 8/10\n",
            "938/938 - 6s - 7ms/step - accuracy: 0.9916 - loss: 0.0254 - val_accuracy: 0.9787 - val_loss: 0.0741\n",
            "Epoch 9/10\n",
            "938/938 - 4s - 4ms/step - accuracy: 0.9924 - loss: 0.0221 - val_accuracy: 0.9750 - val_loss: 0.0946\n",
            "Epoch 10/10\n",
            "938/938 - 4s - 5ms/step - accuracy: 0.9940 - loss: 0.0181 - val_accuracy: 0.9755 - val_loss: 0.0827\n",
            "\u001b[1m157/157\u001b[0m \u001b[32m━━━━━━━━━━━━━━━━━━━━\u001b[0m\u001b[37m\u001b[0m \u001b[1m0s\u001b[0m 2ms/step\n",
            "\n",
            "===== ANN Model Results =====\n",
            "Final test accuracy: 97.55%\n",
            "Test accuracy after 5 epochs: 97.73%\n",
            "Number of parameters: 109386\n",
            "Total training time: 55.80 seconds\n",
            "Average training time per epoch: 5.58 seconds\n",
            "Testing time: 0.55 seconds\n",
            "Model Layers:\n",
            "  Layer 1: flatten_12 - Output shape: Not available\n",
            "  Layer 2: dense_35 - Output shape: Not available\n",
            "  Layer 3: dense_36 - Output shape: Not available\n",
            "  Layer 4: dense_37 - Output shape: Not available\n",
            "\n",
            "===== SVM Model Results =====\n",
            "Final test accuracy: 97.92%\n",
            "Training time: 295.08 seconds\n",
            "Testing time: 125.95 seconds\n",
            "Model details: SVM with RBF kernel\n"
          ]
        }
      ],
      "source": [
        "import numpy as np\n",
        "import time\n",
        "from tensorflow.keras.datasets import mnist\n",
        "from tensorflow.keras.models import Sequential\n",
        "from tensorflow.keras.layers import Dense, Flatten\n",
        "from tensorflow.keras.utils import to_categorical\n",
        "from sklearn.svm import SVC\n",
        "from sklearn.metrics import accuracy_score\n",
        "from sklearn.utils import shuffle\n",
        "\n",
        "# 1. Load MNIST dataset\n",
        "(x_train, y_train), (x_test, y_test) = mnist.load_data()\n",
        "\n",
        "# 2. Shuffle the training data\n",
        "x_train, y_train = shuffle(x_train, y_train, random_state=42)\n",
        "\n",
        "# 3. Normalize pixel values\n",
        "x_train = x_train.astype('float32') / 255.0\n",
        "x_test = x_test.astype('float32') / 255.0\n",
        "\n",
        "# 4. Prepare labels for ANN (one-hot encoding)\n",
        "y_train_cat = to_categorical(y_train, 10)\n",
        "y_test_cat = to_categorical(y_test, 10)\n",
        "\n",
        "# ANN input shape\n",
        "input_shape = (28, 28)\n",
        "\n",
        "# 5. Build simple ANN model\n",
        "ann = Sequential([\n",
        "    Flatten(input_shape=input_shape),\n",
        "    Dense(128, activation='relu'),\n",
        "    Dense(64, activation='relu'),\n",
        "    Dense(10, activation='softmax')\n",
        "])\n",
        "\n",
        "ann.compile(optimizer='adam', loss='categorical_crossentropy', metrics=['accuracy'])\n",
        "\n",
        "# 6. Train ANN model and record times & accuracy\n",
        "epochs = 10\n",
        "batch_size = 64\n",
        "\n",
        "start_train = time.time()\n",
        "history = ann.fit(x_train, y_train_cat, batch_size=batch_size, epochs=epochs, validation_data=(x_test, y_test_cat), verbose=2,shuffle=True)\n",
        "end_train = time.time()\n",
        "\n",
        "train_time = end_train - start_train\n",
        "avg_train_time_per_epoch = train_time / epochs\n",
        "\n",
        "# Accuracy after 5 epochs\n",
        "acc_after_5_epochs = history.history['val_accuracy'][4]\n",
        "\n",
        "# Final accuracy after all epochs\n",
        "final_acc_ann = history.history['val_accuracy'][-1]\n",
        "\n",
        "# Number of parameters\n",
        "num_params = ann.count_params()\n",
        "\n",
        "# 7. Measure test time on ANN\n",
        "start_test = time.time()\n",
        "ann_preds = ann.predict(x_test, batch_size=batch_size)\n",
        "end_test = time.time()\n",
        "\n",
        "test_time = end_test - start_test\n",
        "\n",
        "# Convert ANN predictions to classes\n",
        "ann_pred_classes = np.argmax(ann_preds, axis=1)\n",
        "\n",
        "# 8. Prepare data for SVM (flatten 28x28 images)\n",
        "x_train_flat = x_train.reshape((x_train.shape[0], -1))\n",
        "x_test_flat = x_test.reshape((x_test.shape[0], -1))\n",
        "\n",
        "# 9. Train SVM\n",
        "svm = SVC(kernel='rbf', gamma='scale')\n",
        "\n",
        "start_train_svm = time.time()\n",
        "svm.fit(x_train_flat, y_train)\n",
        "end_train_svm = time.time()\n",
        "\n",
        "train_time_svm = end_train_svm - start_train_svm\n",
        "\n",
        "# 10. Test SVM and measure test time\n",
        "start_test_svm = time.time()\n",
        "svm_preds = svm.predict(x_test_flat)\n",
        "end_test_svm = time.time()\n",
        "\n",
        "test_time_svm = end_test_svm - start_test_svm\n",
        "\n",
        "final_acc_svm = accuracy_score(y_test, svm_preds)\n",
        "\n",
        "# 11. Report results\n",
        "print(\"\\n===== ANN Model Results =====\")\n",
        "print(f\"Final test accuracy: {final_acc_ann*100:.2f}%\")\n",
        "print(f\"Test accuracy after 5 epochs: {acc_after_5_epochs*100:.2f}%\")\n",
        "print(f\"Number of parameters: {num_params}\")\n",
        "print(f\"Total training time: {train_time:.2f} seconds\")\n",
        "print(f\"Average training time per epoch: {avg_train_time_per_epoch:.2f} seconds\")\n",
        "print(f\"Testing time: {test_time:.2f} seconds\")\n",
        "\n",
        "print(\"Model Layers:\")\n",
        "for i, layer in enumerate(ann.layers):\n",
        "    try:\n",
        "        print(f\"  Layer {i+1}: {layer.name} - Output shape: {layer.output_shape}\")\n",
        "    except AttributeError:\n",
        "        try:\n",
        "            output_shape = layer.output.get_shape()\n",
        "            print(f\"  Layer {i+1}: {layer.name} - Output shape: {output_shape}\")\n",
        "        except:\n",
        "            print(f\"  Layer {i+1}: {layer.name} - Output shape: Not available\")\n",
        "\n",
        "print(\"\\n===== SVM Model Results =====\")\n",
        "print(f\"Final test accuracy: {final_acc_svm*100:.2f}%\")\n",
        "print(f\"Training time: {train_time_svm:.2f} seconds\")\n",
        "print(f\"Testing time: {test_time_svm:.2f} seconds\")\n",
        "print(f\"Model details: SVM with RBF kernel\")\n"
      ]
    },
    {
      "cell_type": "code",
      "source": [
        "import time\n",
        "\n",
        "def summarize_results(model, history, epochs, batch_size, test_data):\n",
        "\n",
        "    # Calculate total training time\n",
        "    total_time = sum(history.history['time_per_epoch']) if 'time_per_epoch' in history.history else None\n",
        "    avg_epoch_time = total_time / epochs if total_time else None\n",
        "\n",
        "    # Measure test time\n",
        "    test_start = time.time()\n",
        "    test_loss, test_acc = model.evaluate(*test_data, verbose=0)\n",
        "    test_end = time.time()\n",
        "    avg_test_time = (test_end - test_start) / epochs\n",
        "\n",
        "    # Extract first 5 epoch accuracy\n",
        "    first_5_acc = history.history['accuracy'][:5]\n",
        "\n",
        "    # Get total model parameters\n",
        "    total_params = model.count_params()\n",
        "\n",
        "    # Get optimizer settings\n",
        "    optimizer_config = model.optimizer.get_config()\n",
        "    learning_rate_used = optimizer_config['learning_rate']\n",
        "\n",
        "    # Print results\n",
        "    print(\"\\n===== Model Performance Summary =====\")\n",
        "    print(f\"Epochs: {epochs}, Batch Size: {batch_size}\")\n",
        "    print(f\"Final Training Accuracy: {history.history['accuracy'][-1] * 100:.2f}%\")\n",
        "    print(f\"First 5 Epochs' Accuracy: {first_5_acc}\")\n",
        "    print(f\"Total Model Parameters: {total_params}\")\n",
        "    print(f\"Avg Training Time per Epoch: {avg_epoch_time:.2f} seconds\" if avg_epoch_time else \"Training time tracking not available.\")\n",
        "    print(f\"Avg Test Time per Epoch: {avg_test_time:.2f} seconds\")\n",
        "    print(f\"Optimizer Used: {optimizer_config['name']}\")\n",
        "    print(f\"Learning Rate: {learning_rate_used}\")\n",
        "    print(f\"Optimizer Settings: {optimizer_config}\")\n",
        "\n",
        "    print(\"\\n===== Model Layers =====\")\n",
        "    model.summary()"
      ],
      "metadata": {
        "id": "1njecWM6PEFw"
      },
      "execution_count": null,
      "outputs": []
    },
    {
      "cell_type": "markdown",
      "source": [
        "3- Next you will build with the settings of your choice, be sure to start with ReLU as the activation\n",
        "function for each layer that you include (All your models should have at least 3 layers total). For\n",
        "the CNNs remember to use a 2D max pooling layer after at least one CNN layer, your 2D max\n",
        "pool layer must have a configuration of 2x2 stride and 2x2 kernel size. For the first model, keep\n",
        "testing the number of epochs to find a suitable one your satisfied with. For the optimizer start\n",
        "with SGD (choose your own momentum) and you can start here with any learning rate. (don’t\n",
        "use a dropout layer yet)"
      ],
      "metadata": {
        "id": "7tx5DtVegZFf"
      }
    },
    {
      "cell_type": "code",
      "execution_count": null,
      "metadata": {
        "colab": {
          "base_uri": "https://localhost:8080/",
          "height": 1000
        },
        "id": "c-7lWfTNMQqU",
        "outputId": "1d03947e-5ade-44a5-8526-a27043726415",
        "collapsed": true
      },
      "outputs": [
        {
          "output_type": "stream",
          "name": "stdout",
          "text": [
            "\n",
            "===== Training for 5 epochs =====\n",
            "Epoch 1/5\n",
            "1875/1875 - 30s - 16ms/step - accuracy: 0.9259 - loss: 0.2449 - val_accuracy: 0.9723 - val_loss: 0.0953\n",
            "Epoch 2/5\n",
            "1875/1875 - 32s - 17ms/step - accuracy: 0.9782 - loss: 0.0745 - val_accuracy: 0.9812 - val_loss: 0.0608\n",
            "Epoch 3/5\n",
            "1875/1875 - 29s - 15ms/step - accuracy: 0.9857 - loss: 0.0475 - val_accuracy: 0.9820 - val_loss: 0.0547\n",
            "Epoch 4/5\n",
            "1875/1875 - 45s - 24ms/step - accuracy: 0.9896 - loss: 0.0340 - val_accuracy: 0.9855 - val_loss: 0.0488\n",
            "Epoch 5/5\n",
            "1875/1875 - 29s - 15ms/step - accuracy: 0.9920 - loss: 0.0259 - val_accuracy: 0.9851 - val_loss: 0.0465\n",
            "\n",
            "===== Model Performance Summary =====\n",
            "Epochs: 5, Batch Size: 32\n",
            "Final Training Accuracy: 99.20%\n",
            "First 5 Epochs' Accuracy: [0.9259166717529297, 0.9781500101089478, 0.9857333302497864, 0.9896166920661926, 0.9919833540916443]\n",
            "Total Model Parameters: 347146\n",
            "Training time tracking not available.\n",
            "Avg Test Time per Epoch: 0.53 seconds\n",
            "Optimizer Used: SGD\n",
            "Learning Rate: 0.009999999776482582\n",
            "Optimizer Settings: {'name': 'SGD', 'learning_rate': 0.009999999776482582, 'weight_decay': None, 'clipnorm': None, 'global_clipnorm': None, 'clipvalue': None, 'use_ema': False, 'ema_momentum': 0.99, 'ema_overwrite_frequency': None, 'loss_scale_factor': None, 'gradient_accumulation_steps': None, 'momentum': 0.9, 'nesterov': False}\n",
            "\n",
            "===== Model Layers =====\n"
          ]
        },
        {
          "output_type": "display_data",
          "data": {
            "text/plain": [
              "\u001b[1mModel: \"sequential_20\"\u001b[0m\n"
            ],
            "text/html": [
              "<pre style=\"white-space:pre;overflow-x:auto;line-height:normal;font-family:Menlo,'DejaVu Sans Mono',consolas,'Courier New',monospace\"><span style=\"font-weight: bold\">Model: \"sequential_20\"</span>\n",
              "</pre>\n"
            ]
          },
          "metadata": {}
        },
        {
          "output_type": "display_data",
          "data": {
            "text/plain": [
              "┏━━━━━━━━━━━━━━━━━━━━━━━━━━━━━━━━━┳━━━━━━━━━━━━━━━━━━━━━━━━┳━━━━━━━━━━━━━━━┓\n",
              "┃\u001b[1m \u001b[0m\u001b[1mLayer (type)                   \u001b[0m\u001b[1m \u001b[0m┃\u001b[1m \u001b[0m\u001b[1mOutput Shape          \u001b[0m\u001b[1m \u001b[0m┃\u001b[1m \u001b[0m\u001b[1m      Param #\u001b[0m\u001b[1m \u001b[0m┃\n",
              "┡━━━━━━━━━━━━━━━━━━━━━━━━━━━━━━━━━╇━━━━━━━━━━━━━━━━━━━━━━━━╇━━━━━━━━━━━━━━━┩\n",
              "│ conv2d_32 (\u001b[38;5;33mConv2D\u001b[0m)              │ (\u001b[38;5;45mNone\u001b[0m, \u001b[38;5;34m26\u001b[0m, \u001b[38;5;34m26\u001b[0m, \u001b[38;5;34m32\u001b[0m)     │           \u001b[38;5;34m320\u001b[0m │\n",
              "├─────────────────────────────────┼────────────────────────┼───────────────┤\n",
              "│ max_pooling2d_32 (\u001b[38;5;33mMaxPooling2D\u001b[0m) │ (\u001b[38;5;45mNone\u001b[0m, \u001b[38;5;34m13\u001b[0m, \u001b[38;5;34m13\u001b[0m, \u001b[38;5;34m32\u001b[0m)     │             \u001b[38;5;34m0\u001b[0m │\n",
              "├─────────────────────────────────┼────────────────────────┼───────────────┤\n",
              "│ flatten_19 (\u001b[38;5;33mFlatten\u001b[0m)            │ (\u001b[38;5;45mNone\u001b[0m, \u001b[38;5;34m5408\u001b[0m)           │             \u001b[38;5;34m0\u001b[0m │\n",
              "├─────────────────────────────────┼────────────────────────┼───────────────┤\n",
              "│ dense_40 (\u001b[38;5;33mDense\u001b[0m)                │ (\u001b[38;5;45mNone\u001b[0m, \u001b[38;5;34m64\u001b[0m)             │       \u001b[38;5;34m346,176\u001b[0m │\n",
              "├─────────────────────────────────┼────────────────────────┼───────────────┤\n",
              "│ dense_41 (\u001b[38;5;33mDense\u001b[0m)                │ (\u001b[38;5;45mNone\u001b[0m, \u001b[38;5;34m10\u001b[0m)             │           \u001b[38;5;34m650\u001b[0m │\n",
              "└─────────────────────────────────┴────────────────────────┴───────────────┘\n"
            ],
            "text/html": [
              "<pre style=\"white-space:pre;overflow-x:auto;line-height:normal;font-family:Menlo,'DejaVu Sans Mono',consolas,'Courier New',monospace\">┏━━━━━━━━━━━━━━━━━━━━━━━━━━━━━━━━━┳━━━━━━━━━━━━━━━━━━━━━━━━┳━━━━━━━━━━━━━━━┓\n",
              "┃<span style=\"font-weight: bold\"> Layer (type)                    </span>┃<span style=\"font-weight: bold\"> Output Shape           </span>┃<span style=\"font-weight: bold\">       Param # </span>┃\n",
              "┡━━━━━━━━━━━━━━━━━━━━━━━━━━━━━━━━━╇━━━━━━━━━━━━━━━━━━━━━━━━╇━━━━━━━━━━━━━━━┩\n",
              "│ conv2d_32 (<span style=\"color: #0087ff; text-decoration-color: #0087ff\">Conv2D</span>)              │ (<span style=\"color: #00d7ff; text-decoration-color: #00d7ff\">None</span>, <span style=\"color: #00af00; text-decoration-color: #00af00\">26</span>, <span style=\"color: #00af00; text-decoration-color: #00af00\">26</span>, <span style=\"color: #00af00; text-decoration-color: #00af00\">32</span>)     │           <span style=\"color: #00af00; text-decoration-color: #00af00\">320</span> │\n",
              "├─────────────────────────────────┼────────────────────────┼───────────────┤\n",
              "│ max_pooling2d_32 (<span style=\"color: #0087ff; text-decoration-color: #0087ff\">MaxPooling2D</span>) │ (<span style=\"color: #00d7ff; text-decoration-color: #00d7ff\">None</span>, <span style=\"color: #00af00; text-decoration-color: #00af00\">13</span>, <span style=\"color: #00af00; text-decoration-color: #00af00\">13</span>, <span style=\"color: #00af00; text-decoration-color: #00af00\">32</span>)     │             <span style=\"color: #00af00; text-decoration-color: #00af00\">0</span> │\n",
              "├─────────────────────────────────┼────────────────────────┼───────────────┤\n",
              "│ flatten_19 (<span style=\"color: #0087ff; text-decoration-color: #0087ff\">Flatten</span>)            │ (<span style=\"color: #00d7ff; text-decoration-color: #00d7ff\">None</span>, <span style=\"color: #00af00; text-decoration-color: #00af00\">5408</span>)           │             <span style=\"color: #00af00; text-decoration-color: #00af00\">0</span> │\n",
              "├─────────────────────────────────┼────────────────────────┼───────────────┤\n",
              "│ dense_40 (<span style=\"color: #0087ff; text-decoration-color: #0087ff\">Dense</span>)                │ (<span style=\"color: #00d7ff; text-decoration-color: #00d7ff\">None</span>, <span style=\"color: #00af00; text-decoration-color: #00af00\">64</span>)             │       <span style=\"color: #00af00; text-decoration-color: #00af00\">346,176</span> │\n",
              "├─────────────────────────────────┼────────────────────────┼───────────────┤\n",
              "│ dense_41 (<span style=\"color: #0087ff; text-decoration-color: #0087ff\">Dense</span>)                │ (<span style=\"color: #00d7ff; text-decoration-color: #00d7ff\">None</span>, <span style=\"color: #00af00; text-decoration-color: #00af00\">10</span>)             │           <span style=\"color: #00af00; text-decoration-color: #00af00\">650</span> │\n",
              "└─────────────────────────────────┴────────────────────────┴───────────────┘\n",
              "</pre>\n"
            ]
          },
          "metadata": {}
        },
        {
          "output_type": "display_data",
          "data": {
            "text/plain": [
              "\u001b[1m Total params: \u001b[0m\u001b[38;5;34m694,294\u001b[0m (2.65 MB)\n"
            ],
            "text/html": [
              "<pre style=\"white-space:pre;overflow-x:auto;line-height:normal;font-family:Menlo,'DejaVu Sans Mono',consolas,'Courier New',monospace\"><span style=\"font-weight: bold\"> Total params: </span><span style=\"color: #00af00; text-decoration-color: #00af00\">694,294</span> (2.65 MB)\n",
              "</pre>\n"
            ]
          },
          "metadata": {}
        },
        {
          "output_type": "display_data",
          "data": {
            "text/plain": [
              "\u001b[1m Trainable params: \u001b[0m\u001b[38;5;34m347,146\u001b[0m (1.32 MB)\n"
            ],
            "text/html": [
              "<pre style=\"white-space:pre;overflow-x:auto;line-height:normal;font-family:Menlo,'DejaVu Sans Mono',consolas,'Courier New',monospace\"><span style=\"font-weight: bold\"> Trainable params: </span><span style=\"color: #00af00; text-decoration-color: #00af00\">347,146</span> (1.32 MB)\n",
              "</pre>\n"
            ]
          },
          "metadata": {}
        },
        {
          "output_type": "display_data",
          "data": {
            "text/plain": [
              "\u001b[1m Non-trainable params: \u001b[0m\u001b[38;5;34m0\u001b[0m (0.00 B)\n"
            ],
            "text/html": [
              "<pre style=\"white-space:pre;overflow-x:auto;line-height:normal;font-family:Menlo,'DejaVu Sans Mono',consolas,'Courier New',monospace\"><span style=\"font-weight: bold\"> Non-trainable params: </span><span style=\"color: #00af00; text-decoration-color: #00af00\">0</span> (0.00 B)\n",
              "</pre>\n"
            ]
          },
          "metadata": {}
        },
        {
          "output_type": "display_data",
          "data": {
            "text/plain": [
              "\u001b[1m Optimizer params: \u001b[0m\u001b[38;5;34m347,148\u001b[0m (1.32 MB)\n"
            ],
            "text/html": [
              "<pre style=\"white-space:pre;overflow-x:auto;line-height:normal;font-family:Menlo,'DejaVu Sans Mono',consolas,'Courier New',monospace\"><span style=\"font-weight: bold\"> Optimizer params: </span><span style=\"color: #00af00; text-decoration-color: #00af00\">347,148</span> (1.32 MB)\n",
              "</pre>\n"
            ]
          },
          "metadata": {}
        },
        {
          "output_type": "stream",
          "name": "stdout",
          "text": [
            "\n",
            "===== Training for 7 epochs =====\n",
            "Epoch 1/7\n",
            "1875/1875 - 28s - 15ms/step - accuracy: 0.9939 - loss: 0.0191 - val_accuracy: 0.9847 - val_loss: 0.0473\n",
            "Epoch 2/7\n",
            "1875/1875 - 28s - 15ms/step - accuracy: 0.9962 - loss: 0.0138 - val_accuracy: 0.9867 - val_loss: 0.0416\n",
            "Epoch 3/7\n",
            "1875/1875 - 40s - 21ms/step - accuracy: 0.9965 - loss: 0.0112 - val_accuracy: 0.9865 - val_loss: 0.0433\n",
            "Epoch 4/7\n",
            "1875/1875 - 43s - 23ms/step - accuracy: 0.9974 - loss: 0.0085 - val_accuracy: 0.9872 - val_loss: 0.0456\n",
            "Epoch 5/7\n",
            "1875/1875 - 40s - 21ms/step - accuracy: 0.9990 - loss: 0.0051 - val_accuracy: 0.9880 - val_loss: 0.0437\n",
            "Epoch 6/7\n",
            "1875/1875 - 28s - 15ms/step - accuracy: 0.9991 - loss: 0.0041 - val_accuracy: 0.9878 - val_loss: 0.0468\n",
            "Epoch 7/7\n",
            "1875/1875 - 41s - 22ms/step - accuracy: 0.9995 - loss: 0.0027 - val_accuracy: 0.9866 - val_loss: 0.0529\n",
            "\n",
            "===== Model Performance Summary =====\n",
            "Epochs: 7, Batch Size: 32\n",
            "Final Training Accuracy: 99.95%\n",
            "First 5 Epochs' Accuracy: [0.9939000010490417, 0.9961833357810974, 0.996483325958252, 0.9974166750907898, 0.9990000128746033]\n",
            "Total Model Parameters: 347146\n",
            "Training time tracking not available.\n",
            "Avg Test Time per Epoch: 0.38 seconds\n",
            "Optimizer Used: SGD\n",
            "Learning Rate: 0.009999999776482582\n",
            "Optimizer Settings: {'name': 'SGD', 'learning_rate': 0.009999999776482582, 'weight_decay': None, 'clipnorm': None, 'global_clipnorm': None, 'clipvalue': None, 'use_ema': False, 'ema_momentum': 0.99, 'ema_overwrite_frequency': None, 'loss_scale_factor': None, 'gradient_accumulation_steps': None, 'momentum': 0.9, 'nesterov': False}\n",
            "\n",
            "===== Model Layers =====\n"
          ]
        },
        {
          "output_type": "display_data",
          "data": {
            "text/plain": [
              "\u001b[1mModel: \"sequential_20\"\u001b[0m\n"
            ],
            "text/html": [
              "<pre style=\"white-space:pre;overflow-x:auto;line-height:normal;font-family:Menlo,'DejaVu Sans Mono',consolas,'Courier New',monospace\"><span style=\"font-weight: bold\">Model: \"sequential_20\"</span>\n",
              "</pre>\n"
            ]
          },
          "metadata": {}
        },
        {
          "output_type": "display_data",
          "data": {
            "text/plain": [
              "┏━━━━━━━━━━━━━━━━━━━━━━━━━━━━━━━━━┳━━━━━━━━━━━━━━━━━━━━━━━━┳━━━━━━━━━━━━━━━┓\n",
              "┃\u001b[1m \u001b[0m\u001b[1mLayer (type)                   \u001b[0m\u001b[1m \u001b[0m┃\u001b[1m \u001b[0m\u001b[1mOutput Shape          \u001b[0m\u001b[1m \u001b[0m┃\u001b[1m \u001b[0m\u001b[1m      Param #\u001b[0m\u001b[1m \u001b[0m┃\n",
              "┡━━━━━━━━━━━━━━━━━━━━━━━━━━━━━━━━━╇━━━━━━━━━━━━━━━━━━━━━━━━╇━━━━━━━━━━━━━━━┩\n",
              "│ conv2d_32 (\u001b[38;5;33mConv2D\u001b[0m)              │ (\u001b[38;5;45mNone\u001b[0m, \u001b[38;5;34m26\u001b[0m, \u001b[38;5;34m26\u001b[0m, \u001b[38;5;34m32\u001b[0m)     │           \u001b[38;5;34m320\u001b[0m │\n",
              "├─────────────────────────────────┼────────────────────────┼───────────────┤\n",
              "│ max_pooling2d_32 (\u001b[38;5;33mMaxPooling2D\u001b[0m) │ (\u001b[38;5;45mNone\u001b[0m, \u001b[38;5;34m13\u001b[0m, \u001b[38;5;34m13\u001b[0m, \u001b[38;5;34m32\u001b[0m)     │             \u001b[38;5;34m0\u001b[0m │\n",
              "├─────────────────────────────────┼────────────────────────┼───────────────┤\n",
              "│ flatten_19 (\u001b[38;5;33mFlatten\u001b[0m)            │ (\u001b[38;5;45mNone\u001b[0m, \u001b[38;5;34m5408\u001b[0m)           │             \u001b[38;5;34m0\u001b[0m │\n",
              "├─────────────────────────────────┼────────────────────────┼───────────────┤\n",
              "│ dense_40 (\u001b[38;5;33mDense\u001b[0m)                │ (\u001b[38;5;45mNone\u001b[0m, \u001b[38;5;34m64\u001b[0m)             │       \u001b[38;5;34m346,176\u001b[0m │\n",
              "├─────────────────────────────────┼────────────────────────┼───────────────┤\n",
              "│ dense_41 (\u001b[38;5;33mDense\u001b[0m)                │ (\u001b[38;5;45mNone\u001b[0m, \u001b[38;5;34m10\u001b[0m)             │           \u001b[38;5;34m650\u001b[0m │\n",
              "└─────────────────────────────────┴────────────────────────┴───────────────┘\n"
            ],
            "text/html": [
              "<pre style=\"white-space:pre;overflow-x:auto;line-height:normal;font-family:Menlo,'DejaVu Sans Mono',consolas,'Courier New',monospace\">┏━━━━━━━━━━━━━━━━━━━━━━━━━━━━━━━━━┳━━━━━━━━━━━━━━━━━━━━━━━━┳━━━━━━━━━━━━━━━┓\n",
              "┃<span style=\"font-weight: bold\"> Layer (type)                    </span>┃<span style=\"font-weight: bold\"> Output Shape           </span>┃<span style=\"font-weight: bold\">       Param # </span>┃\n",
              "┡━━━━━━━━━━━━━━━━━━━━━━━━━━━━━━━━━╇━━━━━━━━━━━━━━━━━━━━━━━━╇━━━━━━━━━━━━━━━┩\n",
              "│ conv2d_32 (<span style=\"color: #0087ff; text-decoration-color: #0087ff\">Conv2D</span>)              │ (<span style=\"color: #00d7ff; text-decoration-color: #00d7ff\">None</span>, <span style=\"color: #00af00; text-decoration-color: #00af00\">26</span>, <span style=\"color: #00af00; text-decoration-color: #00af00\">26</span>, <span style=\"color: #00af00; text-decoration-color: #00af00\">32</span>)     │           <span style=\"color: #00af00; text-decoration-color: #00af00\">320</span> │\n",
              "├─────────────────────────────────┼────────────────────────┼───────────────┤\n",
              "│ max_pooling2d_32 (<span style=\"color: #0087ff; text-decoration-color: #0087ff\">MaxPooling2D</span>) │ (<span style=\"color: #00d7ff; text-decoration-color: #00d7ff\">None</span>, <span style=\"color: #00af00; text-decoration-color: #00af00\">13</span>, <span style=\"color: #00af00; text-decoration-color: #00af00\">13</span>, <span style=\"color: #00af00; text-decoration-color: #00af00\">32</span>)     │             <span style=\"color: #00af00; text-decoration-color: #00af00\">0</span> │\n",
              "├─────────────────────────────────┼────────────────────────┼───────────────┤\n",
              "│ flatten_19 (<span style=\"color: #0087ff; text-decoration-color: #0087ff\">Flatten</span>)            │ (<span style=\"color: #00d7ff; text-decoration-color: #00d7ff\">None</span>, <span style=\"color: #00af00; text-decoration-color: #00af00\">5408</span>)           │             <span style=\"color: #00af00; text-decoration-color: #00af00\">0</span> │\n",
              "├─────────────────────────────────┼────────────────────────┼───────────────┤\n",
              "│ dense_40 (<span style=\"color: #0087ff; text-decoration-color: #0087ff\">Dense</span>)                │ (<span style=\"color: #00d7ff; text-decoration-color: #00d7ff\">None</span>, <span style=\"color: #00af00; text-decoration-color: #00af00\">64</span>)             │       <span style=\"color: #00af00; text-decoration-color: #00af00\">346,176</span> │\n",
              "├─────────────────────────────────┼────────────────────────┼───────────────┤\n",
              "│ dense_41 (<span style=\"color: #0087ff; text-decoration-color: #0087ff\">Dense</span>)                │ (<span style=\"color: #00d7ff; text-decoration-color: #00d7ff\">None</span>, <span style=\"color: #00af00; text-decoration-color: #00af00\">10</span>)             │           <span style=\"color: #00af00; text-decoration-color: #00af00\">650</span> │\n",
              "└─────────────────────────────────┴────────────────────────┴───────────────┘\n",
              "</pre>\n"
            ]
          },
          "metadata": {}
        },
        {
          "output_type": "display_data",
          "data": {
            "text/plain": [
              "\u001b[1m Total params: \u001b[0m\u001b[38;5;34m694,294\u001b[0m (2.65 MB)\n"
            ],
            "text/html": [
              "<pre style=\"white-space:pre;overflow-x:auto;line-height:normal;font-family:Menlo,'DejaVu Sans Mono',consolas,'Courier New',monospace\"><span style=\"font-weight: bold\"> Total params: </span><span style=\"color: #00af00; text-decoration-color: #00af00\">694,294</span> (2.65 MB)\n",
              "</pre>\n"
            ]
          },
          "metadata": {}
        },
        {
          "output_type": "display_data",
          "data": {
            "text/plain": [
              "\u001b[1m Trainable params: \u001b[0m\u001b[38;5;34m347,146\u001b[0m (1.32 MB)\n"
            ],
            "text/html": [
              "<pre style=\"white-space:pre;overflow-x:auto;line-height:normal;font-family:Menlo,'DejaVu Sans Mono',consolas,'Courier New',monospace\"><span style=\"font-weight: bold\"> Trainable params: </span><span style=\"color: #00af00; text-decoration-color: #00af00\">347,146</span> (1.32 MB)\n",
              "</pre>\n"
            ]
          },
          "metadata": {}
        },
        {
          "output_type": "display_data",
          "data": {
            "text/plain": [
              "\u001b[1m Non-trainable params: \u001b[0m\u001b[38;5;34m0\u001b[0m (0.00 B)\n"
            ],
            "text/html": [
              "<pre style=\"white-space:pre;overflow-x:auto;line-height:normal;font-family:Menlo,'DejaVu Sans Mono',consolas,'Courier New',monospace\"><span style=\"font-weight: bold\"> Non-trainable params: </span><span style=\"color: #00af00; text-decoration-color: #00af00\">0</span> (0.00 B)\n",
              "</pre>\n"
            ]
          },
          "metadata": {}
        },
        {
          "output_type": "display_data",
          "data": {
            "text/plain": [
              "\u001b[1m Optimizer params: \u001b[0m\u001b[38;5;34m347,148\u001b[0m (1.32 MB)\n"
            ],
            "text/html": [
              "<pre style=\"white-space:pre;overflow-x:auto;line-height:normal;font-family:Menlo,'DejaVu Sans Mono',consolas,'Courier New',monospace\"><span style=\"font-weight: bold\"> Optimizer params: </span><span style=\"color: #00af00; text-decoration-color: #00af00\">347,148</span> (1.32 MB)\n",
              "</pre>\n"
            ]
          },
          "metadata": {}
        },
        {
          "output_type": "stream",
          "name": "stdout",
          "text": [
            "\n",
            "===== Training for 12 epochs =====\n",
            "Epoch 1/12\n",
            "1875/1875 - 27s - 14ms/step - accuracy: 0.9995 - loss: 0.0024 - val_accuracy: 0.9878 - val_loss: 0.0475\n",
            "Epoch 2/12\n",
            "1875/1875 - 28s - 15ms/step - accuracy: 0.9998 - loss: 0.0015 - val_accuracy: 0.9877 - val_loss: 0.0476\n",
            "Epoch 3/12\n",
            "1875/1875 - 41s - 22ms/step - accuracy: 0.9999 - loss: 9.8782e-04 - val_accuracy: 0.9871 - val_loss: 0.0494\n",
            "Epoch 4/12\n",
            "1875/1875 - 41s - 22ms/step - accuracy: 0.9999 - loss: 7.3809e-04 - val_accuracy: 0.9882 - val_loss: 0.0480\n",
            "Epoch 5/12\n",
            "1875/1875 - 27s - 14ms/step - accuracy: 0.9999 - loss: 6.2287e-04 - val_accuracy: 0.9881 - val_loss: 0.0486\n",
            "Epoch 6/12\n",
            "1875/1875 - 42s - 22ms/step - accuracy: 1.0000 - loss: 4.1882e-04 - val_accuracy: 0.9883 - val_loss: 0.0498\n",
            "Epoch 7/12\n",
            "1875/1875 - 27s - 14ms/step - accuracy: 1.0000 - loss: 3.7695e-04 - val_accuracy: 0.9881 - val_loss: 0.0507\n",
            "Epoch 8/12\n",
            "1875/1875 - 42s - 23ms/step - accuracy: 1.0000 - loss: 3.2075e-04 - val_accuracy: 0.9885 - val_loss: 0.0513\n",
            "Epoch 9/12\n",
            "1875/1875 - 28s - 15ms/step - accuracy: 1.0000 - loss: 2.8758e-04 - val_accuracy: 0.9878 - val_loss: 0.0516\n",
            "Epoch 10/12\n",
            "1875/1875 - 28s - 15ms/step - accuracy: 1.0000 - loss: 2.6157e-04 - val_accuracy: 0.9880 - val_loss: 0.0524\n",
            "Epoch 11/12\n",
            "1875/1875 - 27s - 14ms/step - accuracy: 1.0000 - loss: 2.3789e-04 - val_accuracy: 0.9882 - val_loss: 0.0524\n",
            "Epoch 12/12\n",
            "1875/1875 - 42s - 22ms/step - accuracy: 1.0000 - loss: 2.2897e-04 - val_accuracy: 0.9883 - val_loss: 0.0530\n",
            "\n",
            "===== Model Performance Summary =====\n",
            "Epochs: 12, Batch Size: 32\n",
            "Final Training Accuracy: 100.00%\n",
            "First 5 Epochs' Accuracy: [0.9994999766349792, 0.9997666478157043, 0.9998666644096375, 0.9999333620071411, 0.999916672706604]\n",
            "Total Model Parameters: 347146\n",
            "Training time tracking not available.\n",
            "Avg Test Time per Epoch: 0.22 seconds\n",
            "Optimizer Used: SGD\n",
            "Learning Rate: 0.009999999776482582\n",
            "Optimizer Settings: {'name': 'SGD', 'learning_rate': 0.009999999776482582, 'weight_decay': None, 'clipnorm': None, 'global_clipnorm': None, 'clipvalue': None, 'use_ema': False, 'ema_momentum': 0.99, 'ema_overwrite_frequency': None, 'loss_scale_factor': None, 'gradient_accumulation_steps': None, 'momentum': 0.9, 'nesterov': False}\n",
            "\n",
            "===== Model Layers =====\n"
          ]
        },
        {
          "output_type": "display_data",
          "data": {
            "text/plain": [
              "\u001b[1mModel: \"sequential_20\"\u001b[0m\n"
            ],
            "text/html": [
              "<pre style=\"white-space:pre;overflow-x:auto;line-height:normal;font-family:Menlo,'DejaVu Sans Mono',consolas,'Courier New',monospace\"><span style=\"font-weight: bold\">Model: \"sequential_20\"</span>\n",
              "</pre>\n"
            ]
          },
          "metadata": {}
        },
        {
          "output_type": "display_data",
          "data": {
            "text/plain": [
              "┏━━━━━━━━━━━━━━━━━━━━━━━━━━━━━━━━━┳━━━━━━━━━━━━━━━━━━━━━━━━┳━━━━━━━━━━━━━━━┓\n",
              "┃\u001b[1m \u001b[0m\u001b[1mLayer (type)                   \u001b[0m\u001b[1m \u001b[0m┃\u001b[1m \u001b[0m\u001b[1mOutput Shape          \u001b[0m\u001b[1m \u001b[0m┃\u001b[1m \u001b[0m\u001b[1m      Param #\u001b[0m\u001b[1m \u001b[0m┃\n",
              "┡━━━━━━━━━━━━━━━━━━━━━━━━━━━━━━━━━╇━━━━━━━━━━━━━━━━━━━━━━━━╇━━━━━━━━━━━━━━━┩\n",
              "│ conv2d_32 (\u001b[38;5;33mConv2D\u001b[0m)              │ (\u001b[38;5;45mNone\u001b[0m, \u001b[38;5;34m26\u001b[0m, \u001b[38;5;34m26\u001b[0m, \u001b[38;5;34m32\u001b[0m)     │           \u001b[38;5;34m320\u001b[0m │\n",
              "├─────────────────────────────────┼────────────────────────┼───────────────┤\n",
              "│ max_pooling2d_32 (\u001b[38;5;33mMaxPooling2D\u001b[0m) │ (\u001b[38;5;45mNone\u001b[0m, \u001b[38;5;34m13\u001b[0m, \u001b[38;5;34m13\u001b[0m, \u001b[38;5;34m32\u001b[0m)     │             \u001b[38;5;34m0\u001b[0m │\n",
              "├─────────────────────────────────┼────────────────────────┼───────────────┤\n",
              "│ flatten_19 (\u001b[38;5;33mFlatten\u001b[0m)            │ (\u001b[38;5;45mNone\u001b[0m, \u001b[38;5;34m5408\u001b[0m)           │             \u001b[38;5;34m0\u001b[0m │\n",
              "├─────────────────────────────────┼────────────────────────┼───────────────┤\n",
              "│ dense_40 (\u001b[38;5;33mDense\u001b[0m)                │ (\u001b[38;5;45mNone\u001b[0m, \u001b[38;5;34m64\u001b[0m)             │       \u001b[38;5;34m346,176\u001b[0m │\n",
              "├─────────────────────────────────┼────────────────────────┼───────────────┤\n",
              "│ dense_41 (\u001b[38;5;33mDense\u001b[0m)                │ (\u001b[38;5;45mNone\u001b[0m, \u001b[38;5;34m10\u001b[0m)             │           \u001b[38;5;34m650\u001b[0m │\n",
              "└─────────────────────────────────┴────────────────────────┴───────────────┘\n"
            ],
            "text/html": [
              "<pre style=\"white-space:pre;overflow-x:auto;line-height:normal;font-family:Menlo,'DejaVu Sans Mono',consolas,'Courier New',monospace\">┏━━━━━━━━━━━━━━━━━━━━━━━━━━━━━━━━━┳━━━━━━━━━━━━━━━━━━━━━━━━┳━━━━━━━━━━━━━━━┓\n",
              "┃<span style=\"font-weight: bold\"> Layer (type)                    </span>┃<span style=\"font-weight: bold\"> Output Shape           </span>┃<span style=\"font-weight: bold\">       Param # </span>┃\n",
              "┡━━━━━━━━━━━━━━━━━━━━━━━━━━━━━━━━━╇━━━━━━━━━━━━━━━━━━━━━━━━╇━━━━━━━━━━━━━━━┩\n",
              "│ conv2d_32 (<span style=\"color: #0087ff; text-decoration-color: #0087ff\">Conv2D</span>)              │ (<span style=\"color: #00d7ff; text-decoration-color: #00d7ff\">None</span>, <span style=\"color: #00af00; text-decoration-color: #00af00\">26</span>, <span style=\"color: #00af00; text-decoration-color: #00af00\">26</span>, <span style=\"color: #00af00; text-decoration-color: #00af00\">32</span>)     │           <span style=\"color: #00af00; text-decoration-color: #00af00\">320</span> │\n",
              "├─────────────────────────────────┼────────────────────────┼───────────────┤\n",
              "│ max_pooling2d_32 (<span style=\"color: #0087ff; text-decoration-color: #0087ff\">MaxPooling2D</span>) │ (<span style=\"color: #00d7ff; text-decoration-color: #00d7ff\">None</span>, <span style=\"color: #00af00; text-decoration-color: #00af00\">13</span>, <span style=\"color: #00af00; text-decoration-color: #00af00\">13</span>, <span style=\"color: #00af00; text-decoration-color: #00af00\">32</span>)     │             <span style=\"color: #00af00; text-decoration-color: #00af00\">0</span> │\n",
              "├─────────────────────────────────┼────────────────────────┼───────────────┤\n",
              "│ flatten_19 (<span style=\"color: #0087ff; text-decoration-color: #0087ff\">Flatten</span>)            │ (<span style=\"color: #00d7ff; text-decoration-color: #00d7ff\">None</span>, <span style=\"color: #00af00; text-decoration-color: #00af00\">5408</span>)           │             <span style=\"color: #00af00; text-decoration-color: #00af00\">0</span> │\n",
              "├─────────────────────────────────┼────────────────────────┼───────────────┤\n",
              "│ dense_40 (<span style=\"color: #0087ff; text-decoration-color: #0087ff\">Dense</span>)                │ (<span style=\"color: #00d7ff; text-decoration-color: #00d7ff\">None</span>, <span style=\"color: #00af00; text-decoration-color: #00af00\">64</span>)             │       <span style=\"color: #00af00; text-decoration-color: #00af00\">346,176</span> │\n",
              "├─────────────────────────────────┼────────────────────────┼───────────────┤\n",
              "│ dense_41 (<span style=\"color: #0087ff; text-decoration-color: #0087ff\">Dense</span>)                │ (<span style=\"color: #00d7ff; text-decoration-color: #00d7ff\">None</span>, <span style=\"color: #00af00; text-decoration-color: #00af00\">10</span>)             │           <span style=\"color: #00af00; text-decoration-color: #00af00\">650</span> │\n",
              "└─────────────────────────────────┴────────────────────────┴───────────────┘\n",
              "</pre>\n"
            ]
          },
          "metadata": {}
        },
        {
          "output_type": "display_data",
          "data": {
            "text/plain": [
              "\u001b[1m Total params: \u001b[0m\u001b[38;5;34m694,294\u001b[0m (2.65 MB)\n"
            ],
            "text/html": [
              "<pre style=\"white-space:pre;overflow-x:auto;line-height:normal;font-family:Menlo,'DejaVu Sans Mono',consolas,'Courier New',monospace\"><span style=\"font-weight: bold\"> Total params: </span><span style=\"color: #00af00; text-decoration-color: #00af00\">694,294</span> (2.65 MB)\n",
              "</pre>\n"
            ]
          },
          "metadata": {}
        },
        {
          "output_type": "display_data",
          "data": {
            "text/plain": [
              "\u001b[1m Trainable params: \u001b[0m\u001b[38;5;34m347,146\u001b[0m (1.32 MB)\n"
            ],
            "text/html": [
              "<pre style=\"white-space:pre;overflow-x:auto;line-height:normal;font-family:Menlo,'DejaVu Sans Mono',consolas,'Courier New',monospace\"><span style=\"font-weight: bold\"> Trainable params: </span><span style=\"color: #00af00; text-decoration-color: #00af00\">347,146</span> (1.32 MB)\n",
              "</pre>\n"
            ]
          },
          "metadata": {}
        },
        {
          "output_type": "display_data",
          "data": {
            "text/plain": [
              "\u001b[1m Non-trainable params: \u001b[0m\u001b[38;5;34m0\u001b[0m (0.00 B)\n"
            ],
            "text/html": [
              "<pre style=\"white-space:pre;overflow-x:auto;line-height:normal;font-family:Menlo,'DejaVu Sans Mono',consolas,'Courier New',monospace\"><span style=\"font-weight: bold\"> Non-trainable params: </span><span style=\"color: #00af00; text-decoration-color: #00af00\">0</span> (0.00 B)\n",
              "</pre>\n"
            ]
          },
          "metadata": {}
        },
        {
          "output_type": "display_data",
          "data": {
            "text/plain": [
              "\u001b[1m Optimizer params: \u001b[0m\u001b[38;5;34m347,148\u001b[0m (1.32 MB)\n"
            ],
            "text/html": [
              "<pre style=\"white-space:pre;overflow-x:auto;line-height:normal;font-family:Menlo,'DejaVu Sans Mono',consolas,'Courier New',monospace\"><span style=\"font-weight: bold\"> Optimizer params: </span><span style=\"color: #00af00; text-decoration-color: #00af00\">347,148</span> (1.32 MB)\n",
              "</pre>\n"
            ]
          },
          "metadata": {}
        }
      ],
      "source": [
        "import numpy as np\n",
        "import time\n",
        "from tensorflow.keras.datasets import mnist\n",
        "from tensorflow.keras.models import Sequential\n",
        "from tensorflow.keras.layers import Conv2D, MaxPooling2D, Flatten, Dense\n",
        "from tensorflow.keras.utils import to_categorical\n",
        "from tensorflow.keras.optimizers import SGD\n",
        "from sklearn.metrics import accuracy_score\n",
        "from sklearn.utils import shuffle\n",
        "\n",
        "\n",
        "# 1. Load MNIST dataset\n",
        "(x_train, y_train), (x_test, y_test) = mnist.load_data()\n",
        "\n",
        "# 2. Normalize pixel values\n",
        "x_train = x_train.astype('float32') / 255.0\n",
        "x_test = x_test.astype('float32') / 255.0\n",
        "\n",
        "# 3. Reshape input to (samples, height, width, channels)\n",
        "x_train = x_train.reshape(-1, 28, 28, 1)\n",
        "x_test = x_test.reshape(-1, 28, 28, 1)\n",
        "\n",
        "# Shuffle training data\n",
        "x_train, y_train = shuffle(x_train, y_train, random_state=42)\n",
        "\n",
        "# 4. One-hot encode labels\n",
        "y_train_cat = to_categorical(y_train, 10)\n",
        "y_test_cat = to_categorical(y_test, 10)\n",
        "\n",
        "# 5. Build CNN model\n",
        "from tensorflow.keras.layers import Input\n",
        "\n",
        "cnn = Sequential([\n",
        "    Input(shape=(28, 28, 1)),\n",
        "    Conv2D(32, (3, 3), activation='relu'),\n",
        "    MaxPooling2D(pool_size=(2, 2), strides=(2, 2)),\n",
        "    Flatten(),\n",
        "    Dense(64, activation='relu'),\n",
        "    Dense(10, activation='softmax')\n",
        "])\n",
        "\n",
        "# 6. Compile the model\n",
        "cnn.compile(optimizer=SGD(learning_rate=0.01, momentum=0.9), loss='categorical_crossentropy', metrics=['accuracy'])\n",
        "\n",
        "# 7. Train the model\n",
        "batch_size = 32\n",
        "epoch_values = [5, 7, 12]\n",
        "for epochs in epoch_values:\n",
        "    print(f\"\\n===== Training for {epochs} epochs =====\")\n",
        "    history = cnn.fit(x_train, y_train_cat, batch_size=batch_size, epochs=epochs, validation_data=(x_test, y_test_cat), verbose=2, shuffle=True)\n",
        "    summarize_results(cnn, history, epochs, batch_size, (x_test, y_test_cat))\n",
        "\n",
        "\n"
      ]
    },
    {
      "cell_type": "markdown",
      "source": [
        "The BEST number of epochs is **12 epochs**"
      ],
      "metadata": {
        "id": "EadxJrgi5ojc"
      }
    },
    {
      "cell_type": "markdown",
      "source": [
        "4- Next you will also test different learning rate."
      ],
      "metadata": {
        "id": "E7O6PWpJgg8t"
      }
    },
    {
      "cell_type": "code",
      "execution_count": null,
      "metadata": {
        "colab": {
          "base_uri": "https://localhost:8080/",
          "height": 1000
        },
        "id": "d1J4etg-eG8E",
        "outputId": "9d83da4b-850b-4301-8efd-09cc389838e6",
        "collapsed": true
      },
      "outputs": [
        {
          "output_type": "stream",
          "name": "stdout",
          "text": [
            "\n",
            "Training CNN with Learning Rate: 0.0001\n",
            "Epoch 1/12\n",
            "\u001b[1m1875/1875\u001b[0m \u001b[32m━━━━━━━━━━━━━━━━━━━━\u001b[0m\u001b[37m\u001b[0m \u001b[1m31s\u001b[0m 16ms/step - accuracy: 1.0000 - loss: 2.0142e-04 - val_accuracy: 0.9883 - val_loss: 0.0528\n",
            "Epoch 2/12\n",
            "\u001b[1m1875/1875\u001b[0m \u001b[32m━━━━━━━━━━━━━━━━━━━━\u001b[0m\u001b[37m\u001b[0m \u001b[1m30s\u001b[0m 16ms/step - accuracy: 1.0000 - loss: 1.9475e-04 - val_accuracy: 0.9883 - val_loss: 0.0528\n",
            "Epoch 3/12\n",
            "\u001b[1m1875/1875\u001b[0m \u001b[32m━━━━━━━━━━━━━━━━━━━━\u001b[0m\u001b[37m\u001b[0m \u001b[1m30s\u001b[0m 16ms/step - accuracy: 1.0000 - loss: 1.9552e-04 - val_accuracy: 0.9882 - val_loss: 0.0528\n",
            "Epoch 4/12\n",
            "\u001b[1m1875/1875\u001b[0m \u001b[32m━━━━━━━━━━━━━━━━━━━━\u001b[0m\u001b[37m\u001b[0m \u001b[1m40s\u001b[0m 16ms/step - accuracy: 1.0000 - loss: 2.0453e-04 - val_accuracy: 0.9882 - val_loss: 0.0529\n",
            "Epoch 5/12\n",
            "\u001b[1m1875/1875\u001b[0m \u001b[32m━━━━━━━━━━━━━━━━━━━━\u001b[0m\u001b[37m\u001b[0m \u001b[1m42s\u001b[0m 16ms/step - accuracy: 1.0000 - loss: 1.8536e-04 - val_accuracy: 0.9882 - val_loss: 0.0529\n",
            "Epoch 6/12\n",
            "\u001b[1m1875/1875\u001b[0m \u001b[32m━━━━━━━━━━━━━━━━━━━━\u001b[0m\u001b[37m\u001b[0m \u001b[1m40s\u001b[0m 16ms/step - accuracy: 1.0000 - loss: 1.9978e-04 - val_accuracy: 0.9882 - val_loss: 0.0529\n",
            "Epoch 7/12\n",
            "\u001b[1m1875/1875\u001b[0m \u001b[32m━━━━━━━━━━━━━━━━━━━━\u001b[0m\u001b[37m\u001b[0m \u001b[1m30s\u001b[0m 16ms/step - accuracy: 1.0000 - loss: 1.9787e-04 - val_accuracy: 0.9882 - val_loss: 0.0529\n",
            "Epoch 8/12\n",
            "\u001b[1m1875/1875\u001b[0m \u001b[32m━━━━━━━━━━━━━━━━━━━━\u001b[0m\u001b[37m\u001b[0m \u001b[1m41s\u001b[0m 16ms/step - accuracy: 1.0000 - loss: 1.9691e-04 - val_accuracy: 0.9882 - val_loss: 0.0529\n",
            "Epoch 9/12\n",
            "\u001b[1m1875/1875\u001b[0m \u001b[32m━━━━━━━━━━━━━━━━━━━━\u001b[0m\u001b[37m\u001b[0m \u001b[1m30s\u001b[0m 16ms/step - accuracy: 1.0000 - loss: 1.9306e-04 - val_accuracy: 0.9882 - val_loss: 0.0529\n",
            "Epoch 10/12\n",
            "\u001b[1m1875/1875\u001b[0m \u001b[32m━━━━━━━━━━━━━━━━━━━━\u001b[0m\u001b[37m\u001b[0m \u001b[1m30s\u001b[0m 16ms/step - accuracy: 1.0000 - loss: 2.0380e-04 - val_accuracy: 0.9882 - val_loss: 0.0529\n",
            "Epoch 11/12\n",
            "\u001b[1m1875/1875\u001b[0m \u001b[32m━━━━━━━━━━━━━━━━━━━━\u001b[0m\u001b[37m\u001b[0m \u001b[1m30s\u001b[0m 16ms/step - accuracy: 1.0000 - loss: 1.9737e-04 - val_accuracy: 0.9882 - val_loss: 0.0529\n",
            "Epoch 12/12\n",
            "\u001b[1m1875/1875\u001b[0m \u001b[32m━━━━━━━━━━━━━━━━━━━━\u001b[0m\u001b[37m\u001b[0m \u001b[1m40s\u001b[0m 16ms/step - accuracy: 1.0000 - loss: 1.8933e-04 - val_accuracy: 0.9882 - val_loss: 0.0529\n",
            "\n",
            "===== Training Report =====\n",
            "Learning Rate: 0.0001\n",
            "\n",
            "===== Model Performance Summary =====\n",
            "Epochs: 12, Batch Size: 32\n",
            "Final Training Accuracy: 100.00%\n",
            "First 5 Epochs' Accuracy: [1.0, 1.0, 1.0, 1.0, 1.0]\n",
            "Total Model Parameters: 347146\n",
            "Training time tracking not available.\n",
            "Avg Test Time per Epoch: 0.22 seconds\n",
            "Optimizer Used: SGD\n",
            "Learning Rate: 9.999999747378752e-05\n",
            "Optimizer Settings: {'name': 'SGD', 'learning_rate': 9.999999747378752e-05, 'weight_decay': None, 'clipnorm': None, 'global_clipnorm': None, 'clipvalue': None, 'use_ema': False, 'ema_momentum': 0.99, 'ema_overwrite_frequency': None, 'loss_scale_factor': None, 'gradient_accumulation_steps': None, 'momentum': 0.9, 'nesterov': False}\n",
            "\n",
            "===== Model Layers =====\n"
          ]
        },
        {
          "output_type": "display_data",
          "data": {
            "text/plain": [
              "\u001b[1mModel: \"sequential_20\"\u001b[0m\n"
            ],
            "text/html": [
              "<pre style=\"white-space:pre;overflow-x:auto;line-height:normal;font-family:Menlo,'DejaVu Sans Mono',consolas,'Courier New',monospace\"><span style=\"font-weight: bold\">Model: \"sequential_20\"</span>\n",
              "</pre>\n"
            ]
          },
          "metadata": {}
        },
        {
          "output_type": "display_data",
          "data": {
            "text/plain": [
              "┏━━━━━━━━━━━━━━━━━━━━━━━━━━━━━━━━━┳━━━━━━━━━━━━━━━━━━━━━━━━┳━━━━━━━━━━━━━━━┓\n",
              "┃\u001b[1m \u001b[0m\u001b[1mLayer (type)                   \u001b[0m\u001b[1m \u001b[0m┃\u001b[1m \u001b[0m\u001b[1mOutput Shape          \u001b[0m\u001b[1m \u001b[0m┃\u001b[1m \u001b[0m\u001b[1m      Param #\u001b[0m\u001b[1m \u001b[0m┃\n",
              "┡━━━━━━━━━━━━━━━━━━━━━━━━━━━━━━━━━╇━━━━━━━━━━━━━━━━━━━━━━━━╇━━━━━━━━━━━━━━━┩\n",
              "│ conv2d_32 (\u001b[38;5;33mConv2D\u001b[0m)              │ (\u001b[38;5;45mNone\u001b[0m, \u001b[38;5;34m26\u001b[0m, \u001b[38;5;34m26\u001b[0m, \u001b[38;5;34m32\u001b[0m)     │           \u001b[38;5;34m320\u001b[0m │\n",
              "├─────────────────────────────────┼────────────────────────┼───────────────┤\n",
              "│ max_pooling2d_32 (\u001b[38;5;33mMaxPooling2D\u001b[0m) │ (\u001b[38;5;45mNone\u001b[0m, \u001b[38;5;34m13\u001b[0m, \u001b[38;5;34m13\u001b[0m, \u001b[38;5;34m32\u001b[0m)     │             \u001b[38;5;34m0\u001b[0m │\n",
              "├─────────────────────────────────┼────────────────────────┼───────────────┤\n",
              "│ flatten_19 (\u001b[38;5;33mFlatten\u001b[0m)            │ (\u001b[38;5;45mNone\u001b[0m, \u001b[38;5;34m5408\u001b[0m)           │             \u001b[38;5;34m0\u001b[0m │\n",
              "├─────────────────────────────────┼────────────────────────┼───────────────┤\n",
              "│ dense_40 (\u001b[38;5;33mDense\u001b[0m)                │ (\u001b[38;5;45mNone\u001b[0m, \u001b[38;5;34m64\u001b[0m)             │       \u001b[38;5;34m346,176\u001b[0m │\n",
              "├─────────────────────────────────┼────────────────────────┼───────────────┤\n",
              "│ dense_41 (\u001b[38;5;33mDense\u001b[0m)                │ (\u001b[38;5;45mNone\u001b[0m, \u001b[38;5;34m10\u001b[0m)             │           \u001b[38;5;34m650\u001b[0m │\n",
              "└─────────────────────────────────┴────────────────────────┴───────────────┘\n"
            ],
            "text/html": [
              "<pre style=\"white-space:pre;overflow-x:auto;line-height:normal;font-family:Menlo,'DejaVu Sans Mono',consolas,'Courier New',monospace\">┏━━━━━━━━━━━━━━━━━━━━━━━━━━━━━━━━━┳━━━━━━━━━━━━━━━━━━━━━━━━┳━━━━━━━━━━━━━━━┓\n",
              "┃<span style=\"font-weight: bold\"> Layer (type)                    </span>┃<span style=\"font-weight: bold\"> Output Shape           </span>┃<span style=\"font-weight: bold\">       Param # </span>┃\n",
              "┡━━━━━━━━━━━━━━━━━━━━━━━━━━━━━━━━━╇━━━━━━━━━━━━━━━━━━━━━━━━╇━━━━━━━━━━━━━━━┩\n",
              "│ conv2d_32 (<span style=\"color: #0087ff; text-decoration-color: #0087ff\">Conv2D</span>)              │ (<span style=\"color: #00d7ff; text-decoration-color: #00d7ff\">None</span>, <span style=\"color: #00af00; text-decoration-color: #00af00\">26</span>, <span style=\"color: #00af00; text-decoration-color: #00af00\">26</span>, <span style=\"color: #00af00; text-decoration-color: #00af00\">32</span>)     │           <span style=\"color: #00af00; text-decoration-color: #00af00\">320</span> │\n",
              "├─────────────────────────────────┼────────────────────────┼───────────────┤\n",
              "│ max_pooling2d_32 (<span style=\"color: #0087ff; text-decoration-color: #0087ff\">MaxPooling2D</span>) │ (<span style=\"color: #00d7ff; text-decoration-color: #00d7ff\">None</span>, <span style=\"color: #00af00; text-decoration-color: #00af00\">13</span>, <span style=\"color: #00af00; text-decoration-color: #00af00\">13</span>, <span style=\"color: #00af00; text-decoration-color: #00af00\">32</span>)     │             <span style=\"color: #00af00; text-decoration-color: #00af00\">0</span> │\n",
              "├─────────────────────────────────┼────────────────────────┼───────────────┤\n",
              "│ flatten_19 (<span style=\"color: #0087ff; text-decoration-color: #0087ff\">Flatten</span>)            │ (<span style=\"color: #00d7ff; text-decoration-color: #00d7ff\">None</span>, <span style=\"color: #00af00; text-decoration-color: #00af00\">5408</span>)           │             <span style=\"color: #00af00; text-decoration-color: #00af00\">0</span> │\n",
              "├─────────────────────────────────┼────────────────────────┼───────────────┤\n",
              "│ dense_40 (<span style=\"color: #0087ff; text-decoration-color: #0087ff\">Dense</span>)                │ (<span style=\"color: #00d7ff; text-decoration-color: #00d7ff\">None</span>, <span style=\"color: #00af00; text-decoration-color: #00af00\">64</span>)             │       <span style=\"color: #00af00; text-decoration-color: #00af00\">346,176</span> │\n",
              "├─────────────────────────────────┼────────────────────────┼───────────────┤\n",
              "│ dense_41 (<span style=\"color: #0087ff; text-decoration-color: #0087ff\">Dense</span>)                │ (<span style=\"color: #00d7ff; text-decoration-color: #00d7ff\">None</span>, <span style=\"color: #00af00; text-decoration-color: #00af00\">10</span>)             │           <span style=\"color: #00af00; text-decoration-color: #00af00\">650</span> │\n",
              "└─────────────────────────────────┴────────────────────────┴───────────────┘\n",
              "</pre>\n"
            ]
          },
          "metadata": {}
        },
        {
          "output_type": "display_data",
          "data": {
            "text/plain": [
              "\u001b[1m Total params: \u001b[0m\u001b[38;5;34m694,294\u001b[0m (2.65 MB)\n"
            ],
            "text/html": [
              "<pre style=\"white-space:pre;overflow-x:auto;line-height:normal;font-family:Menlo,'DejaVu Sans Mono',consolas,'Courier New',monospace\"><span style=\"font-weight: bold\"> Total params: </span><span style=\"color: #00af00; text-decoration-color: #00af00\">694,294</span> (2.65 MB)\n",
              "</pre>\n"
            ]
          },
          "metadata": {}
        },
        {
          "output_type": "display_data",
          "data": {
            "text/plain": [
              "\u001b[1m Trainable params: \u001b[0m\u001b[38;5;34m347,146\u001b[0m (1.32 MB)\n"
            ],
            "text/html": [
              "<pre style=\"white-space:pre;overflow-x:auto;line-height:normal;font-family:Menlo,'DejaVu Sans Mono',consolas,'Courier New',monospace\"><span style=\"font-weight: bold\"> Trainable params: </span><span style=\"color: #00af00; text-decoration-color: #00af00\">347,146</span> (1.32 MB)\n",
              "</pre>\n"
            ]
          },
          "metadata": {}
        },
        {
          "output_type": "display_data",
          "data": {
            "text/plain": [
              "\u001b[1m Non-trainable params: \u001b[0m\u001b[38;5;34m0\u001b[0m (0.00 B)\n"
            ],
            "text/html": [
              "<pre style=\"white-space:pre;overflow-x:auto;line-height:normal;font-family:Menlo,'DejaVu Sans Mono',consolas,'Courier New',monospace\"><span style=\"font-weight: bold\"> Non-trainable params: </span><span style=\"color: #00af00; text-decoration-color: #00af00\">0</span> (0.00 B)\n",
              "</pre>\n"
            ]
          },
          "metadata": {}
        },
        {
          "output_type": "display_data",
          "data": {
            "text/plain": [
              "\u001b[1m Optimizer params: \u001b[0m\u001b[38;5;34m347,148\u001b[0m (1.32 MB)\n"
            ],
            "text/html": [
              "<pre style=\"white-space:pre;overflow-x:auto;line-height:normal;font-family:Menlo,'DejaVu Sans Mono',consolas,'Courier New',monospace\"><span style=\"font-weight: bold\"> Optimizer params: </span><span style=\"color: #00af00; text-decoration-color: #00af00\">347,148</span> (1.32 MB)\n",
              "</pre>\n"
            ]
          },
          "metadata": {}
        },
        {
          "output_type": "stream",
          "name": "stdout",
          "text": [
            "\n",
            "Training CNN with Learning Rate: 0.001\n",
            "Epoch 1/12\n",
            "\u001b[1m1875/1875\u001b[0m \u001b[32m━━━━━━━━━━━━━━━━━━━━\u001b[0m\u001b[37m\u001b[0m \u001b[1m31s\u001b[0m 16ms/step - accuracy: 1.0000 - loss: 1.8613e-04 - val_accuracy: 0.9882 - val_loss: 0.0529\n",
            "Epoch 2/12\n",
            "\u001b[1m1875/1875\u001b[0m \u001b[32m━━━━━━━━━━━━━━━━━━━━\u001b[0m\u001b[37m\u001b[0m \u001b[1m42s\u001b[0m 17ms/step - accuracy: 1.0000 - loss: 1.9018e-04 - val_accuracy: 0.9882 - val_loss: 0.0530\n",
            "Epoch 3/12\n",
            "\u001b[1m1875/1875\u001b[0m \u001b[32m━━━━━━━━━━━━━━━━━━━━\u001b[0m\u001b[37m\u001b[0m \u001b[1m39s\u001b[0m 15ms/step - accuracy: 1.0000 - loss: 1.8965e-04 - val_accuracy: 0.9882 - val_loss: 0.0531\n",
            "Epoch 4/12\n",
            "\u001b[1m1875/1875\u001b[0m \u001b[32m━━━━━━━━━━━━━━━━━━━━\u001b[0m\u001b[37m\u001b[0m \u001b[1m41s\u001b[0m 15ms/step - accuracy: 1.0000 - loss: 1.8521e-04 - val_accuracy: 0.9882 - val_loss: 0.0531\n",
            "Epoch 5/12\n",
            "\u001b[1m1875/1875\u001b[0m \u001b[32m━━━━━━━━━━━━━━━━━━━━\u001b[0m\u001b[37m\u001b[0m \u001b[1m30s\u001b[0m 16ms/step - accuracy: 1.0000 - loss: 1.8927e-04 - val_accuracy: 0.9882 - val_loss: 0.0531\n",
            "Epoch 6/12\n",
            "\u001b[1m1875/1875\u001b[0m \u001b[32m━━━━━━━━━━━━━━━━━━━━\u001b[0m\u001b[37m\u001b[0m \u001b[1m30s\u001b[0m 16ms/step - accuracy: 1.0000 - loss: 1.8580e-04 - val_accuracy: 0.9883 - val_loss: 0.0532\n",
            "Epoch 7/12\n",
            "\u001b[1m1875/1875\u001b[0m \u001b[32m━━━━━━━━━━━━━━━━━━━━\u001b[0m\u001b[37m\u001b[0m \u001b[1m30s\u001b[0m 16ms/step - accuracy: 1.0000 - loss: 1.6895e-04 - val_accuracy: 0.9882 - val_loss: 0.0532\n",
            "Epoch 8/12\n",
            "\u001b[1m1875/1875\u001b[0m \u001b[32m━━━━━━━━━━━━━━━━━━━━\u001b[0m\u001b[37m\u001b[0m \u001b[1m41s\u001b[0m 16ms/step - accuracy: 1.0000 - loss: 1.7764e-04 - val_accuracy: 0.9883 - val_loss: 0.0533\n",
            "Epoch 9/12\n",
            "\u001b[1m1875/1875\u001b[0m \u001b[32m━━━━━━━━━━━━━━━━━━━━\u001b[0m\u001b[37m\u001b[0m \u001b[1m41s\u001b[0m 16ms/step - accuracy: 1.0000 - loss: 1.8370e-04 - val_accuracy: 0.9882 - val_loss: 0.0533\n",
            "Epoch 10/12\n",
            "\u001b[1m1875/1875\u001b[0m \u001b[32m━━━━━━━━━━━━━━━━━━━━\u001b[0m\u001b[37m\u001b[0m \u001b[1m40s\u001b[0m 16ms/step - accuracy: 1.0000 - loss: 1.8215e-04 - val_accuracy: 0.9882 - val_loss: 0.0533\n",
            "Epoch 11/12\n",
            "\u001b[1m1875/1875\u001b[0m \u001b[32m━━━━━━━━━━━━━━━━━━━━\u001b[0m\u001b[37m\u001b[0m \u001b[1m42s\u001b[0m 16ms/step - accuracy: 1.0000 - loss: 1.8894e-04 - val_accuracy: 0.9882 - val_loss: 0.0533\n",
            "Epoch 12/12\n",
            "\u001b[1m1875/1875\u001b[0m \u001b[32m━━━━━━━━━━━━━━━━━━━━\u001b[0m\u001b[37m\u001b[0m \u001b[1m42s\u001b[0m 17ms/step - accuracy: 1.0000 - loss: 1.8237e-04 - val_accuracy: 0.9883 - val_loss: 0.0535\n",
            "\n",
            "===== Training Report =====\n",
            "Learning Rate: 0.001\n",
            "\n",
            "===== Model Performance Summary =====\n",
            "Epochs: 12, Batch Size: 32\n",
            "Final Training Accuracy: 100.00%\n",
            "First 5 Epochs' Accuracy: [1.0, 1.0, 1.0, 1.0, 1.0]\n",
            "Total Model Parameters: 347146\n",
            "Training time tracking not available.\n",
            "Avg Test Time per Epoch: 0.22 seconds\n",
            "Optimizer Used: SGD\n",
            "Learning Rate: 0.0010000000474974513\n",
            "Optimizer Settings: {'name': 'SGD', 'learning_rate': 0.0010000000474974513, 'weight_decay': None, 'clipnorm': None, 'global_clipnorm': None, 'clipvalue': None, 'use_ema': False, 'ema_momentum': 0.99, 'ema_overwrite_frequency': None, 'loss_scale_factor': None, 'gradient_accumulation_steps': None, 'momentum': 0.9, 'nesterov': False}\n",
            "\n",
            "===== Model Layers =====\n"
          ]
        },
        {
          "output_type": "display_data",
          "data": {
            "text/plain": [
              "\u001b[1mModel: \"sequential_20\"\u001b[0m\n"
            ],
            "text/html": [
              "<pre style=\"white-space:pre;overflow-x:auto;line-height:normal;font-family:Menlo,'DejaVu Sans Mono',consolas,'Courier New',monospace\"><span style=\"font-weight: bold\">Model: \"sequential_20\"</span>\n",
              "</pre>\n"
            ]
          },
          "metadata": {}
        },
        {
          "output_type": "display_data",
          "data": {
            "text/plain": [
              "┏━━━━━━━━━━━━━━━━━━━━━━━━━━━━━━━━━┳━━━━━━━━━━━━━━━━━━━━━━━━┳━━━━━━━━━━━━━━━┓\n",
              "┃\u001b[1m \u001b[0m\u001b[1mLayer (type)                   \u001b[0m\u001b[1m \u001b[0m┃\u001b[1m \u001b[0m\u001b[1mOutput Shape          \u001b[0m\u001b[1m \u001b[0m┃\u001b[1m \u001b[0m\u001b[1m      Param #\u001b[0m\u001b[1m \u001b[0m┃\n",
              "┡━━━━━━━━━━━━━━━━━━━━━━━━━━━━━━━━━╇━━━━━━━━━━━━━━━━━━━━━━━━╇━━━━━━━━━━━━━━━┩\n",
              "│ conv2d_32 (\u001b[38;5;33mConv2D\u001b[0m)              │ (\u001b[38;5;45mNone\u001b[0m, \u001b[38;5;34m26\u001b[0m, \u001b[38;5;34m26\u001b[0m, \u001b[38;5;34m32\u001b[0m)     │           \u001b[38;5;34m320\u001b[0m │\n",
              "├─────────────────────────────────┼────────────────────────┼───────────────┤\n",
              "│ max_pooling2d_32 (\u001b[38;5;33mMaxPooling2D\u001b[0m) │ (\u001b[38;5;45mNone\u001b[0m, \u001b[38;5;34m13\u001b[0m, \u001b[38;5;34m13\u001b[0m, \u001b[38;5;34m32\u001b[0m)     │             \u001b[38;5;34m0\u001b[0m │\n",
              "├─────────────────────────────────┼────────────────────────┼───────────────┤\n",
              "│ flatten_19 (\u001b[38;5;33mFlatten\u001b[0m)            │ (\u001b[38;5;45mNone\u001b[0m, \u001b[38;5;34m5408\u001b[0m)           │             \u001b[38;5;34m0\u001b[0m │\n",
              "├─────────────────────────────────┼────────────────────────┼───────────────┤\n",
              "│ dense_40 (\u001b[38;5;33mDense\u001b[0m)                │ (\u001b[38;5;45mNone\u001b[0m, \u001b[38;5;34m64\u001b[0m)             │       \u001b[38;5;34m346,176\u001b[0m │\n",
              "├─────────────────────────────────┼────────────────────────┼───────────────┤\n",
              "│ dense_41 (\u001b[38;5;33mDense\u001b[0m)                │ (\u001b[38;5;45mNone\u001b[0m, \u001b[38;5;34m10\u001b[0m)             │           \u001b[38;5;34m650\u001b[0m │\n",
              "└─────────────────────────────────┴────────────────────────┴───────────────┘\n"
            ],
            "text/html": [
              "<pre style=\"white-space:pre;overflow-x:auto;line-height:normal;font-family:Menlo,'DejaVu Sans Mono',consolas,'Courier New',monospace\">┏━━━━━━━━━━━━━━━━━━━━━━━━━━━━━━━━━┳━━━━━━━━━━━━━━━━━━━━━━━━┳━━━━━━━━━━━━━━━┓\n",
              "┃<span style=\"font-weight: bold\"> Layer (type)                    </span>┃<span style=\"font-weight: bold\"> Output Shape           </span>┃<span style=\"font-weight: bold\">       Param # </span>┃\n",
              "┡━━━━━━━━━━━━━━━━━━━━━━━━━━━━━━━━━╇━━━━━━━━━━━━━━━━━━━━━━━━╇━━━━━━━━━━━━━━━┩\n",
              "│ conv2d_32 (<span style=\"color: #0087ff; text-decoration-color: #0087ff\">Conv2D</span>)              │ (<span style=\"color: #00d7ff; text-decoration-color: #00d7ff\">None</span>, <span style=\"color: #00af00; text-decoration-color: #00af00\">26</span>, <span style=\"color: #00af00; text-decoration-color: #00af00\">26</span>, <span style=\"color: #00af00; text-decoration-color: #00af00\">32</span>)     │           <span style=\"color: #00af00; text-decoration-color: #00af00\">320</span> │\n",
              "├─────────────────────────────────┼────────────────────────┼───────────────┤\n",
              "│ max_pooling2d_32 (<span style=\"color: #0087ff; text-decoration-color: #0087ff\">MaxPooling2D</span>) │ (<span style=\"color: #00d7ff; text-decoration-color: #00d7ff\">None</span>, <span style=\"color: #00af00; text-decoration-color: #00af00\">13</span>, <span style=\"color: #00af00; text-decoration-color: #00af00\">13</span>, <span style=\"color: #00af00; text-decoration-color: #00af00\">32</span>)     │             <span style=\"color: #00af00; text-decoration-color: #00af00\">0</span> │\n",
              "├─────────────────────────────────┼────────────────────────┼───────────────┤\n",
              "│ flatten_19 (<span style=\"color: #0087ff; text-decoration-color: #0087ff\">Flatten</span>)            │ (<span style=\"color: #00d7ff; text-decoration-color: #00d7ff\">None</span>, <span style=\"color: #00af00; text-decoration-color: #00af00\">5408</span>)           │             <span style=\"color: #00af00; text-decoration-color: #00af00\">0</span> │\n",
              "├─────────────────────────────────┼────────────────────────┼───────────────┤\n",
              "│ dense_40 (<span style=\"color: #0087ff; text-decoration-color: #0087ff\">Dense</span>)                │ (<span style=\"color: #00d7ff; text-decoration-color: #00d7ff\">None</span>, <span style=\"color: #00af00; text-decoration-color: #00af00\">64</span>)             │       <span style=\"color: #00af00; text-decoration-color: #00af00\">346,176</span> │\n",
              "├─────────────────────────────────┼────────────────────────┼───────────────┤\n",
              "│ dense_41 (<span style=\"color: #0087ff; text-decoration-color: #0087ff\">Dense</span>)                │ (<span style=\"color: #00d7ff; text-decoration-color: #00d7ff\">None</span>, <span style=\"color: #00af00; text-decoration-color: #00af00\">10</span>)             │           <span style=\"color: #00af00; text-decoration-color: #00af00\">650</span> │\n",
              "└─────────────────────────────────┴────────────────────────┴───────────────┘\n",
              "</pre>\n"
            ]
          },
          "metadata": {}
        },
        {
          "output_type": "display_data",
          "data": {
            "text/plain": [
              "\u001b[1m Total params: \u001b[0m\u001b[38;5;34m694,294\u001b[0m (2.65 MB)\n"
            ],
            "text/html": [
              "<pre style=\"white-space:pre;overflow-x:auto;line-height:normal;font-family:Menlo,'DejaVu Sans Mono',consolas,'Courier New',monospace\"><span style=\"font-weight: bold\"> Total params: </span><span style=\"color: #00af00; text-decoration-color: #00af00\">694,294</span> (2.65 MB)\n",
              "</pre>\n"
            ]
          },
          "metadata": {}
        },
        {
          "output_type": "display_data",
          "data": {
            "text/plain": [
              "\u001b[1m Trainable params: \u001b[0m\u001b[38;5;34m347,146\u001b[0m (1.32 MB)\n"
            ],
            "text/html": [
              "<pre style=\"white-space:pre;overflow-x:auto;line-height:normal;font-family:Menlo,'DejaVu Sans Mono',consolas,'Courier New',monospace\"><span style=\"font-weight: bold\"> Trainable params: </span><span style=\"color: #00af00; text-decoration-color: #00af00\">347,146</span> (1.32 MB)\n",
              "</pre>\n"
            ]
          },
          "metadata": {}
        },
        {
          "output_type": "display_data",
          "data": {
            "text/plain": [
              "\u001b[1m Non-trainable params: \u001b[0m\u001b[38;5;34m0\u001b[0m (0.00 B)\n"
            ],
            "text/html": [
              "<pre style=\"white-space:pre;overflow-x:auto;line-height:normal;font-family:Menlo,'DejaVu Sans Mono',consolas,'Courier New',monospace\"><span style=\"font-weight: bold\"> Non-trainable params: </span><span style=\"color: #00af00; text-decoration-color: #00af00\">0</span> (0.00 B)\n",
              "</pre>\n"
            ]
          },
          "metadata": {}
        },
        {
          "output_type": "display_data",
          "data": {
            "text/plain": [
              "\u001b[1m Optimizer params: \u001b[0m\u001b[38;5;34m347,148\u001b[0m (1.32 MB)\n"
            ],
            "text/html": [
              "<pre style=\"white-space:pre;overflow-x:auto;line-height:normal;font-family:Menlo,'DejaVu Sans Mono',consolas,'Courier New',monospace\"><span style=\"font-weight: bold\"> Optimizer params: </span><span style=\"color: #00af00; text-decoration-color: #00af00\">347,148</span> (1.32 MB)\n",
              "</pre>\n"
            ]
          },
          "metadata": {}
        },
        {
          "output_type": "stream",
          "name": "stdout",
          "text": [
            "\n",
            "Training CNN with Learning Rate: 0.1\n",
            "Epoch 1/12\n",
            "\u001b[1m1875/1875\u001b[0m \u001b[32m━━━━━━━━━━━━━━━━━━━━\u001b[0m\u001b[37m\u001b[0m \u001b[1m31s\u001b[0m 16ms/step - accuracy: 0.9473 - loss: 0.1848 - val_accuracy: 0.9561 - val_loss: 0.1692\n",
            "Epoch 2/12\n",
            "\u001b[1m1875/1875\u001b[0m \u001b[32m━━━━━━━━━━━━━━━━━━━━\u001b[0m\u001b[37m\u001b[0m \u001b[1m30s\u001b[0m 16ms/step - accuracy: 0.9667 - loss: 0.1162 - val_accuracy: 0.9502 - val_loss: 0.1711\n",
            "Epoch 3/12\n",
            "\u001b[1m1875/1875\u001b[0m \u001b[32m━━━━━━━━━━━━━━━━━━━━\u001b[0m\u001b[37m\u001b[0m \u001b[1m41s\u001b[0m 16ms/step - accuracy: 0.9726 - loss: 0.0958 - val_accuracy: 0.9727 - val_loss: 0.0993\n",
            "Epoch 4/12\n",
            "\u001b[1m1875/1875\u001b[0m \u001b[32m━━━━━━━━━━━━━━━━━━━━\u001b[0m\u001b[37m\u001b[0m \u001b[1m41s\u001b[0m 16ms/step - accuracy: 0.9800 - loss: 0.0739 - val_accuracy: 0.9615 - val_loss: 0.1980\n",
            "Epoch 5/12\n",
            "\u001b[1m1875/1875\u001b[0m \u001b[32m━━━━━━━━━━━━━━━━━━━━\u001b[0m\u001b[37m\u001b[0m \u001b[1m29s\u001b[0m 15ms/step - accuracy: 0.9796 - loss: 0.0741 - val_accuracy: 0.9657 - val_loss: 0.1438\n",
            "Epoch 6/12\n",
            "\u001b[1m1875/1875\u001b[0m \u001b[32m━━━━━━━━━━━━━━━━━━━━\u001b[0m\u001b[37m\u001b[0m \u001b[1m42s\u001b[0m 16ms/step - accuracy: 0.9785 - loss: 0.0807 - val_accuracy: 0.9566 - val_loss: 0.2376\n",
            "Epoch 7/12\n",
            "\u001b[1m1875/1875\u001b[0m \u001b[32m━━━━━━━━━━━━━━━━━━━━\u001b[0m\u001b[37m\u001b[0m \u001b[1m40s\u001b[0m 16ms/step - accuracy: 0.9784 - loss: 0.0827 - val_accuracy: 0.9647 - val_loss: 0.2139\n",
            "Epoch 8/12\n",
            "\u001b[1m1875/1875\u001b[0m \u001b[32m━━━━━━━━━━━━━━━━━━━━\u001b[0m\u001b[37m\u001b[0m \u001b[1m41s\u001b[0m 16ms/step - accuracy: 0.9788 - loss: 0.0915 - val_accuracy: 0.9682 - val_loss: 0.1939\n",
            "Epoch 9/12\n",
            "\u001b[1m1875/1875\u001b[0m \u001b[32m━━━━━━━━━━━━━━━━━━━━\u001b[0m\u001b[37m\u001b[0m \u001b[1m31s\u001b[0m 16ms/step - accuracy: 0.9794 - loss: 0.0836 - val_accuracy: 0.9708 - val_loss: 0.1430\n",
            "Epoch 10/12\n",
            "\u001b[1m1875/1875\u001b[0m \u001b[32m━━━━━━━━━━━━━━━━━━━━\u001b[0m\u001b[37m\u001b[0m \u001b[1m40s\u001b[0m 16ms/step - accuracy: 0.9797 - loss: 0.0948 - val_accuracy: 0.9508 - val_loss: 0.2669\n",
            "Epoch 11/12\n",
            "\u001b[1m1875/1875\u001b[0m \u001b[32m━━━━━━━━━━━━━━━━━━━━\u001b[0m\u001b[37m\u001b[0m \u001b[1m29s\u001b[0m 15ms/step - accuracy: 0.9573 - loss: 0.1842 - val_accuracy: 0.9632 - val_loss: 0.1970\n",
            "Epoch 12/12\n",
            "\u001b[1m1875/1875\u001b[0m \u001b[32m━━━━━━━━━━━━━━━━━━━━\u001b[0m\u001b[37m\u001b[0m \u001b[1m42s\u001b[0m 16ms/step - accuracy: 0.9744 - loss: 0.1050 - val_accuracy: 0.9616 - val_loss: 0.1958\n",
            "\n",
            "===== Training Report =====\n",
            "Learning Rate: 0.1\n",
            "\n",
            "===== Model Performance Summary =====\n",
            "Epochs: 12, Batch Size: 32\n",
            "Final Training Accuracy: 97.28%\n",
            "First 5 Epochs' Accuracy: [0.9505833387374878, 0.9670000076293945, 0.9739166498184204, 0.9776833057403564, 0.9761999845504761]\n",
            "Total Model Parameters: 347146\n",
            "Training time tracking not available.\n",
            "Avg Test Time per Epoch: 0.22 seconds\n",
            "Optimizer Used: SGD\n",
            "Learning Rate: 0.10000000149011612\n",
            "Optimizer Settings: {'name': 'SGD', 'learning_rate': 0.10000000149011612, 'weight_decay': None, 'clipnorm': None, 'global_clipnorm': None, 'clipvalue': None, 'use_ema': False, 'ema_momentum': 0.99, 'ema_overwrite_frequency': None, 'loss_scale_factor': None, 'gradient_accumulation_steps': None, 'momentum': 0.9, 'nesterov': False}\n",
            "\n",
            "===== Model Layers =====\n"
          ]
        },
        {
          "output_type": "display_data",
          "data": {
            "text/plain": [
              "\u001b[1mModel: \"sequential_20\"\u001b[0m\n"
            ],
            "text/html": [
              "<pre style=\"white-space:pre;overflow-x:auto;line-height:normal;font-family:Menlo,'DejaVu Sans Mono',consolas,'Courier New',monospace\"><span style=\"font-weight: bold\">Model: \"sequential_20\"</span>\n",
              "</pre>\n"
            ]
          },
          "metadata": {}
        },
        {
          "output_type": "display_data",
          "data": {
            "text/plain": [
              "┏━━━━━━━━━━━━━━━━━━━━━━━━━━━━━━━━━┳━━━━━━━━━━━━━━━━━━━━━━━━┳━━━━━━━━━━━━━━━┓\n",
              "┃\u001b[1m \u001b[0m\u001b[1mLayer (type)                   \u001b[0m\u001b[1m \u001b[0m┃\u001b[1m \u001b[0m\u001b[1mOutput Shape          \u001b[0m\u001b[1m \u001b[0m┃\u001b[1m \u001b[0m\u001b[1m      Param #\u001b[0m\u001b[1m \u001b[0m┃\n",
              "┡━━━━━━━━━━━━━━━━━━━━━━━━━━━━━━━━━╇━━━━━━━━━━━━━━━━━━━━━━━━╇━━━━━━━━━━━━━━━┩\n",
              "│ conv2d_32 (\u001b[38;5;33mConv2D\u001b[0m)              │ (\u001b[38;5;45mNone\u001b[0m, \u001b[38;5;34m26\u001b[0m, \u001b[38;5;34m26\u001b[0m, \u001b[38;5;34m32\u001b[0m)     │           \u001b[38;5;34m320\u001b[0m │\n",
              "├─────────────────────────────────┼────────────────────────┼───────────────┤\n",
              "│ max_pooling2d_32 (\u001b[38;5;33mMaxPooling2D\u001b[0m) │ (\u001b[38;5;45mNone\u001b[0m, \u001b[38;5;34m13\u001b[0m, \u001b[38;5;34m13\u001b[0m, \u001b[38;5;34m32\u001b[0m)     │             \u001b[38;5;34m0\u001b[0m │\n",
              "├─────────────────────────────────┼────────────────────────┼───────────────┤\n",
              "│ flatten_19 (\u001b[38;5;33mFlatten\u001b[0m)            │ (\u001b[38;5;45mNone\u001b[0m, \u001b[38;5;34m5408\u001b[0m)           │             \u001b[38;5;34m0\u001b[0m │\n",
              "├─────────────────────────────────┼────────────────────────┼───────────────┤\n",
              "│ dense_40 (\u001b[38;5;33mDense\u001b[0m)                │ (\u001b[38;5;45mNone\u001b[0m, \u001b[38;5;34m64\u001b[0m)             │       \u001b[38;5;34m346,176\u001b[0m │\n",
              "├─────────────────────────────────┼────────────────────────┼───────────────┤\n",
              "│ dense_41 (\u001b[38;5;33mDense\u001b[0m)                │ (\u001b[38;5;45mNone\u001b[0m, \u001b[38;5;34m10\u001b[0m)             │           \u001b[38;5;34m650\u001b[0m │\n",
              "└─────────────────────────────────┴────────────────────────┴───────────────┘\n"
            ],
            "text/html": [
              "<pre style=\"white-space:pre;overflow-x:auto;line-height:normal;font-family:Menlo,'DejaVu Sans Mono',consolas,'Courier New',monospace\">┏━━━━━━━━━━━━━━━━━━━━━━━━━━━━━━━━━┳━━━━━━━━━━━━━━━━━━━━━━━━┳━━━━━━━━━━━━━━━┓\n",
              "┃<span style=\"font-weight: bold\"> Layer (type)                    </span>┃<span style=\"font-weight: bold\"> Output Shape           </span>┃<span style=\"font-weight: bold\">       Param # </span>┃\n",
              "┡━━━━━━━━━━━━━━━━━━━━━━━━━━━━━━━━━╇━━━━━━━━━━━━━━━━━━━━━━━━╇━━━━━━━━━━━━━━━┩\n",
              "│ conv2d_32 (<span style=\"color: #0087ff; text-decoration-color: #0087ff\">Conv2D</span>)              │ (<span style=\"color: #00d7ff; text-decoration-color: #00d7ff\">None</span>, <span style=\"color: #00af00; text-decoration-color: #00af00\">26</span>, <span style=\"color: #00af00; text-decoration-color: #00af00\">26</span>, <span style=\"color: #00af00; text-decoration-color: #00af00\">32</span>)     │           <span style=\"color: #00af00; text-decoration-color: #00af00\">320</span> │\n",
              "├─────────────────────────────────┼────────────────────────┼───────────────┤\n",
              "│ max_pooling2d_32 (<span style=\"color: #0087ff; text-decoration-color: #0087ff\">MaxPooling2D</span>) │ (<span style=\"color: #00d7ff; text-decoration-color: #00d7ff\">None</span>, <span style=\"color: #00af00; text-decoration-color: #00af00\">13</span>, <span style=\"color: #00af00; text-decoration-color: #00af00\">13</span>, <span style=\"color: #00af00; text-decoration-color: #00af00\">32</span>)     │             <span style=\"color: #00af00; text-decoration-color: #00af00\">0</span> │\n",
              "├─────────────────────────────────┼────────────────────────┼───────────────┤\n",
              "│ flatten_19 (<span style=\"color: #0087ff; text-decoration-color: #0087ff\">Flatten</span>)            │ (<span style=\"color: #00d7ff; text-decoration-color: #00d7ff\">None</span>, <span style=\"color: #00af00; text-decoration-color: #00af00\">5408</span>)           │             <span style=\"color: #00af00; text-decoration-color: #00af00\">0</span> │\n",
              "├─────────────────────────────────┼────────────────────────┼───────────────┤\n",
              "│ dense_40 (<span style=\"color: #0087ff; text-decoration-color: #0087ff\">Dense</span>)                │ (<span style=\"color: #00d7ff; text-decoration-color: #00d7ff\">None</span>, <span style=\"color: #00af00; text-decoration-color: #00af00\">64</span>)             │       <span style=\"color: #00af00; text-decoration-color: #00af00\">346,176</span> │\n",
              "├─────────────────────────────────┼────────────────────────┼───────────────┤\n",
              "│ dense_41 (<span style=\"color: #0087ff; text-decoration-color: #0087ff\">Dense</span>)                │ (<span style=\"color: #00d7ff; text-decoration-color: #00d7ff\">None</span>, <span style=\"color: #00af00; text-decoration-color: #00af00\">10</span>)             │           <span style=\"color: #00af00; text-decoration-color: #00af00\">650</span> │\n",
              "└─────────────────────────────────┴────────────────────────┴───────────────┘\n",
              "</pre>\n"
            ]
          },
          "metadata": {}
        },
        {
          "output_type": "display_data",
          "data": {
            "text/plain": [
              "\u001b[1m Total params: \u001b[0m\u001b[38;5;34m694,294\u001b[0m (2.65 MB)\n"
            ],
            "text/html": [
              "<pre style=\"white-space:pre;overflow-x:auto;line-height:normal;font-family:Menlo,'DejaVu Sans Mono',consolas,'Courier New',monospace\"><span style=\"font-weight: bold\"> Total params: </span><span style=\"color: #00af00; text-decoration-color: #00af00\">694,294</span> (2.65 MB)\n",
              "</pre>\n"
            ]
          },
          "metadata": {}
        },
        {
          "output_type": "display_data",
          "data": {
            "text/plain": [
              "\u001b[1m Trainable params: \u001b[0m\u001b[38;5;34m347,146\u001b[0m (1.32 MB)\n"
            ],
            "text/html": [
              "<pre style=\"white-space:pre;overflow-x:auto;line-height:normal;font-family:Menlo,'DejaVu Sans Mono',consolas,'Courier New',monospace\"><span style=\"font-weight: bold\"> Trainable params: </span><span style=\"color: #00af00; text-decoration-color: #00af00\">347,146</span> (1.32 MB)\n",
              "</pre>\n"
            ]
          },
          "metadata": {}
        },
        {
          "output_type": "display_data",
          "data": {
            "text/plain": [
              "\u001b[1m Non-trainable params: \u001b[0m\u001b[38;5;34m0\u001b[0m (0.00 B)\n"
            ],
            "text/html": [
              "<pre style=\"white-space:pre;overflow-x:auto;line-height:normal;font-family:Menlo,'DejaVu Sans Mono',consolas,'Courier New',monospace\"><span style=\"font-weight: bold\"> Non-trainable params: </span><span style=\"color: #00af00; text-decoration-color: #00af00\">0</span> (0.00 B)\n",
              "</pre>\n"
            ]
          },
          "metadata": {}
        },
        {
          "output_type": "display_data",
          "data": {
            "text/plain": [
              "\u001b[1m Optimizer params: \u001b[0m\u001b[38;5;34m347,148\u001b[0m (1.32 MB)\n"
            ],
            "text/html": [
              "<pre style=\"white-space:pre;overflow-x:auto;line-height:normal;font-family:Menlo,'DejaVu Sans Mono',consolas,'Courier New',monospace\"><span style=\"font-weight: bold\"> Optimizer params: </span><span style=\"color: #00af00; text-decoration-color: #00af00\">347,148</span> (1.32 MB)\n",
              "</pre>\n"
            ]
          },
          "metadata": {}
        }
      ],
      "source": [
        "from tensorflow.keras.optimizers import SGD\n",
        "\n",
        "# Define learning rates to test\n",
        "learning_rates = [0.0001, 0.001, 0.1]\n",
        "\n",
        "# Loop through different learning rates\n",
        "for lr in learning_rates:\n",
        "    print(f\"\\nTraining CNN with Learning Rate: {lr}\")\n",
        "\n",
        "    optimizer = SGD(learning_rate=lr, momentum=0.9)\n",
        "    cnn.compile(optimizer=optimizer, loss='categorical_crossentropy', metrics=['accuracy'])\n",
        "    # Train model and measure performance\n",
        "    history = cnn.fit(x_train, y_train_cat, batch_size=32, epochs=12, validation_data=(x_test, y_test_cat), shuffle=True)\n",
        "    # Print training report\n",
        "    print(\"\\n===== Training Report =====\")\n",
        "    print(f\"Learning Rate: {lr}\")\n",
        "    summarize_results(cnn, history, 12, 32, (x_test, y_test_cat))"
      ]
    },
    {
      "cell_type": "markdown",
      "source": [
        "**Final Training Accuracy:**\n",
        "- Models 1, 2, and 4 reached 100.00% accuracy, while Model 3 lagged behind at 97.28% due to an overly high learning rate.\n",
        "First 5 Epochs' Accuracy:\n",
        "- Models 1 & 2 hit 100% accuracy instantly.\n",
        "- Model 4 was slightly lower (~99.99%) but still highly stable.\n",
        "- Model 3 improved gradually but started at 95%, showing slower convergence.\n",
        "\n",
        "**bLearning Rate Impact:**\n",
        "- Model 3 (LR = 0.1) → Too high, leading to unstable training and lower accuracy.\n",
        "- Model 1 (LR = 0.0001) → Very small, but still reached 100% accuracy.\n",
        "- Models 2 & 4 (LR = 0.001 and 0.01) → Best balance of speed and accuracy.\n",
        "\n",
        "***Best Model Choice: Model 4 (LR = 0.01)***\n",
        "- Achieved perfect final accuracy (100%) with smooth training.\n",
        "- Balanced learning rate (0.01)![Screenshot 2025-05-18 185223.png](data:image/png;base64,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)\n",
        "- First 5 epochs' accuracy stayed high throughout training.\n"
      ],
      "metadata": {
        "id": "vsYAXgqXGZFk"
      }
    },
    {
      "cell_type": "markdown",
      "source": [
        "5- Then you will test changing the number of CNN and parameters of the CNN (beware CNNs are\n",
        "memory and computation heavy depending on the configuration you give them; do NOT using more than\n",
        "3 CNNs in any model you test and NOT more than 4 FC layers) along with changing the number and\n",
        "sizes of fully connected layers. Your objective in this point is to get a good model with less\n",
        "parameters and memory footprint (try to balance both out, you should not need a strong\n",
        "model). You can also work on choosing a good number of epochs. Also start with a small batch\n",
        "size like 32 or 64."
      ],
      "metadata": {
        "id": "-snO2cZMgsiI"
      }
    },
    {
      "cell_type": "code",
      "source": [
        "from tensorflow.keras.optimizers import SGD\n",
        "from tensorflow.keras.models import Sequential\n",
        "from tensorflow.keras.layers import Conv2D, MaxPooling2D, Flatten, Dense\n",
        "import time\n",
        "\n",
        "cnn_configs = [\n",
        "    (1, 1, 32, 64),   # Minimal setup\n",
        "    (2, 2, 64, 128),  # Balanced setup\n",
        "    (3, 4, 32, 128),  # Max allowed CNN & FC layers\n",
        "\n",
        "]\n",
        "\n",
        "# Loop through configurations\n",
        "for cnn_layers, fc_layers, filters, fc_units in cnn_configs:\n",
        "            print(f\"\\nCNN Layers: {cnn_layers}, FC Layers: {fc_layers}, Filters: {filters}, FC Units: {fc_units}\")\n",
        "\n",
        "            optimizer = SGD(learning_rate=0.01, momentum=0.9)\n",
        "\n",
        "            # Build model\n",
        "            cnn = Sequential()\n",
        "            cnn.add(Conv2D(filters, (3, 3), activation='relu', input_shape=(28, 28, 1)))\n",
        "            cnn.add(MaxPooling2D(pool_size=(2, 2), strides=(2, 2)))\n",
        "\n",
        "            # Add additional CNN layers if applicable\n",
        "            for _ in range(cnn_layers - 1):\n",
        "                cnn.add(Conv2D(filters, (3, 3), activation='relu'))\n",
        "                cnn.add(MaxPooling2D(pool_size=(2, 2)))\n",
        "\n",
        "            cnn.add(Flatten())\n",
        "\n",
        "            # Add FC layers\n",
        "            for _ in range(fc_layers):\n",
        "                cnn.add(Dense(fc_units, activation='relu'))\n",
        "\n",
        "            cnn.add(Dense(10, activation='softmax'))  # Output layer\n",
        "\n",
        "            cnn.compile(optimizer=optimizer, loss='categorical_crossentropy', metrics=['accuracy'])\n",
        "\n",
        "            # Train model\n",
        "            history = cnn.fit(x_train, y_train_cat, batch_size=32, epochs=12, validation_data=(x_test, y_test_cat), shuffle=True)\n",
        "\n",
        "            # Print training report\n",
        "            print(\"\\n===== Training Report =====\")\n",
        "            summarize_results(cnn, history, 12, 32, (x_test, y_test_cat))"
      ],
      "metadata": {
        "id": "jIy1E_TXIfjP",
        "colab": {
          "base_uri": "https://localhost:8080/",
          "height": 1000
        },
        "outputId": "44496dff-2eea-450b-dd10-111127e81347",
        "collapsed": true
      },
      "execution_count": null,
      "outputs": [
        {
          "output_type": "stream",
          "name": "stdout",
          "text": [
            "\n",
            "CNN Layers: 1, FC Layers: 1, Filters: 32, FC Units: 64\n",
            "Epoch 1/12\n",
            "\u001b[1m1875/1875\u001b[0m \u001b[32m━━━━━━━━━━━━━━━━━━━━\u001b[0m\u001b[37m\u001b[0m \u001b[1m40s\u001b[0m 21ms/step - accuracy: 0.8663 - loss: 0.4503 - val_accuracy: 0.9641 - val_loss: 0.1098\n",
            "Epoch 2/12\n",
            "\u001b[1m1875/1875\u001b[0m \u001b[32m━━━━━━━━━━━━━━━━━━━━\u001b[0m\u001b[37m\u001b[0m \u001b[1m40s\u001b[0m 20ms/step - accuracy: 0.9740 - loss: 0.0850 - val_accuracy: 0.9789 - val_loss: 0.0588\n",
            "Epoch 3/12\n",
            "\u001b[1m1875/1875\u001b[0m \u001b[32m━━━━━━━━━━━━━━━━━━━━\u001b[0m\u001b[37m\u001b[0m \u001b[1m44s\u001b[0m 22ms/step - accuracy: 0.9851 - loss: 0.0507 - val_accuracy: 0.9816 - val_loss: 0.0534\n",
            "Epoch 4/12\n",
            "\u001b[1m1875/1875\u001b[0m \u001b[32m━━━━━━━━━━━━━━━━━━━━\u001b[0m\u001b[37m\u001b[0m \u001b[1m37s\u001b[0m 20ms/step - accuracy: 0.9891 - loss: 0.0371 - val_accuracy: 0.9830 - val_loss: 0.0511\n",
            "Epoch 5/12\n",
            "\u001b[1m1875/1875\u001b[0m \u001b[32m━━━━━━━━━━━━━━━━━━━━\u001b[0m\u001b[37m\u001b[0m \u001b[1m46s\u001b[0m 22ms/step - accuracy: 0.9920 - loss: 0.0270 - val_accuracy: 0.9863 - val_loss: 0.0415\n",
            "Epoch 6/12\n",
            "\u001b[1m1875/1875\u001b[0m \u001b[32m━━━━━━━━━━━━━━━━━━━━\u001b[0m\u001b[37m\u001b[0m \u001b[1m35s\u001b[0m 19ms/step - accuracy: 0.9939 - loss: 0.0209 - val_accuracy: 0.9853 - val_loss: 0.0471\n",
            "Epoch 7/12\n",
            "\u001b[1m1875/1875\u001b[0m \u001b[32m━━━━━━━━━━━━━━━━━━━━\u001b[0m\u001b[37m\u001b[0m \u001b[1m42s\u001b[0m 22ms/step - accuracy: 0.9953 - loss: 0.0164 - val_accuracy: 0.9872 - val_loss: 0.0438\n",
            "Epoch 8/12\n",
            "\u001b[1m1875/1875\u001b[0m \u001b[32m━━━━━━━━━━━━━━━━━━━━\u001b[0m\u001b[37m\u001b[0m \u001b[1m77s\u001b[0m 19ms/step - accuracy: 0.9966 - loss: 0.0126 - val_accuracy: 0.9868 - val_loss: 0.0429\n",
            "Epoch 9/12\n",
            "\u001b[1m1875/1875\u001b[0m \u001b[32m━━━━━━━━━━━━━━━━━━━━\u001b[0m\u001b[37m\u001b[0m \u001b[1m45s\u001b[0m 22ms/step - accuracy: 0.9982 - loss: 0.0077 - val_accuracy: 0.9860 - val_loss: 0.0432\n",
            "Epoch 10/12\n",
            "\u001b[1m1875/1875\u001b[0m \u001b[32m━━━━━━━━━━━━━━━━━━━━\u001b[0m\u001b[37m\u001b[0m \u001b[1m38s\u001b[0m 20ms/step - accuracy: 0.9986 - loss: 0.0058 - val_accuracy: 0.9875 - val_loss: 0.0438\n",
            "Epoch 11/12\n",
            "\u001b[1m1875/1875\u001b[0m \u001b[32m━━━━━━━━━━━━━━━━━━━━\u001b[0m\u001b[37m\u001b[0m \u001b[1m38s\u001b[0m 18ms/step - accuracy: 0.9987 - loss: 0.0056 - val_accuracy: 0.9868 - val_loss: 0.0466\n",
            "Epoch 12/12\n",
            "\u001b[1m1875/1875\u001b[0m \u001b[32m━━━━━━━━━━━━━━━━━━━━\u001b[0m\u001b[37m\u001b[0m \u001b[1m31s\u001b[0m 17ms/step - accuracy: 0.9994 - loss: 0.0032 - val_accuracy: 0.9867 - val_loss: 0.0451\n",
            "\n",
            "===== Training Report =====\n",
            "\n",
            "===== Model Performance Summary =====\n",
            "Epochs: 12, Batch Size: 32\n",
            "Final Training Accuracy: 99.94%\n",
            "First 5 Epochs' Accuracy: [0.9279999732971191, 0.9762333035469055, 0.984749972820282, 0.9888499975204468, 0.9912999868392944]\n",
            "Total Model Parameters: 347146\n",
            "Training time tracking not available.\n",
            "Avg Test Time per Epoch: 0.22 seconds\n",
            "Optimizer Used: SGD\n",
            "Learning Rate: 0.009999999776482582\n",
            "Optimizer Settings: {'name': 'SGD', 'learning_rate': 0.009999999776482582, 'weight_decay': None, 'clipnorm': None, 'global_clipnorm': None, 'clipvalue': None, 'use_ema': False, 'ema_momentum': 0.99, 'ema_overwrite_frequency': None, 'loss_scale_factor': None, 'gradient_accumulation_steps': None, 'momentum': 0.9, 'nesterov': False}\n",
            "\n",
            "===== Model Layers =====\n"
          ]
        },
        {
          "output_type": "display_data",
          "data": {
            "text/plain": [
              "\u001b[1mModel: \"sequential_2\"\u001b[0m\n"
            ],
            "text/html": [
              "<pre style=\"white-space:pre;overflow-x:auto;line-height:normal;font-family:Menlo,'DejaVu Sans Mono',consolas,'Courier New',monospace\"><span style=\"font-weight: bold\">Model: \"sequential_2\"</span>\n",
              "</pre>\n"
            ]
          },
          "metadata": {}
        },
        {
          "output_type": "display_data",
          "data": {
            "text/plain": [
              "┏━━━━━━━━━━━━━━━━━━━━━━━━━━━━━━━━━┳━━━━━━━━━━━━━━━━━━━━━━━━┳━━━━━━━━━━━━━━━┓\n",
              "┃\u001b[1m \u001b[0m\u001b[1mLayer (type)                   \u001b[0m\u001b[1m \u001b[0m┃\u001b[1m \u001b[0m\u001b[1mOutput Shape          \u001b[0m\u001b[1m \u001b[0m┃\u001b[1m \u001b[0m\u001b[1m      Param #\u001b[0m\u001b[1m \u001b[0m┃\n",
              "┡━━━━━━━━━━━━━━━━━━━━━━━━━━━━━━━━━╇━━━━━━━━━━━━━━━━━━━━━━━━╇━━━━━━━━━━━━━━━┩\n",
              "│ conv2d_2 (\u001b[38;5;33mConv2D\u001b[0m)               │ (\u001b[38;5;45mNone\u001b[0m, \u001b[38;5;34m26\u001b[0m, \u001b[38;5;34m26\u001b[0m, \u001b[38;5;34m32\u001b[0m)     │           \u001b[38;5;34m320\u001b[0m │\n",
              "├─────────────────────────────────┼────────────────────────┼───────────────┤\n",
              "│ max_pooling2d_2 (\u001b[38;5;33mMaxPooling2D\u001b[0m)  │ (\u001b[38;5;45mNone\u001b[0m, \u001b[38;5;34m13\u001b[0m, \u001b[38;5;34m13\u001b[0m, \u001b[38;5;34m32\u001b[0m)     │             \u001b[38;5;34m0\u001b[0m │\n",
              "├─────────────────────────────────┼────────────────────────┼───────────────┤\n",
              "│ flatten_2 (\u001b[38;5;33mFlatten\u001b[0m)             │ (\u001b[38;5;45mNone\u001b[0m, \u001b[38;5;34m5408\u001b[0m)           │             \u001b[38;5;34m0\u001b[0m │\n",
              "├─────────────────────────────────┼────────────────────────┼───────────────┤\n",
              "│ dense_4 (\u001b[38;5;33mDense\u001b[0m)                 │ (\u001b[38;5;45mNone\u001b[0m, \u001b[38;5;34m64\u001b[0m)             │       \u001b[38;5;34m346,176\u001b[0m │\n",
              "├─────────────────────────────────┼────────────────────────┼───────────────┤\n",
              "│ dense_5 (\u001b[38;5;33mDense\u001b[0m)                 │ (\u001b[38;5;45mNone\u001b[0m, \u001b[38;5;34m10\u001b[0m)             │           \u001b[38;5;34m650\u001b[0m │\n",
              "└─────────────────────────────────┴────────────────────────┴───────────────┘\n"
            ],
            "text/html": [
              "<pre style=\"white-space:pre;overflow-x:auto;line-height:normal;font-family:Menlo,'DejaVu Sans Mono',consolas,'Courier New',monospace\">┏━━━━━━━━━━━━━━━━━━━━━━━━━━━━━━━━━┳━━━━━━━━━━━━━━━━━━━━━━━━┳━━━━━━━━━━━━━━━┓\n",
              "┃<span style=\"font-weight: bold\"> Layer (type)                    </span>┃<span style=\"font-weight: bold\"> Output Shape           </span>┃<span style=\"font-weight: bold\">       Param # </span>┃\n",
              "┡━━━━━━━━━━━━━━━━━━━━━━━━━━━━━━━━━╇━━━━━━━━━━━━━━━━━━━━━━━━╇━━━━━━━━━━━━━━━┩\n",
              "│ conv2d_2 (<span style=\"color: #0087ff; text-decoration-color: #0087ff\">Conv2D</span>)               │ (<span style=\"color: #00d7ff; text-decoration-color: #00d7ff\">None</span>, <span style=\"color: #00af00; text-decoration-color: #00af00\">26</span>, <span style=\"color: #00af00; text-decoration-color: #00af00\">26</span>, <span style=\"color: #00af00; text-decoration-color: #00af00\">32</span>)     │           <span style=\"color: #00af00; text-decoration-color: #00af00\">320</span> │\n",
              "├─────────────────────────────────┼────────────────────────┼───────────────┤\n",
              "│ max_pooling2d_2 (<span style=\"color: #0087ff; text-decoration-color: #0087ff\">MaxPooling2D</span>)  │ (<span style=\"color: #00d7ff; text-decoration-color: #00d7ff\">None</span>, <span style=\"color: #00af00; text-decoration-color: #00af00\">13</span>, <span style=\"color: #00af00; text-decoration-color: #00af00\">13</span>, <span style=\"color: #00af00; text-decoration-color: #00af00\">32</span>)     │             <span style=\"color: #00af00; text-decoration-color: #00af00\">0</span> │\n",
              "├─────────────────────────────────┼────────────────────────┼───────────────┤\n",
              "│ flatten_2 (<span style=\"color: #0087ff; text-decoration-color: #0087ff\">Flatten</span>)             │ (<span style=\"color: #00d7ff; text-decoration-color: #00d7ff\">None</span>, <span style=\"color: #00af00; text-decoration-color: #00af00\">5408</span>)           │             <span style=\"color: #00af00; text-decoration-color: #00af00\">0</span> │\n",
              "├─────────────────────────────────┼────────────────────────┼───────────────┤\n",
              "│ dense_4 (<span style=\"color: #0087ff; text-decoration-color: #0087ff\">Dense</span>)                 │ (<span style=\"color: #00d7ff; text-decoration-color: #00d7ff\">None</span>, <span style=\"color: #00af00; text-decoration-color: #00af00\">64</span>)             │       <span style=\"color: #00af00; text-decoration-color: #00af00\">346,176</span> │\n",
              "├─────────────────────────────────┼────────────────────────┼───────────────┤\n",
              "│ dense_5 (<span style=\"color: #0087ff; text-decoration-color: #0087ff\">Dense</span>)                 │ (<span style=\"color: #00d7ff; text-decoration-color: #00d7ff\">None</span>, <span style=\"color: #00af00; text-decoration-color: #00af00\">10</span>)             │           <span style=\"color: #00af00; text-decoration-color: #00af00\">650</span> │\n",
              "└─────────────────────────────────┴────────────────────────┴───────────────┘\n",
              "</pre>\n"
            ]
          },
          "metadata": {}
        },
        {
          "output_type": "display_data",
          "data": {
            "text/plain": [
              "\u001b[1m Total params: \u001b[0m\u001b[38;5;34m694,294\u001b[0m (2.65 MB)\n"
            ],
            "text/html": [
              "<pre style=\"white-space:pre;overflow-x:auto;line-height:normal;font-family:Menlo,'DejaVu Sans Mono',consolas,'Courier New',monospace\"><span style=\"font-weight: bold\"> Total params: </span><span style=\"color: #00af00; text-decoration-color: #00af00\">694,294</span> (2.65 MB)\n",
              "</pre>\n"
            ]
          },
          "metadata": {}
        },
        {
          "output_type": "display_data",
          "data": {
            "text/plain": [
              "\u001b[1m Trainable params: \u001b[0m\u001b[38;5;34m347,146\u001b[0m (1.32 MB)\n"
            ],
            "text/html": [
              "<pre style=\"white-space:pre;overflow-x:auto;line-height:normal;font-family:Menlo,'DejaVu Sans Mono',consolas,'Courier New',monospace\"><span style=\"font-weight: bold\"> Trainable params: </span><span style=\"color: #00af00; text-decoration-color: #00af00\">347,146</span> (1.32 MB)\n",
              "</pre>\n"
            ]
          },
          "metadata": {}
        },
        {
          "output_type": "display_data",
          "data": {
            "text/plain": [
              "\u001b[1m Non-trainable params: \u001b[0m\u001b[38;5;34m0\u001b[0m (0.00 B)\n"
            ],
            "text/html": [
              "<pre style=\"white-space:pre;overflow-x:auto;line-height:normal;font-family:Menlo,'DejaVu Sans Mono',consolas,'Courier New',monospace\"><span style=\"font-weight: bold\"> Non-trainable params: </span><span style=\"color: #00af00; text-decoration-color: #00af00\">0</span> (0.00 B)\n",
              "</pre>\n"
            ]
          },
          "metadata": {}
        },
        {
          "output_type": "display_data",
          "data": {
            "text/plain": [
              "\u001b[1m Optimizer params: \u001b[0m\u001b[38;5;34m347,148\u001b[0m (1.32 MB)\n"
            ],
            "text/html": [
              "<pre style=\"white-space:pre;overflow-x:auto;line-height:normal;font-family:Menlo,'DejaVu Sans Mono',consolas,'Courier New',monospace\"><span style=\"font-weight: bold\"> Optimizer params: </span><span style=\"color: #00af00; text-decoration-color: #00af00\">347,148</span> (1.32 MB)\n",
              "</pre>\n"
            ]
          },
          "metadata": {}
        },
        {
          "output_type": "stream",
          "name": "stdout",
          "text": [
            "\n",
            "CNN Layers: 2, FC Layers: 2, Filters: 64, FC Units: 128\n",
            "Epoch 1/12\n",
            "\u001b[1m1875/1875\u001b[0m \u001b[32m━━━━━━━━━━━━━━━━━━━━\u001b[0m\u001b[37m\u001b[0m \u001b[1m95s\u001b[0m 50ms/step - accuracy: 0.8350 - loss: 0.4890 - val_accuracy: 0.9836 - val_loss: 0.0555\n",
            "Epoch 2/12\n",
            "\u001b[1m1875/1875\u001b[0m \u001b[32m━━━━━━━━━━━━━━━━━━━━\u001b[0m\u001b[37m\u001b[0m \u001b[1m140s\u001b[0m 49ms/step - accuracy: 0.9820 - loss: 0.0590 - val_accuracy: 0.9872 - val_loss: 0.0371\n",
            "Epoch 3/12\n",
            "\u001b[1m1875/1875\u001b[0m \u001b[32m━━━━━━━━━━━━━━━━━━━━\u001b[0m\u001b[37m\u001b[0m \u001b[1m141s\u001b[0m 48ms/step - accuracy: 0.9884 - loss: 0.0374 - val_accuracy: 0.9877 - val_loss: 0.0372\n",
            "Epoch 4/12\n",
            "\u001b[1m1875/1875\u001b[0m \u001b[32m━━━━━━━━━━━━━━━━━━━━\u001b[0m\u001b[37m\u001b[0m \u001b[1m137s\u001b[0m 46ms/step - accuracy: 0.9922 - loss: 0.0259 - val_accuracy: 0.9899 - val_loss: 0.0315\n",
            "Epoch 5/12\n",
            "\u001b[1m1875/1875\u001b[0m \u001b[32m━━━━━━━━━━━━━━━━━━━━\u001b[0m\u001b[37m\u001b[0m \u001b[1m86s\u001b[0m 46ms/step - accuracy: 0.9936 - loss: 0.0197 - val_accuracy: 0.9906 - val_loss: 0.0311\n",
            "Epoch 6/12\n",
            "\u001b[1m1875/1875\u001b[0m \u001b[32m━━━━━━━━━━━━━━━━━━━━\u001b[0m\u001b[37m\u001b[0m \u001b[1m152s\u001b[0m 51ms/step - accuracy: 0.9949 - loss: 0.0154 - val_accuracy: 0.9900 - val_loss: 0.0288\n",
            "Epoch 7/12\n",
            "\u001b[1m1875/1875\u001b[0m \u001b[32m━━━━━━━━━━━━━━━━━━━━\u001b[0m\u001b[37m\u001b[0m \u001b[1m133s\u001b[0m 47ms/step - accuracy: 0.9965 - loss: 0.0125 - val_accuracy: 0.9907 - val_loss: 0.0300\n",
            "Epoch 8/12\n",
            "\u001b[1m1875/1875\u001b[0m \u001b[32m━━━━━━━━━━━━━━━━━━━━\u001b[0m\u001b[37m\u001b[0m \u001b[1m138s\u001b[0m 44ms/step - accuracy: 0.9972 - loss: 0.0085 - val_accuracy: 0.9908 - val_loss: 0.0321\n",
            "Epoch 9/12\n",
            "\u001b[1m1875/1875\u001b[0m \u001b[32m━━━━━━━━━━━━━━━━━━━━\u001b[0m\u001b[37m\u001b[0m \u001b[1m143s\u001b[0m 45ms/step - accuracy: 0.9977 - loss: 0.0073 - val_accuracy: 0.9901 - val_loss: 0.0314\n",
            "Epoch 10/12\n",
            "\u001b[1m1875/1875\u001b[0m \u001b[32m━━━━━━━━━━━━━━━━━━━━\u001b[0m\u001b[37m\u001b[0m \u001b[1m143s\u001b[0m 46ms/step - accuracy: 0.9983 - loss: 0.0058 - val_accuracy: 0.9914 - val_loss: 0.0332\n",
            "Epoch 11/12\n",
            "\u001b[1m1875/1875\u001b[0m \u001b[32m━━━━━━━━━━━━━━━━━━━━\u001b[0m\u001b[37m\u001b[0m \u001b[1m141s\u001b[0m 45ms/step - accuracy: 0.9988 - loss: 0.0041 - val_accuracy: 0.9929 - val_loss: 0.0301\n",
            "Epoch 12/12\n",
            "\u001b[1m1875/1875\u001b[0m \u001b[32m━━━━━━━━━━━━━━━━━━━━\u001b[0m\u001b[37m\u001b[0m \u001b[1m140s\u001b[0m 44ms/step - accuracy: 0.9990 - loss: 0.0034 - val_accuracy: 0.9922 - val_loss: 0.0327\n",
            "\n",
            "===== Training Report =====\n",
            "\n",
            "===== Model Performance Summary =====\n",
            "Epochs: 12, Batch Size: 32\n",
            "Final Training Accuracy: 99.87%\n",
            "First 5 Epochs' Accuracy: [0.9342333078384399, 0.9831333160400391, 0.9886999726295471, 0.9918833374977112, 0.993399977684021]\n",
            "Total Model Parameters: 260298\n",
            "Training time tracking not available.\n",
            "Avg Test Time per Epoch: 0.29 seconds\n",
            "Optimizer Used: SGD\n",
            "Learning Rate: 0.009999999776482582\n",
            "Optimizer Settings: {'name': 'SGD', 'learning_rate': 0.009999999776482582, 'weight_decay': None, 'clipnorm': None, 'global_clipnorm': None, 'clipvalue': None, 'use_ema': False, 'ema_momentum': 0.99, 'ema_overwrite_frequency': None, 'loss_scale_factor': None, 'gradient_accumulation_steps': None, 'momentum': 0.9, 'nesterov': False}\n",
            "\n",
            "===== Model Layers =====\n"
          ]
        },
        {
          "output_type": "display_data",
          "data": {
            "text/plain": [
              "\u001b[1mModel: \"sequential_3\"\u001b[0m\n"
            ],
            "text/html": [
              "<pre style=\"white-space:pre;overflow-x:auto;line-height:normal;font-family:Menlo,'DejaVu Sans Mono',consolas,'Courier New',monospace\"><span style=\"font-weight: bold\">Model: \"sequential_3\"</span>\n",
              "</pre>\n"
            ]
          },
          "metadata": {}
        },
        {
          "output_type": "display_data",
          "data": {
            "text/plain": [
              "┏━━━━━━━━━━━━━━━━━━━━━━━━━━━━━━━━━┳━━━━━━━━━━━━━━━━━━━━━━━━┳━━━━━━━━━━━━━━━┓\n",
              "┃\u001b[1m \u001b[0m\u001b[1mLayer (type)                   \u001b[0m\u001b[1m \u001b[0m┃\u001b[1m \u001b[0m\u001b[1mOutput Shape          \u001b[0m\u001b[1m \u001b[0m┃\u001b[1m \u001b[0m\u001b[1m      Param #\u001b[0m\u001b[1m \u001b[0m┃\n",
              "┡━━━━━━━━━━━━━━━━━━━━━━━━━━━━━━━━━╇━━━━━━━━━━━━━━━━━━━━━━━━╇━━━━━━━━━━━━━━━┩\n",
              "│ conv2d_3 (\u001b[38;5;33mConv2D\u001b[0m)               │ (\u001b[38;5;45mNone\u001b[0m, \u001b[38;5;34m26\u001b[0m, \u001b[38;5;34m26\u001b[0m, \u001b[38;5;34m64\u001b[0m)     │           \u001b[38;5;34m640\u001b[0m │\n",
              "├─────────────────────────────────┼────────────────────────┼───────────────┤\n",
              "│ max_pooling2d_3 (\u001b[38;5;33mMaxPooling2D\u001b[0m)  │ (\u001b[38;5;45mNone\u001b[0m, \u001b[38;5;34m13\u001b[0m, \u001b[38;5;34m13\u001b[0m, \u001b[38;5;34m64\u001b[0m)     │             \u001b[38;5;34m0\u001b[0m │\n",
              "├─────────────────────────────────┼────────────────────────┼───────────────┤\n",
              "│ conv2d_4 (\u001b[38;5;33mConv2D\u001b[0m)               │ (\u001b[38;5;45mNone\u001b[0m, \u001b[38;5;34m11\u001b[0m, \u001b[38;5;34m11\u001b[0m, \u001b[38;5;34m64\u001b[0m)     │        \u001b[38;5;34m36,928\u001b[0m │\n",
              "├─────────────────────────────────┼────────────────────────┼───────────────┤\n",
              "│ max_pooling2d_4 (\u001b[38;5;33mMaxPooling2D\u001b[0m)  │ (\u001b[38;5;45mNone\u001b[0m, \u001b[38;5;34m5\u001b[0m, \u001b[38;5;34m5\u001b[0m, \u001b[38;5;34m64\u001b[0m)       │             \u001b[38;5;34m0\u001b[0m │\n",
              "├─────────────────────────────────┼────────────────────────┼───────────────┤\n",
              "│ flatten_3 (\u001b[38;5;33mFlatten\u001b[0m)             │ (\u001b[38;5;45mNone\u001b[0m, \u001b[38;5;34m1600\u001b[0m)           │             \u001b[38;5;34m0\u001b[0m │\n",
              "├─────────────────────────────────┼────────────────────────┼───────────────┤\n",
              "│ dense_6 (\u001b[38;5;33mDense\u001b[0m)                 │ (\u001b[38;5;45mNone\u001b[0m, \u001b[38;5;34m128\u001b[0m)            │       \u001b[38;5;34m204,928\u001b[0m │\n",
              "├─────────────────────────────────┼────────────────────────┼───────────────┤\n",
              "│ dense_7 (\u001b[38;5;33mDense\u001b[0m)                 │ (\u001b[38;5;45mNone\u001b[0m, \u001b[38;5;34m128\u001b[0m)            │        \u001b[38;5;34m16,512\u001b[0m │\n",
              "├─────────────────────────────────┼────────────────────────┼───────────────┤\n",
              "│ dense_8 (\u001b[38;5;33mDense\u001b[0m)                 │ (\u001b[38;5;45mNone\u001b[0m, \u001b[38;5;34m10\u001b[0m)             │         \u001b[38;5;34m1,290\u001b[0m │\n",
              "└─────────────────────────────────┴────────────────────────┴───────────────┘\n"
            ],
            "text/html": [
              "<pre style=\"white-space:pre;overflow-x:auto;line-height:normal;font-family:Menlo,'DejaVu Sans Mono',consolas,'Courier New',monospace\">┏━━━━━━━━━━━━━━━━━━━━━━━━━━━━━━━━━┳━━━━━━━━━━━━━━━━━━━━━━━━┳━━━━━━━━━━━━━━━┓\n",
              "┃<span style=\"font-weight: bold\"> Layer (type)                    </span>┃<span style=\"font-weight: bold\"> Output Shape           </span>┃<span style=\"font-weight: bold\">       Param # </span>┃\n",
              "┡━━━━━━━━━━━━━━━━━━━━━━━━━━━━━━━━━╇━━━━━━━━━━━━━━━━━━━━━━━━╇━━━━━━━━━━━━━━━┩\n",
              "│ conv2d_3 (<span style=\"color: #0087ff; text-decoration-color: #0087ff\">Conv2D</span>)               │ (<span style=\"color: #00d7ff; text-decoration-color: #00d7ff\">None</span>, <span style=\"color: #00af00; text-decoration-color: #00af00\">26</span>, <span style=\"color: #00af00; text-decoration-color: #00af00\">26</span>, <span style=\"color: #00af00; text-decoration-color: #00af00\">64</span>)     │           <span style=\"color: #00af00; text-decoration-color: #00af00\">640</span> │\n",
              "├─────────────────────────────────┼────────────────────────┼───────────────┤\n",
              "│ max_pooling2d_3 (<span style=\"color: #0087ff; text-decoration-color: #0087ff\">MaxPooling2D</span>)  │ (<span style=\"color: #00d7ff; text-decoration-color: #00d7ff\">None</span>, <span style=\"color: #00af00; text-decoration-color: #00af00\">13</span>, <span style=\"color: #00af00; text-decoration-color: #00af00\">13</span>, <span style=\"color: #00af00; text-decoration-color: #00af00\">64</span>)     │             <span style=\"color: #00af00; text-decoration-color: #00af00\">0</span> │\n",
              "├─────────────────────────────────┼────────────────────────┼───────────────┤\n",
              "│ conv2d_4 (<span style=\"color: #0087ff; text-decoration-color: #0087ff\">Conv2D</span>)               │ (<span style=\"color: #00d7ff; text-decoration-color: #00d7ff\">None</span>, <span style=\"color: #00af00; text-decoration-color: #00af00\">11</span>, <span style=\"color: #00af00; text-decoration-color: #00af00\">11</span>, <span style=\"color: #00af00; text-decoration-color: #00af00\">64</span>)     │        <span style=\"color: #00af00; text-decoration-color: #00af00\">36,928</span> │\n",
              "├─────────────────────────────────┼────────────────────────┼───────────────┤\n",
              "│ max_pooling2d_4 (<span style=\"color: #0087ff; text-decoration-color: #0087ff\">MaxPooling2D</span>)  │ (<span style=\"color: #00d7ff; text-decoration-color: #00d7ff\">None</span>, <span style=\"color: #00af00; text-decoration-color: #00af00\">5</span>, <span style=\"color: #00af00; text-decoration-color: #00af00\">5</span>, <span style=\"color: #00af00; text-decoration-color: #00af00\">64</span>)       │             <span style=\"color: #00af00; text-decoration-color: #00af00\">0</span> │\n",
              "├─────────────────────────────────┼────────────────────────┼───────────────┤\n",
              "│ flatten_3 (<span style=\"color: #0087ff; text-decoration-color: #0087ff\">Flatten</span>)             │ (<span style=\"color: #00d7ff; text-decoration-color: #00d7ff\">None</span>, <span style=\"color: #00af00; text-decoration-color: #00af00\">1600</span>)           │             <span style=\"color: #00af00; text-decoration-color: #00af00\">0</span> │\n",
              "├─────────────────────────────────┼────────────────────────┼───────────────┤\n",
              "│ dense_6 (<span style=\"color: #0087ff; text-decoration-color: #0087ff\">Dense</span>)                 │ (<span style=\"color: #00d7ff; text-decoration-color: #00d7ff\">None</span>, <span style=\"color: #00af00; text-decoration-color: #00af00\">128</span>)            │       <span style=\"color: #00af00; text-decoration-color: #00af00\">204,928</span> │\n",
              "├─────────────────────────────────┼────────────────────────┼───────────────┤\n",
              "│ dense_7 (<span style=\"color: #0087ff; text-decoration-color: #0087ff\">Dense</span>)                 │ (<span style=\"color: #00d7ff; text-decoration-color: #00d7ff\">None</span>, <span style=\"color: #00af00; text-decoration-color: #00af00\">128</span>)            │        <span style=\"color: #00af00; text-decoration-color: #00af00\">16,512</span> │\n",
              "├─────────────────────────────────┼────────────────────────┼───────────────┤\n",
              "│ dense_8 (<span style=\"color: #0087ff; text-decoration-color: #0087ff\">Dense</span>)                 │ (<span style=\"color: #00d7ff; text-decoration-color: #00d7ff\">None</span>, <span style=\"color: #00af00; text-decoration-color: #00af00\">10</span>)             │         <span style=\"color: #00af00; text-decoration-color: #00af00\">1,290</span> │\n",
              "└─────────────────────────────────┴────────────────────────┴───────────────┘\n",
              "</pre>\n"
            ]
          },
          "metadata": {}
        },
        {
          "output_type": "display_data",
          "data": {
            "text/plain": [
              "\u001b[1m Total params: \u001b[0m\u001b[38;5;34m520,598\u001b[0m (1.99 MB)\n"
            ],
            "text/html": [
              "<pre style=\"white-space:pre;overflow-x:auto;line-height:normal;font-family:Menlo,'DejaVu Sans Mono',consolas,'Courier New',monospace\"><span style=\"font-weight: bold\"> Total params: </span><span style=\"color: #00af00; text-decoration-color: #00af00\">520,598</span> (1.99 MB)\n",
              "</pre>\n"
            ]
          },
          "metadata": {}
        },
        {
          "output_type": "display_data",
          "data": {
            "text/plain": [
              "\u001b[1m Trainable params: \u001b[0m\u001b[38;5;34m260,298\u001b[0m (1016.79 KB)\n"
            ],
            "text/html": [
              "<pre style=\"white-space:pre;overflow-x:auto;line-height:normal;font-family:Menlo,'DejaVu Sans Mono',consolas,'Courier New',monospace\"><span style=\"font-weight: bold\"> Trainable params: </span><span style=\"color: #00af00; text-decoration-color: #00af00\">260,298</span> (1016.79 KB)\n",
              "</pre>\n"
            ]
          },
          "metadata": {}
        },
        {
          "output_type": "display_data",
          "data": {
            "text/plain": [
              "\u001b[1m Non-trainable params: \u001b[0m\u001b[38;5;34m0\u001b[0m (0.00 B)\n"
            ],
            "text/html": [
              "<pre style=\"white-space:pre;overflow-x:auto;line-height:normal;font-family:Menlo,'DejaVu Sans Mono',consolas,'Courier New',monospace\"><span style=\"font-weight: bold\"> Non-trainable params: </span><span style=\"color: #00af00; text-decoration-color: #00af00\">0</span> (0.00 B)\n",
              "</pre>\n"
            ]
          },
          "metadata": {}
        },
        {
          "output_type": "display_data",
          "data": {
            "text/plain": [
              "\u001b[1m Optimizer params: \u001b[0m\u001b[38;5;34m260,300\u001b[0m (1016.80 KB)\n"
            ],
            "text/html": [
              "<pre style=\"white-space:pre;overflow-x:auto;line-height:normal;font-family:Menlo,'DejaVu Sans Mono',consolas,'Courier New',monospace\"><span style=\"font-weight: bold\"> Optimizer params: </span><span style=\"color: #00af00; text-decoration-color: #00af00\">260,300</span> (1016.80 KB)\n",
              "</pre>\n"
            ]
          },
          "metadata": {}
        },
        {
          "output_type": "stream",
          "name": "stdout",
          "text": [
            "\n",
            "CNN Layers: 3, FC Layers: 4, Filters: 32, FC Units: 128\n",
            "Epoch 1/12\n",
            "\u001b[1m1875/1875\u001b[0m \u001b[32m━━━━━━━━━━━━━━━━━━━━\u001b[0m\u001b[37m\u001b[0m \u001b[1m46s\u001b[0m 24ms/step - accuracy: 0.6918 - loss: 0.8737 - val_accuracy: 0.9614 - val_loss: 0.1254\n",
            "Epoch 2/12\n",
            "\u001b[1m1875/1875\u001b[0m \u001b[32m━━━━━━━━━━━━━━━━━━━━\u001b[0m\u001b[37m\u001b[0m \u001b[1m81s\u001b[0m 23ms/step - accuracy: 0.9678 - loss: 0.1075 - val_accuracy: 0.9757 - val_loss: 0.0832\n",
            "Epoch 3/12\n",
            "\u001b[1m1875/1875\u001b[0m \u001b[32m━━━━━━━━━━━━━━━━━━━━\u001b[0m\u001b[37m\u001b[0m \u001b[1m82s\u001b[0m 23ms/step - accuracy: 0.9775 - loss: 0.0770 - val_accuracy: 0.9800 - val_loss: 0.0725\n",
            "Epoch 4/12\n",
            "\u001b[1m1875/1875\u001b[0m \u001b[32m━━━━━━━━━━━━━━━━━━━━\u001b[0m\u001b[37m\u001b[0m \u001b[1m83s\u001b[0m 23ms/step - accuracy: 0.9812 - loss: 0.0613 - val_accuracy: 0.9823 - val_loss: 0.0605\n",
            "Epoch 5/12\n",
            "\u001b[1m1875/1875\u001b[0m \u001b[32m━━━━━━━━━━━━━━━━━━━━\u001b[0m\u001b[37m\u001b[0m \u001b[1m43s\u001b[0m 23ms/step - accuracy: 0.9841 - loss: 0.0527 - val_accuracy: 0.9621 - val_loss: 0.1254\n",
            "Epoch 6/12\n",
            "\u001b[1m1875/1875\u001b[0m \u001b[32m━━━━━━━━━━━━━━━━━━━━\u001b[0m\u001b[37m\u001b[0m \u001b[1m44s\u001b[0m 24ms/step - accuracy: 0.9862 - loss: 0.0445 - val_accuracy: 0.9854 - val_loss: 0.0535\n",
            "Epoch 7/12\n",
            "\u001b[1m1875/1875\u001b[0m \u001b[32m━━━━━━━━━━━━━━━━━━━━\u001b[0m\u001b[37m\u001b[0m \u001b[1m81s\u001b[0m 23ms/step - accuracy: 0.9891 - loss: 0.0368 - val_accuracy: 0.9813 - val_loss: 0.0721\n",
            "Epoch 8/12\n",
            "\u001b[1m1875/1875\u001b[0m \u001b[32m━━━━━━━━━━━━━━━━━━━━\u001b[0m\u001b[37m\u001b[0m \u001b[1m82s\u001b[0m 23ms/step - accuracy: 0.9900 - loss: 0.0333 - val_accuracy: 0.9818 - val_loss: 0.0656\n",
            "Epoch 9/12\n",
            "\u001b[1m1875/1875\u001b[0m \u001b[32m━━━━━━━━━━━━━━━━━━━━\u001b[0m\u001b[37m\u001b[0m \u001b[1m83s\u001b[0m 23ms/step - accuracy: 0.9908 - loss: 0.0311 - val_accuracy: 0.9858 - val_loss: 0.0520\n",
            "Epoch 10/12\n",
            "\u001b[1m1875/1875\u001b[0m \u001b[32m━━━━━━━━━━━━━━━━━━━━\u001b[0m\u001b[37m\u001b[0m \u001b[1m81s\u001b[0m 23ms/step - accuracy: 0.9916 - loss: 0.0269 - val_accuracy: 0.9848 - val_loss: 0.0595\n",
            "Epoch 11/12\n",
            "\u001b[1m1875/1875\u001b[0m \u001b[32m━━━━━━━━━━━━━━━━━━━━\u001b[0m\u001b[37m\u001b[0m \u001b[1m82s\u001b[0m 23ms/step - accuracy: 0.9923 - loss: 0.0235 - val_accuracy: 0.9876 - val_loss: 0.0561\n",
            "Epoch 12/12\n",
            "\u001b[1m1875/1875\u001b[0m \u001b[32m━━━━━━━━━━━━━━━━━━━━\u001b[0m\u001b[37m\u001b[0m \u001b[1m83s\u001b[0m 24ms/step - accuracy: 0.9921 - loss: 0.0254 - val_accuracy: 0.9817 - val_loss: 0.0741\n",
            "\n",
            "===== Training Report =====\n",
            "\n",
            "===== Model Performance Summary =====\n",
            "Epochs: 12, Batch Size: 32\n",
            "Final Training Accuracy: 99.16%\n",
            "First 5 Epochs' Accuracy: [0.8658666610717773, 0.9697333574295044, 0.9777500033378601, 0.9818333387374878, 0.984333336353302]\n",
            "Total Model Parameters: 73866\n",
            "Training time tracking not available.\n",
            "Avg Test Time per Epoch: 0.22 seconds\n",
            "Optimizer Used: SGD\n",
            "Learning Rate: 0.009999999776482582\n",
            "Optimizer Settings: {'name': 'SGD', 'learning_rate': 0.009999999776482582, 'weight_decay': None, 'clipnorm': None, 'global_clipnorm': None, 'clipvalue': None, 'use_ema': False, 'ema_momentum': 0.99, 'ema_overwrite_frequency': None, 'loss_scale_factor': None, 'gradient_accumulation_steps': None, 'momentum': 0.9, 'nesterov': False}\n",
            "\n",
            "===== Model Layers =====\n"
          ]
        },
        {
          "output_type": "display_data",
          "data": {
            "text/plain": [
              "\u001b[1mModel: \"sequential_4\"\u001b[0m\n"
            ],
            "text/html": [
              "<pre style=\"white-space:pre;overflow-x:auto;line-height:normal;font-family:Menlo,'DejaVu Sans Mono',consolas,'Courier New',monospace\"><span style=\"font-weight: bold\">Model: \"sequential_4\"</span>\n",
              "</pre>\n"
            ]
          },
          "metadata": {}
        },
        {
          "output_type": "display_data",
          "data": {
            "text/plain": [
              "┏━━━━━━━━━━━━━━━━━━━━━━━━━━━━━━━━━┳━━━━━━━━━━━━━━━━━━━━━━━━┳━━━━━━━━━━━━━━━┓\n",
              "┃\u001b[1m \u001b[0m\u001b[1mLayer (type)                   \u001b[0m\u001b[1m \u001b[0m┃\u001b[1m \u001b[0m\u001b[1mOutput Shape          \u001b[0m\u001b[1m \u001b[0m┃\u001b[1m \u001b[0m\u001b[1m      Param #\u001b[0m\u001b[1m \u001b[0m┃\n",
              "┡━━━━━━━━━━━━━━━━━━━━━━━━━━━━━━━━━╇━━━━━━━━━━━━━━━━━━━━━━━━╇━━━━━━━━━━━━━━━┩\n",
              "│ conv2d_5 (\u001b[38;5;33mConv2D\u001b[0m)               │ (\u001b[38;5;45mNone\u001b[0m, \u001b[38;5;34m26\u001b[0m, \u001b[38;5;34m26\u001b[0m, \u001b[38;5;34m32\u001b[0m)     │           \u001b[38;5;34m320\u001b[0m │\n",
              "├─────────────────────────────────┼────────────────────────┼───────────────┤\n",
              "│ max_pooling2d_5 (\u001b[38;5;33mMaxPooling2D\u001b[0m)  │ (\u001b[38;5;45mNone\u001b[0m, \u001b[38;5;34m13\u001b[0m, \u001b[38;5;34m13\u001b[0m, \u001b[38;5;34m32\u001b[0m)     │             \u001b[38;5;34m0\u001b[0m │\n",
              "├─────────────────────────────────┼────────────────────────┼───────────────┤\n",
              "│ conv2d_6 (\u001b[38;5;33mConv2D\u001b[0m)               │ (\u001b[38;5;45mNone\u001b[0m, \u001b[38;5;34m11\u001b[0m, \u001b[38;5;34m11\u001b[0m, \u001b[38;5;34m32\u001b[0m)     │         \u001b[38;5;34m9,248\u001b[0m │\n",
              "├─────────────────────────────────┼────────────────────────┼───────────────┤\n",
              "│ max_pooling2d_6 (\u001b[38;5;33mMaxPooling2D\u001b[0m)  │ (\u001b[38;5;45mNone\u001b[0m, \u001b[38;5;34m5\u001b[0m, \u001b[38;5;34m5\u001b[0m, \u001b[38;5;34m32\u001b[0m)       │             \u001b[38;5;34m0\u001b[0m │\n",
              "├─────────────────────────────────┼────────────────────────┼───────────────┤\n",
              "│ conv2d_7 (\u001b[38;5;33mConv2D\u001b[0m)               │ (\u001b[38;5;45mNone\u001b[0m, \u001b[38;5;34m3\u001b[0m, \u001b[38;5;34m3\u001b[0m, \u001b[38;5;34m32\u001b[0m)       │         \u001b[38;5;34m9,248\u001b[0m │\n",
              "├─────────────────────────────────┼────────────────────────┼───────────────┤\n",
              "│ max_pooling2d_7 (\u001b[38;5;33mMaxPooling2D\u001b[0m)  │ (\u001b[38;5;45mNone\u001b[0m, \u001b[38;5;34m1\u001b[0m, \u001b[38;5;34m1\u001b[0m, \u001b[38;5;34m32\u001b[0m)       │             \u001b[38;5;34m0\u001b[0m │\n",
              "├─────────────────────────────────┼────────────────────────┼───────────────┤\n",
              "│ flatten_4 (\u001b[38;5;33mFlatten\u001b[0m)             │ (\u001b[38;5;45mNone\u001b[0m, \u001b[38;5;34m32\u001b[0m)             │             \u001b[38;5;34m0\u001b[0m │\n",
              "├─────────────────────────────────┼────────────────────────┼───────────────┤\n",
              "│ dense_9 (\u001b[38;5;33mDense\u001b[0m)                 │ (\u001b[38;5;45mNone\u001b[0m, \u001b[38;5;34m128\u001b[0m)            │         \u001b[38;5;34m4,224\u001b[0m │\n",
              "├─────────────────────────────────┼────────────────────────┼───────────────┤\n",
              "│ dense_10 (\u001b[38;5;33mDense\u001b[0m)                │ (\u001b[38;5;45mNone\u001b[0m, \u001b[38;5;34m128\u001b[0m)            │        \u001b[38;5;34m16,512\u001b[0m │\n",
              "├─────────────────────────────────┼────────────────────────┼───────────────┤\n",
              "│ dense_11 (\u001b[38;5;33mDense\u001b[0m)                │ (\u001b[38;5;45mNone\u001b[0m, \u001b[38;5;34m128\u001b[0m)            │        \u001b[38;5;34m16,512\u001b[0m │\n",
              "├─────────────────────────────────┼────────────────────────┼───────────────┤\n",
              "│ dense_12 (\u001b[38;5;33mDense\u001b[0m)                │ (\u001b[38;5;45mNone\u001b[0m, \u001b[38;5;34m128\u001b[0m)            │        \u001b[38;5;34m16,512\u001b[0m │\n",
              "├─────────────────────────────────┼────────────────────────┼───────────────┤\n",
              "│ dense_13 (\u001b[38;5;33mDense\u001b[0m)                │ (\u001b[38;5;45mNone\u001b[0m, \u001b[38;5;34m10\u001b[0m)             │         \u001b[38;5;34m1,290\u001b[0m │\n",
              "└─────────────────────────────────┴────────────────────────┴───────────────┘\n"
            ],
            "text/html": [
              "<pre style=\"white-space:pre;overflow-x:auto;line-height:normal;font-family:Menlo,'DejaVu Sans Mono',consolas,'Courier New',monospace\">┏━━━━━━━━━━━━━━━━━━━━━━━━━━━━━━━━━┳━━━━━━━━━━━━━━━━━━━━━━━━┳━━━━━━━━━━━━━━━┓\n",
              "┃<span style=\"font-weight: bold\"> Layer (type)                    </span>┃<span style=\"font-weight: bold\"> Output Shape           </span>┃<span style=\"font-weight: bold\">       Param # </span>┃\n",
              "┡━━━━━━━━━━━━━━━━━━━━━━━━━━━━━━━━━╇━━━━━━━━━━━━━━━━━━━━━━━━╇━━━━━━━━━━━━━━━┩\n",
              "│ conv2d_5 (<span style=\"color: #0087ff; text-decoration-color: #0087ff\">Conv2D</span>)               │ (<span style=\"color: #00d7ff; text-decoration-color: #00d7ff\">None</span>, <span style=\"color: #00af00; text-decoration-color: #00af00\">26</span>, <span style=\"color: #00af00; text-decoration-color: #00af00\">26</span>, <span style=\"color: #00af00; text-decoration-color: #00af00\">32</span>)     │           <span style=\"color: #00af00; text-decoration-color: #00af00\">320</span> │\n",
              "├─────────────────────────────────┼────────────────────────┼───────────────┤\n",
              "│ max_pooling2d_5 (<span style=\"color: #0087ff; text-decoration-color: #0087ff\">MaxPooling2D</span>)  │ (<span style=\"color: #00d7ff; text-decoration-color: #00d7ff\">None</span>, <span style=\"color: #00af00; text-decoration-color: #00af00\">13</span>, <span style=\"color: #00af00; text-decoration-color: #00af00\">13</span>, <span style=\"color: #00af00; text-decoration-color: #00af00\">32</span>)     │             <span style=\"color: #00af00; text-decoration-color: #00af00\">0</span> │\n",
              "├─────────────────────────────────┼────────────────────────┼───────────────┤\n",
              "│ conv2d_6 (<span style=\"color: #0087ff; text-decoration-color: #0087ff\">Conv2D</span>)               │ (<span style=\"color: #00d7ff; text-decoration-color: #00d7ff\">None</span>, <span style=\"color: #00af00; text-decoration-color: #00af00\">11</span>, <span style=\"color: #00af00; text-decoration-color: #00af00\">11</span>, <span style=\"color: #00af00; text-decoration-color: #00af00\">32</span>)     │         <span style=\"color: #00af00; text-decoration-color: #00af00\">9,248</span> │\n",
              "├─────────────────────────────────┼────────────────────────┼───────────────┤\n",
              "│ max_pooling2d_6 (<span style=\"color: #0087ff; text-decoration-color: #0087ff\">MaxPooling2D</span>)  │ (<span style=\"color: #00d7ff; text-decoration-color: #00d7ff\">None</span>, <span style=\"color: #00af00; text-decoration-color: #00af00\">5</span>, <span style=\"color: #00af00; text-decoration-color: #00af00\">5</span>, <span style=\"color: #00af00; text-decoration-color: #00af00\">32</span>)       │             <span style=\"color: #00af00; text-decoration-color: #00af00\">0</span> │\n",
              "├─────────────────────────────────┼────────────────────────┼───────────────┤\n",
              "│ conv2d_7 (<span style=\"color: #0087ff; text-decoration-color: #0087ff\">Conv2D</span>)               │ (<span style=\"color: #00d7ff; text-decoration-color: #00d7ff\">None</span>, <span style=\"color: #00af00; text-decoration-color: #00af00\">3</span>, <span style=\"color: #00af00; text-decoration-color: #00af00\">3</span>, <span style=\"color: #00af00; text-decoration-color: #00af00\">32</span>)       │         <span style=\"color: #00af00; text-decoration-color: #00af00\">9,248</span> │\n",
              "├─────────────────────────────────┼────────────────────────┼───────────────┤\n",
              "│ max_pooling2d_7 (<span style=\"color: #0087ff; text-decoration-color: #0087ff\">MaxPooling2D</span>)  │ (<span style=\"color: #00d7ff; text-decoration-color: #00d7ff\">None</span>, <span style=\"color: #00af00; text-decoration-color: #00af00\">1</span>, <span style=\"color: #00af00; text-decoration-color: #00af00\">1</span>, <span style=\"color: #00af00; text-decoration-color: #00af00\">32</span>)       │             <span style=\"color: #00af00; text-decoration-color: #00af00\">0</span> │\n",
              "├─────────────────────────────────┼────────────────────────┼───────────────┤\n",
              "│ flatten_4 (<span style=\"color: #0087ff; text-decoration-color: #0087ff\">Flatten</span>)             │ (<span style=\"color: #00d7ff; text-decoration-color: #00d7ff\">None</span>, <span style=\"color: #00af00; text-decoration-color: #00af00\">32</span>)             │             <span style=\"color: #00af00; text-decoration-color: #00af00\">0</span> │\n",
              "├─────────────────────────────────┼────────────────────────┼───────────────┤\n",
              "│ dense_9 (<span style=\"color: #0087ff; text-decoration-color: #0087ff\">Dense</span>)                 │ (<span style=\"color: #00d7ff; text-decoration-color: #00d7ff\">None</span>, <span style=\"color: #00af00; text-decoration-color: #00af00\">128</span>)            │         <span style=\"color: #00af00; text-decoration-color: #00af00\">4,224</span> │\n",
              "├─────────────────────────────────┼────────────────────────┼───────────────┤\n",
              "│ dense_10 (<span style=\"color: #0087ff; text-decoration-color: #0087ff\">Dense</span>)                │ (<span style=\"color: #00d7ff; text-decoration-color: #00d7ff\">None</span>, <span style=\"color: #00af00; text-decoration-color: #00af00\">128</span>)            │        <span style=\"color: #00af00; text-decoration-color: #00af00\">16,512</span> │\n",
              "├─────────────────────────────────┼────────────────────────┼───────────────┤\n",
              "│ dense_11 (<span style=\"color: #0087ff; text-decoration-color: #0087ff\">Dense</span>)                │ (<span style=\"color: #00d7ff; text-decoration-color: #00d7ff\">None</span>, <span style=\"color: #00af00; text-decoration-color: #00af00\">128</span>)            │        <span style=\"color: #00af00; text-decoration-color: #00af00\">16,512</span> │\n",
              "├─────────────────────────────────┼────────────────────────┼───────────────┤\n",
              "│ dense_12 (<span style=\"color: #0087ff; text-decoration-color: #0087ff\">Dense</span>)                │ (<span style=\"color: #00d7ff; text-decoration-color: #00d7ff\">None</span>, <span style=\"color: #00af00; text-decoration-color: #00af00\">128</span>)            │        <span style=\"color: #00af00; text-decoration-color: #00af00\">16,512</span> │\n",
              "├─────────────────────────────────┼────────────────────────┼───────────────┤\n",
              "│ dense_13 (<span style=\"color: #0087ff; text-decoration-color: #0087ff\">Dense</span>)                │ (<span style=\"color: #00d7ff; text-decoration-color: #00d7ff\">None</span>, <span style=\"color: #00af00; text-decoration-color: #00af00\">10</span>)             │         <span style=\"color: #00af00; text-decoration-color: #00af00\">1,290</span> │\n",
              "└─────────────────────────────────┴────────────────────────┴───────────────┘\n",
              "</pre>\n"
            ]
          },
          "metadata": {}
        },
        {
          "output_type": "display_data",
          "data": {
            "text/plain": [
              "\u001b[1m Total params: \u001b[0m\u001b[38;5;34m147,734\u001b[0m (577.09 KB)\n"
            ],
            "text/html": [
              "<pre style=\"white-space:pre;overflow-x:auto;line-height:normal;font-family:Menlo,'DejaVu Sans Mono',consolas,'Courier New',monospace\"><span style=\"font-weight: bold\"> Total params: </span><span style=\"color: #00af00; text-decoration-color: #00af00\">147,734</span> (577.09 KB)\n",
              "</pre>\n"
            ]
          },
          "metadata": {}
        },
        {
          "output_type": "display_data",
          "data": {
            "text/plain": [
              "\u001b[1m Trainable params: \u001b[0m\u001b[38;5;34m73,866\u001b[0m (288.54 KB)\n"
            ],
            "text/html": [
              "<pre style=\"white-space:pre;overflow-x:auto;line-height:normal;font-family:Menlo,'DejaVu Sans Mono',consolas,'Courier New',monospace\"><span style=\"font-weight: bold\"> Trainable params: </span><span style=\"color: #00af00; text-decoration-color: #00af00\">73,866</span> (288.54 KB)\n",
              "</pre>\n"
            ]
          },
          "metadata": {}
        },
        {
          "output_type": "display_data",
          "data": {
            "text/plain": [
              "\u001b[1m Non-trainable params: \u001b[0m\u001b[38;5;34m0\u001b[0m (0.00 B)\n"
            ],
            "text/html": [
              "<pre style=\"white-space:pre;overflow-x:auto;line-height:normal;font-family:Menlo,'DejaVu Sans Mono',consolas,'Courier New',monospace\"><span style=\"font-weight: bold\"> Non-trainable params: </span><span style=\"color: #00af00; text-decoration-color: #00af00\">0</span> (0.00 B)\n",
              "</pre>\n"
            ]
          },
          "metadata": {}
        },
        {
          "output_type": "display_data",
          "data": {
            "text/plain": [
              "\u001b[1m Optimizer params: \u001b[0m\u001b[38;5;34m73,868\u001b[0m (288.55 KB)\n"
            ],
            "text/html": [
              "<pre style=\"white-space:pre;overflow-x:auto;line-height:normal;font-family:Menlo,'DejaVu Sans Mono',consolas,'Courier New',monospace\"><span style=\"font-weight: bold\"> Optimizer params: </span><span style=\"color: #00af00; text-decoration-color: #00af00\">73,868</span> (288.55 KB)\n",
              "</pre>\n"
            ]
          },
          "metadata": {}
        }
      ]
    },
    {
      "cell_type": "code",
      "source": [
        "cnn_configs = [\n",
        "    (2, 4, 64, 256),  # Deep FC approach: Trade extra FC depth for moderate CNN layers\n",
        "    (3, 2, 128, 128)  # High-feature extraction: Max CNN power, but lower FC complexity\n",
        "]\n",
        "for cnn_layers, fc_layers, filters, fc_units in cnn_configs:\n",
        "            print(f\"\\nCNN Layers: {cnn_layers}, FC Layers: {fc_layers}, Filters: {filters}, FC Units: {fc_units}\")\n",
        "\n",
        "            optimizer = SGD(learning_rate=0.01, momentum=0.9)\n",
        "\n",
        "            # Build model\n",
        "            cnn = Sequential()\n",
        "            cnn.add(Conv2D(filters, (3, 3), activation='relu', input_shape=(28, 28, 1)))\n",
        "            cnn.add(MaxPooling2D(pool_size=(2, 2), strides=(2, 2)))\n",
        "\n",
        "            # Add additional CNN layers if applicable\n",
        "            for _ in range(cnn_layers - 1):\n",
        "                cnn.add(Conv2D(filters, (3, 3), activation='relu'))\n",
        "                cnn.add(MaxPooling2D(pool_size=(2, 2)))\n",
        "\n",
        "            cnn.add(Flatten())\n",
        "\n",
        "            # Add FC layers\n",
        "            for _ in range(fc_layers):\n",
        "                cnn.add(Dense(fc_units, activation='relu'))\n",
        "\n",
        "            cnn.add(Dense(10, activation='softmax'))  # Output layer\n",
        "\n",
        "            cnn.compile(optimizer=optimizer, loss='categorical_crossentropy', metrics=['accuracy'])\n",
        "\n",
        "            # Train model\n",
        "            history = cnn.fit(x_train, y_train_cat, batch_size=batch_size, epochs=12, validation_data=(x_test, y_test_cat), shuffle=True)\n",
        "\n",
        "            # Print training report\n",
        "            print(\"\\n===== Training Report =====\")\n",
        "            summarize_results(cnn, history, 12, batch_size, (x_test, y_test_cat))"
      ],
      "metadata": {
        "colab": {
          "base_uri": "https://localhost:8080/",
          "height": 1000
        },
        "id": "cbATYbs5M94a",
        "outputId": "f4c65766-6176-43a9-8a8c-91de22bb0f78",
        "collapsed": true
      },
      "execution_count": null,
      "outputs": [
        {
          "output_type": "stream",
          "name": "stdout",
          "text": [
            "\n",
            "CNN Layers: 2, FC Layers: 4, Filters: 64, FC Units: 256\n",
            "Epoch 1/12\n",
            "\u001b[1m1875/1875\u001b[0m \u001b[32m━━━━━━━━━━━━━━━━━━━━\u001b[0m\u001b[37m\u001b[0m \u001b[1m91s\u001b[0m 48ms/step - accuracy: 0.8129 - loss: 0.5882 - val_accuracy: 0.9815 - val_loss: 0.0603\n",
            "Epoch 2/12\n",
            "\u001b[1m1875/1875\u001b[0m \u001b[32m━━━━━━━━━━━━━━━━━━━━\u001b[0m\u001b[37m\u001b[0m \u001b[1m142s\u001b[0m 48ms/step - accuracy: 0.9822 - loss: 0.0578 - val_accuracy: 0.9864 - val_loss: 0.0434\n",
            "Epoch 3/12\n",
            "\u001b[1m1875/1875\u001b[0m \u001b[32m━━━━━━━━━━━━━━━━━━━━\u001b[0m\u001b[37m\u001b[0m \u001b[1m140s\u001b[0m 47ms/step - accuracy: 0.9883 - loss: 0.0388 - val_accuracy: 0.9874 - val_loss: 0.0396\n",
            "Epoch 4/12\n",
            "\u001b[1m1875/1875\u001b[0m \u001b[32m━━━━━━━━━━━━━━━━━━━━\u001b[0m\u001b[37m\u001b[0m \u001b[1m88s\u001b[0m 47ms/step - accuracy: 0.9918 - loss: 0.0262 - val_accuracy: 0.9899 - val_loss: 0.0340\n",
            "Epoch 5/12\n",
            "\u001b[1m1875/1875\u001b[0m \u001b[32m━━━━━━━━━━━━━━━━━━━━\u001b[0m\u001b[37m\u001b[0m \u001b[1m142s\u001b[0m 47ms/step - accuracy: 0.9936 - loss: 0.0205 - val_accuracy: 0.9899 - val_loss: 0.0315\n",
            "Epoch 6/12\n",
            "\u001b[1m1875/1875\u001b[0m \u001b[32m━━━━━━━━━━━━━━━━━━━━\u001b[0m\u001b[37m\u001b[0m \u001b[1m142s\u001b[0m 47ms/step - accuracy: 0.9948 - loss: 0.0165 - val_accuracy: 0.9901 - val_loss: 0.0337\n",
            "Epoch 7/12\n",
            "\u001b[1m1875/1875\u001b[0m \u001b[32m━━━━━━━━━━━━━━━━━━━━\u001b[0m\u001b[37m\u001b[0m \u001b[1m142s\u001b[0m 48ms/step - accuracy: 0.9963 - loss: 0.0123 - val_accuracy: 0.9919 - val_loss: 0.0288\n",
            "Epoch 8/12\n",
            "\u001b[1m1875/1875\u001b[0m \u001b[32m━━━━━━━━━━━━━━━━━━━━\u001b[0m\u001b[37m\u001b[0m \u001b[1m89s\u001b[0m 47ms/step - accuracy: 0.9972 - loss: 0.0087 - val_accuracy: 0.9911 - val_loss: 0.0272\n",
            "Epoch 9/12\n",
            "\u001b[1m1875/1875\u001b[0m \u001b[32m━━━━━━━━━━━━━━━━━━━━\u001b[0m\u001b[37m\u001b[0m \u001b[1m142s\u001b[0m 47ms/step - accuracy: 0.9969 - loss: 0.0087 - val_accuracy: 0.9887 - val_loss: 0.0391\n",
            "Epoch 10/12\n",
            "\u001b[1m1875/1875\u001b[0m \u001b[32m━━━━━━━━━━━━━━━━━━━━\u001b[0m\u001b[37m\u001b[0m \u001b[1m142s\u001b[0m 48ms/step - accuracy: 0.9969 - loss: 0.0099 - val_accuracy: 0.9911 - val_loss: 0.0304\n",
            "Epoch 11/12\n",
            "\u001b[1m1875/1875\u001b[0m \u001b[32m━━━━━━━━━━━━━━━━━━━━\u001b[0m\u001b[37m\u001b[0m \u001b[1m89s\u001b[0m 47ms/step - accuracy: 0.9975 - loss: 0.0071 - val_accuracy: 0.9920 - val_loss: 0.0258\n",
            "Epoch 12/12\n",
            "\u001b[1m1875/1875\u001b[0m \u001b[32m━━━━━━━━━━━━━━━━━━━━\u001b[0m\u001b[37m\u001b[0m \u001b[1m88s\u001b[0m 47ms/step - accuracy: 0.9990 - loss: 0.0036 - val_accuracy: 0.9927 - val_loss: 0.0324\n",
            "\n",
            "===== Training Report =====\n",
            "\n",
            "===== Model Performance Summary =====\n",
            "Epochs: 12, Batch Size: 32\n",
            "Final Training Accuracy: 99.87%\n",
            "First 5 Epochs' Accuracy: [0.9267666935920715, 0.9831666946411133, 0.9892833232879639, 0.9919499754905701, 0.9938166737556458]\n",
            "Total Model Parameters: 647370\n",
            "Training time tracking not available.\n",
            "Avg Test Time per Epoch: 0.43 seconds\n",
            "Optimizer Used: SGD\n",
            "Learning Rate: 0.009999999776482582\n",
            "Optimizer Settings: {'name': 'SGD', 'learning_rate': 0.009999999776482582, 'weight_decay': None, 'clipnorm': None, 'global_clipnorm': None, 'clipvalue': None, 'use_ema': False, 'ema_momentum': 0.99, 'ema_overwrite_frequency': None, 'loss_scale_factor': None, 'gradient_accumulation_steps': None, 'momentum': 0.9, 'nesterov': False}\n",
            "\n",
            "===== Model Layers =====\n"
          ]
        },
        {
          "output_type": "display_data",
          "data": {
            "text/plain": [
              "\u001b[1mModel: \"sequential_26\"\u001b[0m\n"
            ],
            "text/html": [
              "<pre style=\"white-space:pre;overflow-x:auto;line-height:normal;font-family:Menlo,'DejaVu Sans Mono',consolas,'Courier New',monospace\"><span style=\"font-weight: bold\">Model: \"sequential_26\"</span>\n",
              "</pre>\n"
            ]
          },
          "metadata": {}
        },
        {
          "output_type": "display_data",
          "data": {
            "text/plain": [
              "┏━━━━━━━━━━━━━━━━━━━━━━━━━━━━━━━━━┳━━━━━━━━━━━━━━━━━━━━━━━━┳━━━━━━━━━━━━━━━┓\n",
              "┃\u001b[1m \u001b[0m\u001b[1mLayer (type)                   \u001b[0m\u001b[1m \u001b[0m┃\u001b[1m \u001b[0m\u001b[1mOutput Shape          \u001b[0m\u001b[1m \u001b[0m┃\u001b[1m \u001b[0m\u001b[1m      Param #\u001b[0m\u001b[1m \u001b[0m┃\n",
              "┡━━━━━━━━━━━━━━━━━━━━━━━━━━━━━━━━━╇━━━━━━━━━━━━━━━━━━━━━━━━╇━━━━━━━━━━━━━━━┩\n",
              "│ conv2d_44 (\u001b[38;5;33mConv2D\u001b[0m)              │ (\u001b[38;5;45mNone\u001b[0m, \u001b[38;5;34m26\u001b[0m, \u001b[38;5;34m26\u001b[0m, \u001b[38;5;34m64\u001b[0m)     │           \u001b[38;5;34m640\u001b[0m │\n",
              "├─────────────────────────────────┼────────────────────────┼───────────────┤\n",
              "│ max_pooling2d_44 (\u001b[38;5;33mMaxPooling2D\u001b[0m) │ (\u001b[38;5;45mNone\u001b[0m, \u001b[38;5;34m13\u001b[0m, \u001b[38;5;34m13\u001b[0m, \u001b[38;5;34m64\u001b[0m)     │             \u001b[38;5;34m0\u001b[0m │\n",
              "├─────────────────────────────────┼────────────────────────┼───────────────┤\n",
              "│ conv2d_45 (\u001b[38;5;33mConv2D\u001b[0m)              │ (\u001b[38;5;45mNone\u001b[0m, \u001b[38;5;34m11\u001b[0m, \u001b[38;5;34m11\u001b[0m, \u001b[38;5;34m64\u001b[0m)     │        \u001b[38;5;34m36,928\u001b[0m │\n",
              "├─────────────────────────────────┼────────────────────────┼───────────────┤\n",
              "│ max_pooling2d_45 (\u001b[38;5;33mMaxPooling2D\u001b[0m) │ (\u001b[38;5;45mNone\u001b[0m, \u001b[38;5;34m5\u001b[0m, \u001b[38;5;34m5\u001b[0m, \u001b[38;5;34m64\u001b[0m)       │             \u001b[38;5;34m0\u001b[0m │\n",
              "├─────────────────────────────────┼────────────────────────┼───────────────┤\n",
              "│ flatten_25 (\u001b[38;5;33mFlatten\u001b[0m)            │ (\u001b[38;5;45mNone\u001b[0m, \u001b[38;5;34m1600\u001b[0m)           │             \u001b[38;5;34m0\u001b[0m │\n",
              "├─────────────────────────────────┼────────────────────────┼───────────────┤\n",
              "│ dense_60 (\u001b[38;5;33mDense\u001b[0m)                │ (\u001b[38;5;45mNone\u001b[0m, \u001b[38;5;34m256\u001b[0m)            │       \u001b[38;5;34m409,856\u001b[0m │\n",
              "├─────────────────────────────────┼────────────────────────┼───────────────┤\n",
              "│ dense_61 (\u001b[38;5;33mDense\u001b[0m)                │ (\u001b[38;5;45mNone\u001b[0m, \u001b[38;5;34m256\u001b[0m)            │        \u001b[38;5;34m65,792\u001b[0m │\n",
              "├─────────────────────────────────┼────────────────────────┼───────────────┤\n",
              "│ dense_62 (\u001b[38;5;33mDense\u001b[0m)                │ (\u001b[38;5;45mNone\u001b[0m, \u001b[38;5;34m256\u001b[0m)            │        \u001b[38;5;34m65,792\u001b[0m │\n",
              "├─────────────────────────────────┼────────────────────────┼───────────────┤\n",
              "│ dense_63 (\u001b[38;5;33mDense\u001b[0m)                │ (\u001b[38;5;45mNone\u001b[0m, \u001b[38;5;34m256\u001b[0m)            │        \u001b[38;5;34m65,792\u001b[0m │\n",
              "├─────────────────────────────────┼────────────────────────┼───────────────┤\n",
              "│ dense_64 (\u001b[38;5;33mDense\u001b[0m)                │ (\u001b[38;5;45mNone\u001b[0m, \u001b[38;5;34m10\u001b[0m)             │         \u001b[38;5;34m2,570\u001b[0m │\n",
              "└─────────────────────────────────┴────────────────────────┴───────────────┘\n"
            ],
            "text/html": [
              "<pre style=\"white-space:pre;overflow-x:auto;line-height:normal;font-family:Menlo,'DejaVu Sans Mono',consolas,'Courier New',monospace\">┏━━━━━━━━━━━━━━━━━━━━━━━━━━━━━━━━━┳━━━━━━━━━━━━━━━━━━━━━━━━┳━━━━━━━━━━━━━━━┓\n",
              "┃<span style=\"font-weight: bold\"> Layer (type)                    </span>┃<span style=\"font-weight: bold\"> Output Shape           </span>┃<span style=\"font-weight: bold\">       Param # </span>┃\n",
              "┡━━━━━━━━━━━━━━━━━━━━━━━━━━━━━━━━━╇━━━━━━━━━━━━━━━━━━━━━━━━╇━━━━━━━━━━━━━━━┩\n",
              "│ conv2d_44 (<span style=\"color: #0087ff; text-decoration-color: #0087ff\">Conv2D</span>)              │ (<span style=\"color: #00d7ff; text-decoration-color: #00d7ff\">None</span>, <span style=\"color: #00af00; text-decoration-color: #00af00\">26</span>, <span style=\"color: #00af00; text-decoration-color: #00af00\">26</span>, <span style=\"color: #00af00; text-decoration-color: #00af00\">64</span>)     │           <span style=\"color: #00af00; text-decoration-color: #00af00\">640</span> │\n",
              "├─────────────────────────────────┼────────────────────────┼───────────────┤\n",
              "│ max_pooling2d_44 (<span style=\"color: #0087ff; text-decoration-color: #0087ff\">MaxPooling2D</span>) │ (<span style=\"color: #00d7ff; text-decoration-color: #00d7ff\">None</span>, <span style=\"color: #00af00; text-decoration-color: #00af00\">13</span>, <span style=\"color: #00af00; text-decoration-color: #00af00\">13</span>, <span style=\"color: #00af00; text-decoration-color: #00af00\">64</span>)     │             <span style=\"color: #00af00; text-decoration-color: #00af00\">0</span> │\n",
              "├─────────────────────────────────┼────────────────────────┼───────────────┤\n",
              "│ conv2d_45 (<span style=\"color: #0087ff; text-decoration-color: #0087ff\">Conv2D</span>)              │ (<span style=\"color: #00d7ff; text-decoration-color: #00d7ff\">None</span>, <span style=\"color: #00af00; text-decoration-color: #00af00\">11</span>, <span style=\"color: #00af00; text-decoration-color: #00af00\">11</span>, <span style=\"color: #00af00; text-decoration-color: #00af00\">64</span>)     │        <span style=\"color: #00af00; text-decoration-color: #00af00\">36,928</span> │\n",
              "├─────────────────────────────────┼────────────────────────┼───────────────┤\n",
              "│ max_pooling2d_45 (<span style=\"color: #0087ff; text-decoration-color: #0087ff\">MaxPooling2D</span>) │ (<span style=\"color: #00d7ff; text-decoration-color: #00d7ff\">None</span>, <span style=\"color: #00af00; text-decoration-color: #00af00\">5</span>, <span style=\"color: #00af00; text-decoration-color: #00af00\">5</span>, <span style=\"color: #00af00; text-decoration-color: #00af00\">64</span>)       │             <span style=\"color: #00af00; text-decoration-color: #00af00\">0</span> │\n",
              "├─────────────────────────────────┼────────────────────────┼───────────────┤\n",
              "│ flatten_25 (<span style=\"color: #0087ff; text-decoration-color: #0087ff\">Flatten</span>)            │ (<span style=\"color: #00d7ff; text-decoration-color: #00d7ff\">None</span>, <span style=\"color: #00af00; text-decoration-color: #00af00\">1600</span>)           │             <span style=\"color: #00af00; text-decoration-color: #00af00\">0</span> │\n",
              "├─────────────────────────────────┼────────────────────────┼───────────────┤\n",
              "│ dense_60 (<span style=\"color: #0087ff; text-decoration-color: #0087ff\">Dense</span>)                │ (<span style=\"color: #00d7ff; text-decoration-color: #00d7ff\">None</span>, <span style=\"color: #00af00; text-decoration-color: #00af00\">256</span>)            │       <span style=\"color: #00af00; text-decoration-color: #00af00\">409,856</span> │\n",
              "├─────────────────────────────────┼────────────────────────┼───────────────┤\n",
              "│ dense_61 (<span style=\"color: #0087ff; text-decoration-color: #0087ff\">Dense</span>)                │ (<span style=\"color: #00d7ff; text-decoration-color: #00d7ff\">None</span>, <span style=\"color: #00af00; text-decoration-color: #00af00\">256</span>)            │        <span style=\"color: #00af00; text-decoration-color: #00af00\">65,792</span> │\n",
              "├─────────────────────────────────┼────────────────────────┼───────────────┤\n",
              "│ dense_62 (<span style=\"color: #0087ff; text-decoration-color: #0087ff\">Dense</span>)                │ (<span style=\"color: #00d7ff; text-decoration-color: #00d7ff\">None</span>, <span style=\"color: #00af00; text-decoration-color: #00af00\">256</span>)            │        <span style=\"color: #00af00; text-decoration-color: #00af00\">65,792</span> │\n",
              "├─────────────────────────────────┼────────────────────────┼───────────────┤\n",
              "│ dense_63 (<span style=\"color: #0087ff; text-decoration-color: #0087ff\">Dense</span>)                │ (<span style=\"color: #00d7ff; text-decoration-color: #00d7ff\">None</span>, <span style=\"color: #00af00; text-decoration-color: #00af00\">256</span>)            │        <span style=\"color: #00af00; text-decoration-color: #00af00\">65,792</span> │\n",
              "├─────────────────────────────────┼────────────────────────┼───────────────┤\n",
              "│ dense_64 (<span style=\"color: #0087ff; text-decoration-color: #0087ff\">Dense</span>)                │ (<span style=\"color: #00d7ff; text-decoration-color: #00d7ff\">None</span>, <span style=\"color: #00af00; text-decoration-color: #00af00\">10</span>)             │         <span style=\"color: #00af00; text-decoration-color: #00af00\">2,570</span> │\n",
              "└─────────────────────────────────┴────────────────────────┴───────────────┘\n",
              "</pre>\n"
            ]
          },
          "metadata": {}
        },
        {
          "output_type": "display_data",
          "data": {
            "text/plain": [
              "\u001b[1m Total params: \u001b[0m\u001b[38;5;34m1,294,742\u001b[0m (4.94 MB)\n"
            ],
            "text/html": [
              "<pre style=\"white-space:pre;overflow-x:auto;line-height:normal;font-family:Menlo,'DejaVu Sans Mono',consolas,'Courier New',monospace\"><span style=\"font-weight: bold\"> Total params: </span><span style=\"color: #00af00; text-decoration-color: #00af00\">1,294,742</span> (4.94 MB)\n",
              "</pre>\n"
            ]
          },
          "metadata": {}
        },
        {
          "output_type": "display_data",
          "data": {
            "text/plain": [
              "\u001b[1m Trainable params: \u001b[0m\u001b[38;5;34m647,370\u001b[0m (2.47 MB)\n"
            ],
            "text/html": [
              "<pre style=\"white-space:pre;overflow-x:auto;line-height:normal;font-family:Menlo,'DejaVu Sans Mono',consolas,'Courier New',monospace\"><span style=\"font-weight: bold\"> Trainable params: </span><span style=\"color: #00af00; text-decoration-color: #00af00\">647,370</span> (2.47 MB)\n",
              "</pre>\n"
            ]
          },
          "metadata": {}
        },
        {
          "output_type": "display_data",
          "data": {
            "text/plain": [
              "\u001b[1m Non-trainable params: \u001b[0m\u001b[38;5;34m0\u001b[0m (0.00 B)\n"
            ],
            "text/html": [
              "<pre style=\"white-space:pre;overflow-x:auto;line-height:normal;font-family:Menlo,'DejaVu Sans Mono',consolas,'Courier New',monospace\"><span style=\"font-weight: bold\"> Non-trainable params: </span><span style=\"color: #00af00; text-decoration-color: #00af00\">0</span> (0.00 B)\n",
              "</pre>\n"
            ]
          },
          "metadata": {}
        },
        {
          "output_type": "display_data",
          "data": {
            "text/plain": [
              "\u001b[1m Optimizer params: \u001b[0m\u001b[38;5;34m647,372\u001b[0m (2.47 MB)\n"
            ],
            "text/html": [
              "<pre style=\"white-space:pre;overflow-x:auto;line-height:normal;font-family:Menlo,'DejaVu Sans Mono',consolas,'Courier New',monospace\"><span style=\"font-weight: bold\"> Optimizer params: </span><span style=\"color: #00af00; text-decoration-color: #00af00\">647,372</span> (2.47 MB)\n",
              "</pre>\n"
            ]
          },
          "metadata": {}
        },
        {
          "output_type": "stream",
          "name": "stdout",
          "text": [
            "\n",
            "CNN Layers: 3, FC Layers: 2, Filters: 128, FC Units: 128\n",
            "Epoch 1/12\n",
            "\u001b[1m1875/1875\u001b[0m \u001b[32m━━━━━━━━━━━━━━━━━━━━\u001b[0m\u001b[37m\u001b[0m \u001b[1m227s\u001b[0m 121ms/step - accuracy: 0.7779 - loss: 0.6592 - val_accuracy: 0.9764 - val_loss: 0.0802\n",
            "Epoch 2/12\n",
            "\u001b[1m1875/1875\u001b[0m \u001b[32m━━━━━━━━━━━━━━━━━━━━\u001b[0m\u001b[37m\u001b[0m \u001b[1m263s\u001b[0m 121ms/step - accuracy: 0.9777 - loss: 0.0741 - val_accuracy: 0.9835 - val_loss: 0.0567\n",
            "Epoch 3/12\n",
            "\u001b[1m1875/1875\u001b[0m \u001b[32m━━━━━━━━━━━━━━━━━━━━\u001b[0m\u001b[37m\u001b[0m \u001b[1m262s\u001b[0m 121ms/step - accuracy: 0.9848 - loss: 0.0504 - val_accuracy: 0.9817 - val_loss: 0.0605\n",
            "Epoch 4/12\n",
            "\u001b[1m1875/1875\u001b[0m \u001b[32m━━━━━━━━━━━━━━━━━━━━\u001b[0m\u001b[37m\u001b[0m \u001b[1m260s\u001b[0m 120ms/step - accuracy: 0.9882 - loss: 0.0368 - val_accuracy: 0.9865 - val_loss: 0.0492\n",
            "Epoch 5/12\n",
            "\u001b[1m1875/1875\u001b[0m \u001b[32m━━━━━━━━━━━━━━━━━━━━\u001b[0m\u001b[37m\u001b[0m \u001b[1m263s\u001b[0m 121ms/step - accuracy: 0.9915 - loss: 0.0266 - val_accuracy: 0.9878 - val_loss: 0.0454\n",
            "Epoch 6/12\n",
            "\u001b[1m1875/1875\u001b[0m \u001b[32m━━━━━━━━━━━━━━━━━━━━\u001b[0m\u001b[37m\u001b[0m \u001b[1m259s\u001b[0m 119ms/step - accuracy: 0.9937 - loss: 0.0206 - val_accuracy: 0.9883 - val_loss: 0.0450\n",
            "Epoch 7/12\n",
            "\u001b[1m1875/1875\u001b[0m \u001b[32m━━━━━━━━━━━━━━━━━━━━\u001b[0m\u001b[37m\u001b[0m \u001b[1m263s\u001b[0m 120ms/step - accuracy: 0.9944 - loss: 0.0162 - val_accuracy: 0.9895 - val_loss: 0.0398\n",
            "Epoch 8/12\n",
            "\u001b[1m1875/1875\u001b[0m \u001b[32m━━━━━━━━━━━━━━━━━━━━\u001b[0m\u001b[37m\u001b[0m \u001b[1m262s\u001b[0m 120ms/step - accuracy: 0.9950 - loss: 0.0144 - val_accuracy: 0.9838 - val_loss: 0.0611\n",
            "Epoch 9/12\n",
            "\u001b[1m1875/1875\u001b[0m \u001b[32m━━━━━━━━━━━━━━━━━━━━\u001b[0m\u001b[37m\u001b[0m \u001b[1m224s\u001b[0m 119ms/step - accuracy: 0.9959 - loss: 0.0118 - val_accuracy: 0.9884 - val_loss: 0.0516\n",
            "Epoch 10/12\n",
            "\u001b[1m1875/1875\u001b[0m \u001b[32m━━━━━━━━━━━━━━━━━━━━\u001b[0m\u001b[37m\u001b[0m \u001b[1m224s\u001b[0m 119ms/step - accuracy: 0.9973 - loss: 0.0088 - val_accuracy: 0.9904 - val_loss: 0.0438\n",
            "Epoch 11/12\n",
            "\u001b[1m1875/1875\u001b[0m \u001b[32m━━━━━━━━━━━━━━━━━━━━\u001b[0m\u001b[37m\u001b[0m \u001b[1m261s\u001b[0m 119ms/step - accuracy: 0.9979 - loss: 0.0066 - val_accuracy: 0.9866 - val_loss: 0.0551\n",
            "Epoch 12/12\n",
            "\u001b[1m1875/1875\u001b[0m \u001b[32m━━━━━━━━━━━━━━━━━━━━\u001b[0m\u001b[37m\u001b[0m \u001b[1m261s\u001b[0m 118ms/step - accuracy: 0.9976 - loss: 0.0072 - val_accuracy: 0.9897 - val_loss: 0.0505\n",
            "\n",
            "===== Training Report =====\n",
            "\n",
            "===== Model Performance Summary =====\n",
            "Epochs: 12, Batch Size: 32\n",
            "Final Training Accuracy: 99.77%\n",
            "First 5 Epochs' Accuracy: [0.907966673374176, 0.9782166481018066, 0.9852833151817322, 0.9881166815757751, 0.9910833239555359]\n",
            "Total Model Parameters: 330762\n",
            "Training time tracking not available.\n",
            "Avg Test Time per Epoch: 0.86 seconds\n",
            "Optimizer Used: SGD\n",
            "Learning Rate: 0.009999999776482582\n",
            "Optimizer Settings: {'name': 'SGD', 'learning_rate': 0.009999999776482582, 'weight_decay': None, 'clipnorm': None, 'global_clipnorm': None, 'clipvalue': None, 'use_ema': False, 'ema_momentum': 0.99, 'ema_overwrite_frequency': None, 'loss_scale_factor': None, 'gradient_accumulation_steps': None, 'momentum': 0.9, 'nesterov': False}\n",
            "\n",
            "===== Model Layers =====\n"
          ]
        },
        {
          "output_type": "display_data",
          "data": {
            "text/plain": [
              "\u001b[1mModel: \"sequential_27\"\u001b[0m\n"
            ],
            "text/html": [
              "<pre style=\"white-space:pre;overflow-x:auto;line-height:normal;font-family:Menlo,'DejaVu Sans Mono',consolas,'Courier New',monospace\"><span style=\"font-weight: bold\">Model: \"sequential_27\"</span>\n",
              "</pre>\n"
            ]
          },
          "metadata": {}
        },
        {
          "output_type": "display_data",
          "data": {
            "text/plain": [
              "┏━━━━━━━━━━━━━━━━━━━━━━━━━━━━━━━━━┳━━━━━━━━━━━━━━━━━━━━━━━━┳━━━━━━━━━━━━━━━┓\n",
              "┃\u001b[1m \u001b[0m\u001b[1mLayer (type)                   \u001b[0m\u001b[1m \u001b[0m┃\u001b[1m \u001b[0m\u001b[1mOutput Shape          \u001b[0m\u001b[1m \u001b[0m┃\u001b[1m \u001b[0m\u001b[1m      Param #\u001b[0m\u001b[1m \u001b[0m┃\n",
              "┡━━━━━━━━━━━━━━━━━━━━━━━━━━━━━━━━━╇━━━━━━━━━━━━━━━━━━━━━━━━╇━━━━━━━━━━━━━━━┩\n",
              "│ conv2d_46 (\u001b[38;5;33mConv2D\u001b[0m)              │ (\u001b[38;5;45mNone\u001b[0m, \u001b[38;5;34m26\u001b[0m, \u001b[38;5;34m26\u001b[0m, \u001b[38;5;34m128\u001b[0m)    │         \u001b[38;5;34m1,280\u001b[0m │\n",
              "├─────────────────────────────────┼────────────────────────┼───────────────┤\n",
              "│ max_pooling2d_46 (\u001b[38;5;33mMaxPooling2D\u001b[0m) │ (\u001b[38;5;45mNone\u001b[0m, \u001b[38;5;34m13\u001b[0m, \u001b[38;5;34m13\u001b[0m, \u001b[38;5;34m128\u001b[0m)    │             \u001b[38;5;34m0\u001b[0m │\n",
              "├─────────────────────────────────┼────────────────────────┼───────────────┤\n",
              "│ conv2d_47 (\u001b[38;5;33mConv2D\u001b[0m)              │ (\u001b[38;5;45mNone\u001b[0m, \u001b[38;5;34m11\u001b[0m, \u001b[38;5;34m11\u001b[0m, \u001b[38;5;34m128\u001b[0m)    │       \u001b[38;5;34m147,584\u001b[0m │\n",
              "├─────────────────────────────────┼────────────────────────┼───────────────┤\n",
              "│ max_pooling2d_47 (\u001b[38;5;33mMaxPooling2D\u001b[0m) │ (\u001b[38;5;45mNone\u001b[0m, \u001b[38;5;34m5\u001b[0m, \u001b[38;5;34m5\u001b[0m, \u001b[38;5;34m128\u001b[0m)      │             \u001b[38;5;34m0\u001b[0m │\n",
              "├─────────────────────────────────┼────────────────────────┼───────────────┤\n",
              "│ conv2d_48 (\u001b[38;5;33mConv2D\u001b[0m)              │ (\u001b[38;5;45mNone\u001b[0m, \u001b[38;5;34m3\u001b[0m, \u001b[38;5;34m3\u001b[0m, \u001b[38;5;34m128\u001b[0m)      │       \u001b[38;5;34m147,584\u001b[0m │\n",
              "├─────────────────────────────────┼────────────────────────┼───────────────┤\n",
              "│ max_pooling2d_48 (\u001b[38;5;33mMaxPooling2D\u001b[0m) │ (\u001b[38;5;45mNone\u001b[0m, \u001b[38;5;34m1\u001b[0m, \u001b[38;5;34m1\u001b[0m, \u001b[38;5;34m128\u001b[0m)      │             \u001b[38;5;34m0\u001b[0m │\n",
              "├─────────────────────────────────┼────────────────────────┼───────────────┤\n",
              "│ flatten_26 (\u001b[38;5;33mFlatten\u001b[0m)            │ (\u001b[38;5;45mNone\u001b[0m, \u001b[38;5;34m128\u001b[0m)            │             \u001b[38;5;34m0\u001b[0m │\n",
              "├─────────────────────────────────┼────────────────────────┼───────────────┤\n",
              "│ dense_65 (\u001b[38;5;33mDense\u001b[0m)                │ (\u001b[38;5;45mNone\u001b[0m, \u001b[38;5;34m128\u001b[0m)            │        \u001b[38;5;34m16,512\u001b[0m │\n",
              "├─────────────────────────────────┼────────────────────────┼───────────────┤\n",
              "│ dense_66 (\u001b[38;5;33mDense\u001b[0m)                │ (\u001b[38;5;45mNone\u001b[0m, \u001b[38;5;34m128\u001b[0m)            │        \u001b[38;5;34m16,512\u001b[0m │\n",
              "├─────────────────────────────────┼────────────────────────┼───────────────┤\n",
              "│ dense_67 (\u001b[38;5;33mDense\u001b[0m)                │ (\u001b[38;5;45mNone\u001b[0m, \u001b[38;5;34m10\u001b[0m)             │         \u001b[38;5;34m1,290\u001b[0m │\n",
              "└─────────────────────────────────┴────────────────────────┴───────────────┘\n"
            ],
            "text/html": [
              "<pre style=\"white-space:pre;overflow-x:auto;line-height:normal;font-family:Menlo,'DejaVu Sans Mono',consolas,'Courier New',monospace\">┏━━━━━━━━━━━━━━━━━━━━━━━━━━━━━━━━━┳━━━━━━━━━━━━━━━━━━━━━━━━┳━━━━━━━━━━━━━━━┓\n",
              "┃<span style=\"font-weight: bold\"> Layer (type)                    </span>┃<span style=\"font-weight: bold\"> Output Shape           </span>┃<span style=\"font-weight: bold\">       Param # </span>┃\n",
              "┡━━━━━━━━━━━━━━━━━━━━━━━━━━━━━━━━━╇━━━━━━━━━━━━━━━━━━━━━━━━╇━━━━━━━━━━━━━━━┩\n",
              "│ conv2d_46 (<span style=\"color: #0087ff; text-decoration-color: #0087ff\">Conv2D</span>)              │ (<span style=\"color: #00d7ff; text-decoration-color: #00d7ff\">None</span>, <span style=\"color: #00af00; text-decoration-color: #00af00\">26</span>, <span style=\"color: #00af00; text-decoration-color: #00af00\">26</span>, <span style=\"color: #00af00; text-decoration-color: #00af00\">128</span>)    │         <span style=\"color: #00af00; text-decoration-color: #00af00\">1,280</span> │\n",
              "├─────────────────────────────────┼────────────────────────┼───────────────┤\n",
              "│ max_pooling2d_46 (<span style=\"color: #0087ff; text-decoration-color: #0087ff\">MaxPooling2D</span>) │ (<span style=\"color: #00d7ff; text-decoration-color: #00d7ff\">None</span>, <span style=\"color: #00af00; text-decoration-color: #00af00\">13</span>, <span style=\"color: #00af00; text-decoration-color: #00af00\">13</span>, <span style=\"color: #00af00; text-decoration-color: #00af00\">128</span>)    │             <span style=\"color: #00af00; text-decoration-color: #00af00\">0</span> │\n",
              "├─────────────────────────────────┼────────────────────────┼───────────────┤\n",
              "│ conv2d_47 (<span style=\"color: #0087ff; text-decoration-color: #0087ff\">Conv2D</span>)              │ (<span style=\"color: #00d7ff; text-decoration-color: #00d7ff\">None</span>, <span style=\"color: #00af00; text-decoration-color: #00af00\">11</span>, <span style=\"color: #00af00; text-decoration-color: #00af00\">11</span>, <span style=\"color: #00af00; text-decoration-color: #00af00\">128</span>)    │       <span style=\"color: #00af00; text-decoration-color: #00af00\">147,584</span> │\n",
              "├─────────────────────────────────┼────────────────────────┼───────────────┤\n",
              "│ max_pooling2d_47 (<span style=\"color: #0087ff; text-decoration-color: #0087ff\">MaxPooling2D</span>) │ (<span style=\"color: #00d7ff; text-decoration-color: #00d7ff\">None</span>, <span style=\"color: #00af00; text-decoration-color: #00af00\">5</span>, <span style=\"color: #00af00; text-decoration-color: #00af00\">5</span>, <span style=\"color: #00af00; text-decoration-color: #00af00\">128</span>)      │             <span style=\"color: #00af00; text-decoration-color: #00af00\">0</span> │\n",
              "├─────────────────────────────────┼────────────────────────┼───────────────┤\n",
              "│ conv2d_48 (<span style=\"color: #0087ff; text-decoration-color: #0087ff\">Conv2D</span>)              │ (<span style=\"color: #00d7ff; text-decoration-color: #00d7ff\">None</span>, <span style=\"color: #00af00; text-decoration-color: #00af00\">3</span>, <span style=\"color: #00af00; text-decoration-color: #00af00\">3</span>, <span style=\"color: #00af00; text-decoration-color: #00af00\">128</span>)      │       <span style=\"color: #00af00; text-decoration-color: #00af00\">147,584</span> │\n",
              "├─────────────────────────────────┼────────────────────────┼───────────────┤\n",
              "│ max_pooling2d_48 (<span style=\"color: #0087ff; text-decoration-color: #0087ff\">MaxPooling2D</span>) │ (<span style=\"color: #00d7ff; text-decoration-color: #00d7ff\">None</span>, <span style=\"color: #00af00; text-decoration-color: #00af00\">1</span>, <span style=\"color: #00af00; text-decoration-color: #00af00\">1</span>, <span style=\"color: #00af00; text-decoration-color: #00af00\">128</span>)      │             <span style=\"color: #00af00; text-decoration-color: #00af00\">0</span> │\n",
              "├─────────────────────────────────┼────────────────────────┼───────────────┤\n",
              "│ flatten_26 (<span style=\"color: #0087ff; text-decoration-color: #0087ff\">Flatten</span>)            │ (<span style=\"color: #00d7ff; text-decoration-color: #00d7ff\">None</span>, <span style=\"color: #00af00; text-decoration-color: #00af00\">128</span>)            │             <span style=\"color: #00af00; text-decoration-color: #00af00\">0</span> │\n",
              "├─────────────────────────────────┼────────────────────────┼───────────────┤\n",
              "│ dense_65 (<span style=\"color: #0087ff; text-decoration-color: #0087ff\">Dense</span>)                │ (<span style=\"color: #00d7ff; text-decoration-color: #00d7ff\">None</span>, <span style=\"color: #00af00; text-decoration-color: #00af00\">128</span>)            │        <span style=\"color: #00af00; text-decoration-color: #00af00\">16,512</span> │\n",
              "├─────────────────────────────────┼────────────────────────┼───────────────┤\n",
              "│ dense_66 (<span style=\"color: #0087ff; text-decoration-color: #0087ff\">Dense</span>)                │ (<span style=\"color: #00d7ff; text-decoration-color: #00d7ff\">None</span>, <span style=\"color: #00af00; text-decoration-color: #00af00\">128</span>)            │        <span style=\"color: #00af00; text-decoration-color: #00af00\">16,512</span> │\n",
              "├─────────────────────────────────┼────────────────────────┼───────────────┤\n",
              "│ dense_67 (<span style=\"color: #0087ff; text-decoration-color: #0087ff\">Dense</span>)                │ (<span style=\"color: #00d7ff; text-decoration-color: #00d7ff\">None</span>, <span style=\"color: #00af00; text-decoration-color: #00af00\">10</span>)             │         <span style=\"color: #00af00; text-decoration-color: #00af00\">1,290</span> │\n",
              "└─────────────────────────────────┴────────────────────────┴───────────────┘\n",
              "</pre>\n"
            ]
          },
          "metadata": {}
        },
        {
          "output_type": "display_data",
          "data": {
            "text/plain": [
              "\u001b[1m Total params: \u001b[0m\u001b[38;5;34m661,526\u001b[0m (2.52 MB)\n"
            ],
            "text/html": [
              "<pre style=\"white-space:pre;overflow-x:auto;line-height:normal;font-family:Menlo,'DejaVu Sans Mono',consolas,'Courier New',monospace\"><span style=\"font-weight: bold\"> Total params: </span><span style=\"color: #00af00; text-decoration-color: #00af00\">661,526</span> (2.52 MB)\n",
              "</pre>\n"
            ]
          },
          "metadata": {}
        },
        {
          "output_type": "display_data",
          "data": {
            "text/plain": [
              "\u001b[1m Trainable params: \u001b[0m\u001b[38;5;34m330,762\u001b[0m (1.26 MB)\n"
            ],
            "text/html": [
              "<pre style=\"white-space:pre;overflow-x:auto;line-height:normal;font-family:Menlo,'DejaVu Sans Mono',consolas,'Courier New',monospace\"><span style=\"font-weight: bold\"> Trainable params: </span><span style=\"color: #00af00; text-decoration-color: #00af00\">330,762</span> (1.26 MB)\n",
              "</pre>\n"
            ]
          },
          "metadata": {}
        },
        {
          "output_type": "display_data",
          "data": {
            "text/plain": [
              "\u001b[1m Non-trainable params: \u001b[0m\u001b[38;5;34m0\u001b[0m (0.00 B)\n"
            ],
            "text/html": [
              "<pre style=\"white-space:pre;overflow-x:auto;line-height:normal;font-family:Menlo,'DejaVu Sans Mono',consolas,'Courier New',monospace\"><span style=\"font-weight: bold\"> Non-trainable params: </span><span style=\"color: #00af00; text-decoration-color: #00af00\">0</span> (0.00 B)\n",
              "</pre>\n"
            ]
          },
          "metadata": {}
        },
        {
          "output_type": "display_data",
          "data": {
            "text/plain": [
              "\u001b[1m Optimizer params: \u001b[0m\u001b[38;5;34m330,764\u001b[0m (1.26 MB)\n"
            ],
            "text/html": [
              "<pre style=\"white-space:pre;overflow-x:auto;line-height:normal;font-family:Menlo,'DejaVu Sans Mono',consolas,'Courier New',monospace\"><span style=\"font-weight: bold\"> Optimizer params: </span><span style=\"color: #00af00; text-decoration-color: #00af00\">330,764</span> (1.26 MB)\n",
              "</pre>\n"
            ]
          },
          "metadata": {}
        }
      ]
    },
    {
      "cell_type": "markdown",
      "source": [
        "* Model 1 (1 CNN, 1 FC, 32 filters, 64 FC units) is the best for processing efficiency while maintaining high accuracy.\n",
        "\n",
        "* Model 2 (2 CNN, 2 FC, 64 filters, 128 FC units) has slightly better accuracy but takes more time to process.\n",
        "\n",
        "* Model 4 (2 CNN, 4 FC, 64 filters, 256 FC units) offers strong accuracy but comes with higher complexity.\n",
        "\n",
        "\n",
        "**better results :**\n",
        "\n",
        " Best balance of accuracy & efficiency: **Model 1** (99.90% accuracy, 0.19 sec test time).\n",
        "\n",
        " Best accuracy overall (but slower): **Model 2**(99.92% accuracy, 0.44 sec test time).\n"
      ],
      "metadata": {
        "id": "NkLezHKY-597"
      }
    },
    {
      "cell_type": "markdown",
      "source": [
        "\\\\6- Now you will try 2 different batch sizes, if your batch size for the previous step is ‘b’, test batch Add blockquote\n",
        "size of 2*b and (4*b or 3*b)."
      ],
      "metadata": {
        "id": "84QPVvQLg7Zc"
      }
    },
    {
      "cell_type": "code",
      "source": [
        "batch_sizes = [2 * 32, 3 * 32]\n",
        "for batch_size in batch_sizes:\n",
        "\n",
        "    cnn = Sequential([\n",
        "        Conv2D(64, (3, 3), activation='relu', input_shape=(28, 28, 1)),\n",
        "        MaxPooling2D(pool_size=(2, 2), strides=(2, 2)),\n",
        "        Conv2D(64, (3, 3), activation='relu'),\n",
        "        MaxPooling2D(pool_size=(2, 2), strides=(2, 2)),\n",
        "        Flatten(),\n",
        "        Dense(128, activation='relu'),\n",
        "        Dense(128, activation='relu'),\n",
        "        Dense(10, activation='softmax')\n",
        "    ])\n",
        "\n",
        "    optimizer = SGD(learning_rate=0.01, momentum=0.9)\n",
        "    cnn.compile(optimizer=optimizer, loss='categorical_crossentropy', metrics=['accuracy'])\n",
        "    print(f\"\\nTraining CNN with Batch Size: {batch_size}\")\n",
        "    # Train model\n",
        "    history = cnn.fit(x_train, y_train_cat, batch_size=batch_size, epochs=12, validation_data=(x_test, y_test_cat), shuffle=True)\n",
        "    print(f\"\\nTraining CNN with Batch Size: {batch_size}\")\n",
        "    print(\"\\n===== Training Report =====\")\n",
        "    print(f\"Batch Size Used: {batch_size}\")\n",
        "    summarize_results(model, history, 12, batch_size, (x_test, y_test_cat))"
      ],
      "metadata": {
        "colab": {
          "base_uri": "https://localhost:8080/",
          "height": 1000
        },
        "collapsed": true,
        "id": "aNkF3Yi2N8hQ",
        "outputId": "478da141-423b-4a45-aca3-d1e92be05e33"
      },
      "execution_count": null,
      "outputs": [
        {
          "output_type": "stream",
          "name": "stdout",
          "text": [
            "\n",
            "Training CNN with Batch Size: 64\n",
            "Epoch 1/12\n",
            "\u001b[1m938/938\u001b[0m \u001b[32m━━━━━━━━━━━━━━━━━━━━\u001b[0m\u001b[37m\u001b[0m \u001b[1m90s\u001b[0m 95ms/step - accuracy: 0.7799 - loss: 0.6845 - val_accuracy: 0.9777 - val_loss: 0.0715\n",
            "Epoch 2/12\n",
            "\u001b[1m938/938\u001b[0m \u001b[32m━━━━━━━━━━━━━━━━━━━━\u001b[0m\u001b[37m\u001b[0m \u001b[1m78s\u001b[0m 84ms/step - accuracy: 0.9792 - loss: 0.0692 - val_accuracy: 0.9823 - val_loss: 0.0520\n",
            "Epoch 3/12\n",
            "\u001b[1m938/938\u001b[0m \u001b[32m━━━━━━━━━━━━━━━━━━━━\u001b[0m\u001b[37m\u001b[0m \u001b[1m82s\u001b[0m 84ms/step - accuracy: 0.9858 - loss: 0.0457 - val_accuracy: 0.9879 - val_loss: 0.0384\n",
            "Epoch 4/12\n",
            "\u001b[1m938/938\u001b[0m \u001b[32m━━━━━━━━━━━━━━━━━━━━\u001b[0m\u001b[37m\u001b[0m \u001b[1m76s\u001b[0m 82ms/step - accuracy: 0.9887 - loss: 0.0358 - val_accuracy: 0.9869 - val_loss: 0.0421\n",
            "Epoch 5/12\n",
            "\u001b[1m938/938\u001b[0m \u001b[32m━━━━━━━━━━━━━━━━━━━━\u001b[0m\u001b[37m\u001b[0m \u001b[1m81s\u001b[0m 81ms/step - accuracy: 0.9909 - loss: 0.0289 - val_accuracy: 0.9895 - val_loss: 0.0298\n",
            "Epoch 6/12\n",
            "\u001b[1m938/938\u001b[0m \u001b[32m━━━━━━━━━━━━━━━━━━━━\u001b[0m\u001b[37m\u001b[0m \u001b[1m82s\u001b[0m 82ms/step - accuracy: 0.9934 - loss: 0.0217 - val_accuracy: 0.9895 - val_loss: 0.0331\n",
            "Epoch 7/12\n",
            "\u001b[1m938/938\u001b[0m \u001b[32m━━━━━━━━━━━━━━━━━━━━\u001b[0m\u001b[37m\u001b[0m \u001b[1m84s\u001b[0m 84ms/step - accuracy: 0.9942 - loss: 0.0185 - val_accuracy: 0.9901 - val_loss: 0.0291\n",
            "Epoch 8/12\n",
            "\u001b[1m938/938\u001b[0m \u001b[32m━━━━━━━━━━━━━━━━━━━━\u001b[0m\u001b[37m\u001b[0m \u001b[1m81s\u001b[0m 83ms/step - accuracy: 0.9957 - loss: 0.0138 - val_accuracy: 0.9920 - val_loss: 0.0272\n",
            "Epoch 9/12\n",
            "\u001b[1m938/938\u001b[0m \u001b[32m━━━━━━━━━━━━━━━━━━━━\u001b[0m\u001b[37m\u001b[0m \u001b[1m84s\u001b[0m 84ms/step - accuracy: 0.9966 - loss: 0.0114 - val_accuracy: 0.9898 - val_loss: 0.0311\n",
            "Epoch 10/12\n",
            "\u001b[1m938/938\u001b[0m \u001b[32m━━━━━━━━━━━━━━━━━━━━\u001b[0m\u001b[37m\u001b[0m \u001b[1m79s\u001b[0m 81ms/step - accuracy: 0.9972 - loss: 0.0095 - val_accuracy: 0.9915 - val_loss: 0.0274\n",
            "Epoch 11/12\n",
            "\u001b[1m938/938\u001b[0m \u001b[32m━━━━━━━━━━━━━━━━━━━━\u001b[0m\u001b[37m\u001b[0m \u001b[1m84s\u001b[0m 84ms/step - accuracy: 0.9983 - loss: 0.0070 - val_accuracy: 0.9922 - val_loss: 0.0308\n",
            "Epoch 12/12\n",
            "\u001b[1m938/938\u001b[0m \u001b[32m━━━━━━━━━━━━━━━━━━━━\u001b[0m\u001b[37m\u001b[0m \u001b[1m79s\u001b[0m 84ms/step - accuracy: 0.9981 - loss: 0.0061 - val_accuracy: 0.9902 - val_loss: 0.0326\n",
            "\n",
            "Training CNN with Batch Size: 64\n",
            "\n",
            "===== Training Report =====\n",
            "Batch Size Used: 64\n",
            "\n",
            "===== Model Performance Summary =====\n",
            "Epochs: 12, Batch Size: 64\n",
            "Final Training Accuracy: 99.77%\n",
            "First 5 Epochs' Accuracy: [0.909583330154419, 0.9801999926567078, 0.9855999946594238, 0.9890333414077759, 0.9909999966621399]\n",
            "Total Model Parameters: 260298\n",
            "Training time tracking not available.\n",
            "Avg Test Time per Epoch: 0.43 seconds\n",
            "Optimizer Used: SGD\n",
            "Learning Rate: 0.009999999776482582\n",
            "Optimizer Settings: {'name': 'SGD', 'learning_rate': 0.009999999776482582, 'weight_decay': None, 'clipnorm': None, 'global_clipnorm': None, 'clipvalue': None, 'use_ema': False, 'ema_momentum': 0.99, 'ema_overwrite_frequency': None, 'loss_scale_factor': None, 'gradient_accumulation_steps': None, 'momentum': 0.9, 'nesterov': False}\n",
            "\n",
            "===== Model Layers =====\n"
          ]
        },
        {
          "output_type": "display_data",
          "data": {
            "text/plain": [
              "\u001b[1mModel: \"sequential_29\"\u001b[0m\n"
            ],
            "text/html": [
              "<pre style=\"white-space:pre;overflow-x:auto;line-height:normal;font-family:Menlo,'DejaVu Sans Mono',consolas,'Courier New',monospace\"><span style=\"font-weight: bold\">Model: \"sequential_29\"</span>\n",
              "</pre>\n"
            ]
          },
          "metadata": {}
        },
        {
          "output_type": "display_data",
          "data": {
            "text/plain": [
              "┏━━━━━━━━━━━━━━━━━━━━━━━━━━━━━━━━━┳━━━━━━━━━━━━━━━━━━━━━━━━┳━━━━━━━━━━━━━━━┓\n",
              "┃\u001b[1m \u001b[0m\u001b[1mLayer (type)                   \u001b[0m\u001b[1m \u001b[0m┃\u001b[1m \u001b[0m\u001b[1mOutput Shape          \u001b[0m\u001b[1m \u001b[0m┃\u001b[1m \u001b[0m\u001b[1m      Param #\u001b[0m\u001b[1m \u001b[0m┃\n",
              "┡━━━━━━━━━━━━━━━━━━━━━━━━━━━━━━━━━╇━━━━━━━━━━━━━━━━━━━━━━━━╇━━━━━━━━━━━━━━━┩\n",
              "│ conv2d_51 (\u001b[38;5;33mConv2D\u001b[0m)              │ (\u001b[38;5;45mNone\u001b[0m, \u001b[38;5;34m26\u001b[0m, \u001b[38;5;34m26\u001b[0m, \u001b[38;5;34m64\u001b[0m)     │           \u001b[38;5;34m640\u001b[0m │\n",
              "├─────────────────────────────────┼────────────────────────┼───────────────┤\n",
              "│ max_pooling2d_51 (\u001b[38;5;33mMaxPooling2D\u001b[0m) │ (\u001b[38;5;45mNone\u001b[0m, \u001b[38;5;34m13\u001b[0m, \u001b[38;5;34m13\u001b[0m, \u001b[38;5;34m64\u001b[0m)     │             \u001b[38;5;34m0\u001b[0m │\n",
              "├─────────────────────────────────┼────────────────────────┼───────────────┤\n",
              "│ conv2d_52 (\u001b[38;5;33mConv2D\u001b[0m)              │ (\u001b[38;5;45mNone\u001b[0m, \u001b[38;5;34m11\u001b[0m, \u001b[38;5;34m11\u001b[0m, \u001b[38;5;34m64\u001b[0m)     │        \u001b[38;5;34m36,928\u001b[0m │\n",
              "├─────────────────────────────────┼────────────────────────┼───────────────┤\n",
              "│ max_pooling2d_52 (\u001b[38;5;33mMaxPooling2D\u001b[0m) │ (\u001b[38;5;45mNone\u001b[0m, \u001b[38;5;34m5\u001b[0m, \u001b[38;5;34m5\u001b[0m, \u001b[38;5;34m64\u001b[0m)       │             \u001b[38;5;34m0\u001b[0m │\n",
              "├─────────────────────────────────┼────────────────────────┼───────────────┤\n",
              "│ flatten_28 (\u001b[38;5;33mFlatten\u001b[0m)            │ (\u001b[38;5;45mNone\u001b[0m, \u001b[38;5;34m1600\u001b[0m)           │             \u001b[38;5;34m0\u001b[0m │\n",
              "├─────────────────────────────────┼────────────────────────┼───────────────┤\n",
              "│ dense_73 (\u001b[38;5;33mDense\u001b[0m)                │ (\u001b[38;5;45mNone\u001b[0m, \u001b[38;5;34m128\u001b[0m)            │       \u001b[38;5;34m204,928\u001b[0m │\n",
              "├─────────────────────────────────┼────────────────────────┼───────────────┤\n",
              "│ dense_74 (\u001b[38;5;33mDense\u001b[0m)                │ (\u001b[38;5;45mNone\u001b[0m, \u001b[38;5;34m128\u001b[0m)            │        \u001b[38;5;34m16,512\u001b[0m │\n",
              "├─────────────────────────────────┼────────────────────────┼───────────────┤\n",
              "│ dense_75 (\u001b[38;5;33mDense\u001b[0m)                │ (\u001b[38;5;45mNone\u001b[0m, \u001b[38;5;34m10\u001b[0m)             │         \u001b[38;5;34m1,290\u001b[0m │\n",
              "└─────────────────────────────────┴────────────────────────┴───────────────┘\n"
            ],
            "text/html": [
              "<pre style=\"white-space:pre;overflow-x:auto;line-height:normal;font-family:Menlo,'DejaVu Sans Mono',consolas,'Courier New',monospace\">┏━━━━━━━━━━━━━━━━━━━━━━━━━━━━━━━━━┳━━━━━━━━━━━━━━━━━━━━━━━━┳━━━━━━━━━━━━━━━┓\n",
              "┃<span style=\"font-weight: bold\"> Layer (type)                    </span>┃<span style=\"font-weight: bold\"> Output Shape           </span>┃<span style=\"font-weight: bold\">       Param # </span>┃\n",
              "┡━━━━━━━━━━━━━━━━━━━━━━━━━━━━━━━━━╇━━━━━━━━━━━━━━━━━━━━━━━━╇━━━━━━━━━━━━━━━┩\n",
              "│ conv2d_51 (<span style=\"color: #0087ff; text-decoration-color: #0087ff\">Conv2D</span>)              │ (<span style=\"color: #00d7ff; text-decoration-color: #00d7ff\">None</span>, <span style=\"color: #00af00; text-decoration-color: #00af00\">26</span>, <span style=\"color: #00af00; text-decoration-color: #00af00\">26</span>, <span style=\"color: #00af00; text-decoration-color: #00af00\">64</span>)     │           <span style=\"color: #00af00; text-decoration-color: #00af00\">640</span> │\n",
              "├─────────────────────────────────┼────────────────────────┼───────────────┤\n",
              "│ max_pooling2d_51 (<span style=\"color: #0087ff; text-decoration-color: #0087ff\">MaxPooling2D</span>) │ (<span style=\"color: #00d7ff; text-decoration-color: #00d7ff\">None</span>, <span style=\"color: #00af00; text-decoration-color: #00af00\">13</span>, <span style=\"color: #00af00; text-decoration-color: #00af00\">13</span>, <span style=\"color: #00af00; text-decoration-color: #00af00\">64</span>)     │             <span style=\"color: #00af00; text-decoration-color: #00af00\">0</span> │\n",
              "├─────────────────────────────────┼────────────────────────┼───────────────┤\n",
              "│ conv2d_52 (<span style=\"color: #0087ff; text-decoration-color: #0087ff\">Conv2D</span>)              │ (<span style=\"color: #00d7ff; text-decoration-color: #00d7ff\">None</span>, <span style=\"color: #00af00; text-decoration-color: #00af00\">11</span>, <span style=\"color: #00af00; text-decoration-color: #00af00\">11</span>, <span style=\"color: #00af00; text-decoration-color: #00af00\">64</span>)     │        <span style=\"color: #00af00; text-decoration-color: #00af00\">36,928</span> │\n",
              "├─────────────────────────────────┼────────────────────────┼───────────────┤\n",
              "│ max_pooling2d_52 (<span style=\"color: #0087ff; text-decoration-color: #0087ff\">MaxPooling2D</span>) │ (<span style=\"color: #00d7ff; text-decoration-color: #00d7ff\">None</span>, <span style=\"color: #00af00; text-decoration-color: #00af00\">5</span>, <span style=\"color: #00af00; text-decoration-color: #00af00\">5</span>, <span style=\"color: #00af00; text-decoration-color: #00af00\">64</span>)       │             <span style=\"color: #00af00; text-decoration-color: #00af00\">0</span> │\n",
              "├─────────────────────────────────┼────────────────────────┼───────────────┤\n",
              "│ flatten_28 (<span style=\"color: #0087ff; text-decoration-color: #0087ff\">Flatten</span>)            │ (<span style=\"color: #00d7ff; text-decoration-color: #00d7ff\">None</span>, <span style=\"color: #00af00; text-decoration-color: #00af00\">1600</span>)           │             <span style=\"color: #00af00; text-decoration-color: #00af00\">0</span> │\n",
              "├─────────────────────────────────┼────────────────────────┼───────────────┤\n",
              "│ dense_73 (<span style=\"color: #0087ff; text-decoration-color: #0087ff\">Dense</span>)                │ (<span style=\"color: #00d7ff; text-decoration-color: #00d7ff\">None</span>, <span style=\"color: #00af00; text-decoration-color: #00af00\">128</span>)            │       <span style=\"color: #00af00; text-decoration-color: #00af00\">204,928</span> │\n",
              "├─────────────────────────────────┼────────────────────────┼───────────────┤\n",
              "│ dense_74 (<span style=\"color: #0087ff; text-decoration-color: #0087ff\">Dense</span>)                │ (<span style=\"color: #00d7ff; text-decoration-color: #00d7ff\">None</span>, <span style=\"color: #00af00; text-decoration-color: #00af00\">128</span>)            │        <span style=\"color: #00af00; text-decoration-color: #00af00\">16,512</span> │\n",
              "├─────────────────────────────────┼────────────────────────┼───────────────┤\n",
              "│ dense_75 (<span style=\"color: #0087ff; text-decoration-color: #0087ff\">Dense</span>)                │ (<span style=\"color: #00d7ff; text-decoration-color: #00d7ff\">None</span>, <span style=\"color: #00af00; text-decoration-color: #00af00\">10</span>)             │         <span style=\"color: #00af00; text-decoration-color: #00af00\">1,290</span> │\n",
              "└─────────────────────────────────┴────────────────────────┴───────────────┘\n",
              "</pre>\n"
            ]
          },
          "metadata": {}
        },
        {
          "output_type": "display_data",
          "data": {
            "text/plain": [
              "\u001b[1m Total params: \u001b[0m\u001b[38;5;34m520,598\u001b[0m (1.99 MB)\n"
            ],
            "text/html": [
              "<pre style=\"white-space:pre;overflow-x:auto;line-height:normal;font-family:Menlo,'DejaVu Sans Mono',consolas,'Courier New',monospace\"><span style=\"font-weight: bold\"> Total params: </span><span style=\"color: #00af00; text-decoration-color: #00af00\">520,598</span> (1.99 MB)\n",
              "</pre>\n"
            ]
          },
          "metadata": {}
        },
        {
          "output_type": "display_data",
          "data": {
            "text/plain": [
              "\u001b[1m Trainable params: \u001b[0m\u001b[38;5;34m260,298\u001b[0m (1016.79 KB)\n"
            ],
            "text/html": [
              "<pre style=\"white-space:pre;overflow-x:auto;line-height:normal;font-family:Menlo,'DejaVu Sans Mono',consolas,'Courier New',monospace\"><span style=\"font-weight: bold\"> Trainable params: </span><span style=\"color: #00af00; text-decoration-color: #00af00\">260,298</span> (1016.79 KB)\n",
              "</pre>\n"
            ]
          },
          "metadata": {}
        },
        {
          "output_type": "display_data",
          "data": {
            "text/plain": [
              "\u001b[1m Non-trainable params: \u001b[0m\u001b[38;5;34m0\u001b[0m (0.00 B)\n"
            ],
            "text/html": [
              "<pre style=\"white-space:pre;overflow-x:auto;line-height:normal;font-family:Menlo,'DejaVu Sans Mono',consolas,'Courier New',monospace\"><span style=\"font-weight: bold\"> Non-trainable params: </span><span style=\"color: #00af00; text-decoration-color: #00af00\">0</span> (0.00 B)\n",
              "</pre>\n"
            ]
          },
          "metadata": {}
        },
        {
          "output_type": "display_data",
          "data": {
            "text/plain": [
              "\u001b[1m Optimizer params: \u001b[0m\u001b[38;5;34m260,300\u001b[0m (1016.80 KB)\n"
            ],
            "text/html": [
              "<pre style=\"white-space:pre;overflow-x:auto;line-height:normal;font-family:Menlo,'DejaVu Sans Mono',consolas,'Courier New',monospace\"><span style=\"font-weight: bold\"> Optimizer params: </span><span style=\"color: #00af00; text-decoration-color: #00af00\">260,300</span> (1016.80 KB)\n",
              "</pre>\n"
            ]
          },
          "metadata": {}
        },
        {
          "output_type": "stream",
          "name": "stdout",
          "text": [
            "\n",
            "Training CNN with Batch Size: 96\n",
            "Epoch 1/12\n",
            "\u001b[1m625/625\u001b[0m \u001b[32m━━━━━━━━━━━━━━━━━━━━\u001b[0m\u001b[37m\u001b[0m \u001b[1m74s\u001b[0m 117ms/step - accuracy: 0.7621 - loss: 0.7571 - val_accuracy: 0.9625 - val_loss: 0.1106\n",
            "Epoch 2/12\n",
            "\u001b[1m625/625\u001b[0m \u001b[32m━━━━━━━━━━━━━━━━━━━━\u001b[0m\u001b[37m\u001b[0m \u001b[1m83s\u001b[0m 119ms/step - accuracy: 0.9725 - loss: 0.0884 - val_accuracy: 0.9795 - val_loss: 0.0651\n",
            "Epoch 3/12\n",
            "\u001b[1m625/625\u001b[0m \u001b[32m━━━━━━━━━━━━━━━━━━━━\u001b[0m\u001b[37m\u001b[0m \u001b[1m74s\u001b[0m 118ms/step - accuracy: 0.9814 - loss: 0.0571 - val_accuracy: 0.9852 - val_loss: 0.0434\n",
            "Epoch 4/12\n",
            "\u001b[1m625/625\u001b[0m \u001b[32m━━━━━━━━━━━━━━━━━━━━\u001b[0m\u001b[37m\u001b[0m \u001b[1m73s\u001b[0m 117ms/step - accuracy: 0.9851 - loss: 0.0470 - val_accuracy: 0.9878 - val_loss: 0.0340\n",
            "Epoch 5/12\n",
            "\u001b[1m625/625\u001b[0m \u001b[32m━━━━━━━━━━━━━━━━━━━━\u001b[0m\u001b[37m\u001b[0m \u001b[1m85s\u001b[0m 121ms/step - accuracy: 0.9898 - loss: 0.0338 - val_accuracy: 0.9872 - val_loss: 0.0367\n",
            "Epoch 6/12\n",
            "\u001b[1m625/625\u001b[0m \u001b[32m━━━━━━━━━━━━━━━━━━━━\u001b[0m\u001b[37m\u001b[0m \u001b[1m74s\u001b[0m 119ms/step - accuracy: 0.9901 - loss: 0.0314 - val_accuracy: 0.9887 - val_loss: 0.0343\n",
            "Epoch 7/12\n",
            "\u001b[1m625/625\u001b[0m \u001b[32m━━━━━━━━━━━━━━━━━━━━\u001b[0m\u001b[37m\u001b[0m \u001b[1m84s\u001b[0m 123ms/step - accuracy: 0.9929 - loss: 0.0239 - val_accuracy: 0.9877 - val_loss: 0.0341\n",
            "Epoch 8/12\n",
            "\u001b[1m625/625\u001b[0m \u001b[32m━━━━━━━━━━━━━━━━━━━━\u001b[0m\u001b[37m\u001b[0m \u001b[1m80s\u001b[0m 121ms/step - accuracy: 0.9941 - loss: 0.0189 - val_accuracy: 0.9878 - val_loss: 0.0383\n",
            "Epoch 9/12\n",
            "\u001b[1m625/625\u001b[0m \u001b[32m━━━━━━━━━━━━━━━━━━━━\u001b[0m\u001b[37m\u001b[0m \u001b[1m80s\u001b[0m 118ms/step - accuracy: 0.9950 - loss: 0.0166 - val_accuracy: 0.9902 - val_loss: 0.0303\n",
            "Epoch 10/12\n",
            "\u001b[1m625/625\u001b[0m \u001b[32m━━━━━━━━━━━━━━━━━━━━\u001b[0m\u001b[37m\u001b[0m \u001b[1m74s\u001b[0m 118ms/step - accuracy: 0.9953 - loss: 0.0158 - val_accuracy: 0.9900 - val_loss: 0.0275\n",
            "Epoch 11/12\n",
            "\u001b[1m625/625\u001b[0m \u001b[32m━━━━━━━━━━━━━━━━━━━━\u001b[0m\u001b[37m\u001b[0m \u001b[1m76s\u001b[0m 121ms/step - accuracy: 0.9966 - loss: 0.0117 - val_accuracy: 0.9903 - val_loss: 0.0314\n",
            "Epoch 12/12\n",
            "\u001b[1m625/625\u001b[0m \u001b[32m━━━━━━━━━━━━━━━━━━━━\u001b[0m\u001b[37m\u001b[0m \u001b[1m81s\u001b[0m 119ms/step - accuracy: 0.9968 - loss: 0.0106 - val_accuracy: 0.9879 - val_loss: 0.0368\n",
            "\n",
            "Training CNN with Batch Size: 96\n",
            "\n",
            "===== Training Report =====\n",
            "Batch Size Used: 96\n",
            "\n",
            "===== Model Performance Summary =====\n",
            "Epochs: 12, Batch Size: 96\n",
            "Final Training Accuracy: 99.68%\n",
            "First 5 Epochs' Accuracy: [0.8966166377067566, 0.9751833081245422, 0.9825500249862671, 0.9869833588600159, 0.9888166785240173]\n",
            "Total Model Parameters: 260298\n",
            "Training time tracking not available.\n",
            "Avg Test Time per Epoch: 0.37 seconds\n",
            "Optimizer Used: SGD\n",
            "Learning Rate: 0.009999999776482582\n",
            "Optimizer Settings: {'name': 'SGD', 'learning_rate': 0.009999999776482582, 'weight_decay': None, 'clipnorm': None, 'global_clipnorm': None, 'clipvalue': None, 'use_ema': False, 'ema_momentum': 0.99, 'ema_overwrite_frequency': None, 'loss_scale_factor': None, 'gradient_accumulation_steps': None, 'momentum': 0.9, 'nesterov': False}\n",
            "\n",
            "===== Model Layers =====\n"
          ]
        },
        {
          "output_type": "display_data",
          "data": {
            "text/plain": [
              "\u001b[1mModel: \"sequential_29\"\u001b[0m\n"
            ],
            "text/html": [
              "<pre style=\"white-space:pre;overflow-x:auto;line-height:normal;font-family:Menlo,'DejaVu Sans Mono',consolas,'Courier New',monospace\"><span style=\"font-weight: bold\">Model: \"sequential_29\"</span>\n",
              "</pre>\n"
            ]
          },
          "metadata": {}
        },
        {
          "output_type": "display_data",
          "data": {
            "text/plain": [
              "┏━━━━━━━━━━━━━━━━━━━━━━━━━━━━━━━━━┳━━━━━━━━━━━━━━━━━━━━━━━━┳━━━━━━━━━━━━━━━┓\n",
              "┃\u001b[1m \u001b[0m\u001b[1mLayer (type)                   \u001b[0m\u001b[1m \u001b[0m┃\u001b[1m \u001b[0m\u001b[1mOutput Shape          \u001b[0m\u001b[1m \u001b[0m┃\u001b[1m \u001b[0m\u001b[1m      Param #\u001b[0m\u001b[1m \u001b[0m┃\n",
              "┡━━━━━━━━━━━━━━━━━━━━━━━━━━━━━━━━━╇━━━━━━━━━━━━━━━━━━━━━━━━╇━━━━━━━━━━━━━━━┩\n",
              "│ conv2d_51 (\u001b[38;5;33mConv2D\u001b[0m)              │ (\u001b[38;5;45mNone\u001b[0m, \u001b[38;5;34m26\u001b[0m, \u001b[38;5;34m26\u001b[0m, \u001b[38;5;34m64\u001b[0m)     │           \u001b[38;5;34m640\u001b[0m │\n",
              "├─────────────────────────────────┼────────────────────────┼───────────────┤\n",
              "│ max_pooling2d_51 (\u001b[38;5;33mMaxPooling2D\u001b[0m) │ (\u001b[38;5;45mNone\u001b[0m, \u001b[38;5;34m13\u001b[0m, \u001b[38;5;34m13\u001b[0m, \u001b[38;5;34m64\u001b[0m)     │             \u001b[38;5;34m0\u001b[0m │\n",
              "├─────────────────────────────────┼────────────────────────┼───────────────┤\n",
              "│ conv2d_52 (\u001b[38;5;33mConv2D\u001b[0m)              │ (\u001b[38;5;45mNone\u001b[0m, \u001b[38;5;34m11\u001b[0m, \u001b[38;5;34m11\u001b[0m, \u001b[38;5;34m64\u001b[0m)     │        \u001b[38;5;34m36,928\u001b[0m │\n",
              "├─────────────────────────────────┼────────────────────────┼───────────────┤\n",
              "│ max_pooling2d_52 (\u001b[38;5;33mMaxPooling2D\u001b[0m) │ (\u001b[38;5;45mNone\u001b[0m, \u001b[38;5;34m5\u001b[0m, \u001b[38;5;34m5\u001b[0m, \u001b[38;5;34m64\u001b[0m)       │             \u001b[38;5;34m0\u001b[0m │\n",
              "├─────────────────────────────────┼────────────────────────┼───────────────┤\n",
              "│ flatten_28 (\u001b[38;5;33mFlatten\u001b[0m)            │ (\u001b[38;5;45mNone\u001b[0m, \u001b[38;5;34m1600\u001b[0m)           │             \u001b[38;5;34m0\u001b[0m │\n",
              "├─────────────────────────────────┼────────────────────────┼───────────────┤\n",
              "│ dense_73 (\u001b[38;5;33mDense\u001b[0m)                │ (\u001b[38;5;45mNone\u001b[0m, \u001b[38;5;34m128\u001b[0m)            │       \u001b[38;5;34m204,928\u001b[0m │\n",
              "├─────────────────────────────────┼────────────────────────┼───────────────┤\n",
              "│ dense_74 (\u001b[38;5;33mDense\u001b[0m)                │ (\u001b[38;5;45mNone\u001b[0m, \u001b[38;5;34m128\u001b[0m)            │        \u001b[38;5;34m16,512\u001b[0m │\n",
              "├─────────────────────────────────┼────────────────────────┼───────────────┤\n",
              "│ dense_75 (\u001b[38;5;33mDense\u001b[0m)                │ (\u001b[38;5;45mNone\u001b[0m, \u001b[38;5;34m10\u001b[0m)             │         \u001b[38;5;34m1,290\u001b[0m │\n",
              "└─────────────────────────────────┴────────────────────────┴───────────────┘\n"
            ],
            "text/html": [
              "<pre style=\"white-space:pre;overflow-x:auto;line-height:normal;font-family:Menlo,'DejaVu Sans Mono',consolas,'Courier New',monospace\">┏━━━━━━━━━━━━━━━━━━━━━━━━━━━━━━━━━┳━━━━━━━━━━━━━━━━━━━━━━━━┳━━━━━━━━━━━━━━━┓\n",
              "┃<span style=\"font-weight: bold\"> Layer (type)                    </span>┃<span style=\"font-weight: bold\"> Output Shape           </span>┃<span style=\"font-weight: bold\">       Param # </span>┃\n",
              "┡━━━━━━━━━━━━━━━━━━━━━━━━━━━━━━━━━╇━━━━━━━━━━━━━━━━━━━━━━━━╇━━━━━━━━━━━━━━━┩\n",
              "│ conv2d_51 (<span style=\"color: #0087ff; text-decoration-color: #0087ff\">Conv2D</span>)              │ (<span style=\"color: #00d7ff; text-decoration-color: #00d7ff\">None</span>, <span style=\"color: #00af00; text-decoration-color: #00af00\">26</span>, <span style=\"color: #00af00; text-decoration-color: #00af00\">26</span>, <span style=\"color: #00af00; text-decoration-color: #00af00\">64</span>)     │           <span style=\"color: #00af00; text-decoration-color: #00af00\">640</span> │\n",
              "├─────────────────────────────────┼────────────────────────┼───────────────┤\n",
              "│ max_pooling2d_51 (<span style=\"color: #0087ff; text-decoration-color: #0087ff\">MaxPooling2D</span>) │ (<span style=\"color: #00d7ff; text-decoration-color: #00d7ff\">None</span>, <span style=\"color: #00af00; text-decoration-color: #00af00\">13</span>, <span style=\"color: #00af00; text-decoration-color: #00af00\">13</span>, <span style=\"color: #00af00; text-decoration-color: #00af00\">64</span>)     │             <span style=\"color: #00af00; text-decoration-color: #00af00\">0</span> │\n",
              "├─────────────────────────────────┼────────────────────────┼───────────────┤\n",
              "│ conv2d_52 (<span style=\"color: #0087ff; text-decoration-color: #0087ff\">Conv2D</span>)              │ (<span style=\"color: #00d7ff; text-decoration-color: #00d7ff\">None</span>, <span style=\"color: #00af00; text-decoration-color: #00af00\">11</span>, <span style=\"color: #00af00; text-decoration-color: #00af00\">11</span>, <span style=\"color: #00af00; text-decoration-color: #00af00\">64</span>)     │        <span style=\"color: #00af00; text-decoration-color: #00af00\">36,928</span> │\n",
              "├─────────────────────────────────┼────────────────────────┼───────────────┤\n",
              "│ max_pooling2d_52 (<span style=\"color: #0087ff; text-decoration-color: #0087ff\">MaxPooling2D</span>) │ (<span style=\"color: #00d7ff; text-decoration-color: #00d7ff\">None</span>, <span style=\"color: #00af00; text-decoration-color: #00af00\">5</span>, <span style=\"color: #00af00; text-decoration-color: #00af00\">5</span>, <span style=\"color: #00af00; text-decoration-color: #00af00\">64</span>)       │             <span style=\"color: #00af00; text-decoration-color: #00af00\">0</span> │\n",
              "├─────────────────────────────────┼────────────────────────┼───────────────┤\n",
              "│ flatten_28 (<span style=\"color: #0087ff; text-decoration-color: #0087ff\">Flatten</span>)            │ (<span style=\"color: #00d7ff; text-decoration-color: #00d7ff\">None</span>, <span style=\"color: #00af00; text-decoration-color: #00af00\">1600</span>)           │             <span style=\"color: #00af00; text-decoration-color: #00af00\">0</span> │\n",
              "├─────────────────────────────────┼────────────────────────┼───────────────┤\n",
              "│ dense_73 (<span style=\"color: #0087ff; text-decoration-color: #0087ff\">Dense</span>)                │ (<span style=\"color: #00d7ff; text-decoration-color: #00d7ff\">None</span>, <span style=\"color: #00af00; text-decoration-color: #00af00\">128</span>)            │       <span style=\"color: #00af00; text-decoration-color: #00af00\">204,928</span> │\n",
              "├─────────────────────────────────┼────────────────────────┼───────────────┤\n",
              "│ dense_74 (<span style=\"color: #0087ff; text-decoration-color: #0087ff\">Dense</span>)                │ (<span style=\"color: #00d7ff; text-decoration-color: #00d7ff\">None</span>, <span style=\"color: #00af00; text-decoration-color: #00af00\">128</span>)            │        <span style=\"color: #00af00; text-decoration-color: #00af00\">16,512</span> │\n",
              "├─────────────────────────────────┼────────────────────────┼───────────────┤\n",
              "│ dense_75 (<span style=\"color: #0087ff; text-decoration-color: #0087ff\">Dense</span>)                │ (<span style=\"color: #00d7ff; text-decoration-color: #00d7ff\">None</span>, <span style=\"color: #00af00; text-decoration-color: #00af00\">10</span>)             │         <span style=\"color: #00af00; text-decoration-color: #00af00\">1,290</span> │\n",
              "└─────────────────────────────────┴────────────────────────┴───────────────┘\n",
              "</pre>\n"
            ]
          },
          "metadata": {}
        },
        {
          "output_type": "display_data",
          "data": {
            "text/plain": [
              "\u001b[1m Total params: \u001b[0m\u001b[38;5;34m520,598\u001b[0m (1.99 MB)\n"
            ],
            "text/html": [
              "<pre style=\"white-space:pre;overflow-x:auto;line-height:normal;font-family:Menlo,'DejaVu Sans Mono',consolas,'Courier New',monospace\"><span style=\"font-weight: bold\"> Total params: </span><span style=\"color: #00af00; text-decoration-color: #00af00\">520,598</span> (1.99 MB)\n",
              "</pre>\n"
            ]
          },
          "metadata": {}
        },
        {
          "output_type": "display_data",
          "data": {
            "text/plain": [
              "\u001b[1m Trainable params: \u001b[0m\u001b[38;5;34m260,298\u001b[0m (1016.79 KB)\n"
            ],
            "text/html": [
              "<pre style=\"white-space:pre;overflow-x:auto;line-height:normal;font-family:Menlo,'DejaVu Sans Mono',consolas,'Courier New',monospace\"><span style=\"font-weight: bold\"> Trainable params: </span><span style=\"color: #00af00; text-decoration-color: #00af00\">260,298</span> (1016.79 KB)\n",
              "</pre>\n"
            ]
          },
          "metadata": {}
        },
        {
          "output_type": "display_data",
          "data": {
            "text/plain": [
              "\u001b[1m Non-trainable params: \u001b[0m\u001b[38;5;34m0\u001b[0m (0.00 B)\n"
            ],
            "text/html": [
              "<pre style=\"white-space:pre;overflow-x:auto;line-height:normal;font-family:Menlo,'DejaVu Sans Mono',consolas,'Courier New',monospace\"><span style=\"font-weight: bold\"> Non-trainable params: </span><span style=\"color: #00af00; text-decoration-color: #00af00\">0</span> (0.00 B)\n",
              "</pre>\n"
            ]
          },
          "metadata": {}
        },
        {
          "output_type": "display_data",
          "data": {
            "text/plain": [
              "\u001b[1m Optimizer params: \u001b[0m\u001b[38;5;34m260,300\u001b[0m (1016.80 KB)\n"
            ],
            "text/html": [
              "<pre style=\"white-space:pre;overflow-x:auto;line-height:normal;font-family:Menlo,'DejaVu Sans Mono',consolas,'Courier New',monospace\"><span style=\"font-weight: bold\"> Optimizer params: </span><span style=\"color: #00af00; text-decoration-color: #00af00\">260,300</span> (1016.80 KB)\n",
              "</pre>\n"
            ]
          },
          "metadata": {}
        }
      ]
    },
    {
      "cell_type": "markdown",
      "source": [
        "Final Training Accuracy\n",
        "- Batch Size 64: 99.77% → Slightly better accuracy.\n",
        "- Batch Size 96: 99.68% → Slightly lower accuracy.\n",
        "- Analysis: The smaller batch size (64) allows for more frequent updates, improving generalization.\n",
        "\n",
        "First 5 Epochs' Accuracy\n",
        "- Batch Size 64: Accuracy increased faster, reaching ~99% in 5 epochs.\n",
        "- Batch Size 96: Accuracy rose more gradually, slightly slower convergence.\n",
        "- Analysis: Smaller batch sizes can lead to faster convergence due to more frequent weight updates.\n",
        "\n",
        "Average Test Time per Epoch\n",
        "- Batch Size 64: 0.43 sec → Slower inference but better accuracy.\n",
        "- Batch Size 96: 0.37 sec → Faster inference, but slightly lower accuracy.\n",
        "- Analysis: The larger batch reduces computational cost per sample, resulting in faster evaluation.\n",
        "\n",
        "Impact on Generalization\n",
        "- Batch Size 64: Allowed more frequent updates, leading to better accuracy.\n",
        "- Batch Size 96: Larger updates require more memory, but they optimize speed at the cost of slight accuracy loss.\n",
        "**Final Conclusion**\n",
        "\n",
        " **Batch Size 64** is preferable for higher accuracy and better convergence.\n",
        " Batch Size 96 is preferable for faster processing and lower computational demand.\n"
      ],
      "metadata": {
        "id": "cAZcif38YiCA"
      }
    },
    {
      "cell_type": "markdown",
      "source": [
        "7- Now try changing all the activations to something else and train the model. Use at least 3 other\n",
        "activations and observe the changes (info on what you should observe in all the steps is in\n",
        "segment ‘C’)."
      ],
      "metadata": {
        "id": "-4tgpwuWhFyy"
      }
    },
    {
      "cell_type": "code",
      "source": [
        "from tensorflow.keras.layers import LeakyReLU\n",
        "from tensorflow.keras.optimizers import SGD\n",
        "from tensorflow.keras.models import Sequential\n",
        "from tensorflow.keras.layers import Conv2D, MaxPooling2D, Flatten, Dense\n",
        "import time\n",
        "\n",
        "\n",
        "def build_model(activation):\n",
        "\n",
        "    cnn = Sequential([\n",
        "        Conv2D(64, (3, 3), activation=activation, input_shape=(28, 28, 1)),\n",
        "        MaxPooling2D(pool_size=(2, 2), strides=(2, 2)),\n",
        "        Conv2D(64, (3, 3), activation=activation),\n",
        "        MaxPooling2D(pool_size=(2, 2), strides=(2, 2)),\n",
        "        Flatten(),\n",
        "        Dense(128, activation=activation),\n",
        "        Dense(128, activation=activation),\n",
        "        Dense(10, activation='softmax')\n",
        "    ])\n",
        "    optimizer = SGD(learning_rate=0.01, momentum=0.9)\n",
        "    cnn.compile(optimizer=optimizer, loss='categorical_crossentropy', metrics=['accuracy'])\n",
        "\n",
        "    return cnn\n",
        "activations = [\"sigmoid\", \"tanh\", LeakyReLU(alpha=0.01)]\n",
        "batch_size = 64\n",
        "\n",
        "for activation in activations:\n",
        "    print(f\"\\nTraining CNN with Activation: {activation}\")\n",
        "    cnn = build_model(activation)\n",
        "\n",
        "    history = cnn.fit(x_train, y_train_cat, batch_size=batch_size, epochs=12, validation_data=(x_test, y_test_cat), shuffle=True)\n",
        "\n",
        "    print(\"\\n===== Training Report =====\")\n",
        "    print(f\"Activation Used: {activation}\")\n",
        "    summarize_results(cnn, history, 12, batch_size, (x_test, y_test_cat))"
      ],
      "metadata": {
        "colab": {
          "base_uri": "https://localhost:8080/",
          "height": 1000
        },
        "collapsed": true,
        "id": "05moTSV8fK4B",
        "outputId": "2ede7da9-f467-4cd8-fab5-4a62399b30e7"
      },
      "execution_count": null,
      "outputs": [
        {
          "output_type": "stream",
          "name": "stdout",
          "text": [
            "\n",
            "Training CNN with Activation: sigmoid\n",
            "Epoch 1/12\n",
            "\u001b[1m938/938\u001b[0m \u001b[32m━━━━━━━━━━━━━━━━━━━━\u001b[0m\u001b[37m\u001b[0m \u001b[1m89s\u001b[0m 94ms/step - accuracy: 0.1025 - loss: 2.3208 - val_accuracy: 0.0982 - val_loss: 2.3047\n",
            "Epoch 2/12\n",
            "\u001b[1m938/938\u001b[0m \u001b[32m━━━━━━━━━━━━━━━━━━━━\u001b[0m\u001b[37m\u001b[0m \u001b[1m142s\u001b[0m 94ms/step - accuracy: 0.1060 - loss: 2.3083 - val_accuracy: 0.1032 - val_loss: 2.3020\n",
            "Epoch 3/12\n",
            "\u001b[1m938/938\u001b[0m \u001b[32m━━━━━━━━━━━━━━━━━━━━\u001b[0m\u001b[37m\u001b[0m \u001b[1m141s\u001b[0m 93ms/step - accuracy: 0.1050 - loss: 2.3073 - val_accuracy: 0.1010 - val_loss: 2.3095\n",
            "Epoch 4/12\n",
            "\u001b[1m938/938\u001b[0m \u001b[32m━━━━━━━━━━━━━━━━━━━━\u001b[0m\u001b[37m\u001b[0m \u001b[1m143s\u001b[0m 94ms/step - accuracy: 0.1083 - loss: 2.3043 - val_accuracy: 0.1032 - val_loss: 2.3022\n",
            "Epoch 5/12\n",
            "\u001b[1m938/938\u001b[0m \u001b[32m━━━━━━━━━━━━━━━━━━━━\u001b[0m\u001b[37m\u001b[0m \u001b[1m88s\u001b[0m 94ms/step - accuracy: 0.1112 - loss: 2.3035 - val_accuracy: 0.1135 - val_loss: 2.2993\n",
            "Epoch 6/12\n",
            "\u001b[1m938/938\u001b[0m \u001b[32m━━━━━━━━━━━━━━━━━━━━\u001b[0m\u001b[37m\u001b[0m \u001b[1m143s\u001b[0m 95ms/step - accuracy: 0.1176 - loss: 2.2989 - val_accuracy: 0.1687 - val_loss: 2.2751\n",
            "Epoch 7/12\n",
            "\u001b[1m938/938\u001b[0m \u001b[32m━━━━━━━━━━━━━━━━━━━━\u001b[0m\u001b[37m\u001b[0m \u001b[1m139s\u001b[0m 91ms/step - accuracy: 0.3290 - loss: 1.9904 - val_accuracy: 0.7729 - val_loss: 0.7125\n",
            "Epoch 8/12\n",
            "\u001b[1m938/938\u001b[0m \u001b[32m━━━━━━━━━━━━━━━━━━━━\u001b[0m\u001b[37m\u001b[0m \u001b[1m141s\u001b[0m 90ms/step - accuracy: 0.8266 - loss: 0.5936 - val_accuracy: 0.8953 - val_loss: 0.3650\n",
            "Epoch 9/12\n",
            "\u001b[1m938/938\u001b[0m \u001b[32m━━━━━━━━━━━━━━━━━━━━\u001b[0m\u001b[37m\u001b[0m \u001b[1m143s\u001b[0m 91ms/step - accuracy: 0.8963 - loss: 0.3566 - val_accuracy: 0.9240 - val_loss: 0.2571\n",
            "Epoch 10/12\n",
            "\u001b[1m938/938\u001b[0m \u001b[32m━━━━━━━━━━━━━━━━━━━━\u001b[0m\u001b[37m\u001b[0m \u001b[1m143s\u001b[0m 92ms/step - accuracy: 0.9262 - loss: 0.2498 - val_accuracy: 0.9428 - val_loss: 0.1869\n",
            "Epoch 11/12\n",
            "\u001b[1m938/938\u001b[0m \u001b[32m━━━━━━━━━━━━━━━━━━━━\u001b[0m\u001b[37m\u001b[0m \u001b[1m142s\u001b[0m 92ms/step - accuracy: 0.9443 - loss: 0.1876 - val_accuracy: 0.9546 - val_loss: 0.1538\n",
            "Epoch 12/12\n",
            "\u001b[1m938/938\u001b[0m \u001b[32m━━━━━━━━━━━━━━━━━━━━\u001b[0m\u001b[37m\u001b[0m \u001b[1m143s\u001b[0m 92ms/step - accuracy: 0.9551 - loss: 0.1521 - val_accuracy: 0.9592 - val_loss: 0.1292\n",
            "\n",
            "===== Training Report =====\n",
            "Activation Used: sigmoid\n",
            "\n",
            "===== Model Performance Summary =====\n",
            "Epochs: 12, Batch Size: 64\n",
            "Final Training Accuracy: 95.61%\n",
            "First 5 Epochs' Accuracy: [0.10189999639987946, 0.10599999874830246, 0.10583333671092987, 0.10663333535194397, 0.1114666685461998]\n",
            "Total Model Parameters: 260298\n",
            "Training time tracking not available.\n",
            "Avg Test Time per Epoch: 0.31 seconds\n",
            "Optimizer Used: SGD\n",
            "Learning Rate: 0.009999999776482582\n",
            "Optimizer Settings: {'name': 'SGD', 'learning_rate': 0.009999999776482582, 'weight_decay': None, 'clipnorm': None, 'global_clipnorm': None, 'clipvalue': None, 'use_ema': False, 'ema_momentum': 0.99, 'ema_overwrite_frequency': None, 'loss_scale_factor': None, 'gradient_accumulation_steps': None, 'momentum': 0.9, 'nesterov': False}\n",
            "\n",
            "===== Model Layers =====\n"
          ]
        },
        {
          "output_type": "display_data",
          "data": {
            "text/plain": [
              "\u001b[1mModel: \"sequential_1\"\u001b[0m\n"
            ],
            "text/html": [
              "<pre style=\"white-space:pre;overflow-x:auto;line-height:normal;font-family:Menlo,'DejaVu Sans Mono',consolas,'Courier New',monospace\"><span style=\"font-weight: bold\">Model: \"sequential_1\"</span>\n",
              "</pre>\n"
            ]
          },
          "metadata": {}
        },
        {
          "output_type": "display_data",
          "data": {
            "text/plain": [
              "┏━━━━━━━━━━━━━━━━━━━━━━━━━━━━━━━━━┳━━━━━━━━━━━━━━━━━━━━━━━━┳━━━━━━━━━━━━━━━┓\n",
              "┃\u001b[1m \u001b[0m\u001b[1mLayer (type)                   \u001b[0m\u001b[1m \u001b[0m┃\u001b[1m \u001b[0m\u001b[1mOutput Shape          \u001b[0m\u001b[1m \u001b[0m┃\u001b[1m \u001b[0m\u001b[1m      Param #\u001b[0m\u001b[1m \u001b[0m┃\n",
              "┡━━━━━━━━━━━━━━━━━━━━━━━━━━━━━━━━━╇━━━━━━━━━━━━━━━━━━━━━━━━╇━━━━━━━━━━━━━━━┩\n",
              "│ conv2d_2 (\u001b[38;5;33mConv2D\u001b[0m)               │ (\u001b[38;5;45mNone\u001b[0m, \u001b[38;5;34m26\u001b[0m, \u001b[38;5;34m26\u001b[0m, \u001b[38;5;34m64\u001b[0m)     │           \u001b[38;5;34m640\u001b[0m │\n",
              "├─────────────────────────────────┼────────────────────────┼───────────────┤\n",
              "│ max_pooling2d_2 (\u001b[38;5;33mMaxPooling2D\u001b[0m)  │ (\u001b[38;5;45mNone\u001b[0m, \u001b[38;5;34m13\u001b[0m, \u001b[38;5;34m13\u001b[0m, \u001b[38;5;34m64\u001b[0m)     │             \u001b[38;5;34m0\u001b[0m │\n",
              "├─────────────────────────────────┼────────────────────────┼───────────────┤\n",
              "│ conv2d_3 (\u001b[38;5;33mConv2D\u001b[0m)               │ (\u001b[38;5;45mNone\u001b[0m, \u001b[38;5;34m11\u001b[0m, \u001b[38;5;34m11\u001b[0m, \u001b[38;5;34m64\u001b[0m)     │        \u001b[38;5;34m36,928\u001b[0m │\n",
              "├─────────────────────────────────┼────────────────────────┼───────────────┤\n",
              "│ max_pooling2d_3 (\u001b[38;5;33mMaxPooling2D\u001b[0m)  │ (\u001b[38;5;45mNone\u001b[0m, \u001b[38;5;34m5\u001b[0m, \u001b[38;5;34m5\u001b[0m, \u001b[38;5;34m64\u001b[0m)       │             \u001b[38;5;34m0\u001b[0m │\n",
              "├─────────────────────────────────┼────────────────────────┼───────────────┤\n",
              "│ flatten_1 (\u001b[38;5;33mFlatten\u001b[0m)             │ (\u001b[38;5;45mNone\u001b[0m, \u001b[38;5;34m1600\u001b[0m)           │             \u001b[38;5;34m0\u001b[0m │\n",
              "├─────────────────────────────────┼────────────────────────┼───────────────┤\n",
              "│ dense_3 (\u001b[38;5;33mDense\u001b[0m)                 │ (\u001b[38;5;45mNone\u001b[0m, \u001b[38;5;34m128\u001b[0m)            │       \u001b[38;5;34m204,928\u001b[0m │\n",
              "├─────────────────────────────────┼────────────────────────┼───────────────┤\n",
              "│ dense_4 (\u001b[38;5;33mDense\u001b[0m)                 │ (\u001b[38;5;45mNone\u001b[0m, \u001b[38;5;34m128\u001b[0m)            │        \u001b[38;5;34m16,512\u001b[0m │\n",
              "├─────────────────────────────────┼────────────────────────┼───────────────┤\n",
              "│ dense_5 (\u001b[38;5;33mDense\u001b[0m)                 │ (\u001b[38;5;45mNone\u001b[0m, \u001b[38;5;34m10\u001b[0m)             │         \u001b[38;5;34m1,290\u001b[0m │\n",
              "└─────────────────────────────────┴────────────────────────┴───────────────┘\n"
            ],
            "text/html": [
              "<pre style=\"white-space:pre;overflow-x:auto;line-height:normal;font-family:Menlo,'DejaVu Sans Mono',consolas,'Courier New',monospace\">┏━━━━━━━━━━━━━━━━━━━━━━━━━━━━━━━━━┳━━━━━━━━━━━━━━━━━━━━━━━━┳━━━━━━━━━━━━━━━┓\n",
              "┃<span style=\"font-weight: bold\"> Layer (type)                    </span>┃<span style=\"font-weight: bold\"> Output Shape           </span>┃<span style=\"font-weight: bold\">       Param # </span>┃\n",
              "┡━━━━━━━━━━━━━━━━━━━━━━━━━━━━━━━━━╇━━━━━━━━━━━━━━━━━━━━━━━━╇━━━━━━━━━━━━━━━┩\n",
              "│ conv2d_2 (<span style=\"color: #0087ff; text-decoration-color: #0087ff\">Conv2D</span>)               │ (<span style=\"color: #00d7ff; text-decoration-color: #00d7ff\">None</span>, <span style=\"color: #00af00; text-decoration-color: #00af00\">26</span>, <span style=\"color: #00af00; text-decoration-color: #00af00\">26</span>, <span style=\"color: #00af00; text-decoration-color: #00af00\">64</span>)     │           <span style=\"color: #00af00; text-decoration-color: #00af00\">640</span> │\n",
              "├─────────────────────────────────┼────────────────────────┼───────────────┤\n",
              "│ max_pooling2d_2 (<span style=\"color: #0087ff; text-decoration-color: #0087ff\">MaxPooling2D</span>)  │ (<span style=\"color: #00d7ff; text-decoration-color: #00d7ff\">None</span>, <span style=\"color: #00af00; text-decoration-color: #00af00\">13</span>, <span style=\"color: #00af00; text-decoration-color: #00af00\">13</span>, <span style=\"color: #00af00; text-decoration-color: #00af00\">64</span>)     │             <span style=\"color: #00af00; text-decoration-color: #00af00\">0</span> │\n",
              "├─────────────────────────────────┼────────────────────────┼───────────────┤\n",
              "│ conv2d_3 (<span style=\"color: #0087ff; text-decoration-color: #0087ff\">Conv2D</span>)               │ (<span style=\"color: #00d7ff; text-decoration-color: #00d7ff\">None</span>, <span style=\"color: #00af00; text-decoration-color: #00af00\">11</span>, <span style=\"color: #00af00; text-decoration-color: #00af00\">11</span>, <span style=\"color: #00af00; text-decoration-color: #00af00\">64</span>)     │        <span style=\"color: #00af00; text-decoration-color: #00af00\">36,928</span> │\n",
              "├─────────────────────────────────┼────────────────────────┼───────────────┤\n",
              "│ max_pooling2d_3 (<span style=\"color: #0087ff; text-decoration-color: #0087ff\">MaxPooling2D</span>)  │ (<span style=\"color: #00d7ff; text-decoration-color: #00d7ff\">None</span>, <span style=\"color: #00af00; text-decoration-color: #00af00\">5</span>, <span style=\"color: #00af00; text-decoration-color: #00af00\">5</span>, <span style=\"color: #00af00; text-decoration-color: #00af00\">64</span>)       │             <span style=\"color: #00af00; text-decoration-color: #00af00\">0</span> │\n",
              "├─────────────────────────────────┼────────────────────────┼───────────────┤\n",
              "│ flatten_1 (<span style=\"color: #0087ff; text-decoration-color: #0087ff\">Flatten</span>)             │ (<span style=\"color: #00d7ff; text-decoration-color: #00d7ff\">None</span>, <span style=\"color: #00af00; text-decoration-color: #00af00\">1600</span>)           │             <span style=\"color: #00af00; text-decoration-color: #00af00\">0</span> │\n",
              "├─────────────────────────────────┼────────────────────────┼───────────────┤\n",
              "│ dense_3 (<span style=\"color: #0087ff; text-decoration-color: #0087ff\">Dense</span>)                 │ (<span style=\"color: #00d7ff; text-decoration-color: #00d7ff\">None</span>, <span style=\"color: #00af00; text-decoration-color: #00af00\">128</span>)            │       <span style=\"color: #00af00; text-decoration-color: #00af00\">204,928</span> │\n",
              "├─────────────────────────────────┼────────────────────────┼───────────────┤\n",
              "│ dense_4 (<span style=\"color: #0087ff; text-decoration-color: #0087ff\">Dense</span>)                 │ (<span style=\"color: #00d7ff; text-decoration-color: #00d7ff\">None</span>, <span style=\"color: #00af00; text-decoration-color: #00af00\">128</span>)            │        <span style=\"color: #00af00; text-decoration-color: #00af00\">16,512</span> │\n",
              "├─────────────────────────────────┼────────────────────────┼───────────────┤\n",
              "│ dense_5 (<span style=\"color: #0087ff; text-decoration-color: #0087ff\">Dense</span>)                 │ (<span style=\"color: #00d7ff; text-decoration-color: #00d7ff\">None</span>, <span style=\"color: #00af00; text-decoration-color: #00af00\">10</span>)             │         <span style=\"color: #00af00; text-decoration-color: #00af00\">1,290</span> │\n",
              "└─────────────────────────────────┴────────────────────────┴───────────────┘\n",
              "</pre>\n"
            ]
          },
          "metadata": {}
        },
        {
          "output_type": "display_data",
          "data": {
            "text/plain": [
              "\u001b[1m Total params: \u001b[0m\u001b[38;5;34m520,598\u001b[0m (1.99 MB)\n"
            ],
            "text/html": [
              "<pre style=\"white-space:pre;overflow-x:auto;line-height:normal;font-family:Menlo,'DejaVu Sans Mono',consolas,'Courier New',monospace\"><span style=\"font-weight: bold\"> Total params: </span><span style=\"color: #00af00; text-decoration-color: #00af00\">520,598</span> (1.99 MB)\n",
              "</pre>\n"
            ]
          },
          "metadata": {}
        },
        {
          "output_type": "display_data",
          "data": {
            "text/plain": [
              "\u001b[1m Trainable params: \u001b[0m\u001b[38;5;34m260,298\u001b[0m (1016.79 KB)\n"
            ],
            "text/html": [
              "<pre style=\"white-space:pre;overflow-x:auto;line-height:normal;font-family:Menlo,'DejaVu Sans Mono',consolas,'Courier New',monospace\"><span style=\"font-weight: bold\"> Trainable params: </span><span style=\"color: #00af00; text-decoration-color: #00af00\">260,298</span> (1016.79 KB)\n",
              "</pre>\n"
            ]
          },
          "metadata": {}
        },
        {
          "output_type": "display_data",
          "data": {
            "text/plain": [
              "\u001b[1m Non-trainable params: \u001b[0m\u001b[38;5;34m0\u001b[0m (0.00 B)\n"
            ],
            "text/html": [
              "<pre style=\"white-space:pre;overflow-x:auto;line-height:normal;font-family:Menlo,'DejaVu Sans Mono',consolas,'Courier New',monospace\"><span style=\"font-weight: bold\"> Non-trainable params: </span><span style=\"color: #00af00; text-decoration-color: #00af00\">0</span> (0.00 B)\n",
              "</pre>\n"
            ]
          },
          "metadata": {}
        },
        {
          "output_type": "display_data",
          "data": {
            "text/plain": [
              "\u001b[1m Optimizer params: \u001b[0m\u001b[38;5;34m260,300\u001b[0m (1016.80 KB)\n"
            ],
            "text/html": [
              "<pre style=\"white-space:pre;overflow-x:auto;line-height:normal;font-family:Menlo,'DejaVu Sans Mono',consolas,'Courier New',monospace\"><span style=\"font-weight: bold\"> Optimizer params: </span><span style=\"color: #00af00; text-decoration-color: #00af00\">260,300</span> (1016.80 KB)\n",
              "</pre>\n"
            ]
          },
          "metadata": {}
        },
        {
          "output_type": "stream",
          "name": "stdout",
          "text": [
            "\n",
            "Training CNN with Activation: tanh\n",
            "Epoch 1/12\n",
            "\u001b[1m938/938\u001b[0m \u001b[32m━━━━━━━━━━━━━━━━━━━━\u001b[0m\u001b[37m\u001b[0m \u001b[1m89s\u001b[0m 94ms/step - accuracy: 0.8296 - loss: 0.5518 - val_accuracy: 0.9742 - val_loss: 0.0846\n",
            "Epoch 2/12\n",
            "\u001b[1m938/938\u001b[0m \u001b[32m━━━━━━━━━━━━━━━━━━━━\u001b[0m\u001b[37m\u001b[0m \u001b[1m140s\u001b[0m 92ms/step - accuracy: 0.9789 - loss: 0.0722 - val_accuracy: 0.9862 - val_loss: 0.0470\n",
            "Epoch 3/12\n",
            "\u001b[1m938/938\u001b[0m \u001b[32m━━━━━━━━━━━━━━━━━━━━\u001b[0m\u001b[37m\u001b[0m \u001b[1m145s\u001b[0m 95ms/step - accuracy: 0.9856 - loss: 0.0479 - val_accuracy: 0.9809 - val_loss: 0.0598\n",
            "Epoch 4/12\n",
            "\u001b[1m938/938\u001b[0m \u001b[32m━━━━━━━━━━━━━━━━━━━━\u001b[0m\u001b[37m\u001b[0m \u001b[1m141s\u001b[0m 93ms/step - accuracy: 0.9904 - loss: 0.0326 - val_accuracy: 0.9884 - val_loss: 0.0340\n",
            "Epoch 5/12\n",
            "\u001b[1m938/938\u001b[0m \u001b[32m━━━━━━━━━━━━━━━━━━━━\u001b[0m\u001b[37m\u001b[0m \u001b[1m141s\u001b[0m 92ms/step - accuracy: 0.9929 - loss: 0.0247 - val_accuracy: 0.9883 - val_loss: 0.0326\n",
            "Epoch 6/12\n",
            "\u001b[1m938/938\u001b[0m \u001b[32m━━━━━━━━━━━━━━━━━━━━\u001b[0m\u001b[37m\u001b[0m \u001b[1m144s\u001b[0m 94ms/step - accuracy: 0.9947 - loss: 0.0185 - val_accuracy: 0.9891 - val_loss: 0.0313\n",
            "Epoch 7/12\n",
            "\u001b[1m938/938\u001b[0m \u001b[32m━━━━━━━━━━━━━━━━━━━━\u001b[0m\u001b[37m\u001b[0m \u001b[1m86s\u001b[0m 92ms/step - accuracy: 0.9963 - loss: 0.0150 - val_accuracy: 0.9904 - val_loss: 0.0291\n",
            "Epoch 8/12\n",
            "\u001b[1m938/938\u001b[0m \u001b[32m━━━━━━━━━━━━━━━━━━━━\u001b[0m\u001b[37m\u001b[0m \u001b[1m143s\u001b[0m 94ms/step - accuracy: 0.9965 - loss: 0.0128 - val_accuracy: 0.9913 - val_loss: 0.0288\n",
            "Epoch 9/12\n",
            "\u001b[1m938/938\u001b[0m \u001b[32m━━━━━━━━━━━━━━━━━━━━\u001b[0m\u001b[37m\u001b[0m \u001b[1m141s\u001b[0m 93ms/step - accuracy: 0.9978 - loss: 0.0093 - val_accuracy: 0.9910 - val_loss: 0.0284\n",
            "Epoch 10/12\n",
            "\u001b[1m938/938\u001b[0m \u001b[32m━━━━━━━━━━━━━━━━━━━━\u001b[0m\u001b[37m\u001b[0m \u001b[1m141s\u001b[0m 93ms/step - accuracy: 0.9988 - loss: 0.0065 - val_accuracy: 0.9901 - val_loss: 0.0319\n",
            "Epoch 11/12\n",
            "\u001b[1m938/938\u001b[0m \u001b[32m━━━━━━━━━━━━━━━━━━━━\u001b[0m\u001b[37m\u001b[0m \u001b[1m141s\u001b[0m 91ms/step - accuracy: 0.9989 - loss: 0.0059 - val_accuracy: 0.9899 - val_loss: 0.0307\n",
            "Epoch 12/12\n",
            "\u001b[1m938/938\u001b[0m \u001b[32m━━━━━━━━━━━━━━━━━━━━\u001b[0m\u001b[37m\u001b[0m \u001b[1m144s\u001b[0m 94ms/step - accuracy: 0.9995 - loss: 0.0043 - val_accuracy: 0.9908 - val_loss: 0.0273\n",
            "\n",
            "===== Training Report =====\n",
            "Activation Used: tanh\n",
            "\n",
            "===== Model Performance Summary =====\n",
            "Epochs: 12, Batch Size: 64\n",
            "Final Training Accuracy: 99.92%\n",
            "First 5 Epochs' Accuracy: [0.9270666837692261, 0.9798833131790161, 0.9864333271980286, 0.9900166392326355, 0.9926499724388123]\n",
            "Total Model Parameters: 260298\n",
            "Training time tracking not available.\n",
            "Avg Test Time per Epoch: 0.40 seconds\n",
            "Optimizer Used: SGD\n",
            "Learning Rate: 0.009999999776482582\n",
            "Optimizer Settings: {'name': 'SGD', 'learning_rate': 0.009999999776482582, 'weight_decay': None, 'clipnorm': None, 'global_clipnorm': None, 'clipvalue': None, 'use_ema': False, 'ema_momentum': 0.99, 'ema_overwrite_frequency': None, 'loss_scale_factor': None, 'gradient_accumulation_steps': None, 'momentum': 0.9, 'nesterov': False}\n",
            "\n",
            "===== Model Layers =====\n"
          ]
        },
        {
          "output_type": "display_data",
          "data": {
            "text/plain": [
              "\u001b[1mModel: \"sequential_2\"\u001b[0m\n"
            ],
            "text/html": [
              "<pre style=\"white-space:pre;overflow-x:auto;line-height:normal;font-family:Menlo,'DejaVu Sans Mono',consolas,'Courier New',monospace\"><span style=\"font-weight: bold\">Model: \"sequential_2\"</span>\n",
              "</pre>\n"
            ]
          },
          "metadata": {}
        },
        {
          "output_type": "display_data",
          "data": {
            "text/plain": [
              "┏━━━━━━━━━━━━━━━━━━━━━━━━━━━━━━━━━┳━━━━━━━━━━━━━━━━━━━━━━━━┳━━━━━━━━━━━━━━━┓\n",
              "┃\u001b[1m \u001b[0m\u001b[1mLayer (type)                   \u001b[0m\u001b[1m \u001b[0m┃\u001b[1m \u001b[0m\u001b[1mOutput Shape          \u001b[0m\u001b[1m \u001b[0m┃\u001b[1m \u001b[0m\u001b[1m      Param #\u001b[0m\u001b[1m \u001b[0m┃\n",
              "┡━━━━━━━━━━━━━━━━━━━━━━━━━━━━━━━━━╇━━━━━━━━━━━━━━━━━━━━━━━━╇━━━━━━━━━━━━━━━┩\n",
              "│ conv2d_4 (\u001b[38;5;33mConv2D\u001b[0m)               │ (\u001b[38;5;45mNone\u001b[0m, \u001b[38;5;34m26\u001b[0m, \u001b[38;5;34m26\u001b[0m, \u001b[38;5;34m64\u001b[0m)     │           \u001b[38;5;34m640\u001b[0m │\n",
              "├─────────────────────────────────┼────────────────────────┼───────────────┤\n",
              "│ max_pooling2d_4 (\u001b[38;5;33mMaxPooling2D\u001b[0m)  │ (\u001b[38;5;45mNone\u001b[0m, \u001b[38;5;34m13\u001b[0m, \u001b[38;5;34m13\u001b[0m, \u001b[38;5;34m64\u001b[0m)     │             \u001b[38;5;34m0\u001b[0m │\n",
              "├─────────────────────────────────┼────────────────────────┼───────────────┤\n",
              "│ conv2d_5 (\u001b[38;5;33mConv2D\u001b[0m)               │ (\u001b[38;5;45mNone\u001b[0m, \u001b[38;5;34m11\u001b[0m, \u001b[38;5;34m11\u001b[0m, \u001b[38;5;34m64\u001b[0m)     │        \u001b[38;5;34m36,928\u001b[0m │\n",
              "├─────────────────────────────────┼────────────────────────┼───────────────┤\n",
              "│ max_pooling2d_5 (\u001b[38;5;33mMaxPooling2D\u001b[0m)  │ (\u001b[38;5;45mNone\u001b[0m, \u001b[38;5;34m5\u001b[0m, \u001b[38;5;34m5\u001b[0m, \u001b[38;5;34m64\u001b[0m)       │             \u001b[38;5;34m0\u001b[0m │\n",
              "├─────────────────────────────────┼────────────────────────┼───────────────┤\n",
              "│ flatten_2 (\u001b[38;5;33mFlatten\u001b[0m)             │ (\u001b[38;5;45mNone\u001b[0m, \u001b[38;5;34m1600\u001b[0m)           │             \u001b[38;5;34m0\u001b[0m │\n",
              "├─────────────────────────────────┼────────────────────────┼───────────────┤\n",
              "│ dense_6 (\u001b[38;5;33mDense\u001b[0m)                 │ (\u001b[38;5;45mNone\u001b[0m, \u001b[38;5;34m128\u001b[0m)            │       \u001b[38;5;34m204,928\u001b[0m │\n",
              "├─────────────────────────────────┼────────────────────────┼───────────────┤\n",
              "│ dense_7 (\u001b[38;5;33mDense\u001b[0m)                 │ (\u001b[38;5;45mNone\u001b[0m, \u001b[38;5;34m128\u001b[0m)            │        \u001b[38;5;34m16,512\u001b[0m │\n",
              "├─────────────────────────────────┼────────────────────────┼───────────────┤\n",
              "│ dense_8 (\u001b[38;5;33mDense\u001b[0m)                 │ (\u001b[38;5;45mNone\u001b[0m, \u001b[38;5;34m10\u001b[0m)             │         \u001b[38;5;34m1,290\u001b[0m │\n",
              "└─────────────────────────────────┴────────────────────────┴───────────────┘\n"
            ],
            "text/html": [
              "<pre style=\"white-space:pre;overflow-x:auto;line-height:normal;font-family:Menlo,'DejaVu Sans Mono',consolas,'Courier New',monospace\">┏━━━━━━━━━━━━━━━━━━━━━━━━━━━━━━━━━┳━━━━━━━━━━━━━━━━━━━━━━━━┳━━━━━━━━━━━━━━━┓\n",
              "┃<span style=\"font-weight: bold\"> Layer (type)                    </span>┃<span style=\"font-weight: bold\"> Output Shape           </span>┃<span style=\"font-weight: bold\">       Param # </span>┃\n",
              "┡━━━━━━━━━━━━━━━━━━━━━━━━━━━━━━━━━╇━━━━━━━━━━━━━━━━━━━━━━━━╇━━━━━━━━━━━━━━━┩\n",
              "│ conv2d_4 (<span style=\"color: #0087ff; text-decoration-color: #0087ff\">Conv2D</span>)               │ (<span style=\"color: #00d7ff; text-decoration-color: #00d7ff\">None</span>, <span style=\"color: #00af00; text-decoration-color: #00af00\">26</span>, <span style=\"color: #00af00; text-decoration-color: #00af00\">26</span>, <span style=\"color: #00af00; text-decoration-color: #00af00\">64</span>)     │           <span style=\"color: #00af00; text-decoration-color: #00af00\">640</span> │\n",
              "├─────────────────────────────────┼────────────────────────┼───────────────┤\n",
              "│ max_pooling2d_4 (<span style=\"color: #0087ff; text-decoration-color: #0087ff\">MaxPooling2D</span>)  │ (<span style=\"color: #00d7ff; text-decoration-color: #00d7ff\">None</span>, <span style=\"color: #00af00; text-decoration-color: #00af00\">13</span>, <span style=\"color: #00af00; text-decoration-color: #00af00\">13</span>, <span style=\"color: #00af00; text-decoration-color: #00af00\">64</span>)     │             <span style=\"color: #00af00; text-decoration-color: #00af00\">0</span> │\n",
              "├─────────────────────────────────┼────────────────────────┼───────────────┤\n",
              "│ conv2d_5 (<span style=\"color: #0087ff; text-decoration-color: #0087ff\">Conv2D</span>)               │ (<span style=\"color: #00d7ff; text-decoration-color: #00d7ff\">None</span>, <span style=\"color: #00af00; text-decoration-color: #00af00\">11</span>, <span style=\"color: #00af00; text-decoration-color: #00af00\">11</span>, <span style=\"color: #00af00; text-decoration-color: #00af00\">64</span>)     │        <span style=\"color: #00af00; text-decoration-color: #00af00\">36,928</span> │\n",
              "├─────────────────────────────────┼────────────────────────┼───────────────┤\n",
              "│ max_pooling2d_5 (<span style=\"color: #0087ff; text-decoration-color: #0087ff\">MaxPooling2D</span>)  │ (<span style=\"color: #00d7ff; text-decoration-color: #00d7ff\">None</span>, <span style=\"color: #00af00; text-decoration-color: #00af00\">5</span>, <span style=\"color: #00af00; text-decoration-color: #00af00\">5</span>, <span style=\"color: #00af00; text-decoration-color: #00af00\">64</span>)       │             <span style=\"color: #00af00; text-decoration-color: #00af00\">0</span> │\n",
              "├─────────────────────────────────┼────────────────────────┼───────────────┤\n",
              "│ flatten_2 (<span style=\"color: #0087ff; text-decoration-color: #0087ff\">Flatten</span>)             │ (<span style=\"color: #00d7ff; text-decoration-color: #00d7ff\">None</span>, <span style=\"color: #00af00; text-decoration-color: #00af00\">1600</span>)           │             <span style=\"color: #00af00; text-decoration-color: #00af00\">0</span> │\n",
              "├─────────────────────────────────┼────────────────────────┼───────────────┤\n",
              "│ dense_6 (<span style=\"color: #0087ff; text-decoration-color: #0087ff\">Dense</span>)                 │ (<span style=\"color: #00d7ff; text-decoration-color: #00d7ff\">None</span>, <span style=\"color: #00af00; text-decoration-color: #00af00\">128</span>)            │       <span style=\"color: #00af00; text-decoration-color: #00af00\">204,928</span> │\n",
              "├─────────────────────────────────┼────────────────────────┼───────────────┤\n",
              "│ dense_7 (<span style=\"color: #0087ff; text-decoration-color: #0087ff\">Dense</span>)                 │ (<span style=\"color: #00d7ff; text-decoration-color: #00d7ff\">None</span>, <span style=\"color: #00af00; text-decoration-color: #00af00\">128</span>)            │        <span style=\"color: #00af00; text-decoration-color: #00af00\">16,512</span> │\n",
              "├─────────────────────────────────┼────────────────────────┼───────────────┤\n",
              "│ dense_8 (<span style=\"color: #0087ff; text-decoration-color: #0087ff\">Dense</span>)                 │ (<span style=\"color: #00d7ff; text-decoration-color: #00d7ff\">None</span>, <span style=\"color: #00af00; text-decoration-color: #00af00\">10</span>)             │         <span style=\"color: #00af00; text-decoration-color: #00af00\">1,290</span> │\n",
              "└─────────────────────────────────┴────────────────────────┴───────────────┘\n",
              "</pre>\n"
            ]
          },
          "metadata": {}
        },
        {
          "output_type": "display_data",
          "data": {
            "text/plain": [
              "\u001b[1m Total params: \u001b[0m\u001b[38;5;34m520,598\u001b[0m (1.99 MB)\n"
            ],
            "text/html": [
              "<pre style=\"white-space:pre;overflow-x:auto;line-height:normal;font-family:Menlo,'DejaVu Sans Mono',consolas,'Courier New',monospace\"><span style=\"font-weight: bold\"> Total params: </span><span style=\"color: #00af00; text-decoration-color: #00af00\">520,598</span> (1.99 MB)\n",
              "</pre>\n"
            ]
          },
          "metadata": {}
        },
        {
          "output_type": "display_data",
          "data": {
            "text/plain": [
              "\u001b[1m Trainable params: \u001b[0m\u001b[38;5;34m260,298\u001b[0m (1016.79 KB)\n"
            ],
            "text/html": [
              "<pre style=\"white-space:pre;overflow-x:auto;line-height:normal;font-family:Menlo,'DejaVu Sans Mono',consolas,'Courier New',monospace\"><span style=\"font-weight: bold\"> Trainable params: </span><span style=\"color: #00af00; text-decoration-color: #00af00\">260,298</span> (1016.79 KB)\n",
              "</pre>\n"
            ]
          },
          "metadata": {}
        },
        {
          "output_type": "display_data",
          "data": {
            "text/plain": [
              "\u001b[1m Non-trainable params: \u001b[0m\u001b[38;5;34m0\u001b[0m (0.00 B)\n"
            ],
            "text/html": [
              "<pre style=\"white-space:pre;overflow-x:auto;line-height:normal;font-family:Menlo,'DejaVu Sans Mono',consolas,'Courier New',monospace\"><span style=\"font-weight: bold\"> Non-trainable params: </span><span style=\"color: #00af00; text-decoration-color: #00af00\">0</span> (0.00 B)\n",
              "</pre>\n"
            ]
          },
          "metadata": {}
        },
        {
          "output_type": "display_data",
          "data": {
            "text/plain": [
              "\u001b[1m Optimizer params: \u001b[0m\u001b[38;5;34m260,300\u001b[0m (1016.80 KB)\n"
            ],
            "text/html": [
              "<pre style=\"white-space:pre;overflow-x:auto;line-height:normal;font-family:Menlo,'DejaVu Sans Mono',consolas,'Courier New',monospace\"><span style=\"font-weight: bold\"> Optimizer params: </span><span style=\"color: #00af00; text-decoration-color: #00af00\">260,300</span> (1016.80 KB)\n",
              "</pre>\n"
            ]
          },
          "metadata": {}
        },
        {
          "output_type": "stream",
          "name": "stdout",
          "text": [
            "\n",
            "Training CNN with Activation: <LeakyReLU name=leaky_re_lu_1, built=True>\n",
            "Epoch 1/12\n",
            "\u001b[1m938/938\u001b[0m \u001b[32m━━━━━━━━━━━━━━━━━━━━\u001b[0m\u001b[37m\u001b[0m \u001b[1m87s\u001b[0m 92ms/step - accuracy: 0.7832 - loss: 0.6855 - val_accuracy: 0.9747 - val_loss: 0.0763\n",
            "Epoch 2/12\n",
            "\u001b[1m938/938\u001b[0m \u001b[32m━━━━━━━━━━━━━━━━━━━━\u001b[0m\u001b[37m\u001b[0m \u001b[1m141s\u001b[0m 91ms/step - accuracy: 0.9784 - loss: 0.0690 - val_accuracy: 0.9854 - val_loss: 0.0470\n",
            "Epoch 3/12\n",
            "\u001b[1m938/938\u001b[0m \u001b[32m━━━━━━━━━━━━━━━━━━━━\u001b[0m\u001b[37m\u001b[0m \u001b[1m84s\u001b[0m 89ms/step - accuracy: 0.9874 - loss: 0.0428 - val_accuracy: 0.9876 - val_loss: 0.0413\n",
            "Epoch 4/12\n",
            "\u001b[1m938/938\u001b[0m \u001b[32m━━━━━━━━━━━━━━━━━━━━\u001b[0m\u001b[37m\u001b[0m \u001b[1m85s\u001b[0m 91ms/step - accuracy: 0.9892 - loss: 0.0315 - val_accuracy: 0.9875 - val_loss: 0.0385\n",
            "Epoch 5/12\n",
            "\u001b[1m938/938\u001b[0m \u001b[32m━━━━━━━━━━━━━━━━━━━━\u001b[0m\u001b[37m\u001b[0m \u001b[1m140s\u001b[0m 89ms/step - accuracy: 0.9908 - loss: 0.0268 - val_accuracy: 0.9906 - val_loss: 0.0334\n",
            "Epoch 6/12\n",
            "\u001b[1m938/938\u001b[0m \u001b[32m━━━━━━━━━━━━━━━━━━━━\u001b[0m\u001b[37m\u001b[0m \u001b[1m143s\u001b[0m 91ms/step - accuracy: 0.9938 - loss: 0.0207 - val_accuracy: 0.9907 - val_loss: 0.0318\n",
            "Epoch 7/12\n",
            "\u001b[1m938/938\u001b[0m \u001b[32m━━━━━━━━━━━━━━━━━━━━\u001b[0m\u001b[37m\u001b[0m \u001b[1m144s\u001b[0m 93ms/step - accuracy: 0.9938 - loss: 0.0185 - val_accuracy: 0.9901 - val_loss: 0.0309\n",
            "Epoch 8/12\n",
            "\u001b[1m938/938\u001b[0m \u001b[32m━━━━━━━━━━━━━━━━━━━━\u001b[0m\u001b[37m\u001b[0m \u001b[1m139s\u001b[0m 90ms/step - accuracy: 0.9959 - loss: 0.0133 - val_accuracy: 0.9904 - val_loss: 0.0324\n",
            "Epoch 9/12\n",
            "\u001b[1m938/938\u001b[0m \u001b[32m━━━━━━━━━━━━━━━━━━━━\u001b[0m\u001b[37m\u001b[0m \u001b[1m143s\u001b[0m 91ms/step - accuracy: 0.9962 - loss: 0.0125 - val_accuracy: 0.9908 - val_loss: 0.0316\n",
            "Epoch 10/12\n",
            "\u001b[1m938/938\u001b[0m \u001b[32m━━━━━━━━━━━━━━━━━━━━\u001b[0m\u001b[37m\u001b[0m \u001b[1m84s\u001b[0m 90ms/step - accuracy: 0.9970 - loss: 0.0099 - val_accuracy: 0.9911 - val_loss: 0.0319\n",
            "Epoch 11/12\n",
            "\u001b[1m938/938\u001b[0m \u001b[32m━━━━━━━━━━━━━━━━━━━━\u001b[0m\u001b[37m\u001b[0m \u001b[1m144s\u001b[0m 91ms/step - accuracy: 0.9978 - loss: 0.0066 - val_accuracy: 0.9892 - val_loss: 0.0378\n",
            "Epoch 12/12\n",
            "\u001b[1m938/938\u001b[0m \u001b[32m━━━━━━━━━━━━━━━━━━━━\u001b[0m\u001b[37m\u001b[0m \u001b[1m141s\u001b[0m 91ms/step - accuracy: 0.9979 - loss: 0.0066 - val_accuracy: 0.9920 - val_loss: 0.0312\n",
            "\n",
            "===== Training Report =====\n",
            "Activation Used: <LeakyReLU name=leaky_re_lu_1, built=True>\n",
            "\n",
            "===== Model Performance Summary =====\n",
            "Epochs: 12, Batch Size: 64\n",
            "Final Training Accuracy: 99.76%\n",
            "First 5 Epochs' Accuracy: [0.9120166897773743, 0.9797000288963318, 0.9866333603858948, 0.9889166951179504, 0.9913166761398315]\n",
            "Total Model Parameters: 260298\n",
            "Training time tracking not available.\n",
            "Avg Test Time per Epoch: 0.43 seconds\n",
            "Optimizer Used: SGD\n",
            "Learning Rate: 0.009999999776482582\n",
            "Optimizer Settings: {'name': 'SGD', 'learning_rate': 0.009999999776482582, 'weight_decay': None, 'clipnorm': None, 'global_clipnorm': None, 'clipvalue': None, 'use_ema': False, 'ema_momentum': 0.99, 'ema_overwrite_frequency': None, 'loss_scale_factor': None, 'gradient_accumulation_steps': None, 'momentum': 0.9, 'nesterov': False}\n",
            "\n",
            "===== Model Layers =====\n"
          ]
        },
        {
          "output_type": "display_data",
          "data": {
            "text/plain": [
              "\u001b[1mModel: \"sequential_3\"\u001b[0m\n"
            ],
            "text/html": [
              "<pre style=\"white-space:pre;overflow-x:auto;line-height:normal;font-family:Menlo,'DejaVu Sans Mono',consolas,'Courier New',monospace\"><span style=\"font-weight: bold\">Model: \"sequential_3\"</span>\n",
              "</pre>\n"
            ]
          },
          "metadata": {}
        },
        {
          "output_type": "display_data",
          "data": {
            "text/plain": [
              "┏━━━━━━━━━━━━━━━━━━━━━━━━━━━━━━━━━┳━━━━━━━━━━━━━━━━━━━━━━━━┳━━━━━━━━━━━━━━━┓\n",
              "┃\u001b[1m \u001b[0m\u001b[1mLayer (type)                   \u001b[0m\u001b[1m \u001b[0m┃\u001b[1m \u001b[0m\u001b[1mOutput Shape          \u001b[0m\u001b[1m \u001b[0m┃\u001b[1m \u001b[0m\u001b[1m      Param #\u001b[0m\u001b[1m \u001b[0m┃\n",
              "┡━━━━━━━━━━━━━━━━━━━━━━━━━━━━━━━━━╇━━━━━━━━━━━━━━━━━━━━━━━━╇━━━━━━━━━━━━━━━┩\n",
              "│ conv2d_6 (\u001b[38;5;33mConv2D\u001b[0m)               │ (\u001b[38;5;45mNone\u001b[0m, \u001b[38;5;34m26\u001b[0m, \u001b[38;5;34m26\u001b[0m, \u001b[38;5;34m64\u001b[0m)     │           \u001b[38;5;34m640\u001b[0m │\n",
              "├─────────────────────────────────┼────────────────────────┼───────────────┤\n",
              "│ max_pooling2d_6 (\u001b[38;5;33mMaxPooling2D\u001b[0m)  │ (\u001b[38;5;45mNone\u001b[0m, \u001b[38;5;34m13\u001b[0m, \u001b[38;5;34m13\u001b[0m, \u001b[38;5;34m64\u001b[0m)     │             \u001b[38;5;34m0\u001b[0m │\n",
              "├─────────────────────────────────┼────────────────────────┼───────────────┤\n",
              "│ conv2d_7 (\u001b[38;5;33mConv2D\u001b[0m)               │ (\u001b[38;5;45mNone\u001b[0m, \u001b[38;5;34m11\u001b[0m, \u001b[38;5;34m11\u001b[0m, \u001b[38;5;34m64\u001b[0m)     │        \u001b[38;5;34m36,928\u001b[0m │\n",
              "├─────────────────────────────────┼────────────────────────┼───────────────┤\n",
              "│ max_pooling2d_7 (\u001b[38;5;33mMaxPooling2D\u001b[0m)  │ (\u001b[38;5;45mNone\u001b[0m, \u001b[38;5;34m5\u001b[0m, \u001b[38;5;34m5\u001b[0m, \u001b[38;5;34m64\u001b[0m)       │             \u001b[38;5;34m0\u001b[0m │\n",
              "├─────────────────────────────────┼────────────────────────┼───────────────┤\n",
              "│ flatten_3 (\u001b[38;5;33mFlatten\u001b[0m)             │ (\u001b[38;5;45mNone\u001b[0m, \u001b[38;5;34m1600\u001b[0m)           │             \u001b[38;5;34m0\u001b[0m │\n",
              "├─────────────────────────────────┼────────────────────────┼───────────────┤\n",
              "│ dense_9 (\u001b[38;5;33mDense\u001b[0m)                 │ (\u001b[38;5;45mNone\u001b[0m, \u001b[38;5;34m128\u001b[0m)            │       \u001b[38;5;34m204,928\u001b[0m │\n",
              "├─────────────────────────────────┼────────────────────────┼───────────────┤\n",
              "│ dense_10 (\u001b[38;5;33mDense\u001b[0m)                │ (\u001b[38;5;45mNone\u001b[0m, \u001b[38;5;34m128\u001b[0m)            │        \u001b[38;5;34m16,512\u001b[0m │\n",
              "├─────────────────────────────────┼────────────────────────┼───────────────┤\n",
              "│ dense_11 (\u001b[38;5;33mDense\u001b[0m)                │ (\u001b[38;5;45mNone\u001b[0m, \u001b[38;5;34m10\u001b[0m)             │         \u001b[38;5;34m1,290\u001b[0m │\n",
              "└─────────────────────────────────┴────────────────────────┴───────────────┘\n"
            ],
            "text/html": [
              "<pre style=\"white-space:pre;overflow-x:auto;line-height:normal;font-family:Menlo,'DejaVu Sans Mono',consolas,'Courier New',monospace\">┏━━━━━━━━━━━━━━━━━━━━━━━━━━━━━━━━━┳━━━━━━━━━━━━━━━━━━━━━━━━┳━━━━━━━━━━━━━━━┓\n",
              "┃<span style=\"font-weight: bold\"> Layer (type)                    </span>┃<span style=\"font-weight: bold\"> Output Shape           </span>┃<span style=\"font-weight: bold\">       Param # </span>┃\n",
              "┡━━━━━━━━━━━━━━━━━━━━━━━━━━━━━━━━━╇━━━━━━━━━━━━━━━━━━━━━━━━╇━━━━━━━━━━━━━━━┩\n",
              "│ conv2d_6 (<span style=\"color: #0087ff; text-decoration-color: #0087ff\">Conv2D</span>)               │ (<span style=\"color: #00d7ff; text-decoration-color: #00d7ff\">None</span>, <span style=\"color: #00af00; text-decoration-color: #00af00\">26</span>, <span style=\"color: #00af00; text-decoration-color: #00af00\">26</span>, <span style=\"color: #00af00; text-decoration-color: #00af00\">64</span>)     │           <span style=\"color: #00af00; text-decoration-color: #00af00\">640</span> │\n",
              "├─────────────────────────────────┼────────────────────────┼───────────────┤\n",
              "│ max_pooling2d_6 (<span style=\"color: #0087ff; text-decoration-color: #0087ff\">MaxPooling2D</span>)  │ (<span style=\"color: #00d7ff; text-decoration-color: #00d7ff\">None</span>, <span style=\"color: #00af00; text-decoration-color: #00af00\">13</span>, <span style=\"color: #00af00; text-decoration-color: #00af00\">13</span>, <span style=\"color: #00af00; text-decoration-color: #00af00\">64</span>)     │             <span style=\"color: #00af00; text-decoration-color: #00af00\">0</span> │\n",
              "├─────────────────────────────────┼────────────────────────┼───────────────┤\n",
              "│ conv2d_7 (<span style=\"color: #0087ff; text-decoration-color: #0087ff\">Conv2D</span>)               │ (<span style=\"color: #00d7ff; text-decoration-color: #00d7ff\">None</span>, <span style=\"color: #00af00; text-decoration-color: #00af00\">11</span>, <span style=\"color: #00af00; text-decoration-color: #00af00\">11</span>, <span style=\"color: #00af00; text-decoration-color: #00af00\">64</span>)     │        <span style=\"color: #00af00; text-decoration-color: #00af00\">36,928</span> │\n",
              "├─────────────────────────────────┼────────────────────────┼───────────────┤\n",
              "│ max_pooling2d_7 (<span style=\"color: #0087ff; text-decoration-color: #0087ff\">MaxPooling2D</span>)  │ (<span style=\"color: #00d7ff; text-decoration-color: #00d7ff\">None</span>, <span style=\"color: #00af00; text-decoration-color: #00af00\">5</span>, <span style=\"color: #00af00; text-decoration-color: #00af00\">5</span>, <span style=\"color: #00af00; text-decoration-color: #00af00\">64</span>)       │             <span style=\"color: #00af00; text-decoration-color: #00af00\">0</span> │\n",
              "├─────────────────────────────────┼────────────────────────┼───────────────┤\n",
              "│ flatten_3 (<span style=\"color: #0087ff; text-decoration-color: #0087ff\">Flatten</span>)             │ (<span style=\"color: #00d7ff; text-decoration-color: #00d7ff\">None</span>, <span style=\"color: #00af00; text-decoration-color: #00af00\">1600</span>)           │             <span style=\"color: #00af00; text-decoration-color: #00af00\">0</span> │\n",
              "├─────────────────────────────────┼────────────────────────┼───────────────┤\n",
              "│ dense_9 (<span style=\"color: #0087ff; text-decoration-color: #0087ff\">Dense</span>)                 │ (<span style=\"color: #00d7ff; text-decoration-color: #00d7ff\">None</span>, <span style=\"color: #00af00; text-decoration-color: #00af00\">128</span>)            │       <span style=\"color: #00af00; text-decoration-color: #00af00\">204,928</span> │\n",
              "├─────────────────────────────────┼────────────────────────┼───────────────┤\n",
              "│ dense_10 (<span style=\"color: #0087ff; text-decoration-color: #0087ff\">Dense</span>)                │ (<span style=\"color: #00d7ff; text-decoration-color: #00d7ff\">None</span>, <span style=\"color: #00af00; text-decoration-color: #00af00\">128</span>)            │        <span style=\"color: #00af00; text-decoration-color: #00af00\">16,512</span> │\n",
              "├─────────────────────────────────┼────────────────────────┼───────────────┤\n",
              "│ dense_11 (<span style=\"color: #0087ff; text-decoration-color: #0087ff\">Dense</span>)                │ (<span style=\"color: #00d7ff; text-decoration-color: #00d7ff\">None</span>, <span style=\"color: #00af00; text-decoration-color: #00af00\">10</span>)             │         <span style=\"color: #00af00; text-decoration-color: #00af00\">1,290</span> │\n",
              "└─────────────────────────────────┴────────────────────────┴───────────────┘\n",
              "</pre>\n"
            ]
          },
          "metadata": {}
        },
        {
          "output_type": "display_data",
          "data": {
            "text/plain": [
              "\u001b[1m Total params: \u001b[0m\u001b[38;5;34m520,598\u001b[0m (1.99 MB)\n"
            ],
            "text/html": [
              "<pre style=\"white-space:pre;overflow-x:auto;line-height:normal;font-family:Menlo,'DejaVu Sans Mono',consolas,'Courier New',monospace\"><span style=\"font-weight: bold\"> Total params: </span><span style=\"color: #00af00; text-decoration-color: #00af00\">520,598</span> (1.99 MB)\n",
              "</pre>\n"
            ]
          },
          "metadata": {}
        },
        {
          "output_type": "display_data",
          "data": {
            "text/plain": [
              "\u001b[1m Trainable params: \u001b[0m\u001b[38;5;34m260,298\u001b[0m (1016.79 KB)\n"
            ],
            "text/html": [
              "<pre style=\"white-space:pre;overflow-x:auto;line-height:normal;font-family:Menlo,'DejaVu Sans Mono',consolas,'Courier New',monospace\"><span style=\"font-weight: bold\"> Trainable params: </span><span style=\"color: #00af00; text-decoration-color: #00af00\">260,298</span> (1016.79 KB)\n",
              "</pre>\n"
            ]
          },
          "metadata": {}
        },
        {
          "output_type": "display_data",
          "data": {
            "text/plain": [
              "\u001b[1m Non-trainable params: \u001b[0m\u001b[38;5;34m0\u001b[0m (0.00 B)\n"
            ],
            "text/html": [
              "<pre style=\"white-space:pre;overflow-x:auto;line-height:normal;font-family:Menlo,'DejaVu Sans Mono',consolas,'Courier New',monospace\"><span style=\"font-weight: bold\"> Non-trainable params: </span><span style=\"color: #00af00; text-decoration-color: #00af00\">0</span> (0.00 B)\n",
              "</pre>\n"
            ]
          },
          "metadata": {}
        },
        {
          "output_type": "display_data",
          "data": {
            "text/plain": [
              "\u001b[1m Optimizer params: \u001b[0m\u001b[38;5;34m260,300\u001b[0m (1016.80 KB)\n"
            ],
            "text/html": [
              "<pre style=\"white-space:pre;overflow-x:auto;line-height:normal;font-family:Menlo,'DejaVu Sans Mono',consolas,'Courier New',monospace\"><span style=\"font-weight: bold\"> Optimizer params: </span><span style=\"color: #00af00; text-decoration-color: #00af00\">260,300</span> (1016.80 KB)\n",
              "</pre>\n"
            ]
          },
          "metadata": {}
        }
      ]
    },
    {
      "cell_type": "markdown",
      "source": [
        "Here’s how different activation functions impacted training accuracy, convergence speed, and processing efficiency:\n",
        "\n",
        " **ReLU**\n",
        "\n",
        "- Fast convergence → Steady and high accuracy over epochs.\n",
        "- Efficient computation → Low cost per inference.\n",
        "- Best generalization → Typically performs well in deep networks.\n",
        "\n",
        "**Sigmoid**\n",
        "\n",
        "- Slow convergence → Due to vanishing gradients in deeper layers.\n",
        "- Struggles in deeper models → Loses learning efficiency beyond initial layers.\n",
        "- Limited accuracy → Not well-suited for deep networks.\n",
        "\n",
        "**Tanh**\n",
        "- Better than sigmoid → Avoids vanishing gradient issues.\n",
        "- Smooth convergence → More stable learning than ReLU.\n",
        "- Ideal for balanced deep learning → Strong accuracy while maintaining stability.\n",
        "\n",
        "**Leaky ReLU**\n",
        "- Prevents dead neurons → Maintains steady gradient flow.\n",
        "- Slightly better than standard ReLU in deeper models → Helps learn small features.\n",
        "- Similar overall performance to ReLU → Useful for networks prone to neuron deactivation.\n",
        "\n",
        "\n",
        "**Best Activation Choice:**\n",
        "\n",
        " Best Overall Accuracy & Stability: **Tanh**\n",
        "\n",
        " Fastest & Reliable Activation: ReLU / Leaky ReLU\n",
        "\n",
        " Worst Choice for Deep Models: Sigmoid (slow and less effective)\n"
      ],
      "metadata": {
        "id": "gXcGsiXhmDn7"
      }
    },
    {
      "cell_type": "markdown",
      "source": [
        "8- Now with the best settings you’ve reached, try 2 more optimizers."
      ],
      "metadata": {
        "id": "j1cDejdkhLU9"
      }
    },
    {
      "cell_type": "code",
      "source": [
        "from tensorflow.keras.optimizers import Adam, RMSprop\n",
        "\n",
        "optimizers = {\n",
        "    \"Adam\": Adam(learning_rate=0.01),\n",
        "    \"RMSprop\": RMSprop(learning_rate=0.01)\n",
        "}\n",
        "\n",
        "batch_size = 64  # best batch size found earlier\n",
        "\n",
        "for opt_name, optimizer in optimizers.items():\n",
        "    print(f\"\\nTraining CNN with Optimizer: {opt_name}, Activation: Tanh\")\n",
        "\n",
        "    model = Sequential([\n",
        "        Conv2D(64, (3, 3), activation=\"tanh\", input_shape=(28, 28, 1)),\n",
        "        MaxPooling2D(pool_size=(2, 2), strides=(2, 2)),\n",
        "        Conv2D(64, (3, 3), activation=\"tanh\"),\n",
        "        MaxPooling2D(pool_size=(2, 2)),\n",
        "        Flatten(),\n",
        "        Dense(128, activation=\"tanh\"),\n",
        "        Dense(128, activation=\"tanh\"),\n",
        "        Dense(10, activation=\"softmax\")\n",
        "    ])\n",
        "\n",
        "    model.compile(optimizer=optimizer, loss=\"categorical_crossentropy\", metrics=[\"accuracy\"])\n",
        "\n",
        "    history = model.fit(x_train, y_train_cat, batch_size=batch_size, epochs=12, validation_data=(x_test, y_test_cat), shuffle=True)\n",
        "\n",
        "    print(\"\\n===== Training Report =====\")\n",
        "    print(f\"Optimizer Used: {opt_name}\")\n",
        "    summarize_results(model, history, 12, 64, (x_test, y_test_cat))"
      ],
      "metadata": {
        "colab": {
          "base_uri": "https://localhost:8080/",
          "height": 1000
        },
        "collapsed": true,
        "id": "MZQN6MlknLvk",
        "outputId": "26289e6e-fe3a-4d0b-beb4-f00a40475484"
      },
      "execution_count": null,
      "outputs": [
        {
          "output_type": "stream",
          "name": "stdout",
          "text": [
            "\n",
            "Training CNN with Optimizer: Adam, Activation: Tanh\n",
            "Epoch 1/12\n",
            "\u001b[1m938/938\u001b[0m \u001b[32m━━━━━━━━━━━━━━━━━━━━\u001b[0m\u001b[37m\u001b[0m \u001b[1m85s\u001b[0m 89ms/step - accuracy: 0.8805 - loss: 0.3891 - val_accuracy: 0.9309 - val_loss: 0.2154\n",
            "Epoch 2/12\n",
            "\u001b[1m938/938\u001b[0m \u001b[32m━━━━━━━━━━━━━━━━━━━━\u001b[0m\u001b[37m\u001b[0m \u001b[1m145s\u001b[0m 92ms/step - accuracy: 0.9298 - loss: 0.2297 - val_accuracy: 0.9285 - val_loss: 0.2360\n",
            "Epoch 3/12\n",
            "\u001b[1m938/938\u001b[0m \u001b[32m━━━━━━━━━━━━━━━━━━━━\u001b[0m\u001b[37m\u001b[0m \u001b[1m85s\u001b[0m 90ms/step - accuracy: 0.9250 - loss: 0.2437 - val_accuracy: 0.8989 - val_loss: 0.3372\n",
            "Epoch 4/12\n",
            "\u001b[1m938/938\u001b[0m \u001b[32m━━━━━━━━━━━━━━━━━━━━\u001b[0m\u001b[37m\u001b[0m \u001b[1m142s\u001b[0m 90ms/step - accuracy: 0.9033 - loss: 0.3146 - val_accuracy: 0.9350 - val_loss: 0.2054\n",
            "Epoch 5/12\n",
            "\u001b[1m938/938\u001b[0m \u001b[32m━━━━━━━━━━━━━━━━━━━━\u001b[0m\u001b[37m\u001b[0m \u001b[1m141s\u001b[0m 89ms/step - accuracy: 0.9199 - loss: 0.2608 - val_accuracy: 0.9294 - val_loss: 0.2379\n",
            "Epoch 6/12\n",
            "\u001b[1m938/938\u001b[0m \u001b[32m━━━━━━━━━━━━━━━━━━━━\u001b[0m\u001b[37m\u001b[0m \u001b[1m142s\u001b[0m 90ms/step - accuracy: 0.9217 - loss: 0.2592 - val_accuracy: 0.9252 - val_loss: 0.2332\n",
            "Epoch 7/12\n",
            "\u001b[1m938/938\u001b[0m \u001b[32m━━━━━━━━━━━━━━━━━━━━\u001b[0m\u001b[37m\u001b[0m \u001b[1m139s\u001b[0m 87ms/step - accuracy: 0.9162 - loss: 0.2769 - val_accuracy: 0.9139 - val_loss: 0.2810\n",
            "Epoch 8/12\n",
            "\u001b[1m938/938\u001b[0m \u001b[32m━━━━━━━━━━━━━━━━━━━━\u001b[0m\u001b[37m\u001b[0m \u001b[1m85s\u001b[0m 90ms/step - accuracy: 0.9157 - loss: 0.2776 - val_accuracy: 0.9225 - val_loss: 0.2505\n",
            "Epoch 9/12\n",
            "\u001b[1m938/938\u001b[0m \u001b[32m━━━━━━━━━━━━━━━━━━━━\u001b[0m\u001b[37m\u001b[0m \u001b[1m85s\u001b[0m 91ms/step - accuracy: 0.9155 - loss: 0.2721 - val_accuracy: 0.8995 - val_loss: 0.3160\n",
            "Epoch 10/12\n",
            "\u001b[1m938/938\u001b[0m \u001b[32m━━━━━━━━━━━━━━━━━━━━\u001b[0m\u001b[37m\u001b[0m \u001b[1m140s\u001b[0m 88ms/step - accuracy: 0.8849 - loss: 0.3664 - val_accuracy: 0.9166 - val_loss: 0.2991\n",
            "Epoch 11/12\n",
            "\u001b[1m938/938\u001b[0m \u001b[32m━━━━━━━━━━━━━━━━━━━━\u001b[0m\u001b[37m\u001b[0m \u001b[1m141s\u001b[0m 87ms/step - accuracy: 0.9157 - loss: 0.2880 - val_accuracy: 0.9169 - val_loss: 0.2817\n",
            "Epoch 12/12\n",
            "\u001b[1m938/938\u001b[0m \u001b[32m━━━━━━━━━━━━━━━━━━━━\u001b[0m\u001b[37m\u001b[0m \u001b[1m82s\u001b[0m 88ms/step - accuracy: 0.9202 - loss: 0.2686 - val_accuracy: 0.9273 - val_loss: 0.2339\n",
            "\n",
            "===== Training Report =====\n",
            "Optimizer Used: Adam\n",
            "\n",
            "===== Model Performance Summary =====\n",
            "Epochs: 12, Batch Size: 64\n",
            "Final Training Accuracy: 92.24%\n",
            "First 5 Epochs' Accuracy: [0.9213833212852478, 0.9258666634559631, 0.917900025844574, 0.9125666618347168, 0.9154333472251892]\n",
            "Total Model Parameters: 260298\n",
            "Training time tracking not available.\n",
            "Avg Test Time per Epoch: 0.38 seconds\n",
            "Optimizer Used: adam\n",
            "Learning Rate: 0.009999999776482582\n",
            "Optimizer Settings: {'name': 'adam', 'learning_rate': 0.009999999776482582, 'weight_decay': None, 'clipnorm': None, 'global_clipnorm': None, 'clipvalue': None, 'use_ema': False, 'ema_momentum': 0.99, 'ema_overwrite_frequency': None, 'loss_scale_factor': None, 'gradient_accumulation_steps': None, 'beta_1': 0.9, 'beta_2': 0.999, 'epsilon': 1e-07, 'amsgrad': False}\n",
            "\n",
            "===== Model Layers =====\n"
          ]
        },
        {
          "output_type": "display_data",
          "data": {
            "text/plain": [
              "\u001b[1mModel: \"sequential_5\"\u001b[0m\n"
            ],
            "text/html": [
              "<pre style=\"white-space:pre;overflow-x:auto;line-height:normal;font-family:Menlo,'DejaVu Sans Mono',consolas,'Courier New',monospace\"><span style=\"font-weight: bold\">Model: \"sequential_5\"</span>\n",
              "</pre>\n"
            ]
          },
          "metadata": {}
        },
        {
          "output_type": "display_data",
          "data": {
            "text/plain": [
              "┏━━━━━━━━━━━━━━━━━━━━━━━━━━━━━━━━━┳━━━━━━━━━━━━━━━━━━━━━━━━┳━━━━━━━━━━━━━━━┓\n",
              "┃\u001b[1m \u001b[0m\u001b[1mLayer (type)                   \u001b[0m\u001b[1m \u001b[0m┃\u001b[1m \u001b[0m\u001b[1mOutput Shape          \u001b[0m\u001b[1m \u001b[0m┃\u001b[1m \u001b[0m\u001b[1m      Param #\u001b[0m\u001b[1m \u001b[0m┃\n",
              "┡━━━━━━━━━━━━━━━━━━━━━━━━━━━━━━━━━╇━━━━━━━━━━━━━━━━━━━━━━━━╇━━━━━━━━━━━━━━━┩\n",
              "│ conv2d_8 (\u001b[38;5;33mConv2D\u001b[0m)               │ (\u001b[38;5;45mNone\u001b[0m, \u001b[38;5;34m26\u001b[0m, \u001b[38;5;34m26\u001b[0m, \u001b[38;5;34m64\u001b[0m)     │           \u001b[38;5;34m640\u001b[0m │\n",
              "├─────────────────────────────────┼────────────────────────┼───────────────┤\n",
              "│ max_pooling2d_8 (\u001b[38;5;33mMaxPooling2D\u001b[0m)  │ (\u001b[38;5;45mNone\u001b[0m, \u001b[38;5;34m13\u001b[0m, \u001b[38;5;34m13\u001b[0m, \u001b[38;5;34m64\u001b[0m)     │             \u001b[38;5;34m0\u001b[0m │\n",
              "├─────────────────────────────────┼────────────────────────┼───────────────┤\n",
              "│ conv2d_9 (\u001b[38;5;33mConv2D\u001b[0m)               │ (\u001b[38;5;45mNone\u001b[0m, \u001b[38;5;34m11\u001b[0m, \u001b[38;5;34m11\u001b[0m, \u001b[38;5;34m64\u001b[0m)     │        \u001b[38;5;34m36,928\u001b[0m │\n",
              "├─────────────────────────────────┼────────────────────────┼───────────────┤\n",
              "│ max_pooling2d_9 (\u001b[38;5;33mMaxPooling2D\u001b[0m)  │ (\u001b[38;5;45mNone\u001b[0m, \u001b[38;5;34m5\u001b[0m, \u001b[38;5;34m5\u001b[0m, \u001b[38;5;34m64\u001b[0m)       │             \u001b[38;5;34m0\u001b[0m │\n",
              "├─────────────────────────────────┼────────────────────────┼───────────────┤\n",
              "│ flatten_5 (\u001b[38;5;33mFlatten\u001b[0m)             │ (\u001b[38;5;45mNone\u001b[0m, \u001b[38;5;34m1600\u001b[0m)           │             \u001b[38;5;34m0\u001b[0m │\n",
              "├─────────────────────────────────┼────────────────────────┼───────────────┤\n",
              "│ dense_14 (\u001b[38;5;33mDense\u001b[0m)                │ (\u001b[38;5;45mNone\u001b[0m, \u001b[38;5;34m128\u001b[0m)            │       \u001b[38;5;34m204,928\u001b[0m │\n",
              "├─────────────────────────────────┼────────────────────────┼───────────────┤\n",
              "│ dense_15 (\u001b[38;5;33mDense\u001b[0m)                │ (\u001b[38;5;45mNone\u001b[0m, \u001b[38;5;34m128\u001b[0m)            │        \u001b[38;5;34m16,512\u001b[0m │\n",
              "├─────────────────────────────────┼────────────────────────┼───────────────┤\n",
              "│ dense_16 (\u001b[38;5;33mDense\u001b[0m)                │ (\u001b[38;5;45mNone\u001b[0m, \u001b[38;5;34m10\u001b[0m)             │         \u001b[38;5;34m1,290\u001b[0m │\n",
              "└─────────────────────────────────┴────────────────────────┴───────────────┘\n"
            ],
            "text/html": [
              "<pre style=\"white-space:pre;overflow-x:auto;line-height:normal;font-family:Menlo,'DejaVu Sans Mono',consolas,'Courier New',monospace\">┏━━━━━━━━━━━━━━━━━━━━━━━━━━━━━━━━━┳━━━━━━━━━━━━━━━━━━━━━━━━┳━━━━━━━━━━━━━━━┓\n",
              "┃<span style=\"font-weight: bold\"> Layer (type)                    </span>┃<span style=\"font-weight: bold\"> Output Shape           </span>┃<span style=\"font-weight: bold\">       Param # </span>┃\n",
              "┡━━━━━━━━━━━━━━━━━━━━━━━━━━━━━━━━━╇━━━━━━━━━━━━━━━━━━━━━━━━╇━━━━━━━━━━━━━━━┩\n",
              "│ conv2d_8 (<span style=\"color: #0087ff; text-decoration-color: #0087ff\">Conv2D</span>)               │ (<span style=\"color: #00d7ff; text-decoration-color: #00d7ff\">None</span>, <span style=\"color: #00af00; text-decoration-color: #00af00\">26</span>, <span style=\"color: #00af00; text-decoration-color: #00af00\">26</span>, <span style=\"color: #00af00; text-decoration-color: #00af00\">64</span>)     │           <span style=\"color: #00af00; text-decoration-color: #00af00\">640</span> │\n",
              "├─────────────────────────────────┼────────────────────────┼───────────────┤\n",
              "│ max_pooling2d_8 (<span style=\"color: #0087ff; text-decoration-color: #0087ff\">MaxPooling2D</span>)  │ (<span style=\"color: #00d7ff; text-decoration-color: #00d7ff\">None</span>, <span style=\"color: #00af00; text-decoration-color: #00af00\">13</span>, <span style=\"color: #00af00; text-decoration-color: #00af00\">13</span>, <span style=\"color: #00af00; text-decoration-color: #00af00\">64</span>)     │             <span style=\"color: #00af00; text-decoration-color: #00af00\">0</span> │\n",
              "├─────────────────────────────────┼────────────────────────┼───────────────┤\n",
              "│ conv2d_9 (<span style=\"color: #0087ff; text-decoration-color: #0087ff\">Conv2D</span>)               │ (<span style=\"color: #00d7ff; text-decoration-color: #00d7ff\">None</span>, <span style=\"color: #00af00; text-decoration-color: #00af00\">11</span>, <span style=\"color: #00af00; text-decoration-color: #00af00\">11</span>, <span style=\"color: #00af00; text-decoration-color: #00af00\">64</span>)     │        <span style=\"color: #00af00; text-decoration-color: #00af00\">36,928</span> │\n",
              "├─────────────────────────────────┼────────────────────────┼───────────────┤\n",
              "│ max_pooling2d_9 (<span style=\"color: #0087ff; text-decoration-color: #0087ff\">MaxPooling2D</span>)  │ (<span style=\"color: #00d7ff; text-decoration-color: #00d7ff\">None</span>, <span style=\"color: #00af00; text-decoration-color: #00af00\">5</span>, <span style=\"color: #00af00; text-decoration-color: #00af00\">5</span>, <span style=\"color: #00af00; text-decoration-color: #00af00\">64</span>)       │             <span style=\"color: #00af00; text-decoration-color: #00af00\">0</span> │\n",
              "├─────────────────────────────────┼────────────────────────┼───────────────┤\n",
              "│ flatten_5 (<span style=\"color: #0087ff; text-decoration-color: #0087ff\">Flatten</span>)             │ (<span style=\"color: #00d7ff; text-decoration-color: #00d7ff\">None</span>, <span style=\"color: #00af00; text-decoration-color: #00af00\">1600</span>)           │             <span style=\"color: #00af00; text-decoration-color: #00af00\">0</span> │\n",
              "├─────────────────────────────────┼────────────────────────┼───────────────┤\n",
              "│ dense_14 (<span style=\"color: #0087ff; text-decoration-color: #0087ff\">Dense</span>)                │ (<span style=\"color: #00d7ff; text-decoration-color: #00d7ff\">None</span>, <span style=\"color: #00af00; text-decoration-color: #00af00\">128</span>)            │       <span style=\"color: #00af00; text-decoration-color: #00af00\">204,928</span> │\n",
              "├─────────────────────────────────┼────────────────────────┼───────────────┤\n",
              "│ dense_15 (<span style=\"color: #0087ff; text-decoration-color: #0087ff\">Dense</span>)                │ (<span style=\"color: #00d7ff; text-decoration-color: #00d7ff\">None</span>, <span style=\"color: #00af00; text-decoration-color: #00af00\">128</span>)            │        <span style=\"color: #00af00; text-decoration-color: #00af00\">16,512</span> │\n",
              "├─────────────────────────────────┼────────────────────────┼───────────────┤\n",
              "│ dense_16 (<span style=\"color: #0087ff; text-decoration-color: #0087ff\">Dense</span>)                │ (<span style=\"color: #00d7ff; text-decoration-color: #00d7ff\">None</span>, <span style=\"color: #00af00; text-decoration-color: #00af00\">10</span>)             │         <span style=\"color: #00af00; text-decoration-color: #00af00\">1,290</span> │\n",
              "└─────────────────────────────────┴────────────────────────┴───────────────┘\n",
              "</pre>\n"
            ]
          },
          "metadata": {}
        },
        {
          "output_type": "display_data",
          "data": {
            "text/plain": [
              "\u001b[1m Total params: \u001b[0m\u001b[38;5;34m780,896\u001b[0m (2.98 MB)\n"
            ],
            "text/html": [
              "<pre style=\"white-space:pre;overflow-x:auto;line-height:normal;font-family:Menlo,'DejaVu Sans Mono',consolas,'Courier New',monospace\"><span style=\"font-weight: bold\"> Total params: </span><span style=\"color: #00af00; text-decoration-color: #00af00\">780,896</span> (2.98 MB)\n",
              "</pre>\n"
            ]
          },
          "metadata": {}
        },
        {
          "output_type": "display_data",
          "data": {
            "text/plain": [
              "\u001b[1m Trainable params: \u001b[0m\u001b[38;5;34m260,298\u001b[0m (1016.79 KB)\n"
            ],
            "text/html": [
              "<pre style=\"white-space:pre;overflow-x:auto;line-height:normal;font-family:Menlo,'DejaVu Sans Mono',consolas,'Courier New',monospace\"><span style=\"font-weight: bold\"> Trainable params: </span><span style=\"color: #00af00; text-decoration-color: #00af00\">260,298</span> (1016.79 KB)\n",
              "</pre>\n"
            ]
          },
          "metadata": {}
        },
        {
          "output_type": "display_data",
          "data": {
            "text/plain": [
              "\u001b[1m Non-trainable params: \u001b[0m\u001b[38;5;34m0\u001b[0m (0.00 B)\n"
            ],
            "text/html": [
              "<pre style=\"white-space:pre;overflow-x:auto;line-height:normal;font-family:Menlo,'DejaVu Sans Mono',consolas,'Courier New',monospace\"><span style=\"font-weight: bold\"> Non-trainable params: </span><span style=\"color: #00af00; text-decoration-color: #00af00\">0</span> (0.00 B)\n",
              "</pre>\n"
            ]
          },
          "metadata": {}
        },
        {
          "output_type": "display_data",
          "data": {
            "text/plain": [
              "\u001b[1m Optimizer params: \u001b[0m\u001b[38;5;34m520,598\u001b[0m (1.99 MB)\n"
            ],
            "text/html": [
              "<pre style=\"white-space:pre;overflow-x:auto;line-height:normal;font-family:Menlo,'DejaVu Sans Mono',consolas,'Courier New',monospace\"><span style=\"font-weight: bold\"> Optimizer params: </span><span style=\"color: #00af00; text-decoration-color: #00af00\">520,598</span> (1.99 MB)\n",
              "</pre>\n"
            ]
          },
          "metadata": {}
        },
        {
          "output_type": "stream",
          "name": "stdout",
          "text": [
            "\n",
            "Training CNN with Optimizer: RMSprop, Activation: Tanh\n",
            "Epoch 1/12\n",
            "\u001b[1m938/938\u001b[0m \u001b[32m━━━━━━━━━━━━━━━━━━━━\u001b[0m\u001b[37m\u001b[0m \u001b[1m86s\u001b[0m 91ms/step - accuracy: 0.6545 - loss: 1.0989 - val_accuracy: 0.9404 - val_loss: 0.2071\n",
            "Epoch 2/12\n",
            "\u001b[1m938/938\u001b[0m \u001b[32m━━━━━━━━━━━━━━━━━━━━\u001b[0m\u001b[37m\u001b[0m \u001b[1m146s\u001b[0m 95ms/step - accuracy: 0.9447 - loss: 0.1877 - val_accuracy: 0.9494 - val_loss: 0.1668\n",
            "Epoch 3/12\n",
            "\u001b[1m938/938\u001b[0m \u001b[32m━━━━━━━━━━━━━━━━━━━━\u001b[0m\u001b[37m\u001b[0m \u001b[1m140s\u001b[0m 93ms/step - accuracy: 0.9498 - loss: 0.1701 - val_accuracy: 0.9568 - val_loss: 0.1454\n",
            "Epoch 4/12\n",
            "\u001b[1m938/938\u001b[0m \u001b[32m━━━━━━━━━━━━━━━━━━━━\u001b[0m\u001b[37m\u001b[0m \u001b[1m141s\u001b[0m 92ms/step - accuracy: 0.9519 - loss: 0.1683 - val_accuracy: 0.9547 - val_loss: 0.1603\n",
            "Epoch 5/12\n",
            "\u001b[1m938/938\u001b[0m \u001b[32m━━━━━━━━━━━━━━━━━━━━\u001b[0m\u001b[37m\u001b[0m \u001b[1m140s\u001b[0m 90ms/step - accuracy: 0.9553 - loss: 0.1523 - val_accuracy: 0.9496 - val_loss: 0.1741\n",
            "Epoch 6/12\n",
            "\u001b[1m938/938\u001b[0m \u001b[32m━━━━━━━━━━━━━━━━━━━━\u001b[0m\u001b[37m\u001b[0m \u001b[1m144s\u001b[0m 92ms/step - accuracy: 0.9495 - loss: 0.1746 - val_accuracy: 0.9485 - val_loss: 0.1753\n",
            "Epoch 7/12\n",
            "\u001b[1m938/938\u001b[0m \u001b[32m━━━━━━━━━━━━━━━━━━━━\u001b[0m\u001b[37m\u001b[0m \u001b[1m141s\u001b[0m 90ms/step - accuracy: 0.9498 - loss: 0.1715 - val_accuracy: 0.9628 - val_loss: 0.1318\n",
            "Epoch 8/12\n",
            "\u001b[1m938/938\u001b[0m \u001b[32m━━━━━━━━━━━━━━━━━━━━\u001b[0m\u001b[37m\u001b[0m \u001b[1m85s\u001b[0m 91ms/step - accuracy: 0.9542 - loss: 0.1553 - val_accuracy: 0.9554 - val_loss: 0.1562\n",
            "Epoch 9/12\n",
            "\u001b[1m938/938\u001b[0m \u001b[32m━━━━━━━━━━━━━━━━━━━━\u001b[0m\u001b[37m\u001b[0m \u001b[1m146s\u001b[0m 95ms/step - accuracy: 0.9547 - loss: 0.1521 - val_accuracy: 0.9577 - val_loss: 0.1435\n",
            "Epoch 10/12\n",
            "\u001b[1m938/938\u001b[0m \u001b[32m━━━━━━━━━━━━━━━━━━━━\u001b[0m\u001b[37m\u001b[0m \u001b[1m138s\u001b[0m 91ms/step - accuracy: 0.9554 - loss: 0.1586 - val_accuracy: 0.9592 - val_loss: 0.1495\n",
            "Epoch 11/12\n",
            "\u001b[1m938/938\u001b[0m \u001b[32m━━━━━━━━━━━━━━━━━━━━\u001b[0m\u001b[37m\u001b[0m \u001b[1m141s\u001b[0m 90ms/step - accuracy: 0.9568 - loss: 0.1511 - val_accuracy: 0.9568 - val_loss: 0.1550\n",
            "Epoch 12/12\n",
            "\u001b[1m938/938\u001b[0m \u001b[32m━━━━━━━━━━━━━━━━━━━━\u001b[0m\u001b[37m\u001b[0m \u001b[1m147s\u001b[0m 96ms/step - accuracy: 0.9532 - loss: 0.1569 - val_accuracy: 0.9490 - val_loss: 0.1635\n",
            "\n",
            "===== Training Report =====\n",
            "Optimizer Used: RMSprop\n",
            "\n",
            "===== Model Performance Summary =====\n",
            "Epochs: 12, Batch Size: 64\n",
            "Final Training Accuracy: 95.17%\n",
            "First 5 Epochs' Accuracy: [0.8418833613395691, 0.9473166465759277, 0.9499333500862122, 0.9515500068664551, 0.9532166719436646]\n",
            "Total Model Parameters: 260298\n",
            "Training time tracking not available.\n",
            "Avg Test Time per Epoch: 0.44 seconds\n",
            "Optimizer Used: rmsprop\n",
            "Learning Rate: 0.009999999776482582\n",
            "Optimizer Settings: {'name': 'rmsprop', 'learning_rate': 0.009999999776482582, 'weight_decay': None, 'clipnorm': None, 'global_clipnorm': None, 'clipvalue': None, 'use_ema': False, 'ema_momentum': 0.99, 'ema_overwrite_frequency': None, 'loss_scale_factor': None, 'gradient_accumulation_steps': None, 'rho': 0.9, 'momentum': 0.0, 'epsilon': 1e-07, 'centered': False}\n",
            "\n",
            "===== Model Layers =====\n"
          ]
        },
        {
          "output_type": "display_data",
          "data": {
            "text/plain": [
              "\u001b[1mModel: \"sequential_6\"\u001b[0m\n"
            ],
            "text/html": [
              "<pre style=\"white-space:pre;overflow-x:auto;line-height:normal;font-family:Menlo,'DejaVu Sans Mono',consolas,'Courier New',monospace\"><span style=\"font-weight: bold\">Model: \"sequential_6\"</span>\n",
              "</pre>\n"
            ]
          },
          "metadata": {}
        },
        {
          "output_type": "display_data",
          "data": {
            "text/plain": [
              "┏━━━━━━━━━━━━━━━━━━━━━━━━━━━━━━━━━┳━━━━━━━━━━━━━━━━━━━━━━━━┳━━━━━━━━━━━━━━━┓\n",
              "┃\u001b[1m \u001b[0m\u001b[1mLayer (type)                   \u001b[0m\u001b[1m \u001b[0m┃\u001b[1m \u001b[0m\u001b[1mOutput Shape          \u001b[0m\u001b[1m \u001b[0m┃\u001b[1m \u001b[0m\u001b[1m      Param #\u001b[0m\u001b[1m \u001b[0m┃\n",
              "┡━━━━━━━━━━━━━━━━━━━━━━━━━━━━━━━━━╇━━━━━━━━━━━━━━━━━━━━━━━━╇━━━━━━━━━━━━━━━┩\n",
              "│ conv2d_10 (\u001b[38;5;33mConv2D\u001b[0m)              │ (\u001b[38;5;45mNone\u001b[0m, \u001b[38;5;34m26\u001b[0m, \u001b[38;5;34m26\u001b[0m, \u001b[38;5;34m64\u001b[0m)     │           \u001b[38;5;34m640\u001b[0m │\n",
              "├─────────────────────────────────┼────────────────────────┼───────────────┤\n",
              "│ max_pooling2d_10 (\u001b[38;5;33mMaxPooling2D\u001b[0m) │ (\u001b[38;5;45mNone\u001b[0m, \u001b[38;5;34m13\u001b[0m, \u001b[38;5;34m13\u001b[0m, \u001b[38;5;34m64\u001b[0m)     │             \u001b[38;5;34m0\u001b[0m │\n",
              "├─────────────────────────────────┼────────────────────────┼───────────────┤\n",
              "│ conv2d_11 (\u001b[38;5;33mConv2D\u001b[0m)              │ (\u001b[38;5;45mNone\u001b[0m, \u001b[38;5;34m11\u001b[0m, \u001b[38;5;34m11\u001b[0m, \u001b[38;5;34m64\u001b[0m)     │        \u001b[38;5;34m36,928\u001b[0m │\n",
              "├─────────────────────────────────┼────────────────────────┼───────────────┤\n",
              "│ max_pooling2d_11 (\u001b[38;5;33mMaxPooling2D\u001b[0m) │ (\u001b[38;5;45mNone\u001b[0m, \u001b[38;5;34m5\u001b[0m, \u001b[38;5;34m5\u001b[0m, \u001b[38;5;34m64\u001b[0m)       │             \u001b[38;5;34m0\u001b[0m │\n",
              "├─────────────────────────────────┼────────────────────────┼───────────────┤\n",
              "│ flatten_6 (\u001b[38;5;33mFlatten\u001b[0m)             │ (\u001b[38;5;45mNone\u001b[0m, \u001b[38;5;34m1600\u001b[0m)           │             \u001b[38;5;34m0\u001b[0m │\n",
              "├─────────────────────────────────┼────────────────────────┼───────────────┤\n",
              "│ dense_17 (\u001b[38;5;33mDense\u001b[0m)                │ (\u001b[38;5;45mNone\u001b[0m, \u001b[38;5;34m128\u001b[0m)            │       \u001b[38;5;34m204,928\u001b[0m │\n",
              "├─────────────────────────────────┼────────────────────────┼───────────────┤\n",
              "│ dense_18 (\u001b[38;5;33mDense\u001b[0m)                │ (\u001b[38;5;45mNone\u001b[0m, \u001b[38;5;34m128\u001b[0m)            │        \u001b[38;5;34m16,512\u001b[0m │\n",
              "├─────────────────────────────────┼────────────────────────┼───────────────┤\n",
              "│ dense_19 (\u001b[38;5;33mDense\u001b[0m)                │ (\u001b[38;5;45mNone\u001b[0m, \u001b[38;5;34m10\u001b[0m)             │         \u001b[38;5;34m1,290\u001b[0m │\n",
              "└─────────────────────────────────┴────────────────────────┴───────────────┘\n"
            ],
            "text/html": [
              "<pre style=\"white-space:pre;overflow-x:auto;line-height:normal;font-family:Menlo,'DejaVu Sans Mono',consolas,'Courier New',monospace\">┏━━━━━━━━━━━━━━━━━━━━━━━━━━━━━━━━━┳━━━━━━━━━━━━━━━━━━━━━━━━┳━━━━━━━━━━━━━━━┓\n",
              "┃<span style=\"font-weight: bold\"> Layer (type)                    </span>┃<span style=\"font-weight: bold\"> Output Shape           </span>┃<span style=\"font-weight: bold\">       Param # </span>┃\n",
              "┡━━━━━━━━━━━━━━━━━━━━━━━━━━━━━━━━━╇━━━━━━━━━━━━━━━━━━━━━━━━╇━━━━━━━━━━━━━━━┩\n",
              "│ conv2d_10 (<span style=\"color: #0087ff; text-decoration-color: #0087ff\">Conv2D</span>)              │ (<span style=\"color: #00d7ff; text-decoration-color: #00d7ff\">None</span>, <span style=\"color: #00af00; text-decoration-color: #00af00\">26</span>, <span style=\"color: #00af00; text-decoration-color: #00af00\">26</span>, <span style=\"color: #00af00; text-decoration-color: #00af00\">64</span>)     │           <span style=\"color: #00af00; text-decoration-color: #00af00\">640</span> │\n",
              "├─────────────────────────────────┼────────────────────────┼───────────────┤\n",
              "│ max_pooling2d_10 (<span style=\"color: #0087ff; text-decoration-color: #0087ff\">MaxPooling2D</span>) │ (<span style=\"color: #00d7ff; text-decoration-color: #00d7ff\">None</span>, <span style=\"color: #00af00; text-decoration-color: #00af00\">13</span>, <span style=\"color: #00af00; text-decoration-color: #00af00\">13</span>, <span style=\"color: #00af00; text-decoration-color: #00af00\">64</span>)     │             <span style=\"color: #00af00; text-decoration-color: #00af00\">0</span> │\n",
              "├─────────────────────────────────┼────────────────────────┼───────────────┤\n",
              "│ conv2d_11 (<span style=\"color: #0087ff; text-decoration-color: #0087ff\">Conv2D</span>)              │ (<span style=\"color: #00d7ff; text-decoration-color: #00d7ff\">None</span>, <span style=\"color: #00af00; text-decoration-color: #00af00\">11</span>, <span style=\"color: #00af00; text-decoration-color: #00af00\">11</span>, <span style=\"color: #00af00; text-decoration-color: #00af00\">64</span>)     │        <span style=\"color: #00af00; text-decoration-color: #00af00\">36,928</span> │\n",
              "├─────────────────────────────────┼────────────────────────┼───────────────┤\n",
              "│ max_pooling2d_11 (<span style=\"color: #0087ff; text-decoration-color: #0087ff\">MaxPooling2D</span>) │ (<span style=\"color: #00d7ff; text-decoration-color: #00d7ff\">None</span>, <span style=\"color: #00af00; text-decoration-color: #00af00\">5</span>, <span style=\"color: #00af00; text-decoration-color: #00af00\">5</span>, <span style=\"color: #00af00; text-decoration-color: #00af00\">64</span>)       │             <span style=\"color: #00af00; text-decoration-color: #00af00\">0</span> │\n",
              "├─────────────────────────────────┼────────────────────────┼───────────────┤\n",
              "│ flatten_6 (<span style=\"color: #0087ff; text-decoration-color: #0087ff\">Flatten</span>)             │ (<span style=\"color: #00d7ff; text-decoration-color: #00d7ff\">None</span>, <span style=\"color: #00af00; text-decoration-color: #00af00\">1600</span>)           │             <span style=\"color: #00af00; text-decoration-color: #00af00\">0</span> │\n",
              "├─────────────────────────────────┼────────────────────────┼───────────────┤\n",
              "│ dense_17 (<span style=\"color: #0087ff; text-decoration-color: #0087ff\">Dense</span>)                │ (<span style=\"color: #00d7ff; text-decoration-color: #00d7ff\">None</span>, <span style=\"color: #00af00; text-decoration-color: #00af00\">128</span>)            │       <span style=\"color: #00af00; text-decoration-color: #00af00\">204,928</span> │\n",
              "├─────────────────────────────────┼────────────────────────┼───────────────┤\n",
              "│ dense_18 (<span style=\"color: #0087ff; text-decoration-color: #0087ff\">Dense</span>)                │ (<span style=\"color: #00d7ff; text-decoration-color: #00d7ff\">None</span>, <span style=\"color: #00af00; text-decoration-color: #00af00\">128</span>)            │        <span style=\"color: #00af00; text-decoration-color: #00af00\">16,512</span> │\n",
              "├─────────────────────────────────┼────────────────────────┼───────────────┤\n",
              "│ dense_19 (<span style=\"color: #0087ff; text-decoration-color: #0087ff\">Dense</span>)                │ (<span style=\"color: #00d7ff; text-decoration-color: #00d7ff\">None</span>, <span style=\"color: #00af00; text-decoration-color: #00af00\">10</span>)             │         <span style=\"color: #00af00; text-decoration-color: #00af00\">1,290</span> │\n",
              "└─────────────────────────────────┴────────────────────────┴───────────────┘\n",
              "</pre>\n"
            ]
          },
          "metadata": {}
        },
        {
          "output_type": "display_data",
          "data": {
            "text/plain": [
              "\u001b[1m Total params: \u001b[0m\u001b[38;5;34m520,598\u001b[0m (1.99 MB)\n"
            ],
            "text/html": [
              "<pre style=\"white-space:pre;overflow-x:auto;line-height:normal;font-family:Menlo,'DejaVu Sans Mono',consolas,'Courier New',monospace\"><span style=\"font-weight: bold\"> Total params: </span><span style=\"color: #00af00; text-decoration-color: #00af00\">520,598</span> (1.99 MB)\n",
              "</pre>\n"
            ]
          },
          "metadata": {}
        },
        {
          "output_type": "display_data",
          "data": {
            "text/plain": [
              "\u001b[1m Trainable params: \u001b[0m\u001b[38;5;34m260,298\u001b[0m (1016.79 KB)\n"
            ],
            "text/html": [
              "<pre style=\"white-space:pre;overflow-x:auto;line-height:normal;font-family:Menlo,'DejaVu Sans Mono',consolas,'Courier New',monospace\"><span style=\"font-weight: bold\"> Trainable params: </span><span style=\"color: #00af00; text-decoration-color: #00af00\">260,298</span> (1016.79 KB)\n",
              "</pre>\n"
            ]
          },
          "metadata": {}
        },
        {
          "output_type": "display_data",
          "data": {
            "text/plain": [
              "\u001b[1m Non-trainable params: \u001b[0m\u001b[38;5;34m0\u001b[0m (0.00 B)\n"
            ],
            "text/html": [
              "<pre style=\"white-space:pre;overflow-x:auto;line-height:normal;font-family:Menlo,'DejaVu Sans Mono',consolas,'Courier New',monospace\"><span style=\"font-weight: bold\"> Non-trainable params: </span><span style=\"color: #00af00; text-decoration-color: #00af00\">0</span> (0.00 B)\n",
              "</pre>\n"
            ]
          },
          "metadata": {}
        },
        {
          "output_type": "display_data",
          "data": {
            "text/plain": [
              "\u001b[1m Optimizer params: \u001b[0m\u001b[38;5;34m260,300\u001b[0m (1016.80 KB)\n"
            ],
            "text/html": [
              "<pre style=\"white-space:pre;overflow-x:auto;line-height:normal;font-family:Menlo,'DejaVu Sans Mono',consolas,'Courier New',monospace\"><span style=\"font-weight: bold\"> Optimizer params: </span><span style=\"color: #00af00; text-decoration-color: #00af00\">260,300</span> (1016.80 KB)\n",
              "</pre>\n"
            ]
          },
          "metadata": {}
        }
      ]
    },
    {
      "cell_type": "markdown",
      "source": [
        "### **Optimizer Comparison: Accuracy vs. Efficiency**\n",
        "\n",
        "| Optimizer | Final Training Accuracy | First 5 Epochs' Accuracy | Avg Test Time per Epoch | Stability |\n",
        "|-----------|------------------------|-------------------------|-------------------------|-----------|\n",
        "| **Adam** |  **92.24%** (Lowest) | Slow early accuracy (~92%) |  **0.38 sec** (Fastest) | Less stable |\n",
        "| **RMSprop** |  **95.17%** |  Faster early accuracy (~95%) |  **0.44 sec** (Slowest) | Stable |\n",
        "| **SGD** |  **99.92%** (Best) |  Fastest growth (~99%) |  **0.40 sec** | Most stable |\n",
        "\n",
        "### **Key Takeaways**\n",
        " **Adam:**  \n",
        "- **Fast initial updates** but overall **lower final accuracy (92.24%)**.  \n",
        "- Might have suffered from **unstable learning due to adaptive learning rates**.  \n",
        "\n",
        " **RMSprop:**  \n",
        "- **Better accuracy (95.17%)** than Adam.  \n",
        "- Slightly slower **inference time (0.44 sec per epoch)** but maintained better stability.  \n",
        "\n",
        " **SGD (Best Choice):**  \n",
        "- **Highest accuracy (99.92%)**, fastest early convergence.  \n",
        "- **Balanced inference time (0.40 sec per epoch)**.  \n",
        "- **Most stable optimizer for this setup**.  \n",
        "\n",
        "### **Final Recommendation:**\n",
        " **Best optimizer for accuracy & stability → SGD**  \n",
        " **If prioritizing speed → Adam (but accuracy suffers)**  \n",
        " **RMSprop is a middle ground**, but slower inference makes it less ideal.  \n"
      ],
      "metadata": {
        "id": "wA5fCdgU-Y6o"
      }
    },
    {
      "cell_type": "markdown",
      "source": [
        "9- Put a dropout layer in the model, anywhere you see fit, try 2 places and test at least 2 different\n",
        "dropout rates (that aren’t 0% or 100% of course).:"
      ],
      "metadata": {
        "id": "BBM2fpv5hOcH"
      }
    },
    {
      "cell_type": "code",
      "source": [
        "from tensorflow.keras.models import Sequential\n",
        "from tensorflow.keras.layers import Conv2D, MaxPooling2D, Flatten, Dense, Dropout\n",
        "from tensorflow.keras.optimizers import SGD\n",
        "\n",
        "def build_model(dropout_location, dropout_rate):\n",
        "    model = Sequential()\n",
        "\n",
        "    # Convolutional layers with optional dropout\n",
        "    model.add(Conv2D(64, (3,3), activation='tanh', input_shape=(28,28,1)))\n",
        "    model.add(MaxPooling2D(pool_size=(2,2), strides=(2,2)))\n",
        "\n",
        "    model.add(Conv2D(64, (3,3), activation='tanh'))\n",
        "    model.add(MaxPooling2D(pool_size=(2,2)))\n",
        "\n",
        "    if dropout_location == \"CNN\":\n",
        "        model.add(Dropout(dropout_rate))  # Dropout after CNN layer\n",
        "\n",
        "    model.add(Flatten())\n",
        "\n",
        "    # Fully connected layers with optional dropout\n",
        "    model.add(Dense(128, activation='tanh'))\n",
        "\n",
        "    if dropout_location == \"FC\":\n",
        "        model.add(Dropout(dropout_rate))  # Dropout before FC layer\n",
        "\n",
        "    model.add(Dense(128, activation='tanh'))\n",
        "    model.add(Dense(10, activation='softmax'))\n",
        "\n",
        "    optimizer = SGD(learning_rate=0.01, momentum=0.9)\n",
        "    model.compile(optimizer=optimizer, loss='categorical_crossentropy', metrics=['accuracy'])\n",
        "\n",
        "    return model"
      ],
      "metadata": {
        "id": "Fg_jbXVe_fnT"
      },
      "execution_count": null,
      "outputs": []
    },
    {
      "cell_type": "code",
      "source": [
        "dropout_configs = [\n",
        "    (\"CNN\", 0.2),  # Dropout after CNN layer, 20% rate\n",
        "    (\"CNN\", 0.5),  # Dropout after CNN layer, 50% rate\n",
        "    (\"FC\", 0.2),   # Dropout before FC layer, 20% rate\n",
        "    (\"FC\", 0.5)    # Dropout before FC layer, 50% rate\n",
        "]\n",
        "\n",
        "batch_size = 64\n",
        "\n",
        "for location, rate in dropout_configs:\n",
        "    print(f\"\\nTraining CNN with Dropout Location: {location}, Dropout Rate: {rate}\")\n",
        "\n",
        "    model = build_model(location, rate)\n",
        "    history = model.fit(x_train, y_train_cat, batch_size=batch_size, epochs=12, validation_data=(x_test, y_test_cat), shuffle=True)\n",
        "\n",
        "    print(\"\\n===== Training Report =====\")\n",
        "    print(f\"Dropout Location: {location}, Dropout Rate: {rate}\")\n",
        "    summarize_results(model, history, 12, batch_size, (x_test, y_test_cat))"
      ],
      "metadata": {
        "colab": {
          "base_uri": "https://localhost:8080/",
          "height": 1000
        },
        "id": "p0hCfD4BC8WM",
        "outputId": "7866e5a5-bcab-4c2d-f929-cb78d420b2ef",
        "collapsed": true
      },
      "execution_count": null,
      "outputs": [
        {
          "output_type": "stream",
          "name": "stdout",
          "text": [
            "\n",
            "Training CNN with Dropout Location: CNN, Dropout Rate: 0.2\n",
            "Epoch 1/12\n",
            "\u001b[1m938/938\u001b[0m \u001b[32m━━━━━━━━━━━━━━━━━━━━\u001b[0m\u001b[37m\u001b[0m \u001b[1m91s\u001b[0m 96ms/step - accuracy: 0.8263 - loss: 0.5607 - val_accuracy: 0.9818 - val_loss: 0.0617\n",
            "Epoch 2/12\n",
            "\u001b[1m938/938\u001b[0m \u001b[32m━━━━━━━━━━━━━━━━━━━━\u001b[0m\u001b[37m\u001b[0m \u001b[1m139s\u001b[0m 92ms/step - accuracy: 0.9758 - loss: 0.0777 - val_accuracy: 0.9860 - val_loss: 0.0430\n",
            "Epoch 3/12\n",
            "\u001b[1m938/938\u001b[0m \u001b[32m━━━━━━━━━━━━━━━━━━━━\u001b[0m\u001b[37m\u001b[0m \u001b[1m142s\u001b[0m 92ms/step - accuracy: 0.9829 - loss: 0.0566 - val_accuracy: 0.9878 - val_loss: 0.0350\n",
            "Epoch 4/12\n",
            "\u001b[1m938/938\u001b[0m \u001b[32m━━━━━━━━━━━━━━━━━━━━\u001b[0m\u001b[37m\u001b[0m \u001b[1m141s\u001b[0m 92ms/step - accuracy: 0.9871 - loss: 0.0426 - val_accuracy: 0.9850 - val_loss: 0.0429\n",
            "Epoch 5/12\n",
            "\u001b[1m938/938\u001b[0m \u001b[32m━━━━━━━━━━━━━━━━━━━━\u001b[0m\u001b[37m\u001b[0m \u001b[1m141s\u001b[0m 91ms/step - accuracy: 0.9888 - loss: 0.0352 - val_accuracy: 0.9896 - val_loss: 0.0307\n",
            "Epoch 6/12\n",
            "\u001b[1m938/938\u001b[0m \u001b[32m━━━━━━━━━━━━━━━━━━━━\u001b[0m\u001b[37m\u001b[0m \u001b[1m140s\u001b[0m 89ms/step - accuracy: 0.9925 - loss: 0.0273 - val_accuracy: 0.9903 - val_loss: 0.0288\n",
            "Epoch 7/12\n",
            "\u001b[1m938/938\u001b[0m \u001b[32m━━━━━━━━━━━━━━━━━━━━\u001b[0m\u001b[37m\u001b[0m \u001b[1m147s\u001b[0m 94ms/step - accuracy: 0.9928 - loss: 0.0245 - val_accuracy: 0.9911 - val_loss: 0.0295\n",
            "Epoch 8/12\n",
            "\u001b[1m938/938\u001b[0m \u001b[32m━━━━━━━━━━━━━━━━━━━━\u001b[0m\u001b[37m\u001b[0m \u001b[1m140s\u001b[0m 92ms/step - accuracy: 0.9937 - loss: 0.0213 - val_accuracy: 0.9904 - val_loss: 0.0306\n",
            "Epoch 9/12\n",
            "\u001b[1m938/938\u001b[0m \u001b[32m━━━━━━━━━━━━━━━━━━━━\u001b[0m\u001b[37m\u001b[0m \u001b[1m142s\u001b[0m 93ms/step - accuracy: 0.9951 - loss: 0.0169 - val_accuracy: 0.9908 - val_loss: 0.0305\n",
            "Epoch 10/12\n",
            "\u001b[1m938/938\u001b[0m \u001b[32m━━━━━━━━━━━━━━━━━━━━\u001b[0m\u001b[37m\u001b[0m \u001b[1m142s\u001b[0m 93ms/step - accuracy: 0.9952 - loss: 0.0150 - val_accuracy: 0.9913 - val_loss: 0.0272\n",
            "Epoch 11/12\n",
            "\u001b[1m938/938\u001b[0m \u001b[32m━━━━━━━━━━━━━━━━━━━━\u001b[0m\u001b[37m\u001b[0m \u001b[1m139s\u001b[0m 90ms/step - accuracy: 0.9960 - loss: 0.0143 - val_accuracy: 0.9910 - val_loss: 0.0300\n",
            "Epoch 12/12\n",
            "\u001b[1m938/938\u001b[0m \u001b[32m━━━━━━━━━━━━━━━━━━━━\u001b[0m\u001b[37m\u001b[0m \u001b[1m142s\u001b[0m 90ms/step - accuracy: 0.9965 - loss: 0.0124 - val_accuracy: 0.9908 - val_loss: 0.0269\n",
            "\n",
            "===== Training Report =====\n",
            "Dropout Location: CNN, Dropout Rate: 0.2\n",
            "\n",
            "===== Model Performance Summary =====\n",
            "Epochs: 12, Batch Size: 64\n",
            "Final Training Accuracy: 99.63%\n",
            "First 5 Epochs' Accuracy: [0.9236666560173035, 0.9781000018119812, 0.9838666915893555, 0.987666666507721, 0.9886166453361511]\n",
            "Total Model Parameters: 260298\n",
            "Training time tracking not available.\n",
            "Avg Test Time per Epoch: 0.44 seconds\n",
            "Optimizer Used: SGD\n",
            "Learning Rate: 0.009999999776482582\n",
            "Optimizer Settings: {'name': 'SGD', 'learning_rate': 0.009999999776482582, 'weight_decay': None, 'clipnorm': None, 'global_clipnorm': None, 'clipvalue': None, 'use_ema': False, 'ema_momentum': 0.99, 'ema_overwrite_frequency': None, 'loss_scale_factor': None, 'gradient_accumulation_steps': None, 'momentum': 0.9, 'nesterov': False}\n",
            "\n",
            "===== Model Layers =====\n"
          ]
        },
        {
          "output_type": "display_data",
          "data": {
            "text/plain": [
              "\u001b[1mModel: \"sequential_8\"\u001b[0m\n"
            ],
            "text/html": [
              "<pre style=\"white-space:pre;overflow-x:auto;line-height:normal;font-family:Menlo,'DejaVu Sans Mono',consolas,'Courier New',monospace\"><span style=\"font-weight: bold\">Model: \"sequential_8\"</span>\n",
              "</pre>\n"
            ]
          },
          "metadata": {}
        },
        {
          "output_type": "display_data",
          "data": {
            "text/plain": [
              "┏━━━━━━━━━━━━━━━━━━━━━━━━━━━━━━━━━┳━━━━━━━━━━━━━━━━━━━━━━━━┳━━━━━━━━━━━━━━━┓\n",
              "┃\u001b[1m \u001b[0m\u001b[1mLayer (type)                   \u001b[0m\u001b[1m \u001b[0m┃\u001b[1m \u001b[0m\u001b[1mOutput Shape          \u001b[0m\u001b[1m \u001b[0m┃\u001b[1m \u001b[0m\u001b[1m      Param #\u001b[0m\u001b[1m \u001b[0m┃\n",
              "┡━━━━━━━━━━━━━━━━━━━━━━━━━━━━━━━━━╇━━━━━━━━━━━━━━━━━━━━━━━━╇━━━━━━━━━━━━━━━┩\n",
              "│ conv2d_14 (\u001b[38;5;33mConv2D\u001b[0m)              │ (\u001b[38;5;45mNone\u001b[0m, \u001b[38;5;34m26\u001b[0m, \u001b[38;5;34m26\u001b[0m, \u001b[38;5;34m64\u001b[0m)     │           \u001b[38;5;34m640\u001b[0m │\n",
              "├─────────────────────────────────┼────────────────────────┼───────────────┤\n",
              "│ max_pooling2d_14 (\u001b[38;5;33mMaxPooling2D\u001b[0m) │ (\u001b[38;5;45mNone\u001b[0m, \u001b[38;5;34m13\u001b[0m, \u001b[38;5;34m13\u001b[0m, \u001b[38;5;34m64\u001b[0m)     │             \u001b[38;5;34m0\u001b[0m │\n",
              "├─────────────────────────────────┼────────────────────────┼───────────────┤\n",
              "│ conv2d_15 (\u001b[38;5;33mConv2D\u001b[0m)              │ (\u001b[38;5;45mNone\u001b[0m, \u001b[38;5;34m11\u001b[0m, \u001b[38;5;34m11\u001b[0m, \u001b[38;5;34m64\u001b[0m)     │        \u001b[38;5;34m36,928\u001b[0m │\n",
              "├─────────────────────────────────┼────────────────────────┼───────────────┤\n",
              "│ max_pooling2d_15 (\u001b[38;5;33mMaxPooling2D\u001b[0m) │ (\u001b[38;5;45mNone\u001b[0m, \u001b[38;5;34m5\u001b[0m, \u001b[38;5;34m5\u001b[0m, \u001b[38;5;34m64\u001b[0m)       │             \u001b[38;5;34m0\u001b[0m │\n",
              "├─────────────────────────────────┼────────────────────────┼───────────────┤\n",
              "│ dropout_2 (\u001b[38;5;33mDropout\u001b[0m)             │ (\u001b[38;5;45mNone\u001b[0m, \u001b[38;5;34m5\u001b[0m, \u001b[38;5;34m5\u001b[0m, \u001b[38;5;34m64\u001b[0m)       │             \u001b[38;5;34m0\u001b[0m │\n",
              "├─────────────────────────────────┼────────────────────────┼───────────────┤\n",
              "│ flatten_8 (\u001b[38;5;33mFlatten\u001b[0m)             │ (\u001b[38;5;45mNone\u001b[0m, \u001b[38;5;34m1600\u001b[0m)           │             \u001b[38;5;34m0\u001b[0m │\n",
              "├─────────────────────────────────┼────────────────────────┼───────────────┤\n",
              "│ dense_23 (\u001b[38;5;33mDense\u001b[0m)                │ (\u001b[38;5;45mNone\u001b[0m, \u001b[38;5;34m128\u001b[0m)            │       \u001b[38;5;34m204,928\u001b[0m │\n",
              "├─────────────────────────────────┼────────────────────────┼───────────────┤\n",
              "│ dense_24 (\u001b[38;5;33mDense\u001b[0m)                │ (\u001b[38;5;45mNone\u001b[0m, \u001b[38;5;34m128\u001b[0m)            │        \u001b[38;5;34m16,512\u001b[0m │\n",
              "├─────────────────────────────────┼────────────────────────┼───────────────┤\n",
              "│ dense_25 (\u001b[38;5;33mDense\u001b[0m)                │ (\u001b[38;5;45mNone\u001b[0m, \u001b[38;5;34m10\u001b[0m)             │         \u001b[38;5;34m1,290\u001b[0m │\n",
              "└─────────────────────────────────┴────────────────────────┴───────────────┘\n"
            ],
            "text/html": [
              "<pre style=\"white-space:pre;overflow-x:auto;line-height:normal;font-family:Menlo,'DejaVu Sans Mono',consolas,'Courier New',monospace\">┏━━━━━━━━━━━━━━━━━━━━━━━━━━━━━━━━━┳━━━━━━━━━━━━━━━━━━━━━━━━┳━━━━━━━━━━━━━━━┓\n",
              "┃<span style=\"font-weight: bold\"> Layer (type)                    </span>┃<span style=\"font-weight: bold\"> Output Shape           </span>┃<span style=\"font-weight: bold\">       Param # </span>┃\n",
              "┡━━━━━━━━━━━━━━━━━━━━━━━━━━━━━━━━━╇━━━━━━━━━━━━━━━━━━━━━━━━╇━━━━━━━━━━━━━━━┩\n",
              "│ conv2d_14 (<span style=\"color: #0087ff; text-decoration-color: #0087ff\">Conv2D</span>)              │ (<span style=\"color: #00d7ff; text-decoration-color: #00d7ff\">None</span>, <span style=\"color: #00af00; text-decoration-color: #00af00\">26</span>, <span style=\"color: #00af00; text-decoration-color: #00af00\">26</span>, <span style=\"color: #00af00; text-decoration-color: #00af00\">64</span>)     │           <span style=\"color: #00af00; text-decoration-color: #00af00\">640</span> │\n",
              "├─────────────────────────────────┼────────────────────────┼───────────────┤\n",
              "│ max_pooling2d_14 (<span style=\"color: #0087ff; text-decoration-color: #0087ff\">MaxPooling2D</span>) │ (<span style=\"color: #00d7ff; text-decoration-color: #00d7ff\">None</span>, <span style=\"color: #00af00; text-decoration-color: #00af00\">13</span>, <span style=\"color: #00af00; text-decoration-color: #00af00\">13</span>, <span style=\"color: #00af00; text-decoration-color: #00af00\">64</span>)     │             <span style=\"color: #00af00; text-decoration-color: #00af00\">0</span> │\n",
              "├─────────────────────────────────┼────────────────────────┼───────────────┤\n",
              "│ conv2d_15 (<span style=\"color: #0087ff; text-decoration-color: #0087ff\">Conv2D</span>)              │ (<span style=\"color: #00d7ff; text-decoration-color: #00d7ff\">None</span>, <span style=\"color: #00af00; text-decoration-color: #00af00\">11</span>, <span style=\"color: #00af00; text-decoration-color: #00af00\">11</span>, <span style=\"color: #00af00; text-decoration-color: #00af00\">64</span>)     │        <span style=\"color: #00af00; text-decoration-color: #00af00\">36,928</span> │\n",
              "├─────────────────────────────────┼────────────────────────┼───────────────┤\n",
              "│ max_pooling2d_15 (<span style=\"color: #0087ff; text-decoration-color: #0087ff\">MaxPooling2D</span>) │ (<span style=\"color: #00d7ff; text-decoration-color: #00d7ff\">None</span>, <span style=\"color: #00af00; text-decoration-color: #00af00\">5</span>, <span style=\"color: #00af00; text-decoration-color: #00af00\">5</span>, <span style=\"color: #00af00; text-decoration-color: #00af00\">64</span>)       │             <span style=\"color: #00af00; text-decoration-color: #00af00\">0</span> │\n",
              "├─────────────────────────────────┼────────────────────────┼───────────────┤\n",
              "│ dropout_2 (<span style=\"color: #0087ff; text-decoration-color: #0087ff\">Dropout</span>)             │ (<span style=\"color: #00d7ff; text-decoration-color: #00d7ff\">None</span>, <span style=\"color: #00af00; text-decoration-color: #00af00\">5</span>, <span style=\"color: #00af00; text-decoration-color: #00af00\">5</span>, <span style=\"color: #00af00; text-decoration-color: #00af00\">64</span>)       │             <span style=\"color: #00af00; text-decoration-color: #00af00\">0</span> │\n",
              "├─────────────────────────────────┼────────────────────────┼───────────────┤\n",
              "│ flatten_8 (<span style=\"color: #0087ff; text-decoration-color: #0087ff\">Flatten</span>)             │ (<span style=\"color: #00d7ff; text-decoration-color: #00d7ff\">None</span>, <span style=\"color: #00af00; text-decoration-color: #00af00\">1600</span>)           │             <span style=\"color: #00af00; text-decoration-color: #00af00\">0</span> │\n",
              "├─────────────────────────────────┼────────────────────────┼───────────────┤\n",
              "│ dense_23 (<span style=\"color: #0087ff; text-decoration-color: #0087ff\">Dense</span>)                │ (<span style=\"color: #00d7ff; text-decoration-color: #00d7ff\">None</span>, <span style=\"color: #00af00; text-decoration-color: #00af00\">128</span>)            │       <span style=\"color: #00af00; text-decoration-color: #00af00\">204,928</span> │\n",
              "├─────────────────────────────────┼────────────────────────┼───────────────┤\n",
              "│ dense_24 (<span style=\"color: #0087ff; text-decoration-color: #0087ff\">Dense</span>)                │ (<span style=\"color: #00d7ff; text-decoration-color: #00d7ff\">None</span>, <span style=\"color: #00af00; text-decoration-color: #00af00\">128</span>)            │        <span style=\"color: #00af00; text-decoration-color: #00af00\">16,512</span> │\n",
              "├─────────────────────────────────┼────────────────────────┼───────────────┤\n",
              "│ dense_25 (<span style=\"color: #0087ff; text-decoration-color: #0087ff\">Dense</span>)                │ (<span style=\"color: #00d7ff; text-decoration-color: #00d7ff\">None</span>, <span style=\"color: #00af00; text-decoration-color: #00af00\">10</span>)             │         <span style=\"color: #00af00; text-decoration-color: #00af00\">1,290</span> │\n",
              "└─────────────────────────────────┴────────────────────────┴───────────────┘\n",
              "</pre>\n"
            ]
          },
          "metadata": {}
        },
        {
          "output_type": "display_data",
          "data": {
            "text/plain": [
              "\u001b[1m Total params: \u001b[0m\u001b[38;5;34m520,598\u001b[0m (1.99 MB)\n"
            ],
            "text/html": [
              "<pre style=\"white-space:pre;overflow-x:auto;line-height:normal;font-family:Menlo,'DejaVu Sans Mono',consolas,'Courier New',monospace\"><span style=\"font-weight: bold\"> Total params: </span><span style=\"color: #00af00; text-decoration-color: #00af00\">520,598</span> (1.99 MB)\n",
              "</pre>\n"
            ]
          },
          "metadata": {}
        },
        {
          "output_type": "display_data",
          "data": {
            "text/plain": [
              "\u001b[1m Trainable params: \u001b[0m\u001b[38;5;34m260,298\u001b[0m (1016.79 KB)\n"
            ],
            "text/html": [
              "<pre style=\"white-space:pre;overflow-x:auto;line-height:normal;font-family:Menlo,'DejaVu Sans Mono',consolas,'Courier New',monospace\"><span style=\"font-weight: bold\"> Trainable params: </span><span style=\"color: #00af00; text-decoration-color: #00af00\">260,298</span> (1016.79 KB)\n",
              "</pre>\n"
            ]
          },
          "metadata": {}
        },
        {
          "output_type": "display_data",
          "data": {
            "text/plain": [
              "\u001b[1m Non-trainable params: \u001b[0m\u001b[38;5;34m0\u001b[0m (0.00 B)\n"
            ],
            "text/html": [
              "<pre style=\"white-space:pre;overflow-x:auto;line-height:normal;font-family:Menlo,'DejaVu Sans Mono',consolas,'Courier New',monospace\"><span style=\"font-weight: bold\"> Non-trainable params: </span><span style=\"color: #00af00; text-decoration-color: #00af00\">0</span> (0.00 B)\n",
              "</pre>\n"
            ]
          },
          "metadata": {}
        },
        {
          "output_type": "display_data",
          "data": {
            "text/plain": [
              "\u001b[1m Optimizer params: \u001b[0m\u001b[38;5;34m260,300\u001b[0m (1016.80 KB)\n"
            ],
            "text/html": [
              "<pre style=\"white-space:pre;overflow-x:auto;line-height:normal;font-family:Menlo,'DejaVu Sans Mono',consolas,'Courier New',monospace\"><span style=\"font-weight: bold\"> Optimizer params: </span><span style=\"color: #00af00; text-decoration-color: #00af00\">260,300</span> (1016.80 KB)\n",
              "</pre>\n"
            ]
          },
          "metadata": {}
        },
        {
          "output_type": "stream",
          "name": "stdout",
          "text": [
            "\n",
            "Training CNN with Dropout Location: CNN, Dropout Rate: 0.5\n",
            "Epoch 1/12\n",
            "\u001b[1m938/938\u001b[0m \u001b[32m━━━━━━━━━━━━━━━━━━━━\u001b[0m\u001b[37m\u001b[0m \u001b[1m88s\u001b[0m 92ms/step - accuracy: 0.8083 - loss: 0.6102 - val_accuracy: 0.9768 - val_loss: 0.0740\n",
            "Epoch 2/12\n",
            "\u001b[1m938/938\u001b[0m \u001b[32m━━━━━━━━━━━━━━━━━━━━\u001b[0m\u001b[37m\u001b[0m \u001b[1m87s\u001b[0m 93ms/step - accuracy: 0.9700 - loss: 0.0998 - val_accuracy: 0.9831 - val_loss: 0.0486\n",
            "Epoch 3/12\n",
            "\u001b[1m938/938\u001b[0m \u001b[32m━━━━━━━━━━━━━━━━━━━━\u001b[0m\u001b[37m\u001b[0m \u001b[1m143s\u001b[0m 94ms/step - accuracy: 0.9778 - loss: 0.0730 - val_accuracy: 0.9880 - val_loss: 0.0393\n",
            "Epoch 4/12\n",
            "\u001b[1m938/938\u001b[0m \u001b[32m━━━━━━━━━━━━━━━━━━━━\u001b[0m\u001b[37m\u001b[0m \u001b[1m86s\u001b[0m 91ms/step - accuracy: 0.9810 - loss: 0.0612 - val_accuracy: 0.9896 - val_loss: 0.0334\n",
            "Epoch 5/12\n",
            "\u001b[1m938/938\u001b[0m \u001b[32m━━━━━━━━━━━━━━━━━━━━\u001b[0m\u001b[37m\u001b[0m \u001b[1m87s\u001b[0m 92ms/step - accuracy: 0.9846 - loss: 0.0489 - val_accuracy: 0.9889 - val_loss: 0.0316\n",
            "Epoch 6/12\n",
            "\u001b[1m938/938\u001b[0m \u001b[32m━━━━━━━━━━━━━━━━━━━━\u001b[0m\u001b[37m\u001b[0m \u001b[1m86s\u001b[0m 92ms/step - accuracy: 0.9861 - loss: 0.0451 - val_accuracy: 0.9904 - val_loss: 0.0292\n",
            "Epoch 7/12\n",
            "\u001b[1m938/938\u001b[0m \u001b[32m━━━━━━━━━━━━━━━━━━━━\u001b[0m\u001b[37m\u001b[0m \u001b[1m143s\u001b[0m 93ms/step - accuracy: 0.9874 - loss: 0.0401 - val_accuracy: 0.9903 - val_loss: 0.0279\n",
            "Epoch 8/12\n",
            "\u001b[1m938/938\u001b[0m \u001b[32m━━━━━━━━━━━━━━━━━━━━\u001b[0m\u001b[37m\u001b[0m \u001b[1m87s\u001b[0m 93ms/step - accuracy: 0.9889 - loss: 0.0371 - val_accuracy: 0.9898 - val_loss: 0.0287\n",
            "Epoch 9/12\n",
            "\u001b[1m938/938\u001b[0m \u001b[32m━━━━━━━━━━━━━━━━━━━━\u001b[0m\u001b[37m\u001b[0m \u001b[1m141s\u001b[0m 92ms/step - accuracy: 0.9899 - loss: 0.0299 - val_accuracy: 0.9925 - val_loss: 0.0236\n",
            "Epoch 10/12\n",
            "\u001b[1m938/938\u001b[0m \u001b[32m━━━━━━━━━━━━━━━━━━━━\u001b[0m\u001b[37m\u001b[0m \u001b[1m150s\u001b[0m 101ms/step - accuracy: 0.9914 - loss: 0.0289 - val_accuracy: 0.9915 - val_loss: 0.0246\n",
            "Epoch 11/12\n",
            "\u001b[1m938/938\u001b[0m \u001b[32m━━━━━━━━━━━━━━━━━━━━\u001b[0m\u001b[37m\u001b[0m \u001b[1m142s\u001b[0m 101ms/step - accuracy: 0.9901 - loss: 0.0297 - val_accuracy: 0.9914 - val_loss: 0.0242\n",
            "Epoch 12/12\n",
            "\u001b[1m938/938\u001b[0m \u001b[32m━━━━━━━━━━━━━━━━━━━━\u001b[0m\u001b[37m\u001b[0m \u001b[1m92s\u001b[0m 98ms/step - accuracy: 0.9921 - loss: 0.0245 - val_accuracy: 0.9918 - val_loss: 0.0243\n",
            "\n",
            "===== Training Report =====\n",
            "Dropout Location: CNN, Dropout Rate: 0.5\n",
            "\n",
            "===== Model Performance Summary =====\n",
            "Epochs: 12, Batch Size: 64\n",
            "Final Training Accuracy: 99.19%\n",
            "First 5 Epochs' Accuracy: [0.9146000146865845, 0.9712333083152771, 0.9780666828155518, 0.9818000197410583, 0.984333336353302]\n",
            "Total Model Parameters: 260298\n",
            "Training time tracking not available.\n",
            "Avg Test Time per Epoch: 0.44 seconds\n",
            "Optimizer Used: SGD\n",
            "Learning Rate: 0.009999999776482582\n",
            "Optimizer Settings: {'name': 'SGD', 'learning_rate': 0.009999999776482582, 'weight_decay': None, 'clipnorm': None, 'global_clipnorm': None, 'clipvalue': None, 'use_ema': False, 'ema_momentum': 0.99, 'ema_overwrite_frequency': None, 'loss_scale_factor': None, 'gradient_accumulation_steps': None, 'momentum': 0.9, 'nesterov': False}\n",
            "\n",
            "===== Model Layers =====\n"
          ]
        },
        {
          "output_type": "display_data",
          "data": {
            "text/plain": [
              "\u001b[1mModel: \"sequential_9\"\u001b[0m\n"
            ],
            "text/html": [
              "<pre style=\"white-space:pre;overflow-x:auto;line-height:normal;font-family:Menlo,'DejaVu Sans Mono',consolas,'Courier New',monospace\"><span style=\"font-weight: bold\">Model: \"sequential_9\"</span>\n",
              "</pre>\n"
            ]
          },
          "metadata": {}
        },
        {
          "output_type": "display_data",
          "data": {
            "text/plain": [
              "┏━━━━━━━━━━━━━━━━━━━━━━━━━━━━━━━━━┳━━━━━━━━━━━━━━━━━━━━━━━━┳━━━━━━━━━━━━━━━┓\n",
              "┃\u001b[1m \u001b[0m\u001b[1mLayer (type)                   \u001b[0m\u001b[1m \u001b[0m┃\u001b[1m \u001b[0m\u001b[1mOutput Shape          \u001b[0m\u001b[1m \u001b[0m┃\u001b[1m \u001b[0m\u001b[1m      Param #\u001b[0m\u001b[1m \u001b[0m┃\n",
              "┡━━━━━━━━━━━━━━━━━━━━━━━━━━━━━━━━━╇━━━━━━━━━━━━━━━━━━━━━━━━╇━━━━━━━━━━━━━━━┩\n",
              "│ conv2d_16 (\u001b[38;5;33mConv2D\u001b[0m)              │ (\u001b[38;5;45mNone\u001b[0m, \u001b[38;5;34m26\u001b[0m, \u001b[38;5;34m26\u001b[0m, \u001b[38;5;34m64\u001b[0m)     │           \u001b[38;5;34m640\u001b[0m │\n",
              "├─────────────────────────────────┼────────────────────────┼───────────────┤\n",
              "│ max_pooling2d_16 (\u001b[38;5;33mMaxPooling2D\u001b[0m) │ (\u001b[38;5;45mNone\u001b[0m, \u001b[38;5;34m13\u001b[0m, \u001b[38;5;34m13\u001b[0m, \u001b[38;5;34m64\u001b[0m)     │             \u001b[38;5;34m0\u001b[0m │\n",
              "├─────────────────────────────────┼────────────────────────┼───────────────┤\n",
              "│ conv2d_17 (\u001b[38;5;33mConv2D\u001b[0m)              │ (\u001b[38;5;45mNone\u001b[0m, \u001b[38;5;34m11\u001b[0m, \u001b[38;5;34m11\u001b[0m, \u001b[38;5;34m64\u001b[0m)     │        \u001b[38;5;34m36,928\u001b[0m │\n",
              "├─────────────────────────────────┼────────────────────────┼───────────────┤\n",
              "│ max_pooling2d_17 (\u001b[38;5;33mMaxPooling2D\u001b[0m) │ (\u001b[38;5;45mNone\u001b[0m, \u001b[38;5;34m5\u001b[0m, \u001b[38;5;34m5\u001b[0m, \u001b[38;5;34m64\u001b[0m)       │             \u001b[38;5;34m0\u001b[0m │\n",
              "├─────────────────────────────────┼────────────────────────┼───────────────┤\n",
              "│ dropout_3 (\u001b[38;5;33mDropout\u001b[0m)             │ (\u001b[38;5;45mNone\u001b[0m, \u001b[38;5;34m5\u001b[0m, \u001b[38;5;34m5\u001b[0m, \u001b[38;5;34m64\u001b[0m)       │             \u001b[38;5;34m0\u001b[0m │\n",
              "├─────────────────────────────────┼────────────────────────┼───────────────┤\n",
              "│ flatten_9 (\u001b[38;5;33mFlatten\u001b[0m)             │ (\u001b[38;5;45mNone\u001b[0m, \u001b[38;5;34m1600\u001b[0m)           │             \u001b[38;5;34m0\u001b[0m │\n",
              "├─────────────────────────────────┼────────────────────────┼───────────────┤\n",
              "│ dense_26 (\u001b[38;5;33mDense\u001b[0m)                │ (\u001b[38;5;45mNone\u001b[0m, \u001b[38;5;34m128\u001b[0m)            │       \u001b[38;5;34m204,928\u001b[0m │\n",
              "├─────────────────────────────────┼────────────────────────┼───────────────┤\n",
              "│ dense_27 (\u001b[38;5;33mDense\u001b[0m)                │ (\u001b[38;5;45mNone\u001b[0m, \u001b[38;5;34m128\u001b[0m)            │        \u001b[38;5;34m16,512\u001b[0m │\n",
              "├─────────────────────────────────┼────────────────────────┼───────────────┤\n",
              "│ dense_28 (\u001b[38;5;33mDense\u001b[0m)                │ (\u001b[38;5;45mNone\u001b[0m, \u001b[38;5;34m10\u001b[0m)             │         \u001b[38;5;34m1,290\u001b[0m │\n",
              "└─────────────────────────────────┴────────────────────────┴───────────────┘\n"
            ],
            "text/html": [
              "<pre style=\"white-space:pre;overflow-x:auto;line-height:normal;font-family:Menlo,'DejaVu Sans Mono',consolas,'Courier New',monospace\">┏━━━━━━━━━━━━━━━━━━━━━━━━━━━━━━━━━┳━━━━━━━━━━━━━━━━━━━━━━━━┳━━━━━━━━━━━━━━━┓\n",
              "┃<span style=\"font-weight: bold\"> Layer (type)                    </span>┃<span style=\"font-weight: bold\"> Output Shape           </span>┃<span style=\"font-weight: bold\">       Param # </span>┃\n",
              "┡━━━━━━━━━━━━━━━━━━━━━━━━━━━━━━━━━╇━━━━━━━━━━━━━━━━━━━━━━━━╇━━━━━━━━━━━━━━━┩\n",
              "│ conv2d_16 (<span style=\"color: #0087ff; text-decoration-color: #0087ff\">Conv2D</span>)              │ (<span style=\"color: #00d7ff; text-decoration-color: #00d7ff\">None</span>, <span style=\"color: #00af00; text-decoration-color: #00af00\">26</span>, <span style=\"color: #00af00; text-decoration-color: #00af00\">26</span>, <span style=\"color: #00af00; text-decoration-color: #00af00\">64</span>)     │           <span style=\"color: #00af00; text-decoration-color: #00af00\">640</span> │\n",
              "├─────────────────────────────────┼────────────────────────┼───────────────┤\n",
              "│ max_pooling2d_16 (<span style=\"color: #0087ff; text-decoration-color: #0087ff\">MaxPooling2D</span>) │ (<span style=\"color: #00d7ff; text-decoration-color: #00d7ff\">None</span>, <span style=\"color: #00af00; text-decoration-color: #00af00\">13</span>, <span style=\"color: #00af00; text-decoration-color: #00af00\">13</span>, <span style=\"color: #00af00; text-decoration-color: #00af00\">64</span>)     │             <span style=\"color: #00af00; text-decoration-color: #00af00\">0</span> │\n",
              "├─────────────────────────────────┼────────────────────────┼───────────────┤\n",
              "│ conv2d_17 (<span style=\"color: #0087ff; text-decoration-color: #0087ff\">Conv2D</span>)              │ (<span style=\"color: #00d7ff; text-decoration-color: #00d7ff\">None</span>, <span style=\"color: #00af00; text-decoration-color: #00af00\">11</span>, <span style=\"color: #00af00; text-decoration-color: #00af00\">11</span>, <span style=\"color: #00af00; text-decoration-color: #00af00\">64</span>)     │        <span style=\"color: #00af00; text-decoration-color: #00af00\">36,928</span> │\n",
              "├─────────────────────────────────┼────────────────────────┼───────────────┤\n",
              "│ max_pooling2d_17 (<span style=\"color: #0087ff; text-decoration-color: #0087ff\">MaxPooling2D</span>) │ (<span style=\"color: #00d7ff; text-decoration-color: #00d7ff\">None</span>, <span style=\"color: #00af00; text-decoration-color: #00af00\">5</span>, <span style=\"color: #00af00; text-decoration-color: #00af00\">5</span>, <span style=\"color: #00af00; text-decoration-color: #00af00\">64</span>)       │             <span style=\"color: #00af00; text-decoration-color: #00af00\">0</span> │\n",
              "├─────────────────────────────────┼────────────────────────┼───────────────┤\n",
              "│ dropout_3 (<span style=\"color: #0087ff; text-decoration-color: #0087ff\">Dropout</span>)             │ (<span style=\"color: #00d7ff; text-decoration-color: #00d7ff\">None</span>, <span style=\"color: #00af00; text-decoration-color: #00af00\">5</span>, <span style=\"color: #00af00; text-decoration-color: #00af00\">5</span>, <span style=\"color: #00af00; text-decoration-color: #00af00\">64</span>)       │             <span style=\"color: #00af00; text-decoration-color: #00af00\">0</span> │\n",
              "├─────────────────────────────────┼────────────────────────┼───────────────┤\n",
              "│ flatten_9 (<span style=\"color: #0087ff; text-decoration-color: #0087ff\">Flatten</span>)             │ (<span style=\"color: #00d7ff; text-decoration-color: #00d7ff\">None</span>, <span style=\"color: #00af00; text-decoration-color: #00af00\">1600</span>)           │             <span style=\"color: #00af00; text-decoration-color: #00af00\">0</span> │\n",
              "├─────────────────────────────────┼────────────────────────┼───────────────┤\n",
              "│ dense_26 (<span style=\"color: #0087ff; text-decoration-color: #0087ff\">Dense</span>)                │ (<span style=\"color: #00d7ff; text-decoration-color: #00d7ff\">None</span>, <span style=\"color: #00af00; text-decoration-color: #00af00\">128</span>)            │       <span style=\"color: #00af00; text-decoration-color: #00af00\">204,928</span> │\n",
              "├─────────────────────────────────┼────────────────────────┼───────────────┤\n",
              "│ dense_27 (<span style=\"color: #0087ff; text-decoration-color: #0087ff\">Dense</span>)                │ (<span style=\"color: #00d7ff; text-decoration-color: #00d7ff\">None</span>, <span style=\"color: #00af00; text-decoration-color: #00af00\">128</span>)            │        <span style=\"color: #00af00; text-decoration-color: #00af00\">16,512</span> │\n",
              "├─────────────────────────────────┼────────────────────────┼───────────────┤\n",
              "│ dense_28 (<span style=\"color: #0087ff; text-decoration-color: #0087ff\">Dense</span>)                │ (<span style=\"color: #00d7ff; text-decoration-color: #00d7ff\">None</span>, <span style=\"color: #00af00; text-decoration-color: #00af00\">10</span>)             │         <span style=\"color: #00af00; text-decoration-color: #00af00\">1,290</span> │\n",
              "└─────────────────────────────────┴────────────────────────┴───────────────┘\n",
              "</pre>\n"
            ]
          },
          "metadata": {}
        },
        {
          "output_type": "display_data",
          "data": {
            "text/plain": [
              "\u001b[1m Total params: \u001b[0m\u001b[38;5;34m520,598\u001b[0m (1.99 MB)\n"
            ],
            "text/html": [
              "<pre style=\"white-space:pre;overflow-x:auto;line-height:normal;font-family:Menlo,'DejaVu Sans Mono',consolas,'Courier New',monospace\"><span style=\"font-weight: bold\"> Total params: </span><span style=\"color: #00af00; text-decoration-color: #00af00\">520,598</span> (1.99 MB)\n",
              "</pre>\n"
            ]
          },
          "metadata": {}
        },
        {
          "output_type": "display_data",
          "data": {
            "text/plain": [
              "\u001b[1m Trainable params: \u001b[0m\u001b[38;5;34m260,298\u001b[0m (1016.79 KB)\n"
            ],
            "text/html": [
              "<pre style=\"white-space:pre;overflow-x:auto;line-height:normal;font-family:Menlo,'DejaVu Sans Mono',consolas,'Courier New',monospace\"><span style=\"font-weight: bold\"> Trainable params: </span><span style=\"color: #00af00; text-decoration-color: #00af00\">260,298</span> (1016.79 KB)\n",
              "</pre>\n"
            ]
          },
          "metadata": {}
        },
        {
          "output_type": "display_data",
          "data": {
            "text/plain": [
              "\u001b[1m Non-trainable params: \u001b[0m\u001b[38;5;34m0\u001b[0m (0.00 B)\n"
            ],
            "text/html": [
              "<pre style=\"white-space:pre;overflow-x:auto;line-height:normal;font-family:Menlo,'DejaVu Sans Mono',consolas,'Courier New',monospace\"><span style=\"font-weight: bold\"> Non-trainable params: </span><span style=\"color: #00af00; text-decoration-color: #00af00\">0</span> (0.00 B)\n",
              "</pre>\n"
            ]
          },
          "metadata": {}
        },
        {
          "output_type": "display_data",
          "data": {
            "text/plain": [
              "\u001b[1m Optimizer params: \u001b[0m\u001b[38;5;34m260,300\u001b[0m (1016.80 KB)\n"
            ],
            "text/html": [
              "<pre style=\"white-space:pre;overflow-x:auto;line-height:normal;font-family:Menlo,'DejaVu Sans Mono',consolas,'Courier New',monospace\"><span style=\"font-weight: bold\"> Optimizer params: </span><span style=\"color: #00af00; text-decoration-color: #00af00\">260,300</span> (1016.80 KB)\n",
              "</pre>\n"
            ]
          },
          "metadata": {}
        },
        {
          "output_type": "stream",
          "name": "stdout",
          "text": [
            "\n",
            "Training CNN with Dropout Location: FC, Dropout Rate: 0.2\n",
            "Epoch 1/12\n",
            "\u001b[1m938/938\u001b[0m \u001b[32m━━━━━━━━━━━━━━━━━━━━\u001b[0m\u001b[37m\u001b[0m \u001b[1m90s\u001b[0m 95ms/step - accuracy: 0.8385 - loss: 0.5489 - val_accuracy: 0.9781 - val_loss: 0.0684\n",
            "Epoch 2/12\n",
            "\u001b[1m938/938\u001b[0m \u001b[32m━━━━━━━━━━━━━━━━━━━━\u001b[0m\u001b[37m\u001b[0m \u001b[1m138s\u001b[0m 91ms/step - accuracy: 0.9754 - loss: 0.0806 - val_accuracy: 0.9860 - val_loss: 0.0444\n",
            "Epoch 3/12\n",
            "\u001b[1m938/938\u001b[0m \u001b[32m━━━━━━━━━━━━━━━━━━━━\u001b[0m\u001b[37m\u001b[0m \u001b[1m143s\u001b[0m 92ms/step - accuracy: 0.9842 - loss: 0.0534 - val_accuracy: 0.9870 - val_loss: 0.0367\n",
            "Epoch 4/12\n",
            "\u001b[1m938/938\u001b[0m \u001b[32m━━━━━━━━━━━━━━━━━━━━\u001b[0m\u001b[37m\u001b[0m \u001b[1m141s\u001b[0m 91ms/step - accuracy: 0.9871 - loss: 0.0441 - val_accuracy: 0.9880 - val_loss: 0.0354\n",
            "Epoch 5/12\n",
            "\u001b[1m938/938\u001b[0m \u001b[32m━━━━━━━━━━━━━━━━━━━━\u001b[0m\u001b[37m\u001b[0m \u001b[1m144s\u001b[0m 93ms/step - accuracy: 0.9891 - loss: 0.0368 - val_accuracy: 0.9884 - val_loss: 0.0327\n",
            "Epoch 6/12\n",
            "\u001b[1m938/938\u001b[0m \u001b[32m━━━━━━━━━━━━━━━━━━━━\u001b[0m\u001b[37m\u001b[0m \u001b[1m88s\u001b[0m 94ms/step - accuracy: 0.9908 - loss: 0.0299 - val_accuracy: 0.9901 - val_loss: 0.0323\n",
            "Epoch 7/12\n",
            "\u001b[1m938/938\u001b[0m \u001b[32m━━━━━━━━━━━━━━━━━━━━\u001b[0m\u001b[37m\u001b[0m \u001b[1m139s\u001b[0m 91ms/step - accuracy: 0.9933 - loss: 0.0236 - val_accuracy: 0.9907 - val_loss: 0.0304\n",
            "Epoch 8/12\n",
            "\u001b[1m938/938\u001b[0m \u001b[32m━━━━━━━━━━━━━━━━━━━━\u001b[0m\u001b[37m\u001b[0m \u001b[1m142s\u001b[0m 91ms/step - accuracy: 0.9935 - loss: 0.0212 - val_accuracy: 0.9897 - val_loss: 0.0316\n",
            "Epoch 9/12\n",
            "\u001b[1m938/938\u001b[0m \u001b[32m━━━━━━━━━━━━━━━━━━━━\u001b[0m\u001b[37m\u001b[0m \u001b[1m143s\u001b[0m 93ms/step - accuracy: 0.9942 - loss: 0.0197 - val_accuracy: 0.9904 - val_loss: 0.0290\n",
            "Epoch 10/12\n",
            "\u001b[1m938/938\u001b[0m \u001b[32m━━━━━━━━━━━━━━━━━━━━\u001b[0m\u001b[37m\u001b[0m \u001b[1m143s\u001b[0m 93ms/step - accuracy: 0.9952 - loss: 0.0163 - val_accuracy: 0.9906 - val_loss: 0.0296\n",
            "Epoch 11/12\n",
            "\u001b[1m938/938\u001b[0m \u001b[32m━━━━━━━━━━━━━━━━━━━━\u001b[0m\u001b[37m\u001b[0m \u001b[1m88s\u001b[0m 93ms/step - accuracy: 0.9956 - loss: 0.0142 - val_accuracy: 0.9910 - val_loss: 0.0288\n",
            "Epoch 12/12\n",
            "\u001b[1m938/938\u001b[0m \u001b[32m━━━━━━━━━━━━━━━━━━━━\u001b[0m\u001b[37m\u001b[0m \u001b[1m88s\u001b[0m 94ms/step - accuracy: 0.9960 - loss: 0.0123 - val_accuracy: 0.9905 - val_loss: 0.0304\n",
            "\n",
            "===== Training Report =====\n",
            "Dropout Location: FC, Dropout Rate: 0.2\n",
            "\n",
            "===== Model Performance Summary =====\n",
            "Epochs: 12, Batch Size: 64\n",
            "Final Training Accuracy: 99.59%\n",
            "First 5 Epochs' Accuracy: [0.9262999892234802, 0.9771333336830139, 0.9836333394050598, 0.9867833256721497, 0.9889666438102722]\n",
            "Total Model Parameters: 260298\n",
            "Training time tracking not available.\n",
            "Avg Test Time per Epoch: 0.34 seconds\n",
            "Optimizer Used: SGD\n",
            "Learning Rate: 0.009999999776482582\n",
            "Optimizer Settings: {'name': 'SGD', 'learning_rate': 0.009999999776482582, 'weight_decay': None, 'clipnorm': None, 'global_clipnorm': None, 'clipvalue': None, 'use_ema': False, 'ema_momentum': 0.99, 'ema_overwrite_frequency': None, 'loss_scale_factor': None, 'gradient_accumulation_steps': None, 'momentum': 0.9, 'nesterov': False}\n",
            "\n",
            "===== Model Layers =====\n"
          ]
        },
        {
          "output_type": "display_data",
          "data": {
            "text/plain": [
              "\u001b[1mModel: \"sequential_10\"\u001b[0m\n"
            ],
            "text/html": [
              "<pre style=\"white-space:pre;overflow-x:auto;line-height:normal;font-family:Menlo,'DejaVu Sans Mono',consolas,'Courier New',monospace\"><span style=\"font-weight: bold\">Model: \"sequential_10\"</span>\n",
              "</pre>\n"
            ]
          },
          "metadata": {}
        },
        {
          "output_type": "display_data",
          "data": {
            "text/plain": [
              "┏━━━━━━━━━━━━━━━━━━━━━━━━━━━━━━━━━┳━━━━━━━━━━━━━━━━━━━━━━━━┳━━━━━━━━━━━━━━━┓\n",
              "┃\u001b[1m \u001b[0m\u001b[1mLayer (type)                   \u001b[0m\u001b[1m \u001b[0m┃\u001b[1m \u001b[0m\u001b[1mOutput Shape          \u001b[0m\u001b[1m \u001b[0m┃\u001b[1m \u001b[0m\u001b[1m      Param #\u001b[0m\u001b[1m \u001b[0m┃\n",
              "┡━━━━━━━━━━━━━━━━━━━━━━━━━━━━━━━━━╇━━━━━━━━━━━━━━━━━━━━━━━━╇━━━━━━━━━━━━━━━┩\n",
              "│ conv2d_18 (\u001b[38;5;33mConv2D\u001b[0m)              │ (\u001b[38;5;45mNone\u001b[0m, \u001b[38;5;34m26\u001b[0m, \u001b[38;5;34m26\u001b[0m, \u001b[38;5;34m64\u001b[0m)     │           \u001b[38;5;34m640\u001b[0m │\n",
              "├─────────────────────────────────┼────────────────────────┼───────────────┤\n",
              "│ max_pooling2d_18 (\u001b[38;5;33mMaxPooling2D\u001b[0m) │ (\u001b[38;5;45mNone\u001b[0m, \u001b[38;5;34m13\u001b[0m, \u001b[38;5;34m13\u001b[0m, \u001b[38;5;34m64\u001b[0m)     │             \u001b[38;5;34m0\u001b[0m │\n",
              "├─────────────────────────────────┼────────────────────────┼───────────────┤\n",
              "│ conv2d_19 (\u001b[38;5;33mConv2D\u001b[0m)              │ (\u001b[38;5;45mNone\u001b[0m, \u001b[38;5;34m11\u001b[0m, \u001b[38;5;34m11\u001b[0m, \u001b[38;5;34m64\u001b[0m)     │        \u001b[38;5;34m36,928\u001b[0m │\n",
              "├─────────────────────────────────┼────────────────────────┼───────────────┤\n",
              "│ max_pooling2d_19 (\u001b[38;5;33mMaxPooling2D\u001b[0m) │ (\u001b[38;5;45mNone\u001b[0m, \u001b[38;5;34m5\u001b[0m, \u001b[38;5;34m5\u001b[0m, \u001b[38;5;34m64\u001b[0m)       │             \u001b[38;5;34m0\u001b[0m │\n",
              "├─────────────────────────────────┼────────────────────────┼───────────────┤\n",
              "│ flatten_10 (\u001b[38;5;33mFlatten\u001b[0m)            │ (\u001b[38;5;45mNone\u001b[0m, \u001b[38;5;34m1600\u001b[0m)           │             \u001b[38;5;34m0\u001b[0m │\n",
              "├─────────────────────────────────┼────────────────────────┼───────────────┤\n",
              "│ dense_29 (\u001b[38;5;33mDense\u001b[0m)                │ (\u001b[38;5;45mNone\u001b[0m, \u001b[38;5;34m128\u001b[0m)            │       \u001b[38;5;34m204,928\u001b[0m │\n",
              "├─────────────────────────────────┼────────────────────────┼───────────────┤\n",
              "│ dropout_4 (\u001b[38;5;33mDropout\u001b[0m)             │ (\u001b[38;5;45mNone\u001b[0m, \u001b[38;5;34m128\u001b[0m)            │             \u001b[38;5;34m0\u001b[0m │\n",
              "├─────────────────────────────────┼────────────────────────┼───────────────┤\n",
              "│ dense_30 (\u001b[38;5;33mDense\u001b[0m)                │ (\u001b[38;5;45mNone\u001b[0m, \u001b[38;5;34m128\u001b[0m)            │        \u001b[38;5;34m16,512\u001b[0m │\n",
              "├─────────────────────────────────┼────────────────────────┼───────────────┤\n",
              "│ dense_31 (\u001b[38;5;33mDense\u001b[0m)                │ (\u001b[38;5;45mNone\u001b[0m, \u001b[38;5;34m10\u001b[0m)             │         \u001b[38;5;34m1,290\u001b[0m │\n",
              "└─────────────────────────────────┴────────────────────────┴───────────────┘\n"
            ],
            "text/html": [
              "<pre style=\"white-space:pre;overflow-x:auto;line-height:normal;font-family:Menlo,'DejaVu Sans Mono',consolas,'Courier New',monospace\">┏━━━━━━━━━━━━━━━━━━━━━━━━━━━━━━━━━┳━━━━━━━━━━━━━━━━━━━━━━━━┳━━━━━━━━━━━━━━━┓\n",
              "┃<span style=\"font-weight: bold\"> Layer (type)                    </span>┃<span style=\"font-weight: bold\"> Output Shape           </span>┃<span style=\"font-weight: bold\">       Param # </span>┃\n",
              "┡━━━━━━━━━━━━━━━━━━━━━━━━━━━━━━━━━╇━━━━━━━━━━━━━━━━━━━━━━━━╇━━━━━━━━━━━━━━━┩\n",
              "│ conv2d_18 (<span style=\"color: #0087ff; text-decoration-color: #0087ff\">Conv2D</span>)              │ (<span style=\"color: #00d7ff; text-decoration-color: #00d7ff\">None</span>, <span style=\"color: #00af00; text-decoration-color: #00af00\">26</span>, <span style=\"color: #00af00; text-decoration-color: #00af00\">26</span>, <span style=\"color: #00af00; text-decoration-color: #00af00\">64</span>)     │           <span style=\"color: #00af00; text-decoration-color: #00af00\">640</span> │\n",
              "├─────────────────────────────────┼────────────────────────┼───────────────┤\n",
              "│ max_pooling2d_18 (<span style=\"color: #0087ff; text-decoration-color: #0087ff\">MaxPooling2D</span>) │ (<span style=\"color: #00d7ff; text-decoration-color: #00d7ff\">None</span>, <span style=\"color: #00af00; text-decoration-color: #00af00\">13</span>, <span style=\"color: #00af00; text-decoration-color: #00af00\">13</span>, <span style=\"color: #00af00; text-decoration-color: #00af00\">64</span>)     │             <span style=\"color: #00af00; text-decoration-color: #00af00\">0</span> │\n",
              "├─────────────────────────────────┼────────────────────────┼───────────────┤\n",
              "│ conv2d_19 (<span style=\"color: #0087ff; text-decoration-color: #0087ff\">Conv2D</span>)              │ (<span style=\"color: #00d7ff; text-decoration-color: #00d7ff\">None</span>, <span style=\"color: #00af00; text-decoration-color: #00af00\">11</span>, <span style=\"color: #00af00; text-decoration-color: #00af00\">11</span>, <span style=\"color: #00af00; text-decoration-color: #00af00\">64</span>)     │        <span style=\"color: #00af00; text-decoration-color: #00af00\">36,928</span> │\n",
              "├─────────────────────────────────┼────────────────────────┼───────────────┤\n",
              "│ max_pooling2d_19 (<span style=\"color: #0087ff; text-decoration-color: #0087ff\">MaxPooling2D</span>) │ (<span style=\"color: #00d7ff; text-decoration-color: #00d7ff\">None</span>, <span style=\"color: #00af00; text-decoration-color: #00af00\">5</span>, <span style=\"color: #00af00; text-decoration-color: #00af00\">5</span>, <span style=\"color: #00af00; text-decoration-color: #00af00\">64</span>)       │             <span style=\"color: #00af00; text-decoration-color: #00af00\">0</span> │\n",
              "├─────────────────────────────────┼────────────────────────┼───────────────┤\n",
              "│ flatten_10 (<span style=\"color: #0087ff; text-decoration-color: #0087ff\">Flatten</span>)            │ (<span style=\"color: #00d7ff; text-decoration-color: #00d7ff\">None</span>, <span style=\"color: #00af00; text-decoration-color: #00af00\">1600</span>)           │             <span style=\"color: #00af00; text-decoration-color: #00af00\">0</span> │\n",
              "├─────────────────────────────────┼────────────────────────┼───────────────┤\n",
              "│ dense_29 (<span style=\"color: #0087ff; text-decoration-color: #0087ff\">Dense</span>)                │ (<span style=\"color: #00d7ff; text-decoration-color: #00d7ff\">None</span>, <span style=\"color: #00af00; text-decoration-color: #00af00\">128</span>)            │       <span style=\"color: #00af00; text-decoration-color: #00af00\">204,928</span> │\n",
              "├─────────────────────────────────┼────────────────────────┼───────────────┤\n",
              "│ dropout_4 (<span style=\"color: #0087ff; text-decoration-color: #0087ff\">Dropout</span>)             │ (<span style=\"color: #00d7ff; text-decoration-color: #00d7ff\">None</span>, <span style=\"color: #00af00; text-decoration-color: #00af00\">128</span>)            │             <span style=\"color: #00af00; text-decoration-color: #00af00\">0</span> │\n",
              "├─────────────────────────────────┼────────────────────────┼───────────────┤\n",
              "│ dense_30 (<span style=\"color: #0087ff; text-decoration-color: #0087ff\">Dense</span>)                │ (<span style=\"color: #00d7ff; text-decoration-color: #00d7ff\">None</span>, <span style=\"color: #00af00; text-decoration-color: #00af00\">128</span>)            │        <span style=\"color: #00af00; text-decoration-color: #00af00\">16,512</span> │\n",
              "├─────────────────────────────────┼────────────────────────┼───────────────┤\n",
              "│ dense_31 (<span style=\"color: #0087ff; text-decoration-color: #0087ff\">Dense</span>)                │ (<span style=\"color: #00d7ff; text-decoration-color: #00d7ff\">None</span>, <span style=\"color: #00af00; text-decoration-color: #00af00\">10</span>)             │         <span style=\"color: #00af00; text-decoration-color: #00af00\">1,290</span> │\n",
              "└─────────────────────────────────┴────────────────────────┴───────────────┘\n",
              "</pre>\n"
            ]
          },
          "metadata": {}
        },
        {
          "output_type": "display_data",
          "data": {
            "text/plain": [
              "\u001b[1m Total params: \u001b[0m\u001b[38;5;34m520,598\u001b[0m (1.99 MB)\n"
            ],
            "text/html": [
              "<pre style=\"white-space:pre;overflow-x:auto;line-height:normal;font-family:Menlo,'DejaVu Sans Mono',consolas,'Courier New',monospace\"><span style=\"font-weight: bold\"> Total params: </span><span style=\"color: #00af00; text-decoration-color: #00af00\">520,598</span> (1.99 MB)\n",
              "</pre>\n"
            ]
          },
          "metadata": {}
        },
        {
          "output_type": "display_data",
          "data": {
            "text/plain": [
              "\u001b[1m Trainable params: \u001b[0m\u001b[38;5;34m260,298\u001b[0m (1016.79 KB)\n"
            ],
            "text/html": [
              "<pre style=\"white-space:pre;overflow-x:auto;line-height:normal;font-family:Menlo,'DejaVu Sans Mono',consolas,'Courier New',monospace\"><span style=\"font-weight: bold\"> Trainable params: </span><span style=\"color: #00af00; text-decoration-color: #00af00\">260,298</span> (1016.79 KB)\n",
              "</pre>\n"
            ]
          },
          "metadata": {}
        },
        {
          "output_type": "display_data",
          "data": {
            "text/plain": [
              "\u001b[1m Non-trainable params: \u001b[0m\u001b[38;5;34m0\u001b[0m (0.00 B)\n"
            ],
            "text/html": [
              "<pre style=\"white-space:pre;overflow-x:auto;line-height:normal;font-family:Menlo,'DejaVu Sans Mono',consolas,'Courier New',monospace\"><span style=\"font-weight: bold\"> Non-trainable params: </span><span style=\"color: #00af00; text-decoration-color: #00af00\">0</span> (0.00 B)\n",
              "</pre>\n"
            ]
          },
          "metadata": {}
        },
        {
          "output_type": "display_data",
          "data": {
            "text/plain": [
              "\u001b[1m Optimizer params: \u001b[0m\u001b[38;5;34m260,300\u001b[0m (1016.80 KB)\n"
            ],
            "text/html": [
              "<pre style=\"white-space:pre;overflow-x:auto;line-height:normal;font-family:Menlo,'DejaVu Sans Mono',consolas,'Courier New',monospace\"><span style=\"font-weight: bold\"> Optimizer params: </span><span style=\"color: #00af00; text-decoration-color: #00af00\">260,300</span> (1016.80 KB)\n",
              "</pre>\n"
            ]
          },
          "metadata": {}
        },
        {
          "output_type": "stream",
          "name": "stdout",
          "text": [
            "\n",
            "Training CNN with Dropout Location: FC, Dropout Rate: 0.5\n",
            "Epoch 1/12\n",
            "\u001b[1m938/938\u001b[0m \u001b[32m━━━━━━━━━━━━━━━━━━━━\u001b[0m\u001b[37m\u001b[0m \u001b[1m91s\u001b[0m 94ms/step - accuracy: 0.8074 - loss: 0.6170 - val_accuracy: 0.9761 - val_loss: 0.0685\n",
            "Epoch 2/12\n",
            "\u001b[1m938/938\u001b[0m \u001b[32m━━━━━━━━━━━━━━━━━━━━\u001b[0m\u001b[37m\u001b[0m \u001b[1m85s\u001b[0m 91ms/step - accuracy: 0.9704 - loss: 0.0966 - val_accuracy: 0.9853 - val_loss: 0.0458\n",
            "Epoch 3/12\n",
            "\u001b[1m938/938\u001b[0m \u001b[32m━━━━━━━━━━━━━━━━━━━━\u001b[0m\u001b[37m\u001b[0m \u001b[1m142s\u001b[0m 91ms/step - accuracy: 0.9785 - loss: 0.0717 - val_accuracy: 0.9863 - val_loss: 0.0409\n",
            "Epoch 4/12\n",
            "\u001b[1m938/938\u001b[0m \u001b[32m━━━━━━━━━━━━━━━━━━━━\u001b[0m\u001b[37m\u001b[0m \u001b[1m143s\u001b[0m 93ms/step - accuracy: 0.9821 - loss: 0.0574 - val_accuracy: 0.9878 - val_loss: 0.0380\n",
            "Epoch 5/12\n",
            "\u001b[1m938/938\u001b[0m \u001b[32m━━━━━━━━━━━━━━━━━━━━\u001b[0m\u001b[37m\u001b[0m \u001b[1m141s\u001b[0m 91ms/step - accuracy: 0.9843 - loss: 0.0519 - val_accuracy: 0.9864 - val_loss: 0.0401\n",
            "Epoch 6/12\n",
            "\u001b[1m938/938\u001b[0m \u001b[32m━━━━━━━━━━━━━━━━━━━━\u001b[0m\u001b[37m\u001b[0m \u001b[1m84s\u001b[0m 90ms/step - accuracy: 0.9865 - loss: 0.0458 - val_accuracy: 0.9877 - val_loss: 0.0394\n",
            "Epoch 7/12\n",
            "\u001b[1m938/938\u001b[0m \u001b[32m━━━━━━━━━━━━━━━━━━━━\u001b[0m\u001b[37m\u001b[0m \u001b[1m144s\u001b[0m 92ms/step - accuracy: 0.9868 - loss: 0.0410 - val_accuracy: 0.9880 - val_loss: 0.0358\n",
            "Epoch 8/12\n",
            "\u001b[1m938/938\u001b[0m \u001b[32m━━━━━━━━━━━━━━━━━━━━\u001b[0m\u001b[37m\u001b[0m \u001b[1m142s\u001b[0m 92ms/step - accuracy: 0.9885 - loss: 0.0360 - val_accuracy: 0.9891 - val_loss: 0.0338\n",
            "Epoch 9/12\n",
            "\u001b[1m938/938\u001b[0m \u001b[32m━━━━━━━━━━━━━━━━━━━━\u001b[0m\u001b[37m\u001b[0m \u001b[1m142s\u001b[0m 92ms/step - accuracy: 0.9889 - loss: 0.0362 - val_accuracy: 0.9887 - val_loss: 0.0388\n",
            "Epoch 10/12\n",
            "\u001b[1m938/938\u001b[0m \u001b[32m━━━━━━━━━━━━━━━━━━━━\u001b[0m\u001b[37m\u001b[0m \u001b[1m87s\u001b[0m 93ms/step - accuracy: 0.9900 - loss: 0.0301 - val_accuracy: 0.9892 - val_loss: 0.0366\n",
            "Epoch 11/12\n",
            "\u001b[1m938/938\u001b[0m \u001b[32m━━━━━━━━━━━━━━━━━━━━\u001b[0m\u001b[37m\u001b[0m \u001b[1m85s\u001b[0m 91ms/step - accuracy: 0.9914 - loss: 0.0283 - val_accuracy: 0.9894 - val_loss: 0.0368\n",
            "Epoch 12/12\n",
            "\u001b[1m938/938\u001b[0m \u001b[32m━━━━━━━━━━━━━━━━━━━━\u001b[0m\u001b[37m\u001b[0m \u001b[1m85s\u001b[0m 91ms/step - accuracy: 0.9909 - loss: 0.0288 - val_accuracy: 0.9908 - val_loss: 0.0311\n",
            "\n",
            "===== Training Report =====\n",
            "Dropout Location: FC, Dropout Rate: 0.5\n",
            "\n",
            "===== Model Performance Summary =====\n",
            "Epochs: 12, Batch Size: 64\n",
            "Final Training Accuracy: 99.10%\n",
            "First 5 Epochs' Accuracy: [0.9125166535377502, 0.9718000292778015, 0.9787166714668274, 0.9812999963760376, 0.984749972820282]\n",
            "Total Model Parameters: 260298\n",
            "Training time tracking not available.\n",
            "Avg Test Time per Epoch: 0.31 seconds\n",
            "Optimizer Used: SGD\n",
            "Learning Rate: 0.009999999776482582\n",
            "Optimizer Settings: {'name': 'SGD', 'learning_rate': 0.009999999776482582, 'weight_decay': None, 'clipnorm': None, 'global_clipnorm': None, 'clipvalue': None, 'use_ema': False, 'ema_momentum': 0.99, 'ema_overwrite_frequency': None, 'loss_scale_factor': None, 'gradient_accumulation_steps': None, 'momentum': 0.9, 'nesterov': False}\n",
            "\n",
            "===== Model Layers =====\n"
          ]
        },
        {
          "output_type": "display_data",
          "data": {
            "text/plain": [
              "\u001b[1mModel: \"sequential_11\"\u001b[0m\n"
            ],
            "text/html": [
              "<pre style=\"white-space:pre;overflow-x:auto;line-height:normal;font-family:Menlo,'DejaVu Sans Mono',consolas,'Courier New',monospace\"><span style=\"font-weight: bold\">Model: \"sequential_11\"</span>\n",
              "</pre>\n"
            ]
          },
          "metadata": {}
        },
        {
          "output_type": "display_data",
          "data": {
            "text/plain": [
              "┏━━━━━━━━━━━━━━━━━━━━━━━━━━━━━━━━━┳━━━━━━━━━━━━━━━━━━━━━━━━┳━━━━━━━━━━━━━━━┓\n",
              "┃\u001b[1m \u001b[0m\u001b[1mLayer (type)                   \u001b[0m\u001b[1m \u001b[0m┃\u001b[1m \u001b[0m\u001b[1mOutput Shape          \u001b[0m\u001b[1m \u001b[0m┃\u001b[1m \u001b[0m\u001b[1m      Param #\u001b[0m\u001b[1m \u001b[0m┃\n",
              "┡━━━━━━━━━━━━━━━━━━━━━━━━━━━━━━━━━╇━━━━━━━━━━━━━━━━━━━━━━━━╇━━━━━━━━━━━━━━━┩\n",
              "│ conv2d_20 (\u001b[38;5;33mConv2D\u001b[0m)              │ (\u001b[38;5;45mNone\u001b[0m, \u001b[38;5;34m26\u001b[0m, \u001b[38;5;34m26\u001b[0m, \u001b[38;5;34m64\u001b[0m)     │           \u001b[38;5;34m640\u001b[0m │\n",
              "├─────────────────────────────────┼────────────────────────┼───────────────┤\n",
              "│ max_pooling2d_20 (\u001b[38;5;33mMaxPooling2D\u001b[0m) │ (\u001b[38;5;45mNone\u001b[0m, \u001b[38;5;34m13\u001b[0m, \u001b[38;5;34m13\u001b[0m, \u001b[38;5;34m64\u001b[0m)     │             \u001b[38;5;34m0\u001b[0m │\n",
              "├─────────────────────────────────┼────────────────────────┼───────────────┤\n",
              "│ conv2d_21 (\u001b[38;5;33mConv2D\u001b[0m)              │ (\u001b[38;5;45mNone\u001b[0m, \u001b[38;5;34m11\u001b[0m, \u001b[38;5;34m11\u001b[0m, \u001b[38;5;34m64\u001b[0m)     │        \u001b[38;5;34m36,928\u001b[0m │\n",
              "├─────────────────────────────────┼────────────────────────┼───────────────┤\n",
              "│ max_pooling2d_21 (\u001b[38;5;33mMaxPooling2D\u001b[0m) │ (\u001b[38;5;45mNone\u001b[0m, \u001b[38;5;34m5\u001b[0m, \u001b[38;5;34m5\u001b[0m, \u001b[38;5;34m64\u001b[0m)       │             \u001b[38;5;34m0\u001b[0m │\n",
              "├─────────────────────────────────┼────────────────────────┼───────────────┤\n",
              "│ flatten_11 (\u001b[38;5;33mFlatten\u001b[0m)            │ (\u001b[38;5;45mNone\u001b[0m, \u001b[38;5;34m1600\u001b[0m)           │             \u001b[38;5;34m0\u001b[0m │\n",
              "├─────────────────────────────────┼────────────────────────┼───────────────┤\n",
              "│ dense_32 (\u001b[38;5;33mDense\u001b[0m)                │ (\u001b[38;5;45mNone\u001b[0m, \u001b[38;5;34m128\u001b[0m)            │       \u001b[38;5;34m204,928\u001b[0m │\n",
              "├─────────────────────────────────┼────────────────────────┼───────────────┤\n",
              "│ dropout_5 (\u001b[38;5;33mDropout\u001b[0m)             │ (\u001b[38;5;45mNone\u001b[0m, \u001b[38;5;34m128\u001b[0m)            │             \u001b[38;5;34m0\u001b[0m │\n",
              "├─────────────────────────────────┼────────────────────────┼───────────────┤\n",
              "│ dense_33 (\u001b[38;5;33mDense\u001b[0m)                │ (\u001b[38;5;45mNone\u001b[0m, \u001b[38;5;34m128\u001b[0m)            │        \u001b[38;5;34m16,512\u001b[0m │\n",
              "├─────────────────────────────────┼────────────────────────┼───────────────┤\n",
              "│ dense_34 (\u001b[38;5;33mDense\u001b[0m)                │ (\u001b[38;5;45mNone\u001b[0m, \u001b[38;5;34m10\u001b[0m)             │         \u001b[38;5;34m1,290\u001b[0m │\n",
              "└─────────────────────────────────┴────────────────────────┴───────────────┘\n"
            ],
            "text/html": [
              "<pre style=\"white-space:pre;overflow-x:auto;line-height:normal;font-family:Menlo,'DejaVu Sans Mono',consolas,'Courier New',monospace\">┏━━━━━━━━━━━━━━━━━━━━━━━━━━━━━━━━━┳━━━━━━━━━━━━━━━━━━━━━━━━┳━━━━━━━━━━━━━━━┓\n",
              "┃<span style=\"font-weight: bold\"> Layer (type)                    </span>┃<span style=\"font-weight: bold\"> Output Shape           </span>┃<span style=\"font-weight: bold\">       Param # </span>┃\n",
              "┡━━━━━━━━━━━━━━━━━━━━━━━━━━━━━━━━━╇━━━━━━━━━━━━━━━━━━━━━━━━╇━━━━━━━━━━━━━━━┩\n",
              "│ conv2d_20 (<span style=\"color: #0087ff; text-decoration-color: #0087ff\">Conv2D</span>)              │ (<span style=\"color: #00d7ff; text-decoration-color: #00d7ff\">None</span>, <span style=\"color: #00af00; text-decoration-color: #00af00\">26</span>, <span style=\"color: #00af00; text-decoration-color: #00af00\">26</span>, <span style=\"color: #00af00; text-decoration-color: #00af00\">64</span>)     │           <span style=\"color: #00af00; text-decoration-color: #00af00\">640</span> │\n",
              "├─────────────────────────────────┼────────────────────────┼───────────────┤\n",
              "│ max_pooling2d_20 (<span style=\"color: #0087ff; text-decoration-color: #0087ff\">MaxPooling2D</span>) │ (<span style=\"color: #00d7ff; text-decoration-color: #00d7ff\">None</span>, <span style=\"color: #00af00; text-decoration-color: #00af00\">13</span>, <span style=\"color: #00af00; text-decoration-color: #00af00\">13</span>, <span style=\"color: #00af00; text-decoration-color: #00af00\">64</span>)     │             <span style=\"color: #00af00; text-decoration-color: #00af00\">0</span> │\n",
              "├─────────────────────────────────┼────────────────────────┼───────────────┤\n",
              "│ conv2d_21 (<span style=\"color: #0087ff; text-decoration-color: #0087ff\">Conv2D</span>)              │ (<span style=\"color: #00d7ff; text-decoration-color: #00d7ff\">None</span>, <span style=\"color: #00af00; text-decoration-color: #00af00\">11</span>, <span style=\"color: #00af00; text-decoration-color: #00af00\">11</span>, <span style=\"color: #00af00; text-decoration-color: #00af00\">64</span>)     │        <span style=\"color: #00af00; text-decoration-color: #00af00\">36,928</span> │\n",
              "├─────────────────────────────────┼────────────────────────┼───────────────┤\n",
              "│ max_pooling2d_21 (<span style=\"color: #0087ff; text-decoration-color: #0087ff\">MaxPooling2D</span>) │ (<span style=\"color: #00d7ff; text-decoration-color: #00d7ff\">None</span>, <span style=\"color: #00af00; text-decoration-color: #00af00\">5</span>, <span style=\"color: #00af00; text-decoration-color: #00af00\">5</span>, <span style=\"color: #00af00; text-decoration-color: #00af00\">64</span>)       │             <span style=\"color: #00af00; text-decoration-color: #00af00\">0</span> │\n",
              "├─────────────────────────────────┼────────────────────────┼───────────────┤\n",
              "│ flatten_11 (<span style=\"color: #0087ff; text-decoration-color: #0087ff\">Flatten</span>)            │ (<span style=\"color: #00d7ff; text-decoration-color: #00d7ff\">None</span>, <span style=\"color: #00af00; text-decoration-color: #00af00\">1600</span>)           │             <span style=\"color: #00af00; text-decoration-color: #00af00\">0</span> │\n",
              "├─────────────────────────────────┼────────────────────────┼───────────────┤\n",
              "│ dense_32 (<span style=\"color: #0087ff; text-decoration-color: #0087ff\">Dense</span>)                │ (<span style=\"color: #00d7ff; text-decoration-color: #00d7ff\">None</span>, <span style=\"color: #00af00; text-decoration-color: #00af00\">128</span>)            │       <span style=\"color: #00af00; text-decoration-color: #00af00\">204,928</span> │\n",
              "├─────────────────────────────────┼────────────────────────┼───────────────┤\n",
              "│ dropout_5 (<span style=\"color: #0087ff; text-decoration-color: #0087ff\">Dropout</span>)             │ (<span style=\"color: #00d7ff; text-decoration-color: #00d7ff\">None</span>, <span style=\"color: #00af00; text-decoration-color: #00af00\">128</span>)            │             <span style=\"color: #00af00; text-decoration-color: #00af00\">0</span> │\n",
              "├─────────────────────────────────┼────────────────────────┼───────────────┤\n",
              "│ dense_33 (<span style=\"color: #0087ff; text-decoration-color: #0087ff\">Dense</span>)                │ (<span style=\"color: #00d7ff; text-decoration-color: #00d7ff\">None</span>, <span style=\"color: #00af00; text-decoration-color: #00af00\">128</span>)            │        <span style=\"color: #00af00; text-decoration-color: #00af00\">16,512</span> │\n",
              "├─────────────────────────────────┼────────────────────────┼───────────────┤\n",
              "│ dense_34 (<span style=\"color: #0087ff; text-decoration-color: #0087ff\">Dense</span>)                │ (<span style=\"color: #00d7ff; text-decoration-color: #00d7ff\">None</span>, <span style=\"color: #00af00; text-decoration-color: #00af00\">10</span>)             │         <span style=\"color: #00af00; text-decoration-color: #00af00\">1,290</span> │\n",
              "└─────────────────────────────────┴────────────────────────┴───────────────┘\n",
              "</pre>\n"
            ]
          },
          "metadata": {}
        },
        {
          "output_type": "display_data",
          "data": {
            "text/plain": [
              "\u001b[1m Total params: \u001b[0m\u001b[38;5;34m520,598\u001b[0m (1.99 MB)\n"
            ],
            "text/html": [
              "<pre style=\"white-space:pre;overflow-x:auto;line-height:normal;font-family:Menlo,'DejaVu Sans Mono',consolas,'Courier New',monospace\"><span style=\"font-weight: bold\"> Total params: </span><span style=\"color: #00af00; text-decoration-color: #00af00\">520,598</span> (1.99 MB)\n",
              "</pre>\n"
            ]
          },
          "metadata": {}
        },
        {
          "output_type": "display_data",
          "data": {
            "text/plain": [
              "\u001b[1m Trainable params: \u001b[0m\u001b[38;5;34m260,298\u001b[0m (1016.79 KB)\n"
            ],
            "text/html": [
              "<pre style=\"white-space:pre;overflow-x:auto;line-height:normal;font-family:Menlo,'DejaVu Sans Mono',consolas,'Courier New',monospace\"><span style=\"font-weight: bold\"> Trainable params: </span><span style=\"color: #00af00; text-decoration-color: #00af00\">260,298</span> (1016.79 KB)\n",
              "</pre>\n"
            ]
          },
          "metadata": {}
        },
        {
          "output_type": "display_data",
          "data": {
            "text/plain": [
              "\u001b[1m Non-trainable params: \u001b[0m\u001b[38;5;34m0\u001b[0m (0.00 B)\n"
            ],
            "text/html": [
              "<pre style=\"white-space:pre;overflow-x:auto;line-height:normal;font-family:Menlo,'DejaVu Sans Mono',consolas,'Courier New',monospace\"><span style=\"font-weight: bold\"> Non-trainable params: </span><span style=\"color: #00af00; text-decoration-color: #00af00\">0</span> (0.00 B)\n",
              "</pre>\n"
            ]
          },
          "metadata": {}
        },
        {
          "output_type": "display_data",
          "data": {
            "text/plain": [
              "\u001b[1m Optimizer params: \u001b[0m\u001b[38;5;34m260,300\u001b[0m (1016.80 KB)\n"
            ],
            "text/html": [
              "<pre style=\"white-space:pre;overflow-x:auto;line-height:normal;font-family:Menlo,'DejaVu Sans Mono',consolas,'Courier New',monospace\"><span style=\"font-weight: bold\"> Optimizer params: </span><span style=\"color: #00af00; text-decoration-color: #00af00\">260,300</span> (1016.80 KB)\n",
              "</pre>\n"
            ]
          },
          "metadata": {}
        }
      ]
    }
  ],
  "metadata": {
    "colab": {
      "provenance": []
    },
    "kernelspec": {
      "display_name": "Python 3",
      "name": "python3"
    },
    "language_info": {
      "name": "python"
    }
  },
  "nbformat": 4,
  "nbformat_minor": 0
}